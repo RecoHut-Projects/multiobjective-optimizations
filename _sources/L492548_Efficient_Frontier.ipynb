{
  "cells": [
    {
      "cell_type": "markdown",
      "metadata": {
        "id": "jE99amPd0LZ8"
      },
      "source": [
        "# Efficient Frontier"
      ]
    },
    {
      "cell_type": "markdown",
      "metadata": {
        "id": "W-duDoa5sGXv"
      },
      "source": [
        "Let’s consider you have \\$10'000 of cash available and you are interested in investing it. Your aim is to invest the money for a year. Like any rational investor, you expect the final amount in a years time to be higher than the \\$10'000 amount you want to invest.\n",
        "\n",
        "There are many investment options available, such as buying a T-bill or company shares, etc. Some of the investment options are riskier than the others because they attract us to gain higher returns. Hence, the point to note is that there exists a risk-return trade-off.\n",
        "\n",
        "If we buy a number of assets such as shares of different companies then the total risk of the portfolio can be reduced due to diversification. This means that an investor can reduce the total risk and increase the return by choosing different assets with different proportions in a portfolio. This is due to the fact that the assets can be correlated with each other.\n",
        "\n",
        "We understood that the allocations (weights) of the assets can change the risk of the portfolio. Hence, we can generate 1000s of portfolios randomly where each portfolio will contain a different set of weights for the assets.\n",
        "\n",
        "We know that as we increase the number of portfolios, we will get closer to the real optimum portfolio. This is the brute force approach and it can turn out to be a time-consuming task. Furthermore, there is no guarantee that we will find the right allocations.\n",
        "\n",
        "If we plot the risk and return for each of the portfolios on a chart then we will see an arch line at the top of the portfolios."
      ]
    },
    {
      "cell_type": "markdown",
      "metadata": {
        "id": "UXMYP3mFzDYl"
      },
      "source": [
        "<p><center><img src='_images/L492548_1.png'></center></p>"
      ]
    },
    {
      "cell_type": "markdown",
      "metadata": {
        "id": "WiIyoR3Ny_u_"
      },
      "source": [
        "We can see that the chart formed an arch at the top of the portfolios which I marked with the black pen. This line is essentially pointing at the portfolios that are the most efficient. This line is known as the efficient frontier. Every other portfolio that does not reside on the efficient frontier is not as efficient because it offers the same return as a portfolio on the efficient frontier but by taking a higher risk."
      ]
    }
  ],
  "metadata": {
    "colab": {
      "collapsed_sections": [],
      "name": "L492548_Efficient_Frontier.ipynb",
      "toc_visible": true
    },
    "kernelspec": {
      "display_name": "Python 3",
      "name": "python3"
    }
  },
  "nbformat": 4,
  "nbformat_minor": 0
}
