{
  "cells": [
    {
      "cell_type": "markdown",
      "metadata": {
        "id": "yxrhlMIzU66O"
      },
      "source": [
        "# Efficient Continuous Pareto Exploration in MTL on UCI Census"
      ]
    },
    {
      "cell_type": "markdown",
      "metadata": {
        "id": "0khWmYd4U66P"
      },
      "source": [
        "## Setup"
      ]
    },
    {
      "cell_type": "code",
      "execution_count": null,
      "metadata": {
        "id": "oASPpO1AU66Q"
      },
      "outputs": [],
      "source": [
        "import sys\n",
        "import os\n",
        "from pathlib import Path\n",
        "import codecs\n",
        "import gzip\n",
        "import urllib\n",
        "import pickle\n",
        "import random\n",
        "from itertools import product, combinations\n",
        "from functools import partial\n",
        "from collections import OrderedDict\n",
        "from contextlib import contextmanager\n",
        "from tqdm.notebook import tqdm, trange\n",
        "\n",
        "import numpy as np\n",
        "import scipy\n",
        "from scipy import ndimage\n",
        "import scipy.optimize\n",
        "from scipy.sparse.linalg import LinearOperator, minres\n",
        "from scipy import ndimage\n",
        "from PIL import Image\n",
        "import matplotlib.pyplot as plt\n",
        "from matplotlib.legend_handler import HandlerTuple\n",
        "\n",
        "import torch\n",
        "import torch.nn as nn\n",
        "import torch.nn.functional as F\n",
        "from torch.optim import SGD\n",
        "from torch.optim.lr_scheduler import CosineAnnealingLR\n",
        "from torch.nn.utils import parameters_to_vector, vector_to_parameters\n",
        "import torchvision.transforms as transforms\n",
        "\n",
        "%matplotlib inline"
      ]
    },
    {
      "cell_type": "markdown",
      "metadata": {
        "id": "S6iVriJvWrQt"
      },
      "source": [
        "## `min_norm_solver`"
      ]
    },
    {
      "cell_type": "code",
      "execution_count": null,
      "metadata": {
        "id": "0SvDb-GgWrxD"
      },
      "outputs": [],
      "source": [
        "def _min_norm_element_from2(v1v1, v1v2, v2v2):\n",
        "    \"\"\"\n",
        "    Analytical solution for min_{c} |cx_1 + (1-c)x_2|_2^2\n",
        "    d is the distance (objective) optimzed\n",
        "    v1v1 = <x1,x1>\n",
        "    v1v2 = <x1,x2>\n",
        "    v2v2 = <x2,x2>\n",
        "    \"\"\"\n",
        "    if v1v2 >= v1v1:\n",
        "        # Case: Fig 1, third column\n",
        "        gamma = 0.999\n",
        "        cost = v1v1\n",
        "        return gamma, cost\n",
        "    if v1v2 >= v2v2:\n",
        "        # Case: Fig 1, first column\n",
        "        gamma = 0.001\n",
        "        cost = v2v2\n",
        "        return gamma, cost\n",
        "    # Case: Fig 1, second column\n",
        "    gamma = (v2v2 - v1v2) / (v1v1 + v2v2 - 2 * v1v2)\n",
        "    # v2v2 - gamm * gamma * (v1 - v2)^2\n",
        "    # cost = v2v2 - gamma * gamma * (v1v1 + v2v2 - 2 * v1v2)\n",
        "    #      = v2v2 - gamma * (v2v2 - v1v2)\n",
        "    cost = v2v2 + gamma * (v1v2 - v2v2)\n",
        "    return gamma, cost\n",
        "\n",
        "\n",
        "def _min_norm_2d(vecs):\n",
        "    \"\"\"\n",
        "    Find the minimum norm solution as combination of two points\n",
        "    This is correct only in 2D\n",
        "    ie. min_c |\\sum c_i x_i|_2^2 st. \\sum c_i = 1 , 1 >= c_1 >= 0 for all i, c_i + c_j = 1.0 for some i, j\n",
        "    \"\"\"\n",
        "    dmin = None\n",
        "    dps = vecs.matmul(vecs.t()).cpu().numpy()\n",
        "    for i, j in combinations(range(len(vecs)), 2):\n",
        "        c, d = _min_norm_element_from2(dps[i, i], dps[i, j], dps[j, j])\n",
        "        if dmin is None:\n",
        "            dmin = d\n",
        "        if d <= dmin:\n",
        "            dmin = d\n",
        "            sol = [(i, j), c, d]\n",
        "    return sol, dps\n",
        "\n",
        "\n",
        "def _projection2simplex(y):\n",
        "    \"\"\"\n",
        "    Given y, it solves argmin_z |y-z|_2 st \\sum z = 1 , 1 >= z_i >= 0 for all i\n",
        "    \"\"\"\n",
        "    m = len(y)\n",
        "    sorted_y = np.flip(np.sort(y), axis=0)\n",
        "    tmpsum = 0.0\n",
        "    tmax_f = (np.sum(y) - 1.0) / m\n",
        "    for i in range(m - 1):\n",
        "        tmpsum += sorted_y[i]\n",
        "        tmax = (tmpsum - 1) / (i + 1.0)\n",
        "        if tmax > sorted_y[i + 1]:\n",
        "            tmax_f = tmax\n",
        "            break\n",
        "    return np.maximum(y - tmax_f, np.zeros(y.shape))\n",
        "\n",
        "\n",
        "def _next_point(cur_val, grad, n):\n",
        "    proj_grad = grad - (np.sum(grad) / n)\n",
        "    tm1 = -cur_val[proj_grad < 0] / proj_grad[proj_grad < 0]\n",
        "    tm2 = (1.0 - cur_val[proj_grad > 0]) / (proj_grad[proj_grad > 0])\n",
        "\n",
        "    t = 1\n",
        "    if len(tm1[tm1 > 1e-7]) > 0:\n",
        "        t = np.min(tm1[tm1 > 1e-7])\n",
        "    if len(tm2[tm2 > 1e-7]) > 0:\n",
        "        t = min(t, np.min(tm2[tm2 > 1e-7]))\n",
        "\n",
        "    next_point = proj_grad * t + cur_val\n",
        "    next_point = _projection2simplex(next_point)\n",
        "    return next_point\n",
        "\n",
        "\n",
        "def find_min_norm_element(vecs, max_iter=250, stop_crit=1e-5):\n",
        "    \"\"\"\n",
        "    Given a list of vectors (vecs), this method finds the minimum norm element in the convex hull\n",
        "    as min |u|_2 st. u = \\sum c_i vecs[i] and \\sum c_i = 1.\n",
        "    It is quite geometric, and the main idea is the fact that if d_{ij} = min |u|_2 st u = c x_i + (1-c) x_j;\n",
        "    the solution lies in (0, d_{i,j})\n",
        "    Hence, we find the best 2-task solution, and then run the projected gradient descent until convergence\n",
        "    \"\"\"\n",
        "    # Solution lying at the combination of two points\n",
        "    init_sol, dps = _min_norm_2d(vecs.detach())\n",
        "\n",
        "    n = len(vecs)\n",
        "    sol_vec = np.zeros(n)\n",
        "    sol_vec[init_sol[0][0]] = init_sol[1]\n",
        "    sol_vec[init_sol[0][1]] = 1 - init_sol[1]\n",
        "\n",
        "    if n < 3:\n",
        "        # This is optimal for n=2, so return the solution\n",
        "        return sol_vec, init_sol[2]\n",
        "\n",
        "    iter_count = 0\n",
        "\n",
        "    while iter_count < max_iter:\n",
        "        grad_dir = -1.0 * np.dot(dps, sol_vec)\n",
        "        new_point = _next_point(sol_vec, grad_dir, n)\n",
        "        # Re-compute the inner products for line search\n",
        "        v1v1 = 0.0\n",
        "        v1v2 = 0.0\n",
        "        v2v2 = 0.0\n",
        "        for i in range(n):\n",
        "            for j in range(n):\n",
        "                v1v1 += sol_vec[i] * sol_vec[j] * dps[i, j]\n",
        "                v1v2 += sol_vec[i] * new_point[j] * dps[i, j]\n",
        "                v2v2 += new_point[i] * new_point[j] * dps[i, j]\n",
        "        nc, nd = _min_norm_element_from2(v1v1, v1v2, v2v2)\n",
        "        new_sol_vec = nc * sol_vec + (1 - nc) * new_point\n",
        "        change = new_sol_vec - sol_vec\n",
        "        if np.sum(np.abs(change)) < stop_crit:\n",
        "            break\n",
        "        sol_vec = new_sol_vec\n",
        "    return sol_vec, nd"
      ]
    },
    {
      "cell_type": "markdown",
      "metadata": {
        "id": "vDsRD3v_U66S"
      },
      "source": [
        "## Random seed fixation"
      ]
    },
    {
      "cell_type": "code",
      "execution_count": null,
      "metadata": {
        "id": "JlkZhWLPU66T"
      },
      "outputs": [],
      "source": [
        "seed = 42\n",
        "random.seed(seed)\n",
        "np.random.seed(seed)\n",
        "torch.manual_seed(seed)\n",
        "if torch.cuda.is_available():\n",
        "    torch.cuda.manual_seed_all(seed)"
      ]
    },
    {
      "cell_type": "markdown",
      "metadata": {
        "id": "FWpopuvjU66V"
      },
      "source": [
        "## Dataset definition"
      ]
    },
    {
      "cell_type": "code",
      "execution_count": null,
      "metadata": {
        "id": "cSJEuWSvU66V"
      },
      "outputs": [],
      "source": [
        "uci_info = '''\n",
        "age: label.\n",
        "class of worker: Not in universe, Federal government, Local government, Never worked, Private, Self-employed-incorporated, Self-employed-not incorporated, State government, Without pay.\n",
        "detailed industry recode: 0, 40, 44, 2, 43, 47, 48, 1, 11, 19, 24, 25, 32, 33, 34, 35, 36, 37, 38, 39, 4, 42, 45, 5, 15, 16, 22, 29, 31, 50, 14, 17, 18, 28, 3, 30, 41, 46, 51, 12, 13, 21, 23, 26, 6, 7, 9, 49, 27, 8, 10, 20.\n",
        "detailed occupation recode: 0, 12, 31, 44, 19, 32, 10, 23, 26, 28, 29, 42, 40, 34, 14, 36, 38, 2, 20, 25, 37, 41, 27, 24, 30, 43, 33, 16, 45, 17, 35, 22, 18, 39, 3, 15, 13, 46, 8, 21, 9, 4, 6, 5, 1, 11, 7.\n",
        "education: label.\n",
        "wage per hour: continuous.\n",
        "enroll in edu inst last wk: Not in universe, High school, College or university.\n",
        "marital stat: label.\n",
        "major industry code: Not in universe or children, Entertainment, Social services, Agriculture, Education, Public administration, Manufacturing-durable goods, Manufacturing-nondurable goods, Wholesale trade, Retail trade, Finance insurance and real estate, Private household services, Business and repair services, Personal services except private HH, Construction, Medical except hospital, Other professional services, Transportation, Utilities and sanitary services, Mining, Communications, Hospital services, Forestry and fisheries, Armed Forces.\n",
        "major occupation code: Not in universe, Professional specialty, Other service, Farming forestry and fishing, Sales, Adm support including clerical, Protective services, Handlers equip cleaners etc , Precision production craft & repair, Technicians and related support, Machine operators assmblrs & inspctrs, Transportation and material moving, Executive admin and managerial, Private household services, Armed Forces.\n",
        "race: White, Black, Other, Amer Indian Aleut or Eskimo, Asian or Pacific Islander.\n",
        "hispanic origin: Mexican (Mexicano), Mexican-American, Puerto Rican, Central or South American, All other, Other Spanish, Chicano, Cuban, Do not know, NA.\n",
        "sex: Female, Male.\n",
        "member of a labor union: Not in universe, No, Yes.\n",
        "reason for unemployment: Not in universe, Re-entrant, Job loser - on layoff, New entrant, Job leaver, Other job loser.\n",
        "full or part time employment stat: Children or Armed Forces, Full-time schedules, Unemployed part- time, Not in labor force, Unemployed full-time, PT for non-econ reasons usually FT, PT for econ reasons usually PT, PT for econ reasons usually FT.\n",
        "capital gains: continuous.\n",
        "capital losses: continuous.\n",
        "dividends from stocks: continuous.\n",
        "tax filer stat: Nonfiler, Joint one under 65 & one 65+, Joint both under 65, Single, Head of household, Joint both 65+.\n",
        "region of previous residence: Not in universe, South, Northeast, West, Midwest, Abroad.\n",
        "state of previous residence: Not in universe, Utah, Michigan, North Carolina, North Dakota, Virginia, Vermont, Wyoming, West Virginia, Pennsylvania, Abroad, Oregon, California, Iowa, Florida, Arkansas, Texas, South Carolina, Arizona, Indiana, Tennessee, Maine, Alaska, Ohio, Montana, Nebraska, Mississippi, District of Columbia, Minnesota, Illinois, Kentucky, Delaware, Colorado, Maryland, Wisconsin, New Hampshire, Nevada, New York, Georgia, Oklahoma, New Mexico, South Dakota, Missouri, Kansas, Connecticut, Louisiana, Alabama, Massachusetts, Idaho, New Jersey.\n",
        "detailed household and family stat: Child <18 never marr not in subfamily, Other Rel <18 never marr child of subfamily RP, Other Rel <18 never marr not in subfamily, Grandchild <18 never marr child of subfamily RP, Grandchild <18 never marr not in subfamily, Secondary individual, In group quarters, Child under 18 of RP of unrel subfamily, RP of unrelated subfamily, Spouse of householder, Householder, Other Rel <18 never married RP of subfamily, Grandchild <18 never marr RP of subfamily, Child <18 never marr RP of subfamily, Child <18 ever marr not in subfamily, Other Rel <18 ever marr RP of subfamily, Child <18 ever marr RP of subfamily, Nonfamily householder, Child <18 spouse of subfamily RP, Other Rel <18 spouse of subfamily RP, Other Rel <18 ever marr not in subfamily, Grandchild <18 ever marr not in subfamily, Child 18+ never marr Not in a subfamily, Grandchild 18+ never marr not in subfamily, Child 18+ ever marr RP of subfamily, Other Rel 18+ never marr not in subfamily, Child 18+ never marr RP of subfamily, Other Rel 18+ ever marr RP of subfamily, Other Rel 18+ never marr RP of subfamily, Other Rel 18+ spouse of subfamily RP, Other Rel 18+ ever marr not in subfamily, Child 18+ ever marr Not in a subfamily, Grandchild 18+ ever marr not in subfamily, Child 18+ spouse of subfamily RP, Spouse of RP of unrelated subfamily, Grandchild 18+ ever marr RP of subfamily, Grandchild 18+ never marr RP of subfamily, Grandchild 18+ spouse of subfamily RP.\n",
        "detailed household summary in household: Child under 18 never married, Other relative of householder, Nonrelative of householder, Spouse of householder, Householder, Child under 18 ever married, Group Quarters- Secondary individual, Child 18 or older.\n",
        "instance weight: ignore.\n",
        "migration code-change in msa: Not in universe, Nonmover, MSA to MSA, NonMSA to nonMSA, MSA to nonMSA, NonMSA to MSA, Abroad to MSA, Not identifiable, Abroad to nonMSA.\n",
        "migration code-change in reg: Not in universe, Nonmover, Same county, Different county same state, Different state same division, Abroad, Different region, Different division same region.\n",
        "migration code-move within reg: Not in universe, Nonmover, Same county, Different county same state, Different state in West, Abroad, Different state in Midwest, Different state in South, Different state in Northeast.\n",
        "live in this house 1 year ago: Not in universe under 1 year old, Yes, No.\n",
        "migration prev res in sunbelt: Not in universe, Yes, No.\n",
        "num persons worked for employer: continuous.\n",
        "family members under 18: Both parents present, Neither parent present, Mother only present, Father only present, Not in universe.\n",
        "country of birth father: Mexico, United-States, Puerto-Rico, Dominican-Republic, Jamaica, Cuba, Portugal, Nicaragua, Peru, Ecuador, Guatemala, Philippines, Canada, Columbia, El-Salvador, Japan, England, Trinadad&Tobago, Honduras, Germany, Taiwan, Outlying-U S (Guam USVI etc), India, Vietnam, China, Hong Kong, Cambodia, France, Laos, Haiti, South Korea, Iran, Greece, Italy, Poland, Thailand, Yugoslavia, Holand-Netherlands, Ireland, Scotland, Hungary, Panama.\n",
        "country of birth mother: India, Mexico, United-States, Puerto-Rico, Dominican-Republic, England, Honduras, Peru, Guatemala, Columbia, El-Salvador, Philippines, France, Ecuador, Nicaragua, Cuba, Outlying-U S (Guam USVI etc), Jamaica, South Korea, China, Germany, Yugoslavia, Canada, Vietnam, Japan, Cambodia, Ireland, Laos, Haiti, Portugal, Taiwan, Holand-Netherlands, Greece, Italy, Poland, Thailand, Trinadad&Tobago, Hungary, Panama, Hong Kong, Scotland, Iran.\n",
        "country of birth self: United-States, Mexico, Puerto-Rico, Peru, Canada, South Korea, India, Japan, Haiti, El-Salvador, Dominican-Republic, Portugal, Columbia, England, Thailand, Cuba, Laos, Panama, China, Germany, Vietnam, Italy, Honduras, Outlying-U S (Guam USVI etc), Hungary, Philippines, Poland, Ecuador, Iran, Guatemala, Holand-Netherlands, Taiwan, Nicaragua, France, Jamaica, Scotland, Yugoslavia, Hong Kong, Trinadad&Tobago, Greece, Cambodia, Ireland.\n",
        "citizenship: Native- Born in the United States, Foreign born- Not a citizen of U S , Native- Born in Puerto Rico or U S Outlying, Native- Born abroad of American Parent(s), Foreign born- U S citizen by naturalization.\n",
        "own business or self employed: 0, 2, 1.\n",
        "fill inc questionnaire for veteran's admin: Not in universe, Yes, No.\n",
        "veterans benefits: 0, 2, 1.\n",
        "weeks worked in year: continuous.\n",
        "year: 94, 95.\n",
        "income: - 50000, 50000+.\n",
        "'''"
      ]
    },
    {
      "cell_type": "code",
      "execution_count": null,
      "metadata": {
        "id": "-57E7dxWU66X"
      },
      "outputs": [],
      "source": [
        "class UCI(torch.utils.data.Dataset):\n",
        "    urls = [\n",
        "        'https://archive.ics.uci.edu/ml/machine-learning-databases/census-income-mld/census-income.data.gz',\n",
        "        'https://archive.ics.uci.edu/ml/machine-learning-databases/census-income-mld/census-income.test.gz'\n",
        "    ]\n",
        "    raw_folder = 'raw'\n",
        "    processed_folder = 'processed'\n",
        "    training_file = 'training.pth'\n",
        "    test_file = 'test.pth'\n",
        "\n",
        "    def __init__(self, root, train=True, transform=None, target_transform=None, download=False):\n",
        "        self.root = Path(root)\n",
        "        self.transform = transform\n",
        "        self.target_transform = target_transform\n",
        "        self.train = train  # training set or test set\n",
        "\n",
        "        if download:\n",
        "            self.download()\n",
        "\n",
        "        if not self._check_exists():\n",
        "            raise RuntimeError('Dataset not found.' +\n",
        "                               ' You can use download=True to download it')\n",
        "\n",
        "        if train:\n",
        "            self.data, self.labels = torch.load(\n",
        "                self.root / self.processed_folder /self.training_file)\n",
        "        else:\n",
        "            self.data, self.labels = torch.load(\n",
        "                self.root / self.processed_folder / self.test_file)\n",
        "\n",
        "    def __getitem__(self, index):\n",
        "        img, target = self.data[index], self.labels[index]\n",
        "\n",
        "        return img, target\n",
        "\n",
        "    def __len__(self):\n",
        "        return len(self.data)\n",
        "\n",
        "    def _check_exists(self):\n",
        "        return (self.root / self.processed_folder / self.training_file).is_file() and \\\n",
        "            (self.root / self.processed_folder / self.test_file).is_file()\n",
        "\n",
        "    def download(self):\n",
        "        if self._check_exists():\n",
        "            return\n",
        "\n",
        "        # download files\n",
        "        (self.root / self.raw_folder).mkdir(parents=True, exist_ok=True)\n",
        "        (self.root / self.processed_folder).mkdir(parents=True, exist_ok=True)\n",
        "\n",
        "        for url in self.urls:\n",
        "            print('Downloading ' + url)\n",
        "            data = urllib.request.urlopen(url)\n",
        "            filename = url.rpartition('/')[2]\n",
        "            file_path = self.root / self.raw_folder / filename\n",
        "            with open(file_path, 'wb') as f:\n",
        "                f.write(data.read())\n",
        "            with open(self.root / self.raw_folder / '.'.join(filename.split('.')[:-1]), 'wb') as out_f, \\\n",
        "                    gzip.GzipFile(file_path) as zip_f:\n",
        "                out_f.write(zip_f.read())\n",
        "            os.unlink(file_path)\n",
        "\n",
        "        # process and save as torch files\n",
        "        print('Processing...')\n",
        "\n",
        "        name_dict = OrderedDict()\n",
        "        property_list = []\n",
        "        for line in uci_info.split('\\n'):\n",
        "            if not line:\n",
        "                continue\n",
        "            name, values = line.strip()[:-1].split(': ')\n",
        "            name_dict[name] = []\n",
        "            if values in ('ignore', 'label', 'continuous'):\n",
        "                pp = values\n",
        "            else:\n",
        "                pp = 'normal'\n",
        "            property_list.append(pp)\n",
        "\n",
        "        self.uci_preprocess(self.root / self.raw_folder / 'census-income.data', name_dict, property_list)\n",
        "        self.uci_preprocess(self.root / self.raw_folder / 'census-income.test', name_dict, property_list)\n",
        "\n",
        "        for i, (name, values) in enumerate(name_dict.items()):\n",
        "            value_set = list(sorted(list(set(values))))\n",
        "            value_dict = dict()\n",
        "            for j, value in enumerate(value_set):\n",
        "                value_dict[value] = j\n",
        "            name_dict[name] = value_dict\n",
        "\n",
        "        training_set = self.uci_process(self.root / self.raw_folder / 'census-income.data', name_dict, property_list)\n",
        "        test_set = self.uci_process(self.root / self.raw_folder / 'census-income.test', name_dict, property_list)\n",
        "\n",
        "        with open(self.root / self.processed_folder / self.training_file, 'wb') as f:\n",
        "            torch.save(training_set, f)\n",
        "        with open(self.root / self.processed_folder / self.test_file, 'wb') as f:\n",
        "            torch.save(test_set, f)\n",
        "\n",
        "        print('Done!')\n",
        "\n",
        "    def __repr__(self):\n",
        "        fmt_str = 'Dataset ' + self.__class__.__name__ + '\\n'\n",
        "        fmt_str += '    Number of datapoints: {}\\n'.format(self.__len__())\n",
        "        tmp = 'train' if self.train is True else 'test'\n",
        "        fmt_str += '    Split: {}\\n'.format(tmp)\n",
        "        fmt_str += '    Root Location: {}\\n'.format(self.root)\n",
        "        tmp = '    Transforms (if any): '\n",
        "        fmt_str += '{0}{1}\\n'.format(\n",
        "            tmp, self.transform.__repr__().replace('\\n', '\\n' + ' ' * len(tmp)))\n",
        "        tmp = '    Target Transforms (if any): '\n",
        "        fmt_str += '{0}{1}'.format(\n",
        "            tmp, self.target_transform.__repr__().replace('\\n', '\\n' + ' ' * len(tmp)))\n",
        "        return fmt_str\n",
        "\n",
        "    @staticmethod\n",
        "    def uci_preprocess(path, name_dict, property_list):\n",
        "        with open(path, 'r') as f:\n",
        "            raw_data = f.readlines()\n",
        "        for line in raw_data:\n",
        "            if len(line.strip()) == 0:\n",
        "                continue\n",
        "            words = line.strip()[:-1].split(', ')\n",
        "            if len(words) != 42:\n",
        "                continue\n",
        "\n",
        "            # make list\n",
        "            for word, pp, (name, l) in zip(words, property_list, name_dict.items()):\n",
        "                word = word.strip()\n",
        "                if pp == 'continuous':\n",
        "                    word = float(word)\n",
        "                l.append(word)\n",
        "\n",
        "    @staticmethod\n",
        "    def uci_process(path, name_dict, property_list):\n",
        "        with open(path, 'r') as f:\n",
        "            raw_data = f.readlines()\n",
        "\n",
        "        images = []\n",
        "        labels = []\n",
        "        for line in raw_data:\n",
        "            if len(line.strip()) == 0:\n",
        "                continue\n",
        "            words = line.strip()[:-1].split(', ')\n",
        "            if len(words) != 42:\n",
        "                continue\n",
        "\n",
        "            # make list\n",
        "            image = []\n",
        "            label = [None, None, None]\n",
        "            for word, pp, (name, values) in zip(words, property_list, name_dict.items()):\n",
        "                word = word.strip()\n",
        "                if pp == 'continuous':\n",
        "                    word = float(word)\n",
        "                    image.append(word)\n",
        "                elif pp == 'ignore':\n",
        "                    continue\n",
        "                elif pp == 'label':\n",
        "                    if name == 'education':\n",
        "                        label[1] = int(word.startswith(('Bachelors', 'Some', 'Maters', 'Asso', 'Doctorate', 'Prof')))\n",
        "                    elif name == 'marital stat':\n",
        "                        label[2] = int(word == 'Never married')\n",
        "                    else: # age\n",
        "                        label[0] = int(float(word) >= 40)\n",
        "                else:\n",
        "                    # normal\n",
        "                    one_hot = np.zeros(len(values))\n",
        "                    one_hot[values[word]] = 1\n",
        "                    image.append(one_hot)\n",
        "\n",
        "            images.append(torch.Tensor(np.hstack(image)))\n",
        "            labels.append(torch.LongTensor(label))\n",
        "        return images, labels"
      ]
    },
    {
      "cell_type": "markdown",
      "metadata": {
        "id": "PsS-_V7YU66Z"
      },
      "source": [
        "## Dataset Preparation"
      ]
    },
    {
      "cell_type": "code",
      "execution_count": null,
      "metadata": {
        "id": "yz_EMRKoU66a"
      },
      "outputs": [
        {
          "name": "stdout",
          "output_type": "stream",
          "text": [
            "Downloading https://archive.ics.uci.edu/ml/machine-learning-databases/census-income-mld/census-income.data.gz\n",
            "Downloading https://archive.ics.uci.edu/ml/machine-learning-databases/census-income-mld/census-income.test.gz\n",
            "Processing...\n",
            "Done!\n"
          ]
        }
      ],
      "source": [
        "dataset = UCI(root='/content/UCI', train=True, download=True)"
      ]
    },
    {
      "cell_type": "markdown",
      "metadata": {
        "id": "mYvIDYFgU66c"
      },
      "source": [
        "## PyTorch initialization\n",
        "\n",
        "- working directory\n",
        "- device\n",
        "- dataloader\n",
        "- utilities"
      ]
    },
    {
      "cell_type": "markdown",
      "metadata": {
        "id": "ltxpr3mqU66d"
      },
      "source": [
        "### Checkpoint paths"
      ]
    },
    {
      "cell_type": "code",
      "execution_count": null,
      "metadata": {
        "id": "lKmrd6z6U66d"
      },
      "outputs": [
        {
          "name": "stdout",
          "output_type": "stream",
          "text": [
            "Checkpoint root: /content/checkpoints\n",
            "SGD path:        /content/checkpoints/sgd\n",
            "MINRES path:     /content/checkpoints/minres\n"
          ]
        }
      ],
      "source": [
        "ckpt_root = Path('/content/checkpoints')\n",
        "ckpt_root.mkdir(parents=True, exist_ok=True)\n",
        "\n",
        "sgd_path = ckpt_root / 'sgd'\n",
        "sgd_path.mkdir(parents=True, exist_ok=True)\n",
        "\n",
        "mr_path = ckpt_root / 'minres'\n",
        "mr_path.mkdir(parents=True, exist_ok=True)\n",
        "\n",
        "print('Checkpoint root:', ckpt_root)\n",
        "print('SGD path:       ', sgd_path)\n",
        "print('MINRES path:    ', mr_path)"
      ]
    },
    {
      "cell_type": "markdown",
      "metadata": {
        "id": "eZARD4SyU66f"
      },
      "source": [
        "### Device initialization\n",
        "We remove all random state."
      ]
    },
    {
      "cell_type": "code",
      "execution_count": null,
      "metadata": {
        "id": "1t6Zjuu9U66g"
      },
      "outputs": [
        {
          "name": "stdout",
          "output_type": "stream",
          "text": [
            "Current device: cuda\n"
          ]
        }
      ],
      "source": [
        "if torch.cuda.is_available():\n",
        "    device = torch.device('cuda')  # use default cuda device\n",
        "    import torch.backends.cudnn as cudnn  # make cuda deterministic\n",
        "    cudnn.benchmark = False\n",
        "    cudnn.deterministic = True\n",
        "else:\n",
        "    device = torch.device('cpu') # otherwise use cpu\n",
        "\n",
        "print('Current device:', device)"
      ]
    },
    {
      "cell_type": "markdown",
      "metadata": {
        "id": "ksM-yEu3U66i"
      },
      "source": [
        "### Training and test dataloader\n",
        "We use batch size of 256 for both training and test side."
      ]
    },
    {
      "cell_type": "code",
      "execution_count": null,
      "metadata": {
        "id": "5XXh2j-BU66i"
      },
      "outputs": [
        {
          "name": "stdout",
          "output_type": "stream",
          "text": [
            "Training Dataset:\n",
            "Dataset UCI\n",
            "    Number of datapoints: 199523\n",
            "    Split: train\n",
            "    Root Location: /content/UCI\n",
            "    Transforms (if any): None\n",
            "    Target Transforms (if any): None\n",
            "\n",
            "Test Dataset:\n",
            "Dataset UCI\n",
            "    Number of datapoints: 99762\n",
            "    Split: test\n",
            "    Root Location: /content/UCI\n",
            "    Transforms (if any): None\n",
            "    Target Transforms (if any): None\n"
          ]
        }
      ],
      "source": [
        "trainset = UCI('/content/UCI', train=True, download=True)\n",
        "trainloader = torch.utils.data.DataLoader(trainset, batch_size=256, shuffle=True, drop_last=True, num_workers=0)\n",
        "\n",
        "testset = UCI('/content/UCI', train=False, download=True)\n",
        "testloader = torch.utils.data.DataLoader(testset, batch_size=256, shuffle=False, drop_last=False, num_workers=0)\n",
        "\n",
        "print('Training Dataset:')\n",
        "print(trainset)\n",
        "print()\n",
        "\n",
        "print('Test Dataset:')\n",
        "print(testset)"
      ]
    },
    {
      "cell_type": "markdown",
      "metadata": {
        "id": "hxMIY8rHU66k"
      },
      "source": [
        "### Utility functions\n",
        "- evenly distributed weights\n",
        "- top-k accuracies\n",
        "- evaluation"
      ]
    },
    {
      "cell_type": "code",
      "execution_count": null,
      "metadata": {
        "id": "TpoH0PMLU66k"
      },
      "outputs": [
        {
          "name": "stdout",
          "output_type": "stream",
          "text": [
            "Example of evenly_dist(num_weights=5, dim=3):\n",
            "1: (0.167, 0.167, 0.667)\n",
            "2: (0.167, 0.333, 0.500)\n",
            "3: (0.167, 0.500, 0.333)\n",
            "4: (0.167, 0.667, 0.167)\n",
            "5: (0.333, 0.167, 0.500)\n",
            "6: (0.333, 0.333, 0.333)\n",
            "7: (0.333, 0.500, 0.167)\n",
            "8: (0.500, 0.167, 0.333)\n",
            "9: (0.500, 0.333, 0.167)\n",
            "10: (0.667, 0.167, 0.167)\n"
          ]
        }
      ],
      "source": [
        "def evenly_dist(num_weights, dim=3):\n",
        "    return [ret for ret in product(np.linspace(0.0, 1.0, num_weights + 2), repeat=dim) \\\n",
        "            if round(sum(ret), 6) == 1.0 and all(r not in (0.0, 1.0) for r in ret)]\n",
        "\n",
        "def topk_accuracies(logits, targets, ks=(1,)):\n",
        "    assert logits.dim() == 2\n",
        "    assert targets.dim() == 1\n",
        "    assert logits.size(0) == targets.size(0)\n",
        "\n",
        "    maxk = max(ks)\n",
        "    _, pred = logits.topk(maxk, dim=1, largest=True, sorted=True)\n",
        "    targets = targets.unsqueeze(1).expand_as(pred)\n",
        "    correct = pred.eq(targets).float()\n",
        "\n",
        "    accu_list = []\n",
        "    for k in ks:\n",
        "        accu = correct[:, :k].sum(1).mean()\n",
        "        accu_list.append(accu.item())\n",
        "    return accu_list\n",
        "\n",
        "def evaluate(network, dataloader, closures, topk_closures):\n",
        "    num_samples = 0\n",
        "    total_losses = np.zeros(len(closures))\n",
        "    total_top1s = np.zeros(len(closures))\n",
        "    with torch.no_grad():\n",
        "        network.train(False)\n",
        "        for images, targets in dataloader:\n",
        "            batch_size = len(images)\n",
        "            num_samples += batch_size\n",
        "            images = images.to(device)\n",
        "            targets = targets.to(device)\n",
        "            logits = network(images)\n",
        "            losses = [c(network, logits, targets).item() for c in closures]\n",
        "            total_losses += batch_size * np.array(losses)\n",
        "            topks = [c(network, logits, targets) for c in topk_closures]\n",
        "            total_top1s += batch_size * np.array(topks)\n",
        "    total_losses /= num_samples\n",
        "    total_top1s /= num_samples\n",
        "    return total_losses, total_top1s\n",
        "\n",
        "print('Example of evenly_dist(num_weights=5, dim=3):')\n",
        "for i, combination in enumerate(evenly_dist(5, dim=3)):\n",
        "    print('{:d}: ('.format(i + 1) + ', '.join(['{:.3f}'.format(digit) for digit in combination]) + ')')"
      ]
    },
    {
      "cell_type": "markdown",
      "metadata": {
        "id": "tgOymhumU66m"
      },
      "source": [
        "## Empirical Pareto front generation"
      ]
    },
    {
      "cell_type": "markdown",
      "metadata": {
        "id": "xBlALifrXKpw"
      },
      "source": [
        "## SGD preparation\n",
        "\n",
        "- hyper-parameters\n",
        "- network\n",
        "- loss function\n",
        "- optimizer\n",
        "- learning rate scheduler\n",
        "- inital state snapshot"
      ]
    },
    {
      "cell_type": "markdown",
      "metadata": {
        "id": "fnSv8JbQU66n"
      },
      "source": [
        "### Hyper-Parameters declaration\n",
        "- num of epochs\n",
        "- num of different weight combinations"
      ]
    },
    {
      "cell_type": "code",
      "execution_count": null,
      "metadata": {
        "id": "kXh43GL4U66o"
      },
      "outputs": [],
      "source": [
        "num_epochs = 30\n",
        "num_weights = 5"
      ]
    },
    {
      "cell_type": "markdown",
      "metadata": {
        "id": "__lXmgZ_U66p"
      },
      "source": [
        "### Network definition\n",
        "\n",
        "We use a double-layer MLP with a fully-connected layer for each task."
      ]
    },
    {
      "cell_type": "code",
      "execution_count": null,
      "metadata": {
        "id": "yObDDhlJU66q"
      },
      "outputs": [
        {
          "name": "stdout",
          "output_type": "stream",
          "text": [
            "Network:\n",
            "MLP(\n",
            "  (fc1): Linear(in_features=487, out_features=256, bias=True)\n",
            "  (fc2): Linear(in_features=256, out_features=128, bias=True)\n",
            "  (fc_age): Linear(in_features=128, out_features=2, bias=True)\n",
            "  (fc_education): Linear(in_features=128, out_features=2, bias=True)\n",
            "  (fc_marriage): Linear(in_features=128, out_features=2, bias=True)\n",
            "  (relu): ReLU(inplace=True)\n",
            ")\n"
          ]
        }
      ],
      "source": [
        "class MLP(nn.Module):\n",
        "    def __init__(self, **kwargs):\n",
        "        super(MLP, self).__init__()\n",
        "        self.fc1 = nn.Linear(487, 256)\n",
        "        self.fc2 = nn.Linear(256, 128)\n",
        "        self.fc_age = nn.Linear(128, 2)\n",
        "        self.fc_education = nn.Linear(128, 2)\n",
        "        self.fc_marriage = nn.Linear(128, 2)\n",
        "        self.relu = nn.ReLU(inplace=True)\n",
        "\n",
        "    def forward(self, x):\n",
        "        x = self.fc1(x)\n",
        "        x = self.relu(x)\n",
        "        x = self.fc2(x)\n",
        "        x = self.relu(x)\n",
        "        return [self.fc_age(x), self.fc_education(x), self.fc_marriage(x)]\n",
        "\n",
        "network = MLP()\n",
        "network.to(device)\n",
        "\n",
        "print('Network:')\n",
        "print(network)"
      ]
    },
    {
      "cell_type": "markdown",
      "metadata": {
        "id": "WNngb6lsU66s"
      },
      "source": [
        "### Loss function definition\n",
        "We use cross entropy loss for two tasks."
      ]
    },
    {
      "cell_type": "code",
      "execution_count": null,
      "metadata": {
        "id": "AjSgN5PhU66s"
      },
      "outputs": [],
      "source": [
        "criterion = nn.CrossEntropyLoss().to(device)\n",
        "\n",
        "closures = [\n",
        "    lambda n, l, t: criterion(l[0], t[:, 0]),\n",
        "    lambda n, l, t: criterion(l[1], t[:, 1]),\n",
        "    lambda n, l, t: criterion(l[2], t[:, 2])\n",
        "]\n",
        "\n",
        "top1_closures = [\n",
        "    lambda n, l, t: topk_accuracies(l[0], t[:, 0], ks=(1,))[0],\n",
        "    lambda n, l, t: topk_accuracies(l[1], t[:, 1], ks=(1,))[0],\n",
        "    lambda n, l, t: topk_accuracies(l[2], t[:, 2], ks=(1,))[0]\n",
        "]"
      ]
    },
    {
      "cell_type": "markdown",
      "metadata": {
        "id": "gwIQkOi7U66u"
      },
      "source": [
        "### Optimizer definition\n",
        "We use SGD with learning rate of 0.001 and momentum of 0.9."
      ]
    },
    {
      "cell_type": "code",
      "execution_count": null,
      "metadata": {
        "id": "zJqnhdW9U66u"
      },
      "outputs": [
        {
          "name": "stdout",
          "output_type": "stream",
          "text": [
            "SGD (\n",
            "Parameter Group 0\n",
            "    dampening: 0\n",
            "    lr: 0.001\n",
            "    momentum: 0.9\n",
            "    nesterov: False\n",
            "    weight_decay: 0\n",
            ")\n"
          ]
        }
      ],
      "source": [
        "optimizer = SGD(network.parameters(), lr=0.001, momentum=0.9)\n",
        "\n",
        "print(optimizer)"
      ]
    },
    {
      "cell_type": "markdown",
      "metadata": {
        "id": "GWWUauhGU66w"
      },
      "source": [
        "### Learning rate scheduler definition\n",
        "We use cosine annealing learning rate scheduler for training."
      ]
    },
    {
      "cell_type": "code",
      "execution_count": null,
      "metadata": {
        "id": "XaQ8dz02U66x"
      },
      "outputs": [],
      "source": [
        "lr_scheduler = CosineAnnealingLR(optimizer, num_epochs * len(trainloader))"
      ]
    },
    {
      "cell_type": "markdown",
      "metadata": {
        "id": "u-KqZ0yEU66y"
      },
      "source": [
        "### Snapshot for inital states\n",
        "\n",
        "The initial weights / optimizer / lr_scheduler are saved for further training (we removed **ALL** randomness)."
      ]
    },
    {
      "cell_type": "code",
      "execution_count": null,
      "metadata": {
        "id": "jSxoJIHJU66z"
      },
      "outputs": [],
      "source": [
        "init_ckpt = {\n",
        "    'state_dict': network.state_dict(),\n",
        "    'optimizer': optimizer.state_dict(),\n",
        "    'lr_scheduler': lr_scheduler.state_dict()\n",
        "}\n",
        "torch.save(init_ckpt, sgd_path / 'init.pth')"
      ]
    },
    {
      "cell_type": "markdown",
      "metadata": {
        "id": "g_uCN8M0U661"
      },
      "source": [
        "## Let's train it!"
      ]
    },
    {
      "cell_type": "code",
      "execution_count": null,
      "metadata": {
        "id": "B8_6RP8eU661"
      },
      "outputs": [
        {
          "data": {
            "application/vnd.jupyter.widget-view+json": {
              "model_id": "f34fd8a7749f44289a5f35c23e322a73",
              "version_major": 2,
              "version_minor": 0
            },
            "text/plain": [
              "Weight:   0%|          | 0/10 [00:00<?, ?it/s]"
            ]
          },
          "metadata": {},
          "output_type": "display_data"
        },
        {
          "data": {
            "application/vnd.jupyter.widget-view+json": {
              "model_id": "8b57c1654a63470a9514b19217e4dc9b",
              "version_major": 2,
              "version_minor": 0
            },
            "text/plain": [
              "Epoch:   0%|          | 0/30 [00:00<?, ?it/s]"
            ]
          },
          "metadata": {},
          "output_type": "display_data"
        },
        {
          "data": {
            "application/vnd.jupyter.widget-view+json": {
              "model_id": "68f22bc927e54472839b1136fff44d5c",
              "version_major": 2,
              "version_minor": 0
            },
            "text/plain": [
              "Batch:   0%|          | 0/779 [00:00<?, ?it/s]"
            ]
          },
          "metadata": {},
          "output_type": "display_data"
        },
        {
          "data": {
            "application/vnd.jupyter.widget-view+json": {
              "model_id": "f1d78cf7acf541c293ccda40dad95ffc",
              "version_major": 2,
              "version_minor": 0
            },
            "text/plain": [
              "Batch:   0%|          | 0/779 [00:00<?, ?it/s]"
            ]
          },
          "metadata": {},
          "output_type": "display_data"
        },
        {
          "data": {
            "application/vnd.jupyter.widget-view+json": {
              "model_id": "b3ae91a2207d46b597baf6287bfa9af8",
              "version_major": 2,
              "version_minor": 0
            },
            "text/plain": [
              "Batch:   0%|          | 0/779 [00:00<?, ?it/s]"
            ]
          },
          "metadata": {},
          "output_type": "display_data"
        },
        {
          "data": {
            "application/vnd.jupyter.widget-view+json": {
              "model_id": "40aaf5da585c475c88fc791bb180f373",
              "version_major": 2,
              "version_minor": 0
            },
            "text/plain": [
              "Batch:   0%|          | 0/779 [00:00<?, ?it/s]"
            ]
          },
          "metadata": {},
          "output_type": "display_data"
        },
        {
          "data": {
            "application/vnd.jupyter.widget-view+json": {
              "model_id": "5eab04ea63024901a2bdcb374da4d061",
              "version_major": 2,
              "version_minor": 0
            },
            "text/plain": [
              "Batch:   0%|          | 0/779 [00:00<?, ?it/s]"
            ]
          },
          "metadata": {},
          "output_type": "display_data"
        },
        {
          "data": {
            "application/vnd.jupyter.widget-view+json": {
              "model_id": "c1f1fa706b0645109bb318a5201215ec",
              "version_major": 2,
              "version_minor": 0
            },
            "text/plain": [
              "Batch:   0%|          | 0/779 [00:00<?, ?it/s]"
            ]
          },
          "metadata": {},
          "output_type": "display_data"
        },
        {
          "data": {
            "application/vnd.jupyter.widget-view+json": {
              "model_id": "b502bb24035442bf8cc745984b0781d7",
              "version_major": 2,
              "version_minor": 0
            },
            "text/plain": [
              "Batch:   0%|          | 0/779 [00:00<?, ?it/s]"
            ]
          },
          "metadata": {},
          "output_type": "display_data"
        },
        {
          "data": {
            "application/vnd.jupyter.widget-view+json": {
              "model_id": "835f65429248466580b7c83b8f351b8c",
              "version_major": 2,
              "version_minor": 0
            },
            "text/plain": [
              "Batch:   0%|          | 0/779 [00:00<?, ?it/s]"
            ]
          },
          "metadata": {},
          "output_type": "display_data"
        },
        {
          "data": {
            "application/vnd.jupyter.widget-view+json": {
              "model_id": "6a8f660c32d14912a986489f546b05b3",
              "version_major": 2,
              "version_minor": 0
            },
            "text/plain": [
              "Batch:   0%|          | 0/779 [00:00<?, ?it/s]"
            ]
          },
          "metadata": {},
          "output_type": "display_data"
        },
        {
          "data": {
            "application/vnd.jupyter.widget-view+json": {
              "model_id": "461f7aaab8bb4fc9ae025e84d85425e0",
              "version_major": 2,
              "version_minor": 0
            },
            "text/plain": [
              "Batch:   0%|          | 0/779 [00:00<?, ?it/s]"
            ]
          },
          "metadata": {},
          "output_type": "display_data"
        },
        {
          "data": {
            "application/vnd.jupyter.widget-view+json": {
              "model_id": "8468a90079ec40818ab6f915c3340273",
              "version_major": 2,
              "version_minor": 0
            },
            "text/plain": [
              "Batch:   0%|          | 0/779 [00:00<?, ?it/s]"
            ]
          },
          "metadata": {},
          "output_type": "display_data"
        },
        {
          "data": {
            "application/vnd.jupyter.widget-view+json": {
              "model_id": "888d0376f1da4af3a93aa004f822e1e7",
              "version_major": 2,
              "version_minor": 0
            },
            "text/plain": [
              "Batch:   0%|          | 0/779 [00:00<?, ?it/s]"
            ]
          },
          "metadata": {},
          "output_type": "display_data"
        },
        {
          "data": {
            "application/vnd.jupyter.widget-view+json": {
              "model_id": "448df487ee644030b5f53fc5cedfbbd6",
              "version_major": 2,
              "version_minor": 0
            },
            "text/plain": [
              "Batch:   0%|          | 0/779 [00:00<?, ?it/s]"
            ]
          },
          "metadata": {},
          "output_type": "display_data"
        },
        {
          "data": {
            "application/vnd.jupyter.widget-view+json": {
              "model_id": "2b27d019bb094016ab4b0cd53ab9e00e",
              "version_major": 2,
              "version_minor": 0
            },
            "text/plain": [
              "Batch:   0%|          | 0/779 [00:00<?, ?it/s]"
            ]
          },
          "metadata": {},
          "output_type": "display_data"
        },
        {
          "data": {
            "application/vnd.jupyter.widget-view+json": {
              "model_id": "a2e77e3fc19d408d9c974c4694540aa5",
              "version_major": 2,
              "version_minor": 0
            },
            "text/plain": [
              "Batch:   0%|          | 0/779 [00:00<?, ?it/s]"
            ]
          },
          "metadata": {},
          "output_type": "display_data"
        },
        {
          "data": {
            "application/vnd.jupyter.widget-view+json": {
              "model_id": "08c73fb6595246918ad785453145d6cf",
              "version_major": 2,
              "version_minor": 0
            },
            "text/plain": [
              "Batch:   0%|          | 0/779 [00:00<?, ?it/s]"
            ]
          },
          "metadata": {},
          "output_type": "display_data"
        },
        {
          "data": {
            "application/vnd.jupyter.widget-view+json": {
              "model_id": "7cba9e028dab451badec09b59ab64b00",
              "version_major": 2,
              "version_minor": 0
            },
            "text/plain": [
              "Batch:   0%|          | 0/779 [00:00<?, ?it/s]"
            ]
          },
          "metadata": {},
          "output_type": "display_data"
        },
        {
          "data": {
            "application/vnd.jupyter.widget-view+json": {
              "model_id": "4865b7d8bb1447379aeb571c283497b3",
              "version_major": 2,
              "version_minor": 0
            },
            "text/plain": [
              "Batch:   0%|          | 0/779 [00:00<?, ?it/s]"
            ]
          },
          "metadata": {},
          "output_type": "display_data"
        },
        {
          "data": {
            "application/vnd.jupyter.widget-view+json": {
              "model_id": "29913009445d41d8b085dc33147b9031",
              "version_major": 2,
              "version_minor": 0
            },
            "text/plain": [
              "Batch:   0%|          | 0/779 [00:00<?, ?it/s]"
            ]
          },
          "metadata": {},
          "output_type": "display_data"
        },
        {
          "data": {
            "application/vnd.jupyter.widget-view+json": {
              "model_id": "2e769b691fbd4db596a2ba69c389bcbc",
              "version_major": 2,
              "version_minor": 0
            },
            "text/plain": [
              "Batch:   0%|          | 0/779 [00:00<?, ?it/s]"
            ]
          },
          "metadata": {},
          "output_type": "display_data"
        },
        {
          "data": {
            "application/vnd.jupyter.widget-view+json": {
              "model_id": "2306c4a6d396470ba9ab56d55c4181df",
              "version_major": 2,
              "version_minor": 0
            },
            "text/plain": [
              "Batch:   0%|          | 0/779 [00:00<?, ?it/s]"
            ]
          },
          "metadata": {},
          "output_type": "display_data"
        },
        {
          "data": {
            "application/vnd.jupyter.widget-view+json": {
              "model_id": "c78a7a726bfb457c9ce57a31160c5bd4",
              "version_major": 2,
              "version_minor": 0
            },
            "text/plain": [
              "Batch:   0%|          | 0/779 [00:00<?, ?it/s]"
            ]
          },
          "metadata": {},
          "output_type": "display_data"
        },
        {
          "data": {
            "application/vnd.jupyter.widget-view+json": {
              "model_id": "e2ffb666191844a3b27a3c33df335398",
              "version_major": 2,
              "version_minor": 0
            },
            "text/plain": [
              "Batch:   0%|          | 0/779 [00:00<?, ?it/s]"
            ]
          },
          "metadata": {},
          "output_type": "display_data"
        },
        {
          "data": {
            "application/vnd.jupyter.widget-view+json": {
              "model_id": "00983befb1774dce94b91081156fc9d8",
              "version_major": 2,
              "version_minor": 0
            },
            "text/plain": [
              "Batch:   0%|          | 0/779 [00:00<?, ?it/s]"
            ]
          },
          "metadata": {},
          "output_type": "display_data"
        },
        {
          "data": {
            "application/vnd.jupyter.widget-view+json": {
              "model_id": "d5ac3f0542fd4605b2e7e3a39e920698",
              "version_major": 2,
              "version_minor": 0
            },
            "text/plain": [
              "Batch:   0%|          | 0/779 [00:00<?, ?it/s]"
            ]
          },
          "metadata": {},
          "output_type": "display_data"
        },
        {
          "data": {
            "application/vnd.jupyter.widget-view+json": {
              "model_id": "affbbf60fc37435cbb0c2f0817477609",
              "version_major": 2,
              "version_minor": 0
            },
            "text/plain": [
              "Batch:   0%|          | 0/779 [00:00<?, ?it/s]"
            ]
          },
          "metadata": {},
          "output_type": "display_data"
        },
        {
          "data": {
            "application/vnd.jupyter.widget-view+json": {
              "model_id": "2dee30c42e3a4cb3990221fbe1c3d6c9",
              "version_major": 2,
              "version_minor": 0
            },
            "text/plain": [
              "Batch:   0%|          | 0/779 [00:00<?, ?it/s]"
            ]
          },
          "metadata": {},
          "output_type": "display_data"
        },
        {
          "data": {
            "application/vnd.jupyter.widget-view+json": {
              "model_id": "0eb98d80d8024a74bc1f59419ae00e53",
              "version_major": 2,
              "version_minor": 0
            },
            "text/plain": [
              "Batch:   0%|          | 0/779 [00:00<?, ?it/s]"
            ]
          },
          "metadata": {},
          "output_type": "display_data"
        },
        {
          "data": {
            "application/vnd.jupyter.widget-view+json": {
              "model_id": "35ab1575a2a9458d9be5d9fbe75db7a3",
              "version_major": 2,
              "version_minor": 0
            },
            "text/plain": [
              "Batch:   0%|          | 0/779 [00:00<?, ?it/s]"
            ]
          },
          "metadata": {},
          "output_type": "display_data"
        },
        {
          "data": {
            "application/vnd.jupyter.widget-view+json": {
              "model_id": "161fd88ee384468a807de12501541a00",
              "version_major": 2,
              "version_minor": 0
            },
            "text/plain": [
              "Batch:   0%|          | 0/779 [00:00<?, ?it/s]"
            ]
          },
          "metadata": {},
          "output_type": "display_data"
        },
        {
          "data": {
            "application/vnd.jupyter.widget-view+json": {
              "model_id": "fcf4834958db406fa0e559dbd5f038ac",
              "version_major": 2,
              "version_minor": 0
            },
            "text/plain": [
              "Epoch:   0%|          | 0/30 [00:00<?, ?it/s]"
            ]
          },
          "metadata": {},
          "output_type": "display_data"
        },
        {
          "data": {
            "application/vnd.jupyter.widget-view+json": {
              "model_id": "4098a6d051f8459490b07f99890e4564",
              "version_major": 2,
              "version_minor": 0
            },
            "text/plain": [
              "Batch:   0%|          | 0/779 [00:00<?, ?it/s]"
            ]
          },
          "metadata": {},
          "output_type": "display_data"
        },
        {
          "data": {
            "application/vnd.jupyter.widget-view+json": {
              "model_id": "018ab3af97144dbab3616233aca14582",
              "version_major": 2,
              "version_minor": 0
            },
            "text/plain": [
              "Batch:   0%|          | 0/779 [00:00<?, ?it/s]"
            ]
          },
          "metadata": {},
          "output_type": "display_data"
        },
        {
          "data": {
            "application/vnd.jupyter.widget-view+json": {
              "model_id": "ef80494238e8486d92c096a55e2795fb",
              "version_major": 2,
              "version_minor": 0
            },
            "text/plain": [
              "Batch:   0%|          | 0/779 [00:00<?, ?it/s]"
            ]
          },
          "metadata": {},
          "output_type": "display_data"
        },
        {
          "data": {
            "application/vnd.jupyter.widget-view+json": {
              "model_id": "6aeb4a9543ea41f483eee23310443124",
              "version_major": 2,
              "version_minor": 0
            },
            "text/plain": [
              "Batch:   0%|          | 0/779 [00:00<?, ?it/s]"
            ]
          },
          "metadata": {},
          "output_type": "display_data"
        },
        {
          "data": {
            "application/vnd.jupyter.widget-view+json": {
              "model_id": "9e833bbe916a41c793ca25e1183d6fa1",
              "version_major": 2,
              "version_minor": 0
            },
            "text/plain": [
              "Batch:   0%|          | 0/779 [00:00<?, ?it/s]"
            ]
          },
          "metadata": {},
          "output_type": "display_data"
        },
        {
          "data": {
            "application/vnd.jupyter.widget-view+json": {
              "model_id": "b82a0ec61687445198175e88c9c177c7",
              "version_major": 2,
              "version_minor": 0
            },
            "text/plain": [
              "Batch:   0%|          | 0/779 [00:00<?, ?it/s]"
            ]
          },
          "metadata": {},
          "output_type": "display_data"
        },
        {
          "data": {
            "application/vnd.jupyter.widget-view+json": {
              "model_id": "a5b12d7ab3ef47cf8b4b82cd13cd7c79",
              "version_major": 2,
              "version_minor": 0
            },
            "text/plain": [
              "Batch:   0%|          | 0/779 [00:00<?, ?it/s]"
            ]
          },
          "metadata": {},
          "output_type": "display_data"
        },
        {
          "data": {
            "application/vnd.jupyter.widget-view+json": {
              "model_id": "78b554e78a15407d8f32d3a86e810fba",
              "version_major": 2,
              "version_minor": 0
            },
            "text/plain": [
              "Batch:   0%|          | 0/779 [00:00<?, ?it/s]"
            ]
          },
          "metadata": {},
          "output_type": "display_data"
        },
        {
          "data": {
            "application/vnd.jupyter.widget-view+json": {
              "model_id": "3fb51009961d46d8971f2ce809710907",
              "version_major": 2,
              "version_minor": 0
            },
            "text/plain": [
              "Batch:   0%|          | 0/779 [00:00<?, ?it/s]"
            ]
          },
          "metadata": {},
          "output_type": "display_data"
        },
        {
          "data": {
            "application/vnd.jupyter.widget-view+json": {
              "model_id": "f45a66b0f4a54dc089e8abe837d01bb5",
              "version_major": 2,
              "version_minor": 0
            },
            "text/plain": [
              "Batch:   0%|          | 0/779 [00:00<?, ?it/s]"
            ]
          },
          "metadata": {},
          "output_type": "display_data"
        },
        {
          "data": {
            "application/vnd.jupyter.widget-view+json": {
              "model_id": "dc8be5bab7d844dcae6e2604dc81d80c",
              "version_major": 2,
              "version_minor": 0
            },
            "text/plain": [
              "Batch:   0%|          | 0/779 [00:00<?, ?it/s]"
            ]
          },
          "metadata": {},
          "output_type": "display_data"
        },
        {
          "data": {
            "application/vnd.jupyter.widget-view+json": {
              "model_id": "b6148feb383841ae869c8ce24caae339",
              "version_major": 2,
              "version_minor": 0
            },
            "text/plain": [
              "Batch:   0%|          | 0/779 [00:00<?, ?it/s]"
            ]
          },
          "metadata": {},
          "output_type": "display_data"
        },
        {
          "data": {
            "application/vnd.jupyter.widget-view+json": {
              "model_id": "a391409e60d441fe850cdb9ff08a204c",
              "version_major": 2,
              "version_minor": 0
            },
            "text/plain": [
              "Batch:   0%|          | 0/779 [00:00<?, ?it/s]"
            ]
          },
          "metadata": {},
          "output_type": "display_data"
        },
        {
          "data": {
            "application/vnd.jupyter.widget-view+json": {
              "model_id": "bf58b99158ce4a01a2014199c0dfa305",
              "version_major": 2,
              "version_minor": 0
            },
            "text/plain": [
              "Batch:   0%|          | 0/779 [00:00<?, ?it/s]"
            ]
          },
          "metadata": {},
          "output_type": "display_data"
        },
        {
          "data": {
            "application/vnd.jupyter.widget-view+json": {
              "model_id": "8f1fb9c2ae47430cbd9490c55625bf20",
              "version_major": 2,
              "version_minor": 0
            },
            "text/plain": [
              "Batch:   0%|          | 0/779 [00:00<?, ?it/s]"
            ]
          },
          "metadata": {},
          "output_type": "display_data"
        },
        {
          "data": {
            "application/vnd.jupyter.widget-view+json": {
              "model_id": "73a1c0eab3294c2cab7bfcaca959b760",
              "version_major": 2,
              "version_minor": 0
            },
            "text/plain": [
              "Batch:   0%|          | 0/779 [00:00<?, ?it/s]"
            ]
          },
          "metadata": {},
          "output_type": "display_data"
        },
        {
          "data": {
            "application/vnd.jupyter.widget-view+json": {
              "model_id": "d9b6836005914eb2bd682cbf919b644e",
              "version_major": 2,
              "version_minor": 0
            },
            "text/plain": [
              "Batch:   0%|          | 0/779 [00:00<?, ?it/s]"
            ]
          },
          "metadata": {},
          "output_type": "display_data"
        },
        {
          "data": {
            "application/vnd.jupyter.widget-view+json": {
              "model_id": "c5357621b33541a28da5574dd1971aba",
              "version_major": 2,
              "version_minor": 0
            },
            "text/plain": [
              "Batch:   0%|          | 0/779 [00:00<?, ?it/s]"
            ]
          },
          "metadata": {},
          "output_type": "display_data"
        },
        {
          "data": {
            "application/vnd.jupyter.widget-view+json": {
              "model_id": "fa7d4711012c4a939d3af2a393387d24",
              "version_major": 2,
              "version_minor": 0
            },
            "text/plain": [
              "Batch:   0%|          | 0/779 [00:00<?, ?it/s]"
            ]
          },
          "metadata": {},
          "output_type": "display_data"
        },
        {
          "data": {
            "application/vnd.jupyter.widget-view+json": {
              "model_id": "469c83d405764ed88c0c70a79c0152d7",
              "version_major": 2,
              "version_minor": 0
            },
            "text/plain": [
              "Batch:   0%|          | 0/779 [00:00<?, ?it/s]"
            ]
          },
          "metadata": {},
          "output_type": "display_data"
        },
        {
          "data": {
            "application/vnd.jupyter.widget-view+json": {
              "model_id": "c2a44e3406fc45729b1b34fc11d96aa1",
              "version_major": 2,
              "version_minor": 0
            },
            "text/plain": [
              "Batch:   0%|          | 0/779 [00:00<?, ?it/s]"
            ]
          },
          "metadata": {},
          "output_type": "display_data"
        },
        {
          "data": {
            "application/vnd.jupyter.widget-view+json": {
              "model_id": "81c3038b79454ee7a833a7e3a40a17b8",
              "version_major": 2,
              "version_minor": 0
            },
            "text/plain": [
              "Batch:   0%|          | 0/779 [00:00<?, ?it/s]"
            ]
          },
          "metadata": {},
          "output_type": "display_data"
        },
        {
          "data": {
            "application/vnd.jupyter.widget-view+json": {
              "model_id": "763d843da37c40769c8d50ba60a2b0cd",
              "version_major": 2,
              "version_minor": 0
            },
            "text/plain": [
              "Batch:   0%|          | 0/779 [00:00<?, ?it/s]"
            ]
          },
          "metadata": {},
          "output_type": "display_data"
        },
        {
          "data": {
            "application/vnd.jupyter.widget-view+json": {
              "model_id": "44aafeb4f0254369b9e02566d16e270e",
              "version_major": 2,
              "version_minor": 0
            },
            "text/plain": [
              "Batch:   0%|          | 0/779 [00:00<?, ?it/s]"
            ]
          },
          "metadata": {},
          "output_type": "display_data"
        },
        {
          "data": {
            "application/vnd.jupyter.widget-view+json": {
              "model_id": "667e37cec6f746e792ec9ed8ea01e9db",
              "version_major": 2,
              "version_minor": 0
            },
            "text/plain": [
              "Batch:   0%|          | 0/779 [00:00<?, ?it/s]"
            ]
          },
          "metadata": {},
          "output_type": "display_data"
        },
        {
          "data": {
            "application/vnd.jupyter.widget-view+json": {
              "model_id": "79dc31cf8470483f9a358f9128770e60",
              "version_major": 2,
              "version_minor": 0
            },
            "text/plain": [
              "Batch:   0%|          | 0/779 [00:00<?, ?it/s]"
            ]
          },
          "metadata": {},
          "output_type": "display_data"
        },
        {
          "data": {
            "application/vnd.jupyter.widget-view+json": {
              "model_id": "1e3e3ea43bf64df090e3102a0a38d7dc",
              "version_major": 2,
              "version_minor": 0
            },
            "text/plain": [
              "Batch:   0%|          | 0/779 [00:00<?, ?it/s]"
            ]
          },
          "metadata": {},
          "output_type": "display_data"
        },
        {
          "data": {
            "application/vnd.jupyter.widget-view+json": {
              "model_id": "1e44ee6443e74086bf5f20eb6f8be7e8",
              "version_major": 2,
              "version_minor": 0
            },
            "text/plain": [
              "Batch:   0%|          | 0/779 [00:00<?, ?it/s]"
            ]
          },
          "metadata": {},
          "output_type": "display_data"
        },
        {
          "data": {
            "application/vnd.jupyter.widget-view+json": {
              "model_id": "bf60a4012afc4714b253ea14e9449f81",
              "version_major": 2,
              "version_minor": 0
            },
            "text/plain": [
              "Batch:   0%|          | 0/779 [00:00<?, ?it/s]"
            ]
          },
          "metadata": {},
          "output_type": "display_data"
        },
        {
          "data": {
            "application/vnd.jupyter.widget-view+json": {
              "model_id": "9f7b4344e922415ba3113435ad70961d",
              "version_major": 2,
              "version_minor": 0
            },
            "text/plain": [
              "Batch:   0%|          | 0/779 [00:00<?, ?it/s]"
            ]
          },
          "metadata": {},
          "output_type": "display_data"
        },
        {
          "data": {
            "application/vnd.jupyter.widget-view+json": {
              "model_id": "48194c48b5f74ca19a8caee169223a30",
              "version_major": 2,
              "version_minor": 0
            },
            "text/plain": [
              "Epoch:   0%|          | 0/30 [00:00<?, ?it/s]"
            ]
          },
          "metadata": {},
          "output_type": "display_data"
        },
        {
          "data": {
            "application/vnd.jupyter.widget-view+json": {
              "model_id": "571db36b7ce445dfb7f784a072985779",
              "version_major": 2,
              "version_minor": 0
            },
            "text/plain": [
              "Batch:   0%|          | 0/779 [00:00<?, ?it/s]"
            ]
          },
          "metadata": {},
          "output_type": "display_data"
        },
        {
          "data": {
            "application/vnd.jupyter.widget-view+json": {
              "model_id": "f47036a831324cd0b3dcc50b828ea35e",
              "version_major": 2,
              "version_minor": 0
            },
            "text/plain": [
              "Batch:   0%|          | 0/779 [00:00<?, ?it/s]"
            ]
          },
          "metadata": {},
          "output_type": "display_data"
        },
        {
          "data": {
            "application/vnd.jupyter.widget-view+json": {
              "model_id": "6a16546fd59543e8891ad660ace77fc4",
              "version_major": 2,
              "version_minor": 0
            },
            "text/plain": [
              "Batch:   0%|          | 0/779 [00:00<?, ?it/s]"
            ]
          },
          "metadata": {},
          "output_type": "display_data"
        },
        {
          "data": {
            "application/vnd.jupyter.widget-view+json": {
              "model_id": "ed197b47420c4309a732453e84e8158c",
              "version_major": 2,
              "version_minor": 0
            },
            "text/plain": [
              "Batch:   0%|          | 0/779 [00:00<?, ?it/s]"
            ]
          },
          "metadata": {},
          "output_type": "display_data"
        },
        {
          "data": {
            "application/vnd.jupyter.widget-view+json": {
              "model_id": "6de56a14b6e14a3eba8eda81969a22e0",
              "version_major": 2,
              "version_minor": 0
            },
            "text/plain": [
              "Batch:   0%|          | 0/779 [00:00<?, ?it/s]"
            ]
          },
          "metadata": {},
          "output_type": "display_data"
        },
        {
          "data": {
            "application/vnd.jupyter.widget-view+json": {
              "model_id": "f7563caa5225437ca1251955dd8150f3",
              "version_major": 2,
              "version_minor": 0
            },
            "text/plain": [
              "Batch:   0%|          | 0/779 [00:00<?, ?it/s]"
            ]
          },
          "metadata": {},
          "output_type": "display_data"
        },
        {
          "data": {
            "application/vnd.jupyter.widget-view+json": {
              "model_id": "56fbeada8d18402bbb126ab1dd267b25",
              "version_major": 2,
              "version_minor": 0
            },
            "text/plain": [
              "Batch:   0%|          | 0/779 [00:00<?, ?it/s]"
            ]
          },
          "metadata": {},
          "output_type": "display_data"
        },
        {
          "data": {
            "application/vnd.jupyter.widget-view+json": {
              "model_id": "8d8a3dff872740f7830c56db4b8d27ab",
              "version_major": 2,
              "version_minor": 0
            },
            "text/plain": [
              "Batch:   0%|          | 0/779 [00:00<?, ?it/s]"
            ]
          },
          "metadata": {},
          "output_type": "display_data"
        },
        {
          "data": {
            "application/vnd.jupyter.widget-view+json": {
              "model_id": "1ef929f0b5f9471c8cb023b049aa85f5",
              "version_major": 2,
              "version_minor": 0
            },
            "text/plain": [
              "Batch:   0%|          | 0/779 [00:00<?, ?it/s]"
            ]
          },
          "metadata": {},
          "output_type": "display_data"
        },
        {
          "data": {
            "application/vnd.jupyter.widget-view+json": {
              "model_id": "318a6d22d749495ba8d00c53e9859eee",
              "version_major": 2,
              "version_minor": 0
            },
            "text/plain": [
              "Batch:   0%|          | 0/779 [00:00<?, ?it/s]"
            ]
          },
          "metadata": {},
          "output_type": "display_data"
        },
        {
          "data": {
            "application/vnd.jupyter.widget-view+json": {
              "model_id": "785643a536cc436ebc4f36cf5e27af00",
              "version_major": 2,
              "version_minor": 0
            },
            "text/plain": [
              "Batch:   0%|          | 0/779 [00:00<?, ?it/s]"
            ]
          },
          "metadata": {},
          "output_type": "display_data"
        },
        {
          "data": {
            "application/vnd.jupyter.widget-view+json": {
              "model_id": "2d45eb26331c407699c6d52cfc4d3ddd",
              "version_major": 2,
              "version_minor": 0
            },
            "text/plain": [
              "Batch:   0%|          | 0/779 [00:00<?, ?it/s]"
            ]
          },
          "metadata": {},
          "output_type": "display_data"
        },
        {
          "data": {
            "application/vnd.jupyter.widget-view+json": {
              "model_id": "edc4b5a5c1a34a7a9e0a46966c3676e6",
              "version_major": 2,
              "version_minor": 0
            },
            "text/plain": [
              "Batch:   0%|          | 0/779 [00:00<?, ?it/s]"
            ]
          },
          "metadata": {},
          "output_type": "display_data"
        },
        {
          "data": {
            "application/vnd.jupyter.widget-view+json": {
              "model_id": "105660faa2cb4ead97bd2a887764fec0",
              "version_major": 2,
              "version_minor": 0
            },
            "text/plain": [
              "Batch:   0%|          | 0/779 [00:00<?, ?it/s]"
            ]
          },
          "metadata": {},
          "output_type": "display_data"
        },
        {
          "data": {
            "application/vnd.jupyter.widget-view+json": {
              "model_id": "6760caf3d5c8471e83433be89958487d",
              "version_major": 2,
              "version_minor": 0
            },
            "text/plain": [
              "Batch:   0%|          | 0/779 [00:00<?, ?it/s]"
            ]
          },
          "metadata": {},
          "output_type": "display_data"
        },
        {
          "data": {
            "application/vnd.jupyter.widget-view+json": {
              "model_id": "0efb7a0d9b89438683e32b2ed6dda66a",
              "version_major": 2,
              "version_minor": 0
            },
            "text/plain": [
              "Batch:   0%|          | 0/779 [00:00<?, ?it/s]"
            ]
          },
          "metadata": {},
          "output_type": "display_data"
        },
        {
          "data": {
            "application/vnd.jupyter.widget-view+json": {
              "model_id": "5412f63e93f345b4a9bae1a88128c8e3",
              "version_major": 2,
              "version_minor": 0
            },
            "text/plain": [
              "Batch:   0%|          | 0/779 [00:00<?, ?it/s]"
            ]
          },
          "metadata": {},
          "output_type": "display_data"
        },
        {
          "data": {
            "application/vnd.jupyter.widget-view+json": {
              "model_id": "1acea8d75ee84b2898bc6e94bc238566",
              "version_major": 2,
              "version_minor": 0
            },
            "text/plain": [
              "Batch:   0%|          | 0/779 [00:00<?, ?it/s]"
            ]
          },
          "metadata": {},
          "output_type": "display_data"
        },
        {
          "data": {
            "application/vnd.jupyter.widget-view+json": {
              "model_id": "14451c43f1e2462f932e33158b4d6391",
              "version_major": 2,
              "version_minor": 0
            },
            "text/plain": [
              "Batch:   0%|          | 0/779 [00:00<?, ?it/s]"
            ]
          },
          "metadata": {},
          "output_type": "display_data"
        },
        {
          "data": {
            "application/vnd.jupyter.widget-view+json": {
              "model_id": "8a2d018613ab4b49b74682cfffe0ce22",
              "version_major": 2,
              "version_minor": 0
            },
            "text/plain": [
              "Batch:   0%|          | 0/779 [00:00<?, ?it/s]"
            ]
          },
          "metadata": {},
          "output_type": "display_data"
        },
        {
          "data": {
            "application/vnd.jupyter.widget-view+json": {
              "model_id": "5bd94dde7a904834ade5ce9f3c01f809",
              "version_major": 2,
              "version_minor": 0
            },
            "text/plain": [
              "Batch:   0%|          | 0/779 [00:00<?, ?it/s]"
            ]
          },
          "metadata": {},
          "output_type": "display_data"
        },
        {
          "data": {
            "application/vnd.jupyter.widget-view+json": {
              "model_id": "688c30f534ea4b3c9e29ccfc8609b6c5",
              "version_major": 2,
              "version_minor": 0
            },
            "text/plain": [
              "Batch:   0%|          | 0/779 [00:00<?, ?it/s]"
            ]
          },
          "metadata": {},
          "output_type": "display_data"
        },
        {
          "data": {
            "application/vnd.jupyter.widget-view+json": {
              "model_id": "9ed62363a524453bb81465e33d9825b3",
              "version_major": 2,
              "version_minor": 0
            },
            "text/plain": [
              "Batch:   0%|          | 0/779 [00:00<?, ?it/s]"
            ]
          },
          "metadata": {},
          "output_type": "display_data"
        },
        {
          "data": {
            "application/vnd.jupyter.widget-view+json": {
              "model_id": "41ffedd97da04248b2d7fc91c809786e",
              "version_major": 2,
              "version_minor": 0
            },
            "text/plain": [
              "Batch:   0%|          | 0/779 [00:00<?, ?it/s]"
            ]
          },
          "metadata": {},
          "output_type": "display_data"
        },
        {
          "data": {
            "application/vnd.jupyter.widget-view+json": {
              "model_id": "0d35656083fb4d74927e7f2f5a844c7e",
              "version_major": 2,
              "version_minor": 0
            },
            "text/plain": [
              "Batch:   0%|          | 0/779 [00:00<?, ?it/s]"
            ]
          },
          "metadata": {},
          "output_type": "display_data"
        },
        {
          "data": {
            "application/vnd.jupyter.widget-view+json": {
              "model_id": "2646f79eb72d47329e88414aacaf4554",
              "version_major": 2,
              "version_minor": 0
            },
            "text/plain": [
              "Batch:   0%|          | 0/779 [00:00<?, ?it/s]"
            ]
          },
          "metadata": {},
          "output_type": "display_data"
        },
        {
          "data": {
            "application/vnd.jupyter.widget-view+json": {
              "model_id": "3c4bec3303bb4806b9701ad49a51b378",
              "version_major": 2,
              "version_minor": 0
            },
            "text/plain": [
              "Batch:   0%|          | 0/779 [00:00<?, ?it/s]"
            ]
          },
          "metadata": {},
          "output_type": "display_data"
        },
        {
          "data": {
            "application/vnd.jupyter.widget-view+json": {
              "model_id": "da60c51861ed4b59bb0d42ec8100aef3",
              "version_major": 2,
              "version_minor": 0
            },
            "text/plain": [
              "Batch:   0%|          | 0/779 [00:00<?, ?it/s]"
            ]
          },
          "metadata": {},
          "output_type": "display_data"
        },
        {
          "data": {
            "application/vnd.jupyter.widget-view+json": {
              "model_id": "e999f684c2ee4c08aaeaf964fd52d9c2",
              "version_major": 2,
              "version_minor": 0
            },
            "text/plain": [
              "Batch:   0%|          | 0/779 [00:00<?, ?it/s]"
            ]
          },
          "metadata": {},
          "output_type": "display_data"
        },
        {
          "data": {
            "application/vnd.jupyter.widget-view+json": {
              "model_id": "91531b63c00e4c17a791ba53ef030558",
              "version_major": 2,
              "version_minor": 0
            },
            "text/plain": [
              "Batch:   0%|          | 0/779 [00:00<?, ?it/s]"
            ]
          },
          "metadata": {},
          "output_type": "display_data"
        },
        {
          "data": {
            "application/vnd.jupyter.widget-view+json": {
              "model_id": "9c5fe5d015124f3d87a674856ea180aa",
              "version_major": 2,
              "version_minor": 0
            },
            "text/plain": [
              "Epoch:   0%|          | 0/30 [00:00<?, ?it/s]"
            ]
          },
          "metadata": {},
          "output_type": "display_data"
        },
        {
          "data": {
            "application/vnd.jupyter.widget-view+json": {
              "model_id": "e71f7b0be81640f5abde1d517b9ec7e8",
              "version_major": 2,
              "version_minor": 0
            },
            "text/plain": [
              "Batch:   0%|          | 0/779 [00:00<?, ?it/s]"
            ]
          },
          "metadata": {},
          "output_type": "display_data"
        },
        {
          "data": {
            "application/vnd.jupyter.widget-view+json": {
              "model_id": "2a92ff9204b74beb87c686192651df07",
              "version_major": 2,
              "version_minor": 0
            },
            "text/plain": [
              "Batch:   0%|          | 0/779 [00:00<?, ?it/s]"
            ]
          },
          "metadata": {},
          "output_type": "display_data"
        },
        {
          "data": {
            "application/vnd.jupyter.widget-view+json": {
              "model_id": "81562388f15c440f82e36000238826dd",
              "version_major": 2,
              "version_minor": 0
            },
            "text/plain": [
              "Batch:   0%|          | 0/779 [00:00<?, ?it/s]"
            ]
          },
          "metadata": {},
          "output_type": "display_data"
        },
        {
          "data": {
            "application/vnd.jupyter.widget-view+json": {
              "model_id": "d9818fff1a994bcfa3981d92d0220146",
              "version_major": 2,
              "version_minor": 0
            },
            "text/plain": [
              "Batch:   0%|          | 0/779 [00:00<?, ?it/s]"
            ]
          },
          "metadata": {},
          "output_type": "display_data"
        },
        {
          "data": {
            "application/vnd.jupyter.widget-view+json": {
              "model_id": "c9ea6639aad94ff6b15548869c4de15e",
              "version_major": 2,
              "version_minor": 0
            },
            "text/plain": [
              "Batch:   0%|          | 0/779 [00:00<?, ?it/s]"
            ]
          },
          "metadata": {},
          "output_type": "display_data"
        },
        {
          "data": {
            "application/vnd.jupyter.widget-view+json": {
              "model_id": "78628137ea9542ac91852652459f37f3",
              "version_major": 2,
              "version_minor": 0
            },
            "text/plain": [
              "Batch:   0%|          | 0/779 [00:00<?, ?it/s]"
            ]
          },
          "metadata": {},
          "output_type": "display_data"
        },
        {
          "data": {
            "application/vnd.jupyter.widget-view+json": {
              "model_id": "919785aa65334eb6872651318da7af37",
              "version_major": 2,
              "version_minor": 0
            },
            "text/plain": [
              "Batch:   0%|          | 0/779 [00:00<?, ?it/s]"
            ]
          },
          "metadata": {},
          "output_type": "display_data"
        },
        {
          "data": {
            "application/vnd.jupyter.widget-view+json": {
              "model_id": "37f713ac988644269ef984591846fb7b",
              "version_major": 2,
              "version_minor": 0
            },
            "text/plain": [
              "Batch:   0%|          | 0/779 [00:00<?, ?it/s]"
            ]
          },
          "metadata": {},
          "output_type": "display_data"
        },
        {
          "data": {
            "application/vnd.jupyter.widget-view+json": {
              "model_id": "95b682f592154ebd94a913ec22fa8c54",
              "version_major": 2,
              "version_minor": 0
            },
            "text/plain": [
              "Batch:   0%|          | 0/779 [00:00<?, ?it/s]"
            ]
          },
          "metadata": {},
          "output_type": "display_data"
        },
        {
          "data": {
            "application/vnd.jupyter.widget-view+json": {
              "model_id": "f55e65215dce42d9a4c2a71eabfb6f49",
              "version_major": 2,
              "version_minor": 0
            },
            "text/plain": [
              "Batch:   0%|          | 0/779 [00:00<?, ?it/s]"
            ]
          },
          "metadata": {},
          "output_type": "display_data"
        },
        {
          "data": {
            "application/vnd.jupyter.widget-view+json": {
              "model_id": "bed44050dca84d4db3156142c6b4455b",
              "version_major": 2,
              "version_minor": 0
            },
            "text/plain": [
              "Batch:   0%|          | 0/779 [00:00<?, ?it/s]"
            ]
          },
          "metadata": {},
          "output_type": "display_data"
        },
        {
          "data": {
            "application/vnd.jupyter.widget-view+json": {
              "model_id": "555736f336d445cbae11a43f4ece666e",
              "version_major": 2,
              "version_minor": 0
            },
            "text/plain": [
              "Batch:   0%|          | 0/779 [00:00<?, ?it/s]"
            ]
          },
          "metadata": {},
          "output_type": "display_data"
        },
        {
          "data": {
            "application/vnd.jupyter.widget-view+json": {
              "model_id": "f842ab2f0f80457a8406deee54700f4a",
              "version_major": 2,
              "version_minor": 0
            },
            "text/plain": [
              "Batch:   0%|          | 0/779 [00:00<?, ?it/s]"
            ]
          },
          "metadata": {},
          "output_type": "display_data"
        },
        {
          "data": {
            "application/vnd.jupyter.widget-view+json": {
              "model_id": "3530e6a620234ce68274472c61587722",
              "version_major": 2,
              "version_minor": 0
            },
            "text/plain": [
              "Batch:   0%|          | 0/779 [00:00<?, ?it/s]"
            ]
          },
          "metadata": {},
          "output_type": "display_data"
        },
        {
          "data": {
            "application/vnd.jupyter.widget-view+json": {
              "model_id": "8311b55f8159487eb1a10af239ebbdf5",
              "version_major": 2,
              "version_minor": 0
            },
            "text/plain": [
              "Batch:   0%|          | 0/779 [00:00<?, ?it/s]"
            ]
          },
          "metadata": {},
          "output_type": "display_data"
        },
        {
          "data": {
            "application/vnd.jupyter.widget-view+json": {
              "model_id": "1157c9c6a16640099e9e31c55a8eb388",
              "version_major": 2,
              "version_minor": 0
            },
            "text/plain": [
              "Batch:   0%|          | 0/779 [00:00<?, ?it/s]"
            ]
          },
          "metadata": {},
          "output_type": "display_data"
        },
        {
          "data": {
            "application/vnd.jupyter.widget-view+json": {
              "model_id": "719542ce49c54685a200f1d571a61b2a",
              "version_major": 2,
              "version_minor": 0
            },
            "text/plain": [
              "Batch:   0%|          | 0/779 [00:00<?, ?it/s]"
            ]
          },
          "metadata": {},
          "output_type": "display_data"
        },
        {
          "data": {
            "application/vnd.jupyter.widget-view+json": {
              "model_id": "9bee117faea94bd4a693651224abe30c",
              "version_major": 2,
              "version_minor": 0
            },
            "text/plain": [
              "Batch:   0%|          | 0/779 [00:00<?, ?it/s]"
            ]
          },
          "metadata": {},
          "output_type": "display_data"
        },
        {
          "data": {
            "application/vnd.jupyter.widget-view+json": {
              "model_id": "dcab01e712db4d3284857d63f6677bcb",
              "version_major": 2,
              "version_minor": 0
            },
            "text/plain": [
              "Batch:   0%|          | 0/779 [00:00<?, ?it/s]"
            ]
          },
          "metadata": {},
          "output_type": "display_data"
        },
        {
          "data": {
            "application/vnd.jupyter.widget-view+json": {
              "model_id": "800895a797d84dd18fb35253152ca3d0",
              "version_major": 2,
              "version_minor": 0
            },
            "text/plain": [
              "Batch:   0%|          | 0/779 [00:00<?, ?it/s]"
            ]
          },
          "metadata": {},
          "output_type": "display_data"
        },
        {
          "data": {
            "application/vnd.jupyter.widget-view+json": {
              "model_id": "e119536c51964cc0b95abca1c897a452",
              "version_major": 2,
              "version_minor": 0
            },
            "text/plain": [
              "Batch:   0%|          | 0/779 [00:00<?, ?it/s]"
            ]
          },
          "metadata": {},
          "output_type": "display_data"
        },
        {
          "data": {
            "application/vnd.jupyter.widget-view+json": {
              "model_id": "0d2560d2fa8e4713a24f5fc7fa9d1ffc",
              "version_major": 2,
              "version_minor": 0
            },
            "text/plain": [
              "Batch:   0%|          | 0/779 [00:00<?, ?it/s]"
            ]
          },
          "metadata": {},
          "output_type": "display_data"
        },
        {
          "data": {
            "application/vnd.jupyter.widget-view+json": {
              "model_id": "843aeeb5dcc24479a31846f68e89d048",
              "version_major": 2,
              "version_minor": 0
            },
            "text/plain": [
              "Batch:   0%|          | 0/779 [00:00<?, ?it/s]"
            ]
          },
          "metadata": {},
          "output_type": "display_data"
        },
        {
          "data": {
            "application/vnd.jupyter.widget-view+json": {
              "model_id": "b6e590f4114d49c99f37ab4bb97bf8b5",
              "version_major": 2,
              "version_minor": 0
            },
            "text/plain": [
              "Batch:   0%|          | 0/779 [00:00<?, ?it/s]"
            ]
          },
          "metadata": {},
          "output_type": "display_data"
        },
        {
          "data": {
            "application/vnd.jupyter.widget-view+json": {
              "model_id": "48d41a216d60466cb439ab591fb51faf",
              "version_major": 2,
              "version_minor": 0
            },
            "text/plain": [
              "Batch:   0%|          | 0/779 [00:00<?, ?it/s]"
            ]
          },
          "metadata": {},
          "output_type": "display_data"
        },
        {
          "data": {
            "application/vnd.jupyter.widget-view+json": {
              "model_id": "2e8ec390e1e04bca92f1abc26d24b7ea",
              "version_major": 2,
              "version_minor": 0
            },
            "text/plain": [
              "Batch:   0%|          | 0/779 [00:00<?, ?it/s]"
            ]
          },
          "metadata": {},
          "output_type": "display_data"
        },
        {
          "data": {
            "application/vnd.jupyter.widget-view+json": {
              "model_id": "80f03f1ee8a44bff92df6b39e720185f",
              "version_major": 2,
              "version_minor": 0
            },
            "text/plain": [
              "Batch:   0%|          | 0/779 [00:00<?, ?it/s]"
            ]
          },
          "metadata": {},
          "output_type": "display_data"
        },
        {
          "data": {
            "application/vnd.jupyter.widget-view+json": {
              "model_id": "d27e78fc9f064b7e969947a711aa9418",
              "version_major": 2,
              "version_minor": 0
            },
            "text/plain": [
              "Batch:   0%|          | 0/779 [00:00<?, ?it/s]"
            ]
          },
          "metadata": {},
          "output_type": "display_data"
        },
        {
          "data": {
            "application/vnd.jupyter.widget-view+json": {
              "model_id": "07bf64cabf5944a58365682933fc9e1e",
              "version_major": 2,
              "version_minor": 0
            },
            "text/plain": [
              "Batch:   0%|          | 0/779 [00:00<?, ?it/s]"
            ]
          },
          "metadata": {},
          "output_type": "display_data"
        },
        {
          "data": {
            "application/vnd.jupyter.widget-view+json": {
              "model_id": "bb9752b2671e4855aed9169434f44d97",
              "version_major": 2,
              "version_minor": 0
            },
            "text/plain": [
              "Batch:   0%|          | 0/779 [00:00<?, ?it/s]"
            ]
          },
          "metadata": {},
          "output_type": "display_data"
        },
        {
          "data": {
            "application/vnd.jupyter.widget-view+json": {
              "model_id": "a4c0ed8c796e4e3193cd08cc9f191e85",
              "version_major": 2,
              "version_minor": 0
            },
            "text/plain": [
              "Epoch:   0%|          | 0/30 [00:00<?, ?it/s]"
            ]
          },
          "metadata": {},
          "output_type": "display_data"
        },
        {
          "data": {
            "application/vnd.jupyter.widget-view+json": {
              "model_id": "795f9f7eb77d4be1b088e1a0e3f6ac42",
              "version_major": 2,
              "version_minor": 0
            },
            "text/plain": [
              "Batch:   0%|          | 0/779 [00:00<?, ?it/s]"
            ]
          },
          "metadata": {},
          "output_type": "display_data"
        },
        {
          "data": {
            "application/vnd.jupyter.widget-view+json": {
              "model_id": "3ef923b65e4947c18163d861a58c0887",
              "version_major": 2,
              "version_minor": 0
            },
            "text/plain": [
              "Batch:   0%|          | 0/779 [00:00<?, ?it/s]"
            ]
          },
          "metadata": {},
          "output_type": "display_data"
        },
        {
          "data": {
            "application/vnd.jupyter.widget-view+json": {
              "model_id": "96f4b07dc99c4652ae38a4b3f5083905",
              "version_major": 2,
              "version_minor": 0
            },
            "text/plain": [
              "Batch:   0%|          | 0/779 [00:00<?, ?it/s]"
            ]
          },
          "metadata": {},
          "output_type": "display_data"
        },
        {
          "data": {
            "application/vnd.jupyter.widget-view+json": {
              "model_id": "58f4e8958c37492692c8ff23a7fba0c8",
              "version_major": 2,
              "version_minor": 0
            },
            "text/plain": [
              "Batch:   0%|          | 0/779 [00:00<?, ?it/s]"
            ]
          },
          "metadata": {},
          "output_type": "display_data"
        },
        {
          "data": {
            "application/vnd.jupyter.widget-view+json": {
              "model_id": "966628cbbad44ce98bf9c8911988c564",
              "version_major": 2,
              "version_minor": 0
            },
            "text/plain": [
              "Batch:   0%|          | 0/779 [00:00<?, ?it/s]"
            ]
          },
          "metadata": {},
          "output_type": "display_data"
        },
        {
          "data": {
            "application/vnd.jupyter.widget-view+json": {
              "model_id": "7370cda0a9c54d7db4196ab3f5d43d76",
              "version_major": 2,
              "version_minor": 0
            },
            "text/plain": [
              "Batch:   0%|          | 0/779 [00:00<?, ?it/s]"
            ]
          },
          "metadata": {},
          "output_type": "display_data"
        },
        {
          "data": {
            "application/vnd.jupyter.widget-view+json": {
              "model_id": "a3b3fbb4324a44f59e68eed1df37d60d",
              "version_major": 2,
              "version_minor": 0
            },
            "text/plain": [
              "Batch:   0%|          | 0/779 [00:00<?, ?it/s]"
            ]
          },
          "metadata": {},
          "output_type": "display_data"
        },
        {
          "data": {
            "application/vnd.jupyter.widget-view+json": {
              "model_id": "81baa3fc90034bbb9fe9c6660717362f",
              "version_major": 2,
              "version_minor": 0
            },
            "text/plain": [
              "Batch:   0%|          | 0/779 [00:00<?, ?it/s]"
            ]
          },
          "metadata": {},
          "output_type": "display_data"
        },
        {
          "data": {
            "application/vnd.jupyter.widget-view+json": {
              "model_id": "e99dae6bb5f940aea3f3fca0583c2371",
              "version_major": 2,
              "version_minor": 0
            },
            "text/plain": [
              "Batch:   0%|          | 0/779 [00:00<?, ?it/s]"
            ]
          },
          "metadata": {},
          "output_type": "display_data"
        },
        {
          "data": {
            "application/vnd.jupyter.widget-view+json": {
              "model_id": "b2cbf1f1ef4244078faa9572d602f12b",
              "version_major": 2,
              "version_minor": 0
            },
            "text/plain": [
              "Batch:   0%|          | 0/779 [00:00<?, ?it/s]"
            ]
          },
          "metadata": {},
          "output_type": "display_data"
        },
        {
          "data": {
            "application/vnd.jupyter.widget-view+json": {
              "model_id": "24433387f6824b12a2478cc2a593a7e3",
              "version_major": 2,
              "version_minor": 0
            },
            "text/plain": [
              "Batch:   0%|          | 0/779 [00:00<?, ?it/s]"
            ]
          },
          "metadata": {},
          "output_type": "display_data"
        },
        {
          "data": {
            "application/vnd.jupyter.widget-view+json": {
              "model_id": "e409abc7a9c44d8abf392c5bd54749f5",
              "version_major": 2,
              "version_minor": 0
            },
            "text/plain": [
              "Batch:   0%|          | 0/779 [00:00<?, ?it/s]"
            ]
          },
          "metadata": {},
          "output_type": "display_data"
        },
        {
          "data": {
            "application/vnd.jupyter.widget-view+json": {
              "model_id": "30b180f5514743d98f89638ac31540f3",
              "version_major": 2,
              "version_minor": 0
            },
            "text/plain": [
              "Batch:   0%|          | 0/779 [00:00<?, ?it/s]"
            ]
          },
          "metadata": {},
          "output_type": "display_data"
        },
        {
          "data": {
            "application/vnd.jupyter.widget-view+json": {
              "model_id": "a9673d605adc4b04bf73b46a735f8cc9",
              "version_major": 2,
              "version_minor": 0
            },
            "text/plain": [
              "Batch:   0%|          | 0/779 [00:00<?, ?it/s]"
            ]
          },
          "metadata": {},
          "output_type": "display_data"
        },
        {
          "data": {
            "application/vnd.jupyter.widget-view+json": {
              "model_id": "54abf38af52a4091abbef8984c454098",
              "version_major": 2,
              "version_minor": 0
            },
            "text/plain": [
              "Batch:   0%|          | 0/779 [00:00<?, ?it/s]"
            ]
          },
          "metadata": {},
          "output_type": "display_data"
        },
        {
          "data": {
            "application/vnd.jupyter.widget-view+json": {
              "model_id": "f9247ce2275c45868f9401058e135cf5",
              "version_major": 2,
              "version_minor": 0
            },
            "text/plain": [
              "Batch:   0%|          | 0/779 [00:00<?, ?it/s]"
            ]
          },
          "metadata": {},
          "output_type": "display_data"
        },
        {
          "data": {
            "application/vnd.jupyter.widget-view+json": {
              "model_id": "af746474045e4b4782247d183a632eb8",
              "version_major": 2,
              "version_minor": 0
            },
            "text/plain": [
              "Batch:   0%|          | 0/779 [00:00<?, ?it/s]"
            ]
          },
          "metadata": {},
          "output_type": "display_data"
        },
        {
          "data": {
            "application/vnd.jupyter.widget-view+json": {
              "model_id": "058ce5ab4ad94c9e9833b68f2ad54006",
              "version_major": 2,
              "version_minor": 0
            },
            "text/plain": [
              "Batch:   0%|          | 0/779 [00:00<?, ?it/s]"
            ]
          },
          "metadata": {},
          "output_type": "display_data"
        },
        {
          "data": {
            "application/vnd.jupyter.widget-view+json": {
              "model_id": "6692f32a5b5448ed8dc23de9c13e13db",
              "version_major": 2,
              "version_minor": 0
            },
            "text/plain": [
              "Batch:   0%|          | 0/779 [00:00<?, ?it/s]"
            ]
          },
          "metadata": {},
          "output_type": "display_data"
        },
        {
          "data": {
            "application/vnd.jupyter.widget-view+json": {
              "model_id": "7fc38d207d6944419943b4854206431d",
              "version_major": 2,
              "version_minor": 0
            },
            "text/plain": [
              "Batch:   0%|          | 0/779 [00:00<?, ?it/s]"
            ]
          },
          "metadata": {},
          "output_type": "display_data"
        },
        {
          "data": {
            "application/vnd.jupyter.widget-view+json": {
              "model_id": "4399451c09094f15a827f17b97b340ef",
              "version_major": 2,
              "version_minor": 0
            },
            "text/plain": [
              "Batch:   0%|          | 0/779 [00:00<?, ?it/s]"
            ]
          },
          "metadata": {},
          "output_type": "display_data"
        },
        {
          "data": {
            "application/vnd.jupyter.widget-view+json": {
              "model_id": "35cedb3eb62a4e429b76e4f597a0534e",
              "version_major": 2,
              "version_minor": 0
            },
            "text/plain": [
              "Batch:   0%|          | 0/779 [00:00<?, ?it/s]"
            ]
          },
          "metadata": {},
          "output_type": "display_data"
        },
        {
          "data": {
            "application/vnd.jupyter.widget-view+json": {
              "model_id": "8acaff00e05d4145854b730d49f6312e",
              "version_major": 2,
              "version_minor": 0
            },
            "text/plain": [
              "Batch:   0%|          | 0/779 [00:00<?, ?it/s]"
            ]
          },
          "metadata": {},
          "output_type": "display_data"
        },
        {
          "data": {
            "application/vnd.jupyter.widget-view+json": {
              "model_id": "f96a7b410516457c99dc8e597ac149eb",
              "version_major": 2,
              "version_minor": 0
            },
            "text/plain": [
              "Batch:   0%|          | 0/779 [00:00<?, ?it/s]"
            ]
          },
          "metadata": {},
          "output_type": "display_data"
        },
        {
          "data": {
            "application/vnd.jupyter.widget-view+json": {
              "model_id": "efba0223386b4331b58458858711ab5c",
              "version_major": 2,
              "version_minor": 0
            },
            "text/plain": [
              "Batch:   0%|          | 0/779 [00:00<?, ?it/s]"
            ]
          },
          "metadata": {},
          "output_type": "display_data"
        },
        {
          "data": {
            "application/vnd.jupyter.widget-view+json": {
              "model_id": "81c1badedd314ff0a44f09e01afcb37b",
              "version_major": 2,
              "version_minor": 0
            },
            "text/plain": [
              "Batch:   0%|          | 0/779 [00:00<?, ?it/s]"
            ]
          },
          "metadata": {},
          "output_type": "display_data"
        },
        {
          "data": {
            "application/vnd.jupyter.widget-view+json": {
              "model_id": "0ea11aeb3f3845dd85e7688b11cf83ba",
              "version_major": 2,
              "version_minor": 0
            },
            "text/plain": [
              "Batch:   0%|          | 0/779 [00:00<?, ?it/s]"
            ]
          },
          "metadata": {},
          "output_type": "display_data"
        },
        {
          "data": {
            "application/vnd.jupyter.widget-view+json": {
              "model_id": "eae78ee678814620a3a996e00987668f",
              "version_major": 2,
              "version_minor": 0
            },
            "text/plain": [
              "Batch:   0%|          | 0/779 [00:00<?, ?it/s]"
            ]
          },
          "metadata": {},
          "output_type": "display_data"
        },
        {
          "data": {
            "application/vnd.jupyter.widget-view+json": {
              "model_id": "a0e1f4decacc4f50acab1b3b76a230fe",
              "version_major": 2,
              "version_minor": 0
            },
            "text/plain": [
              "Batch:   0%|          | 0/779 [00:00<?, ?it/s]"
            ]
          },
          "metadata": {},
          "output_type": "display_data"
        },
        {
          "data": {
            "application/vnd.jupyter.widget-view+json": {
              "model_id": "a53d163a61ef4a6c83be9ce4ed7f2f27",
              "version_major": 2,
              "version_minor": 0
            },
            "text/plain": [
              "Batch:   0%|          | 0/779 [00:00<?, ?it/s]"
            ]
          },
          "metadata": {},
          "output_type": "display_data"
        },
        {
          "data": {
            "application/vnd.jupyter.widget-view+json": {
              "model_id": "984804abd3314d7ba99cec7d2e6d8f43",
              "version_major": 2,
              "version_minor": 0
            },
            "text/plain": [
              "Epoch:   0%|          | 0/30 [00:00<?, ?it/s]"
            ]
          },
          "metadata": {},
          "output_type": "display_data"
        },
        {
          "data": {
            "application/vnd.jupyter.widget-view+json": {
              "model_id": "05fc7a20c5924cc3a08620d71dcab4c2",
              "version_major": 2,
              "version_minor": 0
            },
            "text/plain": [
              "Batch:   0%|          | 0/779 [00:00<?, ?it/s]"
            ]
          },
          "metadata": {},
          "output_type": "display_data"
        },
        {
          "data": {
            "application/vnd.jupyter.widget-view+json": {
              "model_id": "a36c7973f447408da912ef2154c94b26",
              "version_major": 2,
              "version_minor": 0
            },
            "text/plain": [
              "Batch:   0%|          | 0/779 [00:00<?, ?it/s]"
            ]
          },
          "metadata": {},
          "output_type": "display_data"
        },
        {
          "data": {
            "application/vnd.jupyter.widget-view+json": {
              "model_id": "cf3d33c044ad453e8131b0f90217cfc3",
              "version_major": 2,
              "version_minor": 0
            },
            "text/plain": [
              "Batch:   0%|          | 0/779 [00:00<?, ?it/s]"
            ]
          },
          "metadata": {},
          "output_type": "display_data"
        },
        {
          "data": {
            "application/vnd.jupyter.widget-view+json": {
              "model_id": "49987aac21c94cacb626621c4abdf67d",
              "version_major": 2,
              "version_minor": 0
            },
            "text/plain": [
              "Batch:   0%|          | 0/779 [00:00<?, ?it/s]"
            ]
          },
          "metadata": {},
          "output_type": "display_data"
        },
        {
          "data": {
            "application/vnd.jupyter.widget-view+json": {
              "model_id": "c3f62e9bab1540149b8b12f9accb5055",
              "version_major": 2,
              "version_minor": 0
            },
            "text/plain": [
              "Batch:   0%|          | 0/779 [00:00<?, ?it/s]"
            ]
          },
          "metadata": {},
          "output_type": "display_data"
        },
        {
          "data": {
            "application/vnd.jupyter.widget-view+json": {
              "model_id": "e20507566ec544bbba99de2700bf6eab",
              "version_major": 2,
              "version_minor": 0
            },
            "text/plain": [
              "Batch:   0%|          | 0/779 [00:00<?, ?it/s]"
            ]
          },
          "metadata": {},
          "output_type": "display_data"
        },
        {
          "data": {
            "application/vnd.jupyter.widget-view+json": {
              "model_id": "b77c3424dcf24bd096c2c953a9782fa2",
              "version_major": 2,
              "version_minor": 0
            },
            "text/plain": [
              "Batch:   0%|          | 0/779 [00:00<?, ?it/s]"
            ]
          },
          "metadata": {},
          "output_type": "display_data"
        },
        {
          "data": {
            "application/vnd.jupyter.widget-view+json": {
              "model_id": "3910453421964d94898f0f4069d90924",
              "version_major": 2,
              "version_minor": 0
            },
            "text/plain": [
              "Batch:   0%|          | 0/779 [00:00<?, ?it/s]"
            ]
          },
          "metadata": {},
          "output_type": "display_data"
        },
        {
          "data": {
            "application/vnd.jupyter.widget-view+json": {
              "model_id": "d286b1ae68664fccb404b61603212401",
              "version_major": 2,
              "version_minor": 0
            },
            "text/plain": [
              "Batch:   0%|          | 0/779 [00:00<?, ?it/s]"
            ]
          },
          "metadata": {},
          "output_type": "display_data"
        },
        {
          "data": {
            "application/vnd.jupyter.widget-view+json": {
              "model_id": "32ccac30eb9948378b6b9b793ba2148a",
              "version_major": 2,
              "version_minor": 0
            },
            "text/plain": [
              "Batch:   0%|          | 0/779 [00:00<?, ?it/s]"
            ]
          },
          "metadata": {},
          "output_type": "display_data"
        },
        {
          "data": {
            "application/vnd.jupyter.widget-view+json": {
              "model_id": "250c04fbfebf4ebb99413ad29fab99a4",
              "version_major": 2,
              "version_minor": 0
            },
            "text/plain": [
              "Batch:   0%|          | 0/779 [00:00<?, ?it/s]"
            ]
          },
          "metadata": {},
          "output_type": "display_data"
        },
        {
          "data": {
            "application/vnd.jupyter.widget-view+json": {
              "model_id": "b7ffc9e6ebc347debe54b44a4886211f",
              "version_major": 2,
              "version_minor": 0
            },
            "text/plain": [
              "Batch:   0%|          | 0/779 [00:00<?, ?it/s]"
            ]
          },
          "metadata": {},
          "output_type": "display_data"
        },
        {
          "data": {
            "application/vnd.jupyter.widget-view+json": {
              "model_id": "017c63eb82034e478e3d8d0fd3d46ccf",
              "version_major": 2,
              "version_minor": 0
            },
            "text/plain": [
              "Batch:   0%|          | 0/779 [00:00<?, ?it/s]"
            ]
          },
          "metadata": {},
          "output_type": "display_data"
        },
        {
          "data": {
            "application/vnd.jupyter.widget-view+json": {
              "model_id": "fa9a69cc271d40cd8accb406d60e2199",
              "version_major": 2,
              "version_minor": 0
            },
            "text/plain": [
              "Batch:   0%|          | 0/779 [00:00<?, ?it/s]"
            ]
          },
          "metadata": {},
          "output_type": "display_data"
        },
        {
          "data": {
            "application/vnd.jupyter.widget-view+json": {
              "model_id": "7804c1ec0afd4a1c9093df1f495480eb",
              "version_major": 2,
              "version_minor": 0
            },
            "text/plain": [
              "Batch:   0%|          | 0/779 [00:00<?, ?it/s]"
            ]
          },
          "metadata": {},
          "output_type": "display_data"
        },
        {
          "data": {
            "application/vnd.jupyter.widget-view+json": {
              "model_id": "5b7d9486c22842438c96bba7549015fa",
              "version_major": 2,
              "version_minor": 0
            },
            "text/plain": [
              "Batch:   0%|          | 0/779 [00:00<?, ?it/s]"
            ]
          },
          "metadata": {},
          "output_type": "display_data"
        },
        {
          "data": {
            "application/vnd.jupyter.widget-view+json": {
              "model_id": "9aa50e8ae42147e9bbc292c54cc26444",
              "version_major": 2,
              "version_minor": 0
            },
            "text/plain": [
              "Batch:   0%|          | 0/779 [00:00<?, ?it/s]"
            ]
          },
          "metadata": {},
          "output_type": "display_data"
        },
        {
          "data": {
            "application/vnd.jupyter.widget-view+json": {
              "model_id": "7c4c0ca46f3f4e868e0fb28634921534",
              "version_major": 2,
              "version_minor": 0
            },
            "text/plain": [
              "Batch:   0%|          | 0/779 [00:00<?, ?it/s]"
            ]
          },
          "metadata": {},
          "output_type": "display_data"
        },
        {
          "data": {
            "application/vnd.jupyter.widget-view+json": {
              "model_id": "bae68b74ee7f4567932d96086687c9f4",
              "version_major": 2,
              "version_minor": 0
            },
            "text/plain": [
              "Batch:   0%|          | 0/779 [00:00<?, ?it/s]"
            ]
          },
          "metadata": {},
          "output_type": "display_data"
        },
        {
          "data": {
            "application/vnd.jupyter.widget-view+json": {
              "model_id": "041894b7d4ba45a6a63d74dc8441e602",
              "version_major": 2,
              "version_minor": 0
            },
            "text/plain": [
              "Batch:   0%|          | 0/779 [00:00<?, ?it/s]"
            ]
          },
          "metadata": {},
          "output_type": "display_data"
        },
        {
          "data": {
            "application/vnd.jupyter.widget-view+json": {
              "model_id": "098227456eeb46748a4c22628e03e1ed",
              "version_major": 2,
              "version_minor": 0
            },
            "text/plain": [
              "Batch:   0%|          | 0/779 [00:00<?, ?it/s]"
            ]
          },
          "metadata": {},
          "output_type": "display_data"
        },
        {
          "data": {
            "application/vnd.jupyter.widget-view+json": {
              "model_id": "36a5bfd8654a43cb8aa45a4196d6a74b",
              "version_major": 2,
              "version_minor": 0
            },
            "text/plain": [
              "Batch:   0%|          | 0/779 [00:00<?, ?it/s]"
            ]
          },
          "metadata": {},
          "output_type": "display_data"
        },
        {
          "data": {
            "application/vnd.jupyter.widget-view+json": {
              "model_id": "9bf37af7909c4ff59f99986ae22e2143",
              "version_major": 2,
              "version_minor": 0
            },
            "text/plain": [
              "Batch:   0%|          | 0/779 [00:00<?, ?it/s]"
            ]
          },
          "metadata": {},
          "output_type": "display_data"
        },
        {
          "data": {
            "application/vnd.jupyter.widget-view+json": {
              "model_id": "77974a436b3f4444906c19f1f1b8fa26",
              "version_major": 2,
              "version_minor": 0
            },
            "text/plain": [
              "Batch:   0%|          | 0/779 [00:00<?, ?it/s]"
            ]
          },
          "metadata": {},
          "output_type": "display_data"
        },
        {
          "data": {
            "application/vnd.jupyter.widget-view+json": {
              "model_id": "4cd7aac0e3874e8cada9015da788036e",
              "version_major": 2,
              "version_minor": 0
            },
            "text/plain": [
              "Batch:   0%|          | 0/779 [00:00<?, ?it/s]"
            ]
          },
          "metadata": {},
          "output_type": "display_data"
        },
        {
          "data": {
            "application/vnd.jupyter.widget-view+json": {
              "model_id": "02ab2cf5edda4c918a3e706c0e3d177d",
              "version_major": 2,
              "version_minor": 0
            },
            "text/plain": [
              "Batch:   0%|          | 0/779 [00:00<?, ?it/s]"
            ]
          },
          "metadata": {},
          "output_type": "display_data"
        },
        {
          "data": {
            "application/vnd.jupyter.widget-view+json": {
              "model_id": "18cc3c1d7ba44c25a79e8c8303b14c5b",
              "version_major": 2,
              "version_minor": 0
            },
            "text/plain": [
              "Batch:   0%|          | 0/779 [00:00<?, ?it/s]"
            ]
          },
          "metadata": {},
          "output_type": "display_data"
        },
        {
          "data": {
            "application/vnd.jupyter.widget-view+json": {
              "model_id": "11339a3bc62f4509a4106d85b05d2292",
              "version_major": 2,
              "version_minor": 0
            },
            "text/plain": [
              "Batch:   0%|          | 0/779 [00:00<?, ?it/s]"
            ]
          },
          "metadata": {},
          "output_type": "display_data"
        },
        {
          "data": {
            "application/vnd.jupyter.widget-view+json": {
              "model_id": "0e9789725724469aa18632a3cdd42071",
              "version_major": 2,
              "version_minor": 0
            },
            "text/plain": [
              "Batch:   0%|          | 0/779 [00:00<?, ?it/s]"
            ]
          },
          "metadata": {},
          "output_type": "display_data"
        },
        {
          "data": {
            "application/vnd.jupyter.widget-view+json": {
              "model_id": "563d642a8a124f8abf9e2cdf2257baeb",
              "version_major": 2,
              "version_minor": 0
            },
            "text/plain": [
              "Batch:   0%|          | 0/779 [00:00<?, ?it/s]"
            ]
          },
          "metadata": {},
          "output_type": "display_data"
        },
        {
          "data": {
            "application/vnd.jupyter.widget-view+json": {
              "model_id": "6048201ea28641cd808e0e2fde4417cd",
              "version_major": 2,
              "version_minor": 0
            },
            "text/plain": [
              "Epoch:   0%|          | 0/30 [00:00<?, ?it/s]"
            ]
          },
          "metadata": {},
          "output_type": "display_data"
        },
        {
          "data": {
            "application/vnd.jupyter.widget-view+json": {
              "model_id": "dd8b1d01ad3742368ce39f2e0f466b16",
              "version_major": 2,
              "version_minor": 0
            },
            "text/plain": [
              "Batch:   0%|          | 0/779 [00:00<?, ?it/s]"
            ]
          },
          "metadata": {},
          "output_type": "display_data"
        },
        {
          "data": {
            "application/vnd.jupyter.widget-view+json": {
              "model_id": "4ca0062896094e69b5c0e95fe3c3fa16",
              "version_major": 2,
              "version_minor": 0
            },
            "text/plain": [
              "Batch:   0%|          | 0/779 [00:00<?, ?it/s]"
            ]
          },
          "metadata": {},
          "output_type": "display_data"
        },
        {
          "data": {
            "application/vnd.jupyter.widget-view+json": {
              "model_id": "7f9dac9c293a4ce187da0206a402af81",
              "version_major": 2,
              "version_minor": 0
            },
            "text/plain": [
              "Batch:   0%|          | 0/779 [00:00<?, ?it/s]"
            ]
          },
          "metadata": {},
          "output_type": "display_data"
        },
        {
          "data": {
            "application/vnd.jupyter.widget-view+json": {
              "model_id": "082193d21781485984f71ad73b593db1",
              "version_major": 2,
              "version_minor": 0
            },
            "text/plain": [
              "Batch:   0%|          | 0/779 [00:00<?, ?it/s]"
            ]
          },
          "metadata": {},
          "output_type": "display_data"
        },
        {
          "data": {
            "application/vnd.jupyter.widget-view+json": {
              "model_id": "8aaddbee2e68499f9caf8df3c5f16e49",
              "version_major": 2,
              "version_minor": 0
            },
            "text/plain": [
              "Batch:   0%|          | 0/779 [00:00<?, ?it/s]"
            ]
          },
          "metadata": {},
          "output_type": "display_data"
        },
        {
          "data": {
            "application/vnd.jupyter.widget-view+json": {
              "model_id": "9cb30dfb894a4fd2b28fd4edccb7c45e",
              "version_major": 2,
              "version_minor": 0
            },
            "text/plain": [
              "Batch:   0%|          | 0/779 [00:00<?, ?it/s]"
            ]
          },
          "metadata": {},
          "output_type": "display_data"
        },
        {
          "data": {
            "application/vnd.jupyter.widget-view+json": {
              "model_id": "1eaf85b1a2044950b39597a89d6838a7",
              "version_major": 2,
              "version_minor": 0
            },
            "text/plain": [
              "Batch:   0%|          | 0/779 [00:00<?, ?it/s]"
            ]
          },
          "metadata": {},
          "output_type": "display_data"
        },
        {
          "data": {
            "application/vnd.jupyter.widget-view+json": {
              "model_id": "5930107966cb4a508291ba4e767b9675",
              "version_major": 2,
              "version_minor": 0
            },
            "text/plain": [
              "Batch:   0%|          | 0/779 [00:00<?, ?it/s]"
            ]
          },
          "metadata": {},
          "output_type": "display_data"
        },
        {
          "data": {
            "application/vnd.jupyter.widget-view+json": {
              "model_id": "742134948d374785a224e83dc901567e",
              "version_major": 2,
              "version_minor": 0
            },
            "text/plain": [
              "Batch:   0%|          | 0/779 [00:00<?, ?it/s]"
            ]
          },
          "metadata": {},
          "output_type": "display_data"
        },
        {
          "data": {
            "application/vnd.jupyter.widget-view+json": {
              "model_id": "dbcfb9a1e4e14d4baa66952681374224",
              "version_major": 2,
              "version_minor": 0
            },
            "text/plain": [
              "Batch:   0%|          | 0/779 [00:00<?, ?it/s]"
            ]
          },
          "metadata": {},
          "output_type": "display_data"
        },
        {
          "data": {
            "application/vnd.jupyter.widget-view+json": {
              "model_id": "4b4920ccc5ea493a921aefea9299a799",
              "version_major": 2,
              "version_minor": 0
            },
            "text/plain": [
              "Batch:   0%|          | 0/779 [00:00<?, ?it/s]"
            ]
          },
          "metadata": {},
          "output_type": "display_data"
        },
        {
          "data": {
            "application/vnd.jupyter.widget-view+json": {
              "model_id": "86495fee2b304c97963d35dd0f3780bb",
              "version_major": 2,
              "version_minor": 0
            },
            "text/plain": [
              "Batch:   0%|          | 0/779 [00:00<?, ?it/s]"
            ]
          },
          "metadata": {},
          "output_type": "display_data"
        },
        {
          "data": {
            "application/vnd.jupyter.widget-view+json": {
              "model_id": "82fbe0a9433c4ed6aba2ffbd511e9894",
              "version_major": 2,
              "version_minor": 0
            },
            "text/plain": [
              "Batch:   0%|          | 0/779 [00:00<?, ?it/s]"
            ]
          },
          "metadata": {},
          "output_type": "display_data"
        },
        {
          "data": {
            "application/vnd.jupyter.widget-view+json": {
              "model_id": "8b9bd301bcc148e2a438913a370a5642",
              "version_major": 2,
              "version_minor": 0
            },
            "text/plain": [
              "Batch:   0%|          | 0/779 [00:00<?, ?it/s]"
            ]
          },
          "metadata": {},
          "output_type": "display_data"
        },
        {
          "data": {
            "application/vnd.jupyter.widget-view+json": {
              "model_id": "73088d3b2aaf452bb3a9d4ffd3f16cf1",
              "version_major": 2,
              "version_minor": 0
            },
            "text/plain": [
              "Batch:   0%|          | 0/779 [00:00<?, ?it/s]"
            ]
          },
          "metadata": {},
          "output_type": "display_data"
        },
        {
          "data": {
            "application/vnd.jupyter.widget-view+json": {
              "model_id": "7850fb5265d04da7b69c58d361be9883",
              "version_major": 2,
              "version_minor": 0
            },
            "text/plain": [
              "Batch:   0%|          | 0/779 [00:00<?, ?it/s]"
            ]
          },
          "metadata": {},
          "output_type": "display_data"
        },
        {
          "data": {
            "application/vnd.jupyter.widget-view+json": {
              "model_id": "a5853a82f393448ea9584745ad423e3b",
              "version_major": 2,
              "version_minor": 0
            },
            "text/plain": [
              "Batch:   0%|          | 0/779 [00:00<?, ?it/s]"
            ]
          },
          "metadata": {},
          "output_type": "display_data"
        },
        {
          "data": {
            "application/vnd.jupyter.widget-view+json": {
              "model_id": "af81644a21e5483e877f63dd1729fd59",
              "version_major": 2,
              "version_minor": 0
            },
            "text/plain": [
              "Batch:   0%|          | 0/779 [00:00<?, ?it/s]"
            ]
          },
          "metadata": {},
          "output_type": "display_data"
        },
        {
          "data": {
            "application/vnd.jupyter.widget-view+json": {
              "model_id": "84e97cb26e1a4e7ea2683c3adffaecec",
              "version_major": 2,
              "version_minor": 0
            },
            "text/plain": [
              "Batch:   0%|          | 0/779 [00:00<?, ?it/s]"
            ]
          },
          "metadata": {},
          "output_type": "display_data"
        },
        {
          "data": {
            "application/vnd.jupyter.widget-view+json": {
              "model_id": "4e6eafbae65f4f118ac92b7650f06037",
              "version_major": 2,
              "version_minor": 0
            },
            "text/plain": [
              "Batch:   0%|          | 0/779 [00:00<?, ?it/s]"
            ]
          },
          "metadata": {},
          "output_type": "display_data"
        },
        {
          "data": {
            "application/vnd.jupyter.widget-view+json": {
              "model_id": "37bcf68824a84b829ebe68fa934e16ef",
              "version_major": 2,
              "version_minor": 0
            },
            "text/plain": [
              "Batch:   0%|          | 0/779 [00:00<?, ?it/s]"
            ]
          },
          "metadata": {},
          "output_type": "display_data"
        },
        {
          "data": {
            "application/vnd.jupyter.widget-view+json": {
              "model_id": "8dd680965f4f4c2186ec43d0389ff88f",
              "version_major": 2,
              "version_minor": 0
            },
            "text/plain": [
              "Batch:   0%|          | 0/779 [00:00<?, ?it/s]"
            ]
          },
          "metadata": {},
          "output_type": "display_data"
        },
        {
          "data": {
            "application/vnd.jupyter.widget-view+json": {
              "model_id": "71f034ccebce4ec7b900ee92dcb4fd35",
              "version_major": 2,
              "version_minor": 0
            },
            "text/plain": [
              "Batch:   0%|          | 0/779 [00:00<?, ?it/s]"
            ]
          },
          "metadata": {},
          "output_type": "display_data"
        },
        {
          "data": {
            "application/vnd.jupyter.widget-view+json": {
              "model_id": "2a527944315b4b5094dac015c6631305",
              "version_major": 2,
              "version_minor": 0
            },
            "text/plain": [
              "Batch:   0%|          | 0/779 [00:00<?, ?it/s]"
            ]
          },
          "metadata": {},
          "output_type": "display_data"
        },
        {
          "data": {
            "application/vnd.jupyter.widget-view+json": {
              "model_id": "274acf60390f4bd0b619d0f4a8ec91bd",
              "version_major": 2,
              "version_minor": 0
            },
            "text/plain": [
              "Batch:   0%|          | 0/779 [00:00<?, ?it/s]"
            ]
          },
          "metadata": {},
          "output_type": "display_data"
        },
        {
          "data": {
            "application/vnd.jupyter.widget-view+json": {
              "model_id": "400fc5d4aec7414ea100232ff90e1dad",
              "version_major": 2,
              "version_minor": 0
            },
            "text/plain": [
              "Batch:   0%|          | 0/779 [00:00<?, ?it/s]"
            ]
          },
          "metadata": {},
          "output_type": "display_data"
        },
        {
          "data": {
            "application/vnd.jupyter.widget-view+json": {
              "model_id": "cfe43b93b58d4ab1afd70b97966f48ee",
              "version_major": 2,
              "version_minor": 0
            },
            "text/plain": [
              "Batch:   0%|          | 0/779 [00:00<?, ?it/s]"
            ]
          },
          "metadata": {},
          "output_type": "display_data"
        },
        {
          "data": {
            "application/vnd.jupyter.widget-view+json": {
              "model_id": "3ae1794ef1da46f39a4499661b3c1c80",
              "version_major": 2,
              "version_minor": 0
            },
            "text/plain": [
              "Batch:   0%|          | 0/779 [00:00<?, ?it/s]"
            ]
          },
          "metadata": {},
          "output_type": "display_data"
        },
        {
          "data": {
            "application/vnd.jupyter.widget-view+json": {
              "model_id": "6316d39814164517abbefd07b86a8060",
              "version_major": 2,
              "version_minor": 0
            },
            "text/plain": [
              "Batch:   0%|          | 0/779 [00:00<?, ?it/s]"
            ]
          },
          "metadata": {},
          "output_type": "display_data"
        },
        {
          "data": {
            "application/vnd.jupyter.widget-view+json": {
              "model_id": "420705b16057403b989c8b218e123040",
              "version_major": 2,
              "version_minor": 0
            },
            "text/plain": [
              "Batch:   0%|          | 0/779 [00:00<?, ?it/s]"
            ]
          },
          "metadata": {},
          "output_type": "display_data"
        },
        {
          "data": {
            "application/vnd.jupyter.widget-view+json": {
              "model_id": "34631023fea840e08879a9ed23cd27b8",
              "version_major": 2,
              "version_minor": 0
            },
            "text/plain": [
              "Epoch:   0%|          | 0/30 [00:00<?, ?it/s]"
            ]
          },
          "metadata": {},
          "output_type": "display_data"
        },
        {
          "data": {
            "application/vnd.jupyter.widget-view+json": {
              "model_id": "68b2ebaa53014b4494ef51404f55a5cc",
              "version_major": 2,
              "version_minor": 0
            },
            "text/plain": [
              "Batch:   0%|          | 0/779 [00:00<?, ?it/s]"
            ]
          },
          "metadata": {},
          "output_type": "display_data"
        },
        {
          "data": {
            "application/vnd.jupyter.widget-view+json": {
              "model_id": "9a4331d16693410dab52dd5bdad12795",
              "version_major": 2,
              "version_minor": 0
            },
            "text/plain": [
              "Batch:   0%|          | 0/779 [00:00<?, ?it/s]"
            ]
          },
          "metadata": {},
          "output_type": "display_data"
        },
        {
          "data": {
            "application/vnd.jupyter.widget-view+json": {
              "model_id": "f68cbfd328cb48b9836e96c6f778acd5",
              "version_major": 2,
              "version_minor": 0
            },
            "text/plain": [
              "Batch:   0%|          | 0/779 [00:00<?, ?it/s]"
            ]
          },
          "metadata": {},
          "output_type": "display_data"
        },
        {
          "data": {
            "application/vnd.jupyter.widget-view+json": {
              "model_id": "606f893c08634003aae4d04dc64923a8",
              "version_major": 2,
              "version_minor": 0
            },
            "text/plain": [
              "Batch:   0%|          | 0/779 [00:00<?, ?it/s]"
            ]
          },
          "metadata": {},
          "output_type": "display_data"
        },
        {
          "data": {
            "application/vnd.jupyter.widget-view+json": {
              "model_id": "5d2c9a4b87a14a03adcdc7731d2ce8f3",
              "version_major": 2,
              "version_minor": 0
            },
            "text/plain": [
              "Batch:   0%|          | 0/779 [00:00<?, ?it/s]"
            ]
          },
          "metadata": {},
          "output_type": "display_data"
        },
        {
          "data": {
            "application/vnd.jupyter.widget-view+json": {
              "model_id": "5af554cf770a4ca2a203959d77bbca3e",
              "version_major": 2,
              "version_minor": 0
            },
            "text/plain": [
              "Batch:   0%|          | 0/779 [00:00<?, ?it/s]"
            ]
          },
          "metadata": {},
          "output_type": "display_data"
        },
        {
          "data": {
            "application/vnd.jupyter.widget-view+json": {
              "model_id": "25dbda762ca24ce1b8f5af05d3cbcba7",
              "version_major": 2,
              "version_minor": 0
            },
            "text/plain": [
              "Batch:   0%|          | 0/779 [00:00<?, ?it/s]"
            ]
          },
          "metadata": {},
          "output_type": "display_data"
        },
        {
          "data": {
            "application/vnd.jupyter.widget-view+json": {
              "model_id": "2c97ebce9f89474a83eae234631f8e43",
              "version_major": 2,
              "version_minor": 0
            },
            "text/plain": [
              "Batch:   0%|          | 0/779 [00:00<?, ?it/s]"
            ]
          },
          "metadata": {},
          "output_type": "display_data"
        },
        {
          "data": {
            "application/vnd.jupyter.widget-view+json": {
              "model_id": "966eb7340f464156b4dd5e508c0a65f5",
              "version_major": 2,
              "version_minor": 0
            },
            "text/plain": [
              "Batch:   0%|          | 0/779 [00:00<?, ?it/s]"
            ]
          },
          "metadata": {},
          "output_type": "display_data"
        },
        {
          "data": {
            "application/vnd.jupyter.widget-view+json": {
              "model_id": "b0b1694957d94a44bd35a25c916243c5",
              "version_major": 2,
              "version_minor": 0
            },
            "text/plain": [
              "Batch:   0%|          | 0/779 [00:00<?, ?it/s]"
            ]
          },
          "metadata": {},
          "output_type": "display_data"
        },
        {
          "data": {
            "application/vnd.jupyter.widget-view+json": {
              "model_id": "501074151f6144fbbc35b4f50fc85fcc",
              "version_major": 2,
              "version_minor": 0
            },
            "text/plain": [
              "Batch:   0%|          | 0/779 [00:00<?, ?it/s]"
            ]
          },
          "metadata": {},
          "output_type": "display_data"
        },
        {
          "data": {
            "application/vnd.jupyter.widget-view+json": {
              "model_id": "9f6eac1941fd4854bb132f97cb07a7e5",
              "version_major": 2,
              "version_minor": 0
            },
            "text/plain": [
              "Batch:   0%|          | 0/779 [00:00<?, ?it/s]"
            ]
          },
          "metadata": {},
          "output_type": "display_data"
        },
        {
          "data": {
            "application/vnd.jupyter.widget-view+json": {
              "model_id": "4a99e16e59ed4df69e77ba886292b4c0",
              "version_major": 2,
              "version_minor": 0
            },
            "text/plain": [
              "Batch:   0%|          | 0/779 [00:00<?, ?it/s]"
            ]
          },
          "metadata": {},
          "output_type": "display_data"
        },
        {
          "data": {
            "application/vnd.jupyter.widget-view+json": {
              "model_id": "24ca927d0a504c11a0fb6aac4afbdbfc",
              "version_major": 2,
              "version_minor": 0
            },
            "text/plain": [
              "Batch:   0%|          | 0/779 [00:00<?, ?it/s]"
            ]
          },
          "metadata": {},
          "output_type": "display_data"
        },
        {
          "data": {
            "application/vnd.jupyter.widget-view+json": {
              "model_id": "3cf9b7c4552f4b5c96ede0a61d101329",
              "version_major": 2,
              "version_minor": 0
            },
            "text/plain": [
              "Batch:   0%|          | 0/779 [00:00<?, ?it/s]"
            ]
          },
          "metadata": {},
          "output_type": "display_data"
        },
        {
          "data": {
            "application/vnd.jupyter.widget-view+json": {
              "model_id": "49a94dc946aa4026a243aa398a00a2b7",
              "version_major": 2,
              "version_minor": 0
            },
            "text/plain": [
              "Batch:   0%|          | 0/779 [00:00<?, ?it/s]"
            ]
          },
          "metadata": {},
          "output_type": "display_data"
        },
        {
          "data": {
            "application/vnd.jupyter.widget-view+json": {
              "model_id": "df42ec6dcffd4e5bb10a4bbc8a63b37e",
              "version_major": 2,
              "version_minor": 0
            },
            "text/plain": [
              "Batch:   0%|          | 0/779 [00:00<?, ?it/s]"
            ]
          },
          "metadata": {},
          "output_type": "display_data"
        },
        {
          "data": {
            "application/vnd.jupyter.widget-view+json": {
              "model_id": "67f779d1dbeb4c19b93234c661d9fc81",
              "version_major": 2,
              "version_minor": 0
            },
            "text/plain": [
              "Batch:   0%|          | 0/779 [00:00<?, ?it/s]"
            ]
          },
          "metadata": {},
          "output_type": "display_data"
        },
        {
          "data": {
            "application/vnd.jupyter.widget-view+json": {
              "model_id": "3da464e22ab04d7b94e25cb2082a61b1",
              "version_major": 2,
              "version_minor": 0
            },
            "text/plain": [
              "Batch:   0%|          | 0/779 [00:00<?, ?it/s]"
            ]
          },
          "metadata": {},
          "output_type": "display_data"
        },
        {
          "data": {
            "application/vnd.jupyter.widget-view+json": {
              "model_id": "0223038c63944b419512825e5e82c9ef",
              "version_major": 2,
              "version_minor": 0
            },
            "text/plain": [
              "Batch:   0%|          | 0/779 [00:00<?, ?it/s]"
            ]
          },
          "metadata": {},
          "output_type": "display_data"
        },
        {
          "data": {
            "application/vnd.jupyter.widget-view+json": {
              "model_id": "370b4d4331a24faebdb2a67b0f02cf7a",
              "version_major": 2,
              "version_minor": 0
            },
            "text/plain": [
              "Batch:   0%|          | 0/779 [00:00<?, ?it/s]"
            ]
          },
          "metadata": {},
          "output_type": "display_data"
        },
        {
          "data": {
            "application/vnd.jupyter.widget-view+json": {
              "model_id": "593b45981b0f4ad1bb1b99a529ca7165",
              "version_major": 2,
              "version_minor": 0
            },
            "text/plain": [
              "Batch:   0%|          | 0/779 [00:00<?, ?it/s]"
            ]
          },
          "metadata": {},
          "output_type": "display_data"
        },
        {
          "data": {
            "application/vnd.jupyter.widget-view+json": {
              "model_id": "8b6633e049484d60862a583c16921fef",
              "version_major": 2,
              "version_minor": 0
            },
            "text/plain": [
              "Batch:   0%|          | 0/779 [00:00<?, ?it/s]"
            ]
          },
          "metadata": {},
          "output_type": "display_data"
        },
        {
          "data": {
            "application/vnd.jupyter.widget-view+json": {
              "model_id": "998fc7d4abd549c7b75137122a35286c",
              "version_major": 2,
              "version_minor": 0
            },
            "text/plain": [
              "Batch:   0%|          | 0/779 [00:00<?, ?it/s]"
            ]
          },
          "metadata": {},
          "output_type": "display_data"
        },
        {
          "data": {
            "application/vnd.jupyter.widget-view+json": {
              "model_id": "723eefc8ec1b411cba50c9749f99a1fd",
              "version_major": 2,
              "version_minor": 0
            },
            "text/plain": [
              "Batch:   0%|          | 0/779 [00:00<?, ?it/s]"
            ]
          },
          "metadata": {},
          "output_type": "display_data"
        },
        {
          "data": {
            "application/vnd.jupyter.widget-view+json": {
              "model_id": "69ed50ae3a4342d6a63a363dcac1c244",
              "version_major": 2,
              "version_minor": 0
            },
            "text/plain": [
              "Batch:   0%|          | 0/779 [00:00<?, ?it/s]"
            ]
          },
          "metadata": {},
          "output_type": "display_data"
        },
        {
          "data": {
            "application/vnd.jupyter.widget-view+json": {
              "model_id": "7b21dbcd8f2343db9ce9f042900168f3",
              "version_major": 2,
              "version_minor": 0
            },
            "text/plain": [
              "Batch:   0%|          | 0/779 [00:00<?, ?it/s]"
            ]
          },
          "metadata": {},
          "output_type": "display_data"
        },
        {
          "data": {
            "application/vnd.jupyter.widget-view+json": {
              "model_id": "e170e3239d47463cb9bf1f2489a04e23",
              "version_major": 2,
              "version_minor": 0
            },
            "text/plain": [
              "Batch:   0%|          | 0/779 [00:00<?, ?it/s]"
            ]
          },
          "metadata": {},
          "output_type": "display_data"
        },
        {
          "data": {
            "application/vnd.jupyter.widget-view+json": {
              "model_id": "897029c308294e119a34098792fc59d9",
              "version_major": 2,
              "version_minor": 0
            },
            "text/plain": [
              "Batch:   0%|          | 0/779 [00:00<?, ?it/s]"
            ]
          },
          "metadata": {},
          "output_type": "display_data"
        },
        {
          "data": {
            "application/vnd.jupyter.widget-view+json": {
              "model_id": "3fe14c046e7847408cb7d5efd62e5a67",
              "version_major": 2,
              "version_minor": 0
            },
            "text/plain": [
              "Batch:   0%|          | 0/779 [00:00<?, ?it/s]"
            ]
          },
          "metadata": {},
          "output_type": "display_data"
        },
        {
          "data": {
            "application/vnd.jupyter.widget-view+json": {
              "model_id": "ebef4649aaa54d10a01518e368b81203",
              "version_major": 2,
              "version_minor": 0
            },
            "text/plain": [
              "Epoch:   0%|          | 0/30 [00:00<?, ?it/s]"
            ]
          },
          "metadata": {},
          "output_type": "display_data"
        },
        {
          "data": {
            "application/vnd.jupyter.widget-view+json": {
              "model_id": "5723daeeac94484a93c4f5e0613abd66",
              "version_major": 2,
              "version_minor": 0
            },
            "text/plain": [
              "Batch:   0%|          | 0/779 [00:00<?, ?it/s]"
            ]
          },
          "metadata": {},
          "output_type": "display_data"
        },
        {
          "data": {
            "application/vnd.jupyter.widget-view+json": {
              "model_id": "ace3925cb52547cdad2f3ffebfb7d274",
              "version_major": 2,
              "version_minor": 0
            },
            "text/plain": [
              "Batch:   0%|          | 0/779 [00:00<?, ?it/s]"
            ]
          },
          "metadata": {},
          "output_type": "display_data"
        },
        {
          "data": {
            "application/vnd.jupyter.widget-view+json": {
              "model_id": "4796c1688acd46c78b390a6e0291190b",
              "version_major": 2,
              "version_minor": 0
            },
            "text/plain": [
              "Batch:   0%|          | 0/779 [00:00<?, ?it/s]"
            ]
          },
          "metadata": {},
          "output_type": "display_data"
        },
        {
          "data": {
            "application/vnd.jupyter.widget-view+json": {
              "model_id": "a26d35a2f7044b268a37c8621afcccec",
              "version_major": 2,
              "version_minor": 0
            },
            "text/plain": [
              "Batch:   0%|          | 0/779 [00:00<?, ?it/s]"
            ]
          },
          "metadata": {},
          "output_type": "display_data"
        },
        {
          "data": {
            "application/vnd.jupyter.widget-view+json": {
              "model_id": "08ed9f4007204f9dbd59e51ad0574b63",
              "version_major": 2,
              "version_minor": 0
            },
            "text/plain": [
              "Batch:   0%|          | 0/779 [00:00<?, ?it/s]"
            ]
          },
          "metadata": {},
          "output_type": "display_data"
        },
        {
          "data": {
            "application/vnd.jupyter.widget-view+json": {
              "model_id": "118cb347c5bc47ddbabc91c95ff48d0e",
              "version_major": 2,
              "version_minor": 0
            },
            "text/plain": [
              "Batch:   0%|          | 0/779 [00:00<?, ?it/s]"
            ]
          },
          "metadata": {},
          "output_type": "display_data"
        },
        {
          "data": {
            "application/vnd.jupyter.widget-view+json": {
              "model_id": "36903124da564e13b23a6912acc723fa",
              "version_major": 2,
              "version_minor": 0
            },
            "text/plain": [
              "Batch:   0%|          | 0/779 [00:00<?, ?it/s]"
            ]
          },
          "metadata": {},
          "output_type": "display_data"
        },
        {
          "data": {
            "application/vnd.jupyter.widget-view+json": {
              "model_id": "5861e2216a55471f972fa3824c7b8197",
              "version_major": 2,
              "version_minor": 0
            },
            "text/plain": [
              "Batch:   0%|          | 0/779 [00:00<?, ?it/s]"
            ]
          },
          "metadata": {},
          "output_type": "display_data"
        },
        {
          "data": {
            "application/vnd.jupyter.widget-view+json": {
              "model_id": "5254854b0da9453f87d1342ce49e3316",
              "version_major": 2,
              "version_minor": 0
            },
            "text/plain": [
              "Batch:   0%|          | 0/779 [00:00<?, ?it/s]"
            ]
          },
          "metadata": {},
          "output_type": "display_data"
        },
        {
          "data": {
            "application/vnd.jupyter.widget-view+json": {
              "model_id": "13eeac211b2d49a1ad75b40158f10396",
              "version_major": 2,
              "version_minor": 0
            },
            "text/plain": [
              "Batch:   0%|          | 0/779 [00:00<?, ?it/s]"
            ]
          },
          "metadata": {},
          "output_type": "display_data"
        },
        {
          "data": {
            "application/vnd.jupyter.widget-view+json": {
              "model_id": "d330c7479ab44658b5bfc363633b1357",
              "version_major": 2,
              "version_minor": 0
            },
            "text/plain": [
              "Batch:   0%|          | 0/779 [00:00<?, ?it/s]"
            ]
          },
          "metadata": {},
          "output_type": "display_data"
        },
        {
          "data": {
            "application/vnd.jupyter.widget-view+json": {
              "model_id": "fbe94ba7527c488194cb0d50a79739f3",
              "version_major": 2,
              "version_minor": 0
            },
            "text/plain": [
              "Batch:   0%|          | 0/779 [00:00<?, ?it/s]"
            ]
          },
          "metadata": {},
          "output_type": "display_data"
        },
        {
          "data": {
            "application/vnd.jupyter.widget-view+json": {
              "model_id": "7de7996138aa4227abed4729a23bf79f",
              "version_major": 2,
              "version_minor": 0
            },
            "text/plain": [
              "Batch:   0%|          | 0/779 [00:00<?, ?it/s]"
            ]
          },
          "metadata": {},
          "output_type": "display_data"
        },
        {
          "data": {
            "application/vnd.jupyter.widget-view+json": {
              "model_id": "8118923078294687a207606056bc3977",
              "version_major": 2,
              "version_minor": 0
            },
            "text/plain": [
              "Batch:   0%|          | 0/779 [00:00<?, ?it/s]"
            ]
          },
          "metadata": {},
          "output_type": "display_data"
        },
        {
          "data": {
            "application/vnd.jupyter.widget-view+json": {
              "model_id": "536ef61504b447d28d7d1bd7a153362b",
              "version_major": 2,
              "version_minor": 0
            },
            "text/plain": [
              "Batch:   0%|          | 0/779 [00:00<?, ?it/s]"
            ]
          },
          "metadata": {},
          "output_type": "display_data"
        },
        {
          "data": {
            "application/vnd.jupyter.widget-view+json": {
              "model_id": "5029005634db436aaf8b9a50b9af9423",
              "version_major": 2,
              "version_minor": 0
            },
            "text/plain": [
              "Batch:   0%|          | 0/779 [00:00<?, ?it/s]"
            ]
          },
          "metadata": {},
          "output_type": "display_data"
        },
        {
          "data": {
            "application/vnd.jupyter.widget-view+json": {
              "model_id": "c81f4238924749f6badcf64ce44708ce",
              "version_major": 2,
              "version_minor": 0
            },
            "text/plain": [
              "Batch:   0%|          | 0/779 [00:00<?, ?it/s]"
            ]
          },
          "metadata": {},
          "output_type": "display_data"
        },
        {
          "data": {
            "application/vnd.jupyter.widget-view+json": {
              "model_id": "b09231283bac4c8eb7b9c3429f4e6a52",
              "version_major": 2,
              "version_minor": 0
            },
            "text/plain": [
              "Batch:   0%|          | 0/779 [00:00<?, ?it/s]"
            ]
          },
          "metadata": {},
          "output_type": "display_data"
        },
        {
          "data": {
            "application/vnd.jupyter.widget-view+json": {
              "model_id": "98d43f6402b94079a2b5ea0e30e18f59",
              "version_major": 2,
              "version_minor": 0
            },
            "text/plain": [
              "Batch:   0%|          | 0/779 [00:00<?, ?it/s]"
            ]
          },
          "metadata": {},
          "output_type": "display_data"
        },
        {
          "data": {
            "application/vnd.jupyter.widget-view+json": {
              "model_id": "2d8cb1cf19fd4649b0307490f0b71d3d",
              "version_major": 2,
              "version_minor": 0
            },
            "text/plain": [
              "Batch:   0%|          | 0/779 [00:00<?, ?it/s]"
            ]
          },
          "metadata": {},
          "output_type": "display_data"
        },
        {
          "data": {
            "application/vnd.jupyter.widget-view+json": {
              "model_id": "328a1d699ad6491ead743e53b01b5458",
              "version_major": 2,
              "version_minor": 0
            },
            "text/plain": [
              "Batch:   0%|          | 0/779 [00:00<?, ?it/s]"
            ]
          },
          "metadata": {},
          "output_type": "display_data"
        },
        {
          "data": {
            "application/vnd.jupyter.widget-view+json": {
              "model_id": "6e946cc521f1413dba7d3bcc5dda852d",
              "version_major": 2,
              "version_minor": 0
            },
            "text/plain": [
              "Batch:   0%|          | 0/779 [00:00<?, ?it/s]"
            ]
          },
          "metadata": {},
          "output_type": "display_data"
        },
        {
          "data": {
            "application/vnd.jupyter.widget-view+json": {
              "model_id": "2a9d05a8c0a84b20a4fddd515825e473",
              "version_major": 2,
              "version_minor": 0
            },
            "text/plain": [
              "Batch:   0%|          | 0/779 [00:00<?, ?it/s]"
            ]
          },
          "metadata": {},
          "output_type": "display_data"
        },
        {
          "data": {
            "application/vnd.jupyter.widget-view+json": {
              "model_id": "ea807e42150241b2924452a7da0a2fd0",
              "version_major": 2,
              "version_minor": 0
            },
            "text/plain": [
              "Batch:   0%|          | 0/779 [00:00<?, ?it/s]"
            ]
          },
          "metadata": {},
          "output_type": "display_data"
        },
        {
          "data": {
            "application/vnd.jupyter.widget-view+json": {
              "model_id": "8a744dd6925f4b6aa6adf7934cb61dd1",
              "version_major": 2,
              "version_minor": 0
            },
            "text/plain": [
              "Batch:   0%|          | 0/779 [00:00<?, ?it/s]"
            ]
          },
          "metadata": {},
          "output_type": "display_data"
        },
        {
          "data": {
            "application/vnd.jupyter.widget-view+json": {
              "model_id": "b17d92721e864d55a50d7c25a17fd214",
              "version_major": 2,
              "version_minor": 0
            },
            "text/plain": [
              "Batch:   0%|          | 0/779 [00:00<?, ?it/s]"
            ]
          },
          "metadata": {},
          "output_type": "display_data"
        },
        {
          "data": {
            "application/vnd.jupyter.widget-view+json": {
              "model_id": "ed2e4d1792a945c7aa6a242b71f9d7ad",
              "version_major": 2,
              "version_minor": 0
            },
            "text/plain": [
              "Batch:   0%|          | 0/779 [00:00<?, ?it/s]"
            ]
          },
          "metadata": {},
          "output_type": "display_data"
        },
        {
          "data": {
            "application/vnd.jupyter.widget-view+json": {
              "model_id": "395444bb8e254a048ac2397e2124ceab",
              "version_major": 2,
              "version_minor": 0
            },
            "text/plain": [
              "Batch:   0%|          | 0/779 [00:00<?, ?it/s]"
            ]
          },
          "metadata": {},
          "output_type": "display_data"
        },
        {
          "data": {
            "application/vnd.jupyter.widget-view+json": {
              "model_id": "0621a48fa6ab41748e0821094384a85d",
              "version_major": 2,
              "version_minor": 0
            },
            "text/plain": [
              "Batch:   0%|          | 0/779 [00:00<?, ?it/s]"
            ]
          },
          "metadata": {},
          "output_type": "display_data"
        },
        {
          "data": {
            "application/vnd.jupyter.widget-view+json": {
              "model_id": "64ee547f3f4547efa75d3c92cee981ad",
              "version_major": 2,
              "version_minor": 0
            },
            "text/plain": [
              "Batch:   0%|          | 0/779 [00:00<?, ?it/s]"
            ]
          },
          "metadata": {},
          "output_type": "display_data"
        },
        {
          "data": {
            "application/vnd.jupyter.widget-view+json": {
              "model_id": "1834fb380c894ab88130b3f90de10a88",
              "version_major": 2,
              "version_minor": 0
            },
            "text/plain": [
              "Epoch:   0%|          | 0/30 [00:00<?, ?it/s]"
            ]
          },
          "metadata": {},
          "output_type": "display_data"
        },
        {
          "data": {
            "application/vnd.jupyter.widget-view+json": {
              "model_id": "db716ed68b3a4d668968bca1dab2efd4",
              "version_major": 2,
              "version_minor": 0
            },
            "text/plain": [
              "Batch:   0%|          | 0/779 [00:00<?, ?it/s]"
            ]
          },
          "metadata": {},
          "output_type": "display_data"
        },
        {
          "data": {
            "application/vnd.jupyter.widget-view+json": {
              "model_id": "137e453d9e274780ae5c07ceda32ffa4",
              "version_major": 2,
              "version_minor": 0
            },
            "text/plain": [
              "Batch:   0%|          | 0/779 [00:00<?, ?it/s]"
            ]
          },
          "metadata": {},
          "output_type": "display_data"
        },
        {
          "data": {
            "application/vnd.jupyter.widget-view+json": {
              "model_id": "d24976319bfb4b879311599b439b661f",
              "version_major": 2,
              "version_minor": 0
            },
            "text/plain": [
              "Batch:   0%|          | 0/779 [00:00<?, ?it/s]"
            ]
          },
          "metadata": {},
          "output_type": "display_data"
        },
        {
          "data": {
            "application/vnd.jupyter.widget-view+json": {
              "model_id": "80b6aa2facb3444b8acca1141df503d1",
              "version_major": 2,
              "version_minor": 0
            },
            "text/plain": [
              "Batch:   0%|          | 0/779 [00:00<?, ?it/s]"
            ]
          },
          "metadata": {},
          "output_type": "display_data"
        },
        {
          "data": {
            "application/vnd.jupyter.widget-view+json": {
              "model_id": "2604cd8618e8487b8621710e5a57d718",
              "version_major": 2,
              "version_minor": 0
            },
            "text/plain": [
              "Batch:   0%|          | 0/779 [00:00<?, ?it/s]"
            ]
          },
          "metadata": {},
          "output_type": "display_data"
        },
        {
          "data": {
            "application/vnd.jupyter.widget-view+json": {
              "model_id": "40a1fb1ffded4cca87e2b9152d324684",
              "version_major": 2,
              "version_minor": 0
            },
            "text/plain": [
              "Batch:   0%|          | 0/779 [00:00<?, ?it/s]"
            ]
          },
          "metadata": {},
          "output_type": "display_data"
        },
        {
          "data": {
            "application/vnd.jupyter.widget-view+json": {
              "model_id": "8dc220d27ce34cbd92150494c3266b67",
              "version_major": 2,
              "version_minor": 0
            },
            "text/plain": [
              "Batch:   0%|          | 0/779 [00:00<?, ?it/s]"
            ]
          },
          "metadata": {},
          "output_type": "display_data"
        },
        {
          "data": {
            "application/vnd.jupyter.widget-view+json": {
              "model_id": "d48cc64e912c4e488a60063be3c24985",
              "version_major": 2,
              "version_minor": 0
            },
            "text/plain": [
              "Batch:   0%|          | 0/779 [00:00<?, ?it/s]"
            ]
          },
          "metadata": {},
          "output_type": "display_data"
        },
        {
          "data": {
            "application/vnd.jupyter.widget-view+json": {
              "model_id": "f6accfd56bd54cb8bef8d1d752513ee2",
              "version_major": 2,
              "version_minor": 0
            },
            "text/plain": [
              "Batch:   0%|          | 0/779 [00:00<?, ?it/s]"
            ]
          },
          "metadata": {},
          "output_type": "display_data"
        },
        {
          "data": {
            "application/vnd.jupyter.widget-view+json": {
              "model_id": "2fd346f2fa5f43a2b6d67ffa7ad53273",
              "version_major": 2,
              "version_minor": 0
            },
            "text/plain": [
              "Batch:   0%|          | 0/779 [00:00<?, ?it/s]"
            ]
          },
          "metadata": {},
          "output_type": "display_data"
        },
        {
          "data": {
            "application/vnd.jupyter.widget-view+json": {
              "model_id": "57a7be9aee5c42b6b9aebee89d99187c",
              "version_major": 2,
              "version_minor": 0
            },
            "text/plain": [
              "Batch:   0%|          | 0/779 [00:00<?, ?it/s]"
            ]
          },
          "metadata": {},
          "output_type": "display_data"
        },
        {
          "data": {
            "application/vnd.jupyter.widget-view+json": {
              "model_id": "6be0a009caaf4299b96c9032fa32153d",
              "version_major": 2,
              "version_minor": 0
            },
            "text/plain": [
              "Batch:   0%|          | 0/779 [00:00<?, ?it/s]"
            ]
          },
          "metadata": {},
          "output_type": "display_data"
        },
        {
          "data": {
            "application/vnd.jupyter.widget-view+json": {
              "model_id": "0b275f8e7dfb436f956f5fd686d9cde0",
              "version_major": 2,
              "version_minor": 0
            },
            "text/plain": [
              "Batch:   0%|          | 0/779 [00:00<?, ?it/s]"
            ]
          },
          "metadata": {},
          "output_type": "display_data"
        },
        {
          "data": {
            "application/vnd.jupyter.widget-view+json": {
              "model_id": "35819563d66a46fa963175434402d7fb",
              "version_major": 2,
              "version_minor": 0
            },
            "text/plain": [
              "Batch:   0%|          | 0/779 [00:00<?, ?it/s]"
            ]
          },
          "metadata": {},
          "output_type": "display_data"
        },
        {
          "data": {
            "application/vnd.jupyter.widget-view+json": {
              "model_id": "5e97b0f9672b494e8ee3c545ee877dad",
              "version_major": 2,
              "version_minor": 0
            },
            "text/plain": [
              "Batch:   0%|          | 0/779 [00:00<?, ?it/s]"
            ]
          },
          "metadata": {},
          "output_type": "display_data"
        },
        {
          "data": {
            "application/vnd.jupyter.widget-view+json": {
              "model_id": "0e3c4f21647f43849e2b3ea9e0a5e89b",
              "version_major": 2,
              "version_minor": 0
            },
            "text/plain": [
              "Batch:   0%|          | 0/779 [00:00<?, ?it/s]"
            ]
          },
          "metadata": {},
          "output_type": "display_data"
        },
        {
          "data": {
            "application/vnd.jupyter.widget-view+json": {
              "model_id": "fc2d81df460242f981c6a0039e194ae3",
              "version_major": 2,
              "version_minor": 0
            },
            "text/plain": [
              "Batch:   0%|          | 0/779 [00:00<?, ?it/s]"
            ]
          },
          "metadata": {},
          "output_type": "display_data"
        },
        {
          "data": {
            "application/vnd.jupyter.widget-view+json": {
              "model_id": "23e0e94fd0fe4135a8b7ae69bfde6ec2",
              "version_major": 2,
              "version_minor": 0
            },
            "text/plain": [
              "Batch:   0%|          | 0/779 [00:00<?, ?it/s]"
            ]
          },
          "metadata": {},
          "output_type": "display_data"
        },
        {
          "data": {
            "application/vnd.jupyter.widget-view+json": {
              "model_id": "affe49b757094278ad1ed5127adbd3f3",
              "version_major": 2,
              "version_minor": 0
            },
            "text/plain": [
              "Batch:   0%|          | 0/779 [00:00<?, ?it/s]"
            ]
          },
          "metadata": {},
          "output_type": "display_data"
        },
        {
          "data": {
            "application/vnd.jupyter.widget-view+json": {
              "model_id": "98ff70a14b114d38b16fc6a031ced131",
              "version_major": 2,
              "version_minor": 0
            },
            "text/plain": [
              "Batch:   0%|          | 0/779 [00:00<?, ?it/s]"
            ]
          },
          "metadata": {},
          "output_type": "display_data"
        },
        {
          "data": {
            "application/vnd.jupyter.widget-view+json": {
              "model_id": "9599f8ee8ee148d7b23698188fefa25e",
              "version_major": 2,
              "version_minor": 0
            },
            "text/plain": [
              "Batch:   0%|          | 0/779 [00:00<?, ?it/s]"
            ]
          },
          "metadata": {},
          "output_type": "display_data"
        },
        {
          "data": {
            "application/vnd.jupyter.widget-view+json": {
              "model_id": "654587e1e4d5444f8f028186dd82ebb3",
              "version_major": 2,
              "version_minor": 0
            },
            "text/plain": [
              "Batch:   0%|          | 0/779 [00:00<?, ?it/s]"
            ]
          },
          "metadata": {},
          "output_type": "display_data"
        },
        {
          "data": {
            "application/vnd.jupyter.widget-view+json": {
              "model_id": "4e35eaa8291c4aa4864341500a06d847",
              "version_major": 2,
              "version_minor": 0
            },
            "text/plain": [
              "Batch:   0%|          | 0/779 [00:00<?, ?it/s]"
            ]
          },
          "metadata": {},
          "output_type": "display_data"
        },
        {
          "data": {
            "application/vnd.jupyter.widget-view+json": {
              "model_id": "e5a09a2de16d4fd38e1354382443c32b",
              "version_major": 2,
              "version_minor": 0
            },
            "text/plain": [
              "Batch:   0%|          | 0/779 [00:00<?, ?it/s]"
            ]
          },
          "metadata": {},
          "output_type": "display_data"
        },
        {
          "data": {
            "application/vnd.jupyter.widget-view+json": {
              "model_id": "a929623453594944991cb42b4061487d",
              "version_major": 2,
              "version_minor": 0
            },
            "text/plain": [
              "Batch:   0%|          | 0/779 [00:00<?, ?it/s]"
            ]
          },
          "metadata": {},
          "output_type": "display_data"
        },
        {
          "data": {
            "application/vnd.jupyter.widget-view+json": {
              "model_id": "acc647fc06ee4e6aa7f6dde045aa5d77",
              "version_major": 2,
              "version_minor": 0
            },
            "text/plain": [
              "Batch:   0%|          | 0/779 [00:00<?, ?it/s]"
            ]
          },
          "metadata": {},
          "output_type": "display_data"
        },
        {
          "data": {
            "application/vnd.jupyter.widget-view+json": {
              "model_id": "66fcf5936c0e4833be574498faa9a845",
              "version_major": 2,
              "version_minor": 0
            },
            "text/plain": [
              "Batch:   0%|          | 0/779 [00:00<?, ?it/s]"
            ]
          },
          "metadata": {},
          "output_type": "display_data"
        },
        {
          "data": {
            "application/vnd.jupyter.widget-view+json": {
              "model_id": "0879d31f03844c1fbf66b1095306fb6e",
              "version_major": 2,
              "version_minor": 0
            },
            "text/plain": [
              "Batch:   0%|          | 0/779 [00:00<?, ?it/s]"
            ]
          },
          "metadata": {},
          "output_type": "display_data"
        },
        {
          "data": {
            "application/vnd.jupyter.widget-view+json": {
              "model_id": "befb92e669814e759bd29e94abb2b052",
              "version_major": 2,
              "version_minor": 0
            },
            "text/plain": [
              "Batch:   0%|          | 0/779 [00:00<?, ?it/s]"
            ]
          },
          "metadata": {},
          "output_type": "display_data"
        },
        {
          "data": {
            "application/vnd.jupyter.widget-view+json": {
              "model_id": "57637619de204c27a96039266f3aa311",
              "version_major": 2,
              "version_minor": 0
            },
            "text/plain": [
              "Batch:   0%|          | 0/779 [00:00<?, ?it/s]"
            ]
          },
          "metadata": {},
          "output_type": "display_data"
        }
      ],
      "source": [
        "for i, weight in enumerate(tqdm(evenly_dist(num_weights, 3), desc='Weight', leave=False)):\n",
        "    init_ckpt = torch.load(sgd_path / 'init.pth', map_location='cpu')  # load init snapshot\n",
        "    network.load_state_dict(init_ckpt['state_dict'])\n",
        "    optimizer.load_state_dict(init_ckpt['optimizer'])\n",
        "    lr_scheduler.load_state_dict(init_ckpt['lr_scheduler'])\n",
        "    with trange(num_epochs, desc='Epoch') as epoch_iter:\n",
        "        for epoch in epoch_iter:\n",
        "            network.train(True)\n",
        "            for images, targets in tqdm(trainloader, desc='Batch', leave=False):\n",
        "                images = images.to(device)\n",
        "                targets = targets.to(device)\n",
        "                logits = network(images)\n",
        "                losses = [c(network, logits, targets) for c in closures]\n",
        "                loss = sum(w * l for w, l in zip(weight, losses))\n",
        "                optimizer.zero_grad()\n",
        "                loss.backward()\n",
        "                optimizer.step()\n",
        "                lr_scheduler.step()\n",
        "            eval_losses, eval_top1s = evaluate(network, testloader, closures, top1_closures)\n",
        "            epoch_iter.set_postfix(**{'acc-{:d}'.format(i + 1): top for i, top in enumerate(eval_top1s)})\n",
        "    ckpt = {\n",
        "        'state_dict': network.state_dict(),\n",
        "        'optimizer': optimizer.state_dict(),\n",
        "        'lr_scheduler': lr_scheduler.state_dict(),\n",
        "        'metrics': [eval_losses, eval_top1s]\n",
        "    }\n",
        "    torch.save(ckpt, sgd_path / '{:d}.pth'.format(i))"
      ]
    },
    {
      "cell_type": "markdown",
      "metadata": {
        "id": "x2JMTL4ZU663"
      },
      "source": [
        "## SGD results illustration"
      ]
    },
    {
      "cell_type": "code",
      "execution_count": null,
      "metadata": {
        "id": "M94DIzshU664"
      },
      "outputs": [
        {
          "data": {
            "image/png": "[encoded data removed]",
            "text/plain": [
              "<Figure size 360x360 with 1 Axes>"
            ]
          },
          "metadata": {
            "needs_background": "light"
          },
          "output_type": "display_data"
        }
      ],
      "source": [
        "fig, ax = plt.subplots(1, 1, figsize=(5, 5), subplot_kw=dict(projection='3d', proj_type='ortho'))\n",
        "total_top1s = []\n",
        "for i, weight in enumerate(evenly_dist(num_weights, 3)):\n",
        "    ckpt = torch.load(sgd_path / '{:d}.pth'.format(i), map_location='cpu')\n",
        "    losses, top1s = ckpt['metrics']\n",
        "    total_top1s.append(top1s)\n",
        "total_err1s = 100.0 * (1.0 - np.stack(total_top1s, axis=0).T)\n",
        "ax.scatter(*total_err1s, color='tab:red', marker='*', s=200, label='SGD')\n",
        "ax.set_xlabel('Task 1 Top-1 Error')\n",
        "ax.set_ylabel('Task 2 Top-1 Error')\n",
        "ax.set_zlabel('Task 3 Top-1 Error')\n",
        "ax.legend()\n",
        "ax.view_init(30, 45)\n",
        "fig.tight_layout()\n",
        "plt.show()"
      ]
    },
    {
      "cell_type": "markdown",
      "metadata": {
        "id": "7_vM423uU665"
      },
      "source": [
        "## MINRES-based Pareto exploration"
      ]
    },
    {
      "cell_type": "markdown",
      "metadata": {
        "id": "83YBZu9RXaDu"
      },
      "source": [
        "## MINRES preparation\n",
        "\n",
        "- hyper-parameters\n",
        "- dataloader\n",
        "- optimizer\n",
        "- Jacobian solver\n",
        "- linear operator\n",
        "- utilities"
      ]
    },
    {
      "cell_type": "markdown",
      "metadata": {
        "id": "LQ9-Je0HU666"
      },
      "source": [
        "### Hyper-Parameters declaration\n",
        "- num of steps\n",
        "- damping for linear solver\n",
        "- maxiter for MINRES\n",
        "- momentum for Jacobians and alpha"
      ]
    },
    {
      "cell_type": "code",
      "execution_count": null,
      "metadata": {
        "id": "XbL9Ay1jU666"
      },
      "outputs": [],
      "source": [
        "num_steps = 20\n",
        "damping = 0.1\n",
        "maxiter = 100\n",
        "momentum = 0.9"
      ]
    },
    {
      "cell_type": "markdown",
      "metadata": {
        "id": "0XCW_NzvU668"
      },
      "source": [
        "### Dataloader definition\n",
        "\n",
        "We explore based on 2048 data samples."
      ]
    },
    {
      "cell_type": "code",
      "execution_count": null,
      "metadata": {
        "id": "UZ6qJ0PWU668"
      },
      "outputs": [],
      "source": [
        "mr_dataloader = torch.utils.data.DataLoader(trainset, batch_size=2048, shuffle=True, drop_last=True, num_workers=0)"
      ]
    },
    {
      "cell_type": "markdown",
      "metadata": {
        "id": "Qwou4anHU669"
      },
      "source": [
        "### Optimizer definition\n",
        "We use SGD with learning rate of 0.01 (**without** momentum for fair)"
      ]
    },
    {
      "cell_type": "code",
      "execution_count": null,
      "metadata": {
        "id": "gFGLUtvnU66-"
      },
      "outputs": [
        {
          "name": "stdout",
          "output_type": "stream",
          "text": [
            "SGD (\n",
            "Parameter Group 0\n",
            "    dampening: 0\n",
            "    lr: 0.01\n",
            "    momentum: 0\n",
            "    nesterov: False\n",
            "    weight_decay: 0\n",
            ")\n"
          ]
        }
      ],
      "source": [
        "mr_optimizer = SGD(network.parameters(), lr=0.01)\n",
        "\n",
        "print(mr_optimizer)"
      ]
    },
    {
      "cell_type": "markdown",
      "metadata": {
        "id": "AeUOaLU-U66_"
      },
      "source": [
        "### Jacobians solver definition\n",
        "We iterate over trainset to solve jacobian with respect to each task."
      ]
    },
    {
      "cell_type": "code",
      "execution_count": null,
      "metadata": {
        "id": "CGhhFoaBU67A"
      },
      "outputs": [],
      "source": [
        "jacobian_trainiter = iter(trainloader)\n",
        "def compute_jacobians(ratio=1.0):\n",
        "    global jacobian_trainiter\n",
        "    num_batches = int(len(trainloader) * ratio)\n",
        "    jacobians = None\n",
        "    for _ in range(num_batches):\n",
        "        try:\n",
        "            images, targets = next(jacobian_trainiter)\n",
        "        except StopIteration:\n",
        "            jacobian_trainiter = iter(trainloader)\n",
        "            images, targets = next(jacobian_trainiter)\n",
        "        images = images.to(device)\n",
        "        targets = targets.to(device)\n",
        "        logits = network(images)\n",
        "        losses = [c(network, logits, targets) for c in closures]\n",
        "        param_grads = [list(torch.autograd.grad(\n",
        "            l, network.parameters(), allow_unused=True,\n",
        "            retain_graph=True, create_graph=False)) for l in losses]\n",
        "        for param_grad in param_grads:\n",
        "            for i, (param_grad_module, param) in enumerate(zip(param_grad, network.parameters())):\n",
        "                if param_grad_module is None:\n",
        "                    param_grad[i] = torch.zeros_like(param)\n",
        "        sub_jacobians = torch.stack([parameters_to_vector(param_grad) for param_grad in param_grads], dim=0)\n",
        "        sub_jacobians.detach_()\n",
        "        if jacobians is None:\n",
        "            jacobians = sub_jacobians\n",
        "        else:\n",
        "            jacobians.add_(sub_jacobians)\n",
        "    jacobians.div_(num_batches)\n",
        "    return jacobians.clone().detach()"
      ]
    },
    {
      "cell_type": "markdown",
      "metadata": {
        "id": "AQKPSwKyU67C"
      },
      "source": [
        "### Alpha solver definition\n",
        "We solve alpha by its analytical solution."
      ]
    },
    {
      "cell_type": "code",
      "execution_count": null,
      "metadata": {
        "id": "e5DLdIVwU67C"
      },
      "outputs": [],
      "source": [
        "def compute_alpha(jacobians):\n",
        "    sol, min_norm = find_min_norm_element(jacobians)\n",
        "    return sol"
      ]
    },
    {
      "cell_type": "markdown",
      "metadata": {
        "id": "qIYQroCrU67E"
      },
      "source": [
        "### Linear operator for Hessian-vector product definition\n",
        "We warp Hessian-vector product into a linear operator to prevent explicit computation of Hessian."
      ]
    },
    {
      "cell_type": "code",
      "execution_count": null,
      "metadata": {
        "id": "TKuaXs8bU67E"
      },
      "outputs": [],
      "source": [
        "class HVPLinearOperator(LinearOperator):\n",
        "    def __init__(self, dataloader):\n",
        "        network_size = sum(p.numel() for p in network.parameters())\n",
        "        shape = (network_size, network_size)\n",
        "        dtype = list(network.parameters())[0].detach().cpu().numpy().dtype\n",
        "\n",
        "        super(HVPLinearOperator, self).__init__(dtype, shape)\n",
        "\n",
        "        self.dataloader = dataloader\n",
        "        self.dataiter = iter(dataloader)\n",
        "\n",
        "        self.alpha_jacobians = None\n",
        "\n",
        "    def _get_jacobians(self):\n",
        "        try:\n",
        "            images, targets = next(self.dataiter)\n",
        "        except StopIteration:\n",
        "            self.dataiter = iter(self.dataloader)\n",
        "            images, targets = next(self.dataiter)\n",
        "        images = images.to(device)\n",
        "        targets = targets.to(device)\n",
        "        logits = network(images)\n",
        "        losses = [c(network, logits, targets) for c in closures]\n",
        "        \n",
        "        # Get jacobian with respect to each loss.\n",
        "        # `allow_unused=True` to get gradient from the unused tail.\n",
        "        #     It returns `None`, which will be filtered later.\n",
        "        # `retain_graph=True` to retain forward information for\n",
        "        #     second-time backward.\n",
        "        # `create_graph=True` to create computation graph for\n",
        "        #     second-order derivation.\n",
        "        param_grads = [list(torch.autograd.grad(\n",
        "            l, network.parameters(), allow_unused=True,\n",
        "            retain_graph=True, create_graph=True)) for l in losses]\n",
        "\n",
        "        # As metioned above, `allow_unused=True` leads to `None`s in\n",
        "        #     jacobian tuple. Now we replace it with a zero tensor.\n",
        "        for param_grad in param_grads:\n",
        "            for i, (param_grad_module, param) in enumerate(zip(param_grad, network.parameters())):\n",
        "                if param_grad_module is None:\n",
        "                    param_grad[i] = torch.zeros_like(param)\n",
        "                    \n",
        "        return torch.stack([parameters_to_vector(param_grad) for param_grad in param_grads], dim=0)\n",
        "\n",
        "    @contextmanager\n",
        "    def init(self, alpha):\n",
        "        try:\n",
        "            alpha = torch.as_tensor(alpha.astype(self.dtype), device=device).view(1, -1)\n",
        "            jacobians = self._get_jacobians()\n",
        "            self.alpha_jacobians = alpha.matmul(jacobians).squeeze()\n",
        "            yield self\n",
        "        finally:\n",
        "            self.alpha_jacobians = None\n",
        "\n",
        "    def _matvec_tensor(self, tensor):\n",
        "\n",
        "        # hvp = Hv\n",
        "        #     = dot(∂^2(f) / (∂x)^2, v)\n",
        "        #     = ∂/∂x(dot(v, ∂f/∂x))\n",
        "\n",
        "        # dot = dot(v, ∂f/∂x)\n",
        "        dot = self.alpha_jacobians.dot(tensor)\n",
        "        \n",
        "        # hvp = ∂/∂x(dot)\n",
        "        param_alphas_hvps = torch.autograd.grad(dot, network.parameters(), retain_graph=True)\n",
        "        alphas_hvps = parameters_to_vector([p.contiguous() for p in param_alphas_hvps])\n",
        "\n",
        "        if damping > 0.0:\n",
        "            alphas_hvps.add_(tensor, alpha=damping)\n",
        "        return alphas_hvps\n",
        "\n",
        "    def _matvec(self, x):\n",
        "        \"\"\"HVP matrix-vector multiplication handler.\n",
        "\n",
        "        If self is a linear operator of shape (N, N), then this method will\n",
        "        be called on a shape (N,) or (N, 1) ndarray, and should return a\n",
        "        shape (N,) or (N, 1) ndarray.\n",
        "\n",
        "        In our case, it computes alpha_hession @ x.\n",
        "        \"\"\"\n",
        "        tensor = torch.as_tensor(x.astype(self.dtype), device=device)\n",
        "        ret = self._matvec_tensor(tensor)\n",
        "        return ret.detach().cpu().numpy()"
      ]
    },
    {
      "cell_type": "markdown",
      "metadata": {
        "id": "iaXPczBeU67G"
      },
      "source": [
        "### Utility functions\n",
        "- assign parameter.grad from vector"
      ]
    },
    {
      "cell_type": "code",
      "execution_count": null,
      "metadata": {
        "id": "ohwL-lI-U67G"
      },
      "outputs": [],
      "source": [
        "def assign_grad(vector, normalize=True):\n",
        "    if normalize:\n",
        "        vector.div_(vector.norm())\n",
        "    offset = 0\n",
        "    for p in network.parameters():\n",
        "        numel = p.numel()\n",
        "        # view as to avoid deprecated pointwise semantics\n",
        "        p.grad = vector[offset:offset + numel].view_as(p.data).clone()\n",
        "        offset += numel"
      ]
    },
    {
      "cell_type": "markdown",
      "metadata": {
        "id": "XbT8HrVFU67I"
      },
      "source": [
        "## Let's explore it!\n",
        "\n",
        "Executing this section takes around 30 to 45 minutes depending on your GPU types. However, for the results reported in the paper and supplemental material, our training process is typically a lot faster than here because of the following reasons:\n",
        "\n",
        "- For reproducibility, we disable randomness in this script as much as we can. Therefore, parallalism on GPUs is not fully exploited;\n",
        "- We frequently evaluate and save the model inside the innermost loop, which creates a lot of overhead;\n",
        "- Since the MINRES implementation is from scipy and is on CPUs, calling `HVPLinearOperator` creates a lot of CPU-GPU communication. Ideally, a GPU implementation of MINRES could completely remove this communication and expedite the training process."
      ]
    },
    {
      "cell_type": "code",
      "execution_count": null,
      "metadata": {
        "id": "bjRysgSjU67I"
      },
      "outputs": [],
      "source": [
        "linear_op_template = HVPLinearOperator(mr_dataloader)"
      ]
    },
    {
      "cell_type": "code",
      "execution_count": null,
      "metadata": {
        "id": "t2mRpEL4U67M"
      },
      "outputs": [
        {
          "data": {
            "application/vnd.jupyter.widget-view+json": {
              "model_id": "cec77f6eea4143cb87e21b175d6ffbda",
              "version_major": 2,
              "version_minor": 0
            },
            "text/plain": [
              "Weight:   0%|          | 0/10 [00:00<?, ?it/s]"
            ]
          },
          "metadata": {},
          "output_type": "display_data"
        },
        {
          "data": {
            "application/vnd.jupyter.widget-view+json": {
              "model_id": "d10d69e74332469c92e80eae0370f319",
              "version_major": 2,
              "version_minor": 0
            },
            "text/plain": [
              "Direction:   0%|          | 0/6 [00:00<?, ?it/s]"
            ]
          },
          "metadata": {},
          "output_type": "display_data"
        },
        {
          "data": {
            "application/vnd.jupyter.widget-view+json": {
              "model_id": "e1d9bc7582704803ad06504b1d501105",
              "version_major": 2,
              "version_minor": 0
            },
            "text/plain": [
              "Step:   0%|          | 0/20 [00:00<?, ?it/s]"
            ]
          },
          "metadata": {},
          "output_type": "display_data"
        },
        {
          "data": {
            "application/vnd.jupyter.widget-view+json": {
              "model_id": "14b426fee0f541aabb052ef9efe95986",
              "version_major": 2,
              "version_minor": 0
            },
            "text/plain": [
              "Step:   0%|          | 0/20 [00:00<?, ?it/s]"
            ]
          },
          "metadata": {},
          "output_type": "display_data"
        },
        {
          "data": {
            "application/vnd.jupyter.widget-view+json": {
              "model_id": "f07d2e40374c4327ae68f9ffb93a35d8",
              "version_major": 2,
              "version_minor": 0
            },
            "text/plain": [
              "Step:   0%|          | 0/20 [00:00<?, ?it/s]"
            ]
          },
          "metadata": {},
          "output_type": "display_data"
        },
        {
          "data": {
            "application/vnd.jupyter.widget-view+json": {
              "model_id": "c7b07fa08e38440d937298ff63f70048",
              "version_major": 2,
              "version_minor": 0
            },
            "text/plain": [
              "Step:   0%|          | 0/20 [00:00<?, ?it/s]"
            ]
          },
          "metadata": {},
          "output_type": "display_data"
        },
        {
          "data": {
            "application/vnd.jupyter.widget-view+json": {
              "model_id": "f9304006cd434237b100588bfde74d74",
              "version_major": 2,
              "version_minor": 0
            },
            "text/plain": [
              "Step:   0%|          | 0/20 [00:00<?, ?it/s]"
            ]
          },
          "metadata": {},
          "output_type": "display_data"
        },
        {
          "data": {
            "application/vnd.jupyter.widget-view+json": {
              "model_id": "8efed44bc8d34d489158cb4d1bf3dd13",
              "version_major": 2,
              "version_minor": 0
            },
            "text/plain": [
              "Step:   0%|          | 0/20 [00:00<?, ?it/s]"
            ]
          },
          "metadata": {},
          "output_type": "display_data"
        },
        {
          "data": {
            "application/vnd.jupyter.widget-view+json": {
              "model_id": "4e97fc228fe34eed8edf441f28a59bbf",
              "version_major": 2,
              "version_minor": 0
            },
            "text/plain": [
              "Direction:   0%|          | 0/6 [00:00<?, ?it/s]"
            ]
          },
          "metadata": {},
          "output_type": "display_data"
        },
        {
          "data": {
            "application/vnd.jupyter.widget-view+json": {
              "model_id": "a76525990d0742e892a1f2205bdc9559",
              "version_major": 2,
              "version_minor": 0
            },
            "text/plain": [
              "Step:   0%|          | 0/20 [00:00<?, ?it/s]"
            ]
          },
          "metadata": {},
          "output_type": "display_data"
        },
        {
          "data": {
            "application/vnd.jupyter.widget-view+json": {
              "model_id": "9728b061614644db84ebe440ac802a00",
              "version_major": 2,
              "version_minor": 0
            },
            "text/plain": [
              "Step:   0%|          | 0/20 [00:00<?, ?it/s]"
            ]
          },
          "metadata": {},
          "output_type": "display_data"
        },
        {
          "data": {
            "application/vnd.jupyter.widget-view+json": {
              "model_id": "adc848fa23f448429e48297c23d4ca29",
              "version_major": 2,
              "version_minor": 0
            },
            "text/plain": [
              "Step:   0%|          | 0/20 [00:00<?, ?it/s]"
            ]
          },
          "metadata": {},
          "output_type": "display_data"
        },
        {
          "data": {
            "application/vnd.jupyter.widget-view+json": {
              "model_id": "fe9fdaed3c114fb494148b5323892530",
              "version_major": 2,
              "version_minor": 0
            },
            "text/plain": [
              "Step:   0%|          | 0/20 [00:00<?, ?it/s]"
            ]
          },
          "metadata": {},
          "output_type": "display_data"
        },
        {
          "data": {
            "application/vnd.jupyter.widget-view+json": {
              "model_id": "9588731592ff4732939877a609c4bf0b",
              "version_major": 2,
              "version_minor": 0
            },
            "text/plain": [
              "Step:   0%|          | 0/20 [00:00<?, ?it/s]"
            ]
          },
          "metadata": {},
          "output_type": "display_data"
        },
        {
          "data": {
            "application/vnd.jupyter.widget-view+json": {
              "model_id": "42216e9a8af244fa9dcee50854bf5aa5",
              "version_major": 2,
              "version_minor": 0
            },
            "text/plain": [
              "Step:   0%|          | 0/20 [00:00<?, ?it/s]"
            ]
          },
          "metadata": {},
          "output_type": "display_data"
        },
        {
          "data": {
            "application/vnd.jupyter.widget-view+json": {
              "model_id": "9efe883c74564eb4865e6b65f132566b",
              "version_major": 2,
              "version_minor": 0
            },
            "text/plain": [
              "Direction:   0%|          | 0/6 [00:00<?, ?it/s]"
            ]
          },
          "metadata": {},
          "output_type": "display_data"
        },
        {
          "data": {
            "application/vnd.jupyter.widget-view+json": {
              "model_id": "04cf993319dc495fa07c77407153b9f7",
              "version_major": 2,
              "version_minor": 0
            },
            "text/plain": [
              "Step:   0%|          | 0/20 [00:00<?, ?it/s]"
            ]
          },
          "metadata": {},
          "output_type": "display_data"
        },
        {
          "data": {
            "application/vnd.jupyter.widget-view+json": {
              "model_id": "bccddb55a64b4c348e177ad6bc81d1e8",
              "version_major": 2,
              "version_minor": 0
            },
            "text/plain": [
              "Step:   0%|          | 0/20 [00:00<?, ?it/s]"
            ]
          },
          "metadata": {},
          "output_type": "display_data"
        },
        {
          "data": {
            "application/vnd.jupyter.widget-view+json": {
              "model_id": "2f20bf0f94d944aeb3372fca75823e66",
              "version_major": 2,
              "version_minor": 0
            },
            "text/plain": [
              "Step:   0%|          | 0/20 [00:00<?, ?it/s]"
            ]
          },
          "metadata": {},
          "output_type": "display_data"
        },
        {
          "data": {
            "application/vnd.jupyter.widget-view+json": {
              "model_id": "c5834939cce442d6a261281ee5486eb8",
              "version_major": 2,
              "version_minor": 0
            },
            "text/plain": [
              "Step:   0%|          | 0/20 [00:00<?, ?it/s]"
            ]
          },
          "metadata": {},
          "output_type": "display_data"
        },
        {
          "data": {
            "application/vnd.jupyter.widget-view+json": {
              "model_id": "e17504a6b1a14aa09ad39739a3378a7a",
              "version_major": 2,
              "version_minor": 0
            },
            "text/plain": [
              "Step:   0%|          | 0/20 [00:00<?, ?it/s]"
            ]
          },
          "metadata": {},
          "output_type": "display_data"
        },
        {
          "data": {
            "application/vnd.jupyter.widget-view+json": {
              "model_id": "e481bfd03a99486681ec1a1e4fc0df69",
              "version_major": 2,
              "version_minor": 0
            },
            "text/plain": [
              "Step:   0%|          | 0/20 [00:00<?, ?it/s]"
            ]
          },
          "metadata": {},
          "output_type": "display_data"
        },
        {
          "data": {
            "application/vnd.jupyter.widget-view+json": {
              "model_id": "66194aba21a9494e9ea238fd6e80d7b1",
              "version_major": 2,
              "version_minor": 0
            },
            "text/plain": [
              "Direction:   0%|          | 0/6 [00:00<?, ?it/s]"
            ]
          },
          "metadata": {},
          "output_type": "display_data"
        },
        {
          "data": {
            "application/vnd.jupyter.widget-view+json": {
              "model_id": "6f3c40cfd8c74d21b716a626ef064a32",
              "version_major": 2,
              "version_minor": 0
            },
            "text/plain": [
              "Step:   0%|          | 0/20 [00:00<?, ?it/s]"
            ]
          },
          "metadata": {},
          "output_type": "display_data"
        },
        {
          "data": {
            "application/vnd.jupyter.widget-view+json": {
              "model_id": "c939fe7a91f145daa7919bdc3ae3c1ea",
              "version_major": 2,
              "version_minor": 0
            },
            "text/plain": [
              "Step:   0%|          | 0/20 [00:00<?, ?it/s]"
            ]
          },
          "metadata": {},
          "output_type": "display_data"
        },
        {
          "data": {
            "application/vnd.jupyter.widget-view+json": {
              "model_id": "2bec89e2e9c04ea6b86acdd52cfbb415",
              "version_major": 2,
              "version_minor": 0
            },
            "text/plain": [
              "Step:   0%|          | 0/20 [00:00<?, ?it/s]"
            ]
          },
          "metadata": {},
          "output_type": "display_data"
        },
        {
          "data": {
            "application/vnd.jupyter.widget-view+json": {
              "model_id": "68aa826eee2841d1be7d2f3e142ce05a",
              "version_major": 2,
              "version_minor": 0
            },
            "text/plain": [
              "Step:   0%|          | 0/20 [00:00<?, ?it/s]"
            ]
          },
          "metadata": {},
          "output_type": "display_data"
        },
        {
          "data": {
            "application/vnd.jupyter.widget-view+json": {
              "model_id": "838b5837d84147c4a0eb39d560acb65c",
              "version_major": 2,
              "version_minor": 0
            },
            "text/plain": [
              "Step:   0%|          | 0/20 [00:00<?, ?it/s]"
            ]
          },
          "metadata": {},
          "output_type": "display_data"
        },
        {
          "data": {
            "application/vnd.jupyter.widget-view+json": {
              "model_id": "a6f799d51750401c99593df88a04f63a",
              "version_major": 2,
              "version_minor": 0
            },
            "text/plain": [
              "Step:   0%|          | 0/20 [00:00<?, ?it/s]"
            ]
          },
          "metadata": {},
          "output_type": "display_data"
        },
        {
          "data": {
            "application/vnd.jupyter.widget-view+json": {
              "model_id": "4d0934e650d64acda673099e06643d9c",
              "version_major": 2,
              "version_minor": 0
            },
            "text/plain": [
              "Direction:   0%|          | 0/6 [00:00<?, ?it/s]"
            ]
          },
          "metadata": {},
          "output_type": "display_data"
        },
        {
          "data": {
            "application/vnd.jupyter.widget-view+json": {
              "model_id": "ac773231ec4f47d5a917cd34bcc80961",
              "version_major": 2,
              "version_minor": 0
            },
            "text/plain": [
              "Step:   0%|          | 0/20 [00:00<?, ?it/s]"
            ]
          },
          "metadata": {},
          "output_type": "display_data"
        },
        {
          "data": {
            "application/vnd.jupyter.widget-view+json": {
              "model_id": "8182de330d4b4753997d74fa08330c99",
              "version_major": 2,
              "version_minor": 0
            },
            "text/plain": [
              "Step:   0%|          | 0/20 [00:00<?, ?it/s]"
            ]
          },
          "metadata": {},
          "output_type": "display_data"
        },
        {
          "data": {
            "application/vnd.jupyter.widget-view+json": {
              "model_id": "09e0993212584334b177024040b42964",
              "version_major": 2,
              "version_minor": 0
            },
            "text/plain": [
              "Step:   0%|          | 0/20 [00:00<?, ?it/s]"
            ]
          },
          "metadata": {},
          "output_type": "display_data"
        },
        {
          "data": {
            "application/vnd.jupyter.widget-view+json": {
              "model_id": "67fe516fb3554ba988afe638a10e188c",
              "version_major": 2,
              "version_minor": 0
            },
            "text/plain": [
              "Step:   0%|          | 0/20 [00:00<?, ?it/s]"
            ]
          },
          "metadata": {},
          "output_type": "display_data"
        },
        {
          "data": {
            "application/vnd.jupyter.widget-view+json": {
              "model_id": "2df92561fa1f4dfe96526ae48c929af7",
              "version_major": 2,
              "version_minor": 0
            },
            "text/plain": [
              "Step:   0%|          | 0/20 [00:00<?, ?it/s]"
            ]
          },
          "metadata": {},
          "output_type": "display_data"
        },
        {
          "data": {
            "application/vnd.jupyter.widget-view+json": {
              "model_id": "c1076efc41754184b6e4888c479e9092",
              "version_major": 2,
              "version_minor": 0
            },
            "text/plain": [
              "Step:   0%|          | 0/20 [00:00<?, ?it/s]"
            ]
          },
          "metadata": {},
          "output_type": "display_data"
        },
        {
          "data": {
            "application/vnd.jupyter.widget-view+json": {
              "model_id": "a02239aab451417c9d6ea4c35c116d59",
              "version_major": 2,
              "version_minor": 0
            },
            "text/plain": [
              "Direction:   0%|          | 0/6 [00:00<?, ?it/s]"
            ]
          },
          "metadata": {},
          "output_type": "display_data"
        },
        {
          "data": {
            "application/vnd.jupyter.widget-view+json": {
              "model_id": "23fdbbd58c3b413aaa091965e194e0b9",
              "version_major": 2,
              "version_minor": 0
            },
            "text/plain": [
              "Step:   0%|          | 0/20 [00:00<?, ?it/s]"
            ]
          },
          "metadata": {},
          "output_type": "display_data"
        },
        {
          "data": {
            "application/vnd.jupyter.widget-view+json": {
              "model_id": "930107dbf2044409a92e2b1522d738b5",
              "version_major": 2,
              "version_minor": 0
            },
            "text/plain": [
              "Step:   0%|          | 0/20 [00:00<?, ?it/s]"
            ]
          },
          "metadata": {},
          "output_type": "display_data"
        },
        {
          "data": {
            "application/vnd.jupyter.widget-view+json": {
              "model_id": "c6f748afd2114c5f9f8b177e1ac9032d",
              "version_major": 2,
              "version_minor": 0
            },
            "text/plain": [
              "Step:   0%|          | 0/20 [00:00<?, ?it/s]"
            ]
          },
          "metadata": {},
          "output_type": "display_data"
        },
        {
          "data": {
            "application/vnd.jupyter.widget-view+json": {
              "model_id": "877e6a5cd0e74d18b73d8572ba851dea",
              "version_major": 2,
              "version_minor": 0
            },
            "text/plain": [
              "Step:   0%|          | 0/20 [00:00<?, ?it/s]"
            ]
          },
          "metadata": {},
          "output_type": "display_data"
        },
        {
          "data": {
            "application/vnd.jupyter.widget-view+json": {
              "model_id": "4ef70ac799bc4bf894b9e3827852e78d",
              "version_major": 2,
              "version_minor": 0
            },
            "text/plain": [
              "Step:   0%|          | 0/20 [00:00<?, ?it/s]"
            ]
          },
          "metadata": {},
          "output_type": "display_data"
        },
        {
          "data": {
            "application/vnd.jupyter.widget-view+json": {
              "model_id": "21b5c8f19b8d447abcdf702a48738e25",
              "version_major": 2,
              "version_minor": 0
            },
            "text/plain": [
              "Step:   0%|          | 0/20 [00:00<?, ?it/s]"
            ]
          },
          "metadata": {},
          "output_type": "display_data"
        },
        {
          "data": {
            "application/vnd.jupyter.widget-view+json": {
              "model_id": "0b8bcf94ed5c47578bbde3ed4323dab8",
              "version_major": 2,
              "version_minor": 0
            },
            "text/plain": [
              "Direction:   0%|          | 0/6 [00:00<?, ?it/s]"
            ]
          },
          "metadata": {},
          "output_type": "display_data"
        },
        {
          "data": {
            "application/vnd.jupyter.widget-view+json": {
              "model_id": "f24bbb19d4214cefac6fbff91fc347ef",
              "version_major": 2,
              "version_minor": 0
            },
            "text/plain": [
              "Step:   0%|          | 0/20 [00:00<?, ?it/s]"
            ]
          },
          "metadata": {},
          "output_type": "display_data"
        },
        {
          "data": {
            "application/vnd.jupyter.widget-view+json": {
              "model_id": "928f3e9c758945af9c0d4462c072603d",
              "version_major": 2,
              "version_minor": 0
            },
            "text/plain": [
              "Step:   0%|          | 0/20 [00:00<?, ?it/s]"
            ]
          },
          "metadata": {},
          "output_type": "display_data"
        },
        {
          "data": {
            "application/vnd.jupyter.widget-view+json": {
              "model_id": "b4618db1c8fc47dc8ad2ab889f002a06",
              "version_major": 2,
              "version_minor": 0
            },
            "text/plain": [
              "Step:   0%|          | 0/20 [00:00<?, ?it/s]"
            ]
          },
          "metadata": {},
          "output_type": "display_data"
        },
        {
          "data": {
            "application/vnd.jupyter.widget-view+json": {
              "model_id": "aafb22b7156341958d1695ec9f0718a0",
              "version_major": 2,
              "version_minor": 0
            },
            "text/plain": [
              "Step:   0%|          | 0/20 [00:00<?, ?it/s]"
            ]
          },
          "metadata": {},
          "output_type": "display_data"
        },
        {
          "data": {
            "application/vnd.jupyter.widget-view+json": {
              "model_id": "9958436a4f244c13af9a2499ab428f4b",
              "version_major": 2,
              "version_minor": 0
            },
            "text/plain": [
              "Step:   0%|          | 0/20 [00:00<?, ?it/s]"
            ]
          },
          "metadata": {},
          "output_type": "display_data"
        },
        {
          "data": {
            "application/vnd.jupyter.widget-view+json": {
              "model_id": "6b7081fd42944f72ae31ded08765633d",
              "version_major": 2,
              "version_minor": 0
            },
            "text/plain": [
              "Step:   0%|          | 0/20 [00:00<?, ?it/s]"
            ]
          },
          "metadata": {},
          "output_type": "display_data"
        },
        {
          "data": {
            "application/vnd.jupyter.widget-view+json": {
              "model_id": "3f3df0ea9ca147cba8c7c9bf4d275908",
              "version_major": 2,
              "version_minor": 0
            },
            "text/plain": [
              "Direction:   0%|          | 0/6 [00:00<?, ?it/s]"
            ]
          },
          "metadata": {},
          "output_type": "display_data"
        },
        {
          "data": {
            "application/vnd.jupyter.widget-view+json": {
              "model_id": "8ec85158099d4879a7470b2250827cc8",
              "version_major": 2,
              "version_minor": 0
            },
            "text/plain": [
              "Step:   0%|          | 0/20 [00:00<?, ?it/s]"
            ]
          },
          "metadata": {},
          "output_type": "display_data"
        },
        {
          "data": {
            "application/vnd.jupyter.widget-view+json": {
              "model_id": "8aae5039005845d4901ae890cf17454e",
              "version_major": 2,
              "version_minor": 0
            },
            "text/plain": [
              "Step:   0%|          | 0/20 [00:00<?, ?it/s]"
            ]
          },
          "metadata": {},
          "output_type": "display_data"
        },
        {
          "data": {
            "application/vnd.jupyter.widget-view+json": {
              "model_id": "937097c4bdc34fbb8101081b6ce03aa6",
              "version_major": 2,
              "version_minor": 0
            },
            "text/plain": [
              "Step:   0%|          | 0/20 [00:00<?, ?it/s]"
            ]
          },
          "metadata": {},
          "output_type": "display_data"
        },
        {
          "data": {
            "application/vnd.jupyter.widget-view+json": {
              "model_id": "3d38e38ec56b4208a352c20435446e3d",
              "version_major": 2,
              "version_minor": 0
            },
            "text/plain": [
              "Step:   0%|          | 0/20 [00:00<?, ?it/s]"
            ]
          },
          "metadata": {},
          "output_type": "display_data"
        },
        {
          "data": {
            "application/vnd.jupyter.widget-view+json": {
              "model_id": "d3beea952aad42b598ef1c0f08b18281",
              "version_major": 2,
              "version_minor": 0
            },
            "text/plain": [
              "Step:   0%|          | 0/20 [00:00<?, ?it/s]"
            ]
          },
          "metadata": {},
          "output_type": "display_data"
        },
        {
          "data": {
            "application/vnd.jupyter.widget-view+json": {
              "model_id": "c5ae881c597a422fa430d4086dd5c2ce",
              "version_major": 2,
              "version_minor": 0
            },
            "text/plain": [
              "Step:   0%|          | 0/20 [00:00<?, ?it/s]"
            ]
          },
          "metadata": {},
          "output_type": "display_data"
        },
        {
          "data": {
            "application/vnd.jupyter.widget-view+json": {
              "model_id": "616b6c79101949babc2ae121d5d326b1",
              "version_major": 2,
              "version_minor": 0
            },
            "text/plain": [
              "Direction:   0%|          | 0/6 [00:00<?, ?it/s]"
            ]
          },
          "metadata": {},
          "output_type": "display_data"
        },
        {
          "data": {
            "application/vnd.jupyter.widget-view+json": {
              "model_id": "e8553be9add44a36af106f06fb179291",
              "version_major": 2,
              "version_minor": 0
            },
            "text/plain": [
              "Step:   0%|          | 0/20 [00:00<?, ?it/s]"
            ]
          },
          "metadata": {},
          "output_type": "display_data"
        },
        {
          "data": {
            "application/vnd.jupyter.widget-view+json": {
              "model_id": "0bf0aaf1aa534beea101c77681e4dd78",
              "version_major": 2,
              "version_minor": 0
            },
            "text/plain": [
              "Step:   0%|          | 0/20 [00:00<?, ?it/s]"
            ]
          },
          "metadata": {},
          "output_type": "display_data"
        },
        {
          "data": {
            "application/vnd.jupyter.widget-view+json": {
              "model_id": "18003752d46449db8efa334c5057b25b",
              "version_major": 2,
              "version_minor": 0
            },
            "text/plain": [
              "Step:   0%|          | 0/20 [00:00<?, ?it/s]"
            ]
          },
          "metadata": {},
          "output_type": "display_data"
        },
        {
          "data": {
            "application/vnd.jupyter.widget-view+json": {
              "model_id": "420d14d8d51e4f0ba932dfa7328d6d44",
              "version_major": 2,
              "version_minor": 0
            },
            "text/plain": [
              "Step:   0%|          | 0/20 [00:00<?, ?it/s]"
            ]
          },
          "metadata": {},
          "output_type": "display_data"
        },
        {
          "data": {
            "application/vnd.jupyter.widget-view+json": {
              "model_id": "052ce97803c24167a244d130d3f95b30",
              "version_major": 2,
              "version_minor": 0
            },
            "text/plain": [
              "Step:   0%|          | 0/20 [00:00<?, ?it/s]"
            ]
          },
          "metadata": {},
          "output_type": "display_data"
        },
        {
          "data": {
            "application/vnd.jupyter.widget-view+json": {
              "model_id": "18fbeec85b324845bd11c0f5a3e5563b",
              "version_major": 2,
              "version_minor": 0
            },
            "text/plain": [
              "Step:   0%|          | 0/20 [00:00<?, ?it/s]"
            ]
          },
          "metadata": {},
          "output_type": "display_data"
        },
        {
          "data": {
            "application/vnd.jupyter.widget-view+json": {
              "model_id": "e19a3311a616441abb150a5ffb14992d",
              "version_major": 2,
              "version_minor": 0
            },
            "text/plain": [
              "Direction:   0%|          | 0/6 [00:00<?, ?it/s]"
            ]
          },
          "metadata": {},
          "output_type": "display_data"
        },
        {
          "data": {
            "application/vnd.jupyter.widget-view+json": {
              "model_id": "4a711e22dc7e445faf045ffe5aec0366",
              "version_major": 2,
              "version_minor": 0
            },
            "text/plain": [
              "Step:   0%|          | 0/20 [00:00<?, ?it/s]"
            ]
          },
          "metadata": {},
          "output_type": "display_data"
        },
        {
          "data": {
            "application/vnd.jupyter.widget-view+json": {
              "model_id": "b827371db1ec4c1b865cc3420526a0fc",
              "version_major": 2,
              "version_minor": 0
            },
            "text/plain": [
              "Step:   0%|          | 0/20 [00:00<?, ?it/s]"
            ]
          },
          "metadata": {},
          "output_type": "display_data"
        },
        {
          "data": {
            "application/vnd.jupyter.widget-view+json": {
              "model_id": "c5e5cea2625a472eb1f23e371c77d369",
              "version_major": 2,
              "version_minor": 0
            },
            "text/plain": [
              "Step:   0%|          | 0/20 [00:00<?, ?it/s]"
            ]
          },
          "metadata": {},
          "output_type": "display_data"
        },
        {
          "data": {
            "application/vnd.jupyter.widget-view+json": {
              "model_id": "a6412551881247838ee4ee2cefe2eb62",
              "version_major": 2,
              "version_minor": 0
            },
            "text/plain": [
              "Step:   0%|          | 0/20 [00:00<?, ?it/s]"
            ]
          },
          "metadata": {},
          "output_type": "display_data"
        },
        {
          "data": {
            "application/vnd.jupyter.widget-view+json": {
              "model_id": "3bccc2e180cc4e2093aad79188362c60",
              "version_major": 2,
              "version_minor": 0
            },
            "text/plain": [
              "Step:   0%|          | 0/20 [00:00<?, ?it/s]"
            ]
          },
          "metadata": {},
          "output_type": "display_data"
        },
        {
          "data": {
            "application/vnd.jupyter.widget-view+json": {
              "model_id": "3945160bf0c74544bf84c00a35c09bd0",
              "version_major": 2,
              "version_minor": 0
            },
            "text/plain": [
              "Step:   0%|          | 0/20 [00:00<?, ?it/s]"
            ]
          },
          "metadata": {},
          "output_type": "display_data"
        }
      ],
      "source": [
        "for i, weight in enumerate(tqdm(evenly_dist(num_weights, 3), desc='Weight', leave=False)):\n",
        "    for col in trange(6, desc='Direction', leave=False):\n",
        "        \n",
        "        mr_weights = np.array(\n",
        "            [int(w) for w in '{:0>3b}'.format(col + 1)]).astype(linear_op_template.dtype).reshape(1, -1)\n",
        "        \n",
        "        # load SGD starting point\n",
        "        init_ckpt = torch.load(sgd_path / '{:d}.pth'.format(i), map_location='cpu')\n",
        "        network.load_state_dict(init_ckpt['state_dict'])\n",
        "\n",
        "        # initalize momentum buffer\n",
        "        jacobians_buffer_tensor = compute_jacobians()\n",
        "        jacobians_buffer = jacobians_buffer_tensor.clone().detach().cpu().numpy()\n",
        "        alpha_buffer = compute_alpha(jacobians_buffer_tensor)\n",
        "        with trange(num_steps, desc='Step', leave=False) as step_iter:\n",
        "            for step in step_iter:\n",
        "                network.train(False)\n",
        "\n",
        "                # compute jacobians\n",
        "                jacobians_tensor = compute_jacobians(1.0 / 4.0)\n",
        "                jacobians = jacobians_tensor.clone().detach().cpu().numpy()\n",
        "                jacobians_buffer *= momentum\n",
        "                jacobians_buffer += (1 - momentum) * jacobians\n",
        "                jacobians = jacobians_buffer.copy()\n",
        "\n",
        "                # compute alpha\n",
        "                alpha = compute_alpha(jacobians_tensor)\n",
        "                alpha_buffer *= momentum\n",
        "                alpha_buffer += (1 - momentum) * alpha\n",
        "                alpha = alpha_buffer.copy()\n",
        "\n",
        "                # define rhs and x0\n",
        "                rhs = np.squeeze(mr_weights @ jacobians)\n",
        "                x0 = jacobians.mean(axis=0)\n",
        "                \n",
        "                # fill jacobians alpha rhs x0 to MINRES\n",
        "                with linear_op_template.init(alpha) as linear_op:\n",
        "                    results = minres(linear_op, rhs, x0=x0, maxiter=maxiter)\n",
        "                    d = torch.as_tensor(results[0].astype(linear_op.dtype), device=device)\n",
        "\n",
        "                # optimize\n",
        "                mr_optimizer.zero_grad()\n",
        "                assign_grad(d, normalize=True)\n",
        "                mr_optimizer.step()\n",
        "\n",
        "                eval_losses, eval_top1s = evaluate(network, testloader, closures, top1_closures)\n",
        "                step_iter.set_postfix(**{'acc-{:d}'.format(i + 1): top for i, top in enumerate(eval_top1s)})\n",
        "                ckpt = {\n",
        "                    'state_dict': network.state_dict(),\n",
        "                    'optimizer': mr_optimizer.state_dict(),\n",
        "                    'metrics': [eval_losses, eval_top1s]\n",
        "                }\n",
        "                save_path = mr_path / str(i) / str(col)\n",
        "                save_path.mkdir(parents=True, exist_ok=True)\n",
        "                torch.save(ckpt, save_path / '{:d}.pth'.format(step))"
      ]
    },
    {
      "cell_type": "markdown",
      "metadata": {
        "id": "0hydrXw2Xk5t"
      },
      "source": [
        "## MINRES results illustration"
      ]
    },
    {
      "cell_type": "code",
      "execution_count": null,
      "metadata": {
        "id": "4tek7rqHU67O"
      },
      "outputs": [
        {
          "data": {
            "image/png": "[encoded data removed]",
            "text/plain": [
              "<Figure size 360x360 with 1 Axes>"
            ]
          },
          "metadata": {
            "needs_background": "light"
          },
          "output_type": "display_data"
        }
      ],
      "source": [
        "fig, ax = plt.subplots(1, 1, figsize=(5, 5), subplot_kw=dict(projection='3d', proj_type='ortho'))\n",
        "cmap = plt.get_cmap('autumn', len(evenly_dist(num_weights, 3)))\n",
        "\n",
        "total_top1s = []\n",
        "for i, weight in enumerate(evenly_dist(num_weights, 3)):\n",
        "    ckpt = torch.load(sgd_path / '{:d}.pth'.format(i), map_location='cpu')\n",
        "    losses, top1s = ckpt['metrics']\n",
        "    total_top1s.append(top1s)\n",
        "total_top1s = np.stack(total_top1s, axis=0).T\n",
        "top1s_min = total_top1s.min(axis=1) * 0.99\n",
        "total_err1s = 100.0 * (1.0 - total_top1s)\n",
        "ax.scatter(*total_err1s, color=[cmap(i) for i, w in enumerate(evenly_dist(num_weights, 3))],\n",
        "           marker='*', s=200, edgecolor='black')\n",
        "\n",
        "for i, weight in enumerate(evenly_dist(num_weights, 3)):\n",
        "    total_top1s = []\n",
        "    for col in range(6):\n",
        "        for step in range(num_steps):\n",
        "            ckpt = torch.load(mr_path / str(i) / str(col) /  '{:d}.pth'.format(step), map_location='cpu')\n",
        "            losses, top1s = ckpt['metrics']\n",
        "            if any(top1s < top1s_min):\n",
        "                continue\n",
        "            total_top1s.append(top1s)\n",
        "    total_err1s = 100.0 * (1.0 - np.stack(total_top1s, axis=0).T)\n",
        "    ax.scatter(*total_err1s, color=cmap(i), marker='o', s=30)\n",
        "\n",
        "ax.set_xlabel('Task 1 Top-1 Error')\n",
        "ax.set_ylabel('Task 2 Top-1 Error')\n",
        "ax.set_zlabel('Task 3 Top-1 Error')\n",
        "ax.grid(True)\n",
        "\n",
        "handles, labels = [], []\n",
        "handles.append(\n",
        "    tuple(ax.scatter([], [], [], color=cmap(i), marker='*', s=100, edgecolor='black') for i in [3, 6, 9]))\n",
        "labels.append('Start')\n",
        "\n",
        "handles.append(\n",
        "    tuple(ax.scatter([], [], [], color=cmap(i), marker='o', s=30) for i in [3, 6, 9]))\n",
        "labels.append('Ours')\n",
        "\n",
        "ax.legend(handles, labels, handler_map={tuple: HandlerTuple(None, 0)})\n",
        "ax.view_init(30, 45)\n",
        "fig.tight_layout()\n",
        "plt.show()"
      ]
    }
  ],
  "metadata": {
    "accelerator": "GPU",
    "colab": {
      "collapsed_sections": [],
      "name": "T277640_Efficient_Continuous_Pareto_Exploration_in_MTL_on_UCI_Census.ipynb",
      "toc_visible": true
    },
    "kernelspec": {
      "display_name": "Python 3",
      "name": "python3"
    }
  },
  "nbformat": 4,
  "nbformat_minor": 0
}
