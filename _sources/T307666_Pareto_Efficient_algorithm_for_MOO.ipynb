{
  "cells": [
    {
      "cell_type": "markdown",
      "metadata": {
        "id": "rT2jhaFmeXIu"
      },
      "source": [
        "# Pareto-Efficient algorithm for MOO"
      ]
    },
    {
      "cell_type": "code",
      "execution_count": 1,
      "metadata": {
        "id": "9ifbtdd2ifja"
      },
      "outputs": [
        {
          "name": "stdout",
          "output_type": "stream",
          "text": [
            "TensorFlow 1.x selected.\n"
          ]
        }
      ],
      "source": [
        "%tensorflow_version 1.x"
      ]
    },
    {
      "cell_type": "code",
      "execution_count": 2,
      "metadata": {
        "id": "qpBmKd7Oig3M"
      },
      "outputs": [],
      "source": [
        "import tensorflow as tf\n",
        "import numpy as np\n",
        "from scipy.optimize import minimize\n",
        "from scipy.optimize import nnls"
      ]
    },
    {
      "cell_type": "code",
      "execution_count": 3,
      "metadata": {
        "id": "xSiAHrdnin8S"
      },
      "outputs": [
        {
          "name": "stdout",
          "output_type": "stream",
          "text": [
            "WARNING:tensorflow:From /tensorflow-1.15.2/python3.7/tensorflow_core/python/util/tf_should_use.py:198: initialize_all_variables (from tensorflow.python.ops.variables) is deprecated and will be removed after 2017-03-02.\n",
            "Instructions for updating:\n",
            "Use `tf.global_variables_initializer` instead.\n"
          ]
        }
      ],
      "source": [
        "seed = 3456\n",
        "tf.set_random_seed(seed)\n",
        "np.random.seed(seed)\n",
        "\n",
        "x_data = np.float32(np.random.rand(100, 4))\n",
        "y_data = np.dot(x_data, [[0.100], [0.200], [0.3], [0.4]]) + 0.300\n",
        "\n",
        "weight_a = tf.placeholder(tf.float32)\n",
        "weight_b = tf.placeholder(tf.float32)\n",
        "\n",
        "b = tf.Variable(tf.zeros([1]))\n",
        "W = tf.Variable(tf.random_uniform([4, 1], -1.0, 1.0))\n",
        "y = tf.matmul(x_data, W) + b\n",
        "\n",
        "loss_a = tf.reduce_mean(tf.square(y - y_data))\n",
        "loss_b = tf.reduce_mean(tf.square(W) + tf.square(b))\n",
        "loss = weight_a * loss_a + weight_b * loss_b\n",
        "\n",
        "optimizer = tf.train.GradientDescentOptimizer(0.1)\n",
        "\n",
        "a_gradients = tf.gradients(loss_a, W)\n",
        "b_gradients = tf.gradients(loss_b, W)\n",
        "\n",
        "train = optimizer.minimize(loss)\n",
        "\n",
        "init = tf.initialize_all_variables()\n",
        "\n",
        "sess = tf.Session()\n",
        "sess.run(init)"
      ]
    },
    {
      "cell_type": "code",
      "execution_count": 4,
      "metadata": {
        "id": "_Hx_xqbGiryg"
      },
      "outputs": [
        {
          "name": "stdout",
          "output_type": "stream",
          "text": [
            "00 0.455093 0.544907 0.108549 0.297545 0.364817\n",
            "01 0.516552 0.483448 0.090884 0.286522 0.317196\n",
            "02 0.555422 0.444578 0.075463 0.278471 0.270990\n",
            "03 0.601183 0.398817 0.063305 0.271866 0.232853\n",
            "04 0.646575 0.353425 0.053475 0.266668 0.200530\n",
            "05 0.693284 0.306716 0.045594 0.262573 0.173642\n",
            "06 0.740618 0.259382 0.039289 0.259415 0.151452\n",
            "07 0.788455 0.211545 0.034279 0.257040 0.133359\n",
            "08 0.800000 0.200000 0.030331 0.255331 0.118792\n",
            "09 0.800000 0.200000 0.027523 0.252856 0.108849\n"
          ]
        }
      ],
      "source": [
        "def pareto_step(w, c, G):\n",
        "    \"\"\"\n",
        "    ref:http://ofey.me/papers/Pareto.pdf\n",
        "    K : the number of task\n",
        "    M : the dim of NN's params\n",
        "    :param W: # (K,1)\n",
        "    :param C: # (K,1)\n",
        "    :param G: # (K,M)\n",
        "    :return:\n",
        "    \"\"\"\n",
        "    GGT = np.matmul(G, np.transpose(G))  # (K, K)\n",
        "    e = np.mat(np.ones(np.shape(w)))  # (K, 1)\n",
        "    m_up = np.hstack((GGT, e))  # (K, K+1)\n",
        "    m_down = np.hstack((np.transpose(e), np.mat(np.zeros((1, 1)))))  # (1, K+1)\n",
        "    M = np.vstack((m_up, m_down))  # (K+1, K+1)\n",
        "    z = np.vstack((-np.matmul(GGT, c), 1 - np.sum(c)))  # (K+1, 1)\n",
        "    hat_w = np.matmul(np.matmul(np.linalg.inv(np.matmul(np.transpose(M), M)), M), z)  # (K+1, 1)\n",
        "    hat_w = hat_w[:-1]  # (K, 1)\n",
        "    hat_w = np.reshape(np.array(hat_w), (hat_w.shape[0],))  # (K,)\n",
        "    c = np.reshape(np.array(c), (c.shape[0],))  # (K,)\n",
        "    new_w = ASM(hat_w, c)\n",
        "    return new_w\n",
        "\n",
        "\n",
        "def ASM(hat_w, c):\n",
        "    \"\"\"\n",
        "    ref:\n",
        "    http://ofey.me/papers/Pareto.pdf,\n",
        "    https://stackoverflow.com/questions/33385898/how-to-include-constraint-to-scipy-nnls-function-solution-so-that-it-sums-to-1\n",
        "    :param hat_w: # (K,)\n",
        "    :param c: # (K,)\n",
        "    :return:\n",
        "    \"\"\"\n",
        "    A = np.array([[0 if i != j else 1 for i in range(len(c))] for j in range(len(c))])\n",
        "    b = hat_w\n",
        "    x0, _ = nnls(A, b)\n",
        "\n",
        "    def _fn(x, A, b):\n",
        "        return np.linalg.norm(A.dot(x) - b)\n",
        "\n",
        "    cons = {'type': 'eq', 'fun': lambda x: np.sum(x) + np.sum(c) - 1}\n",
        "    bounds = [[0., None] for _ in range(len(hat_w))]\n",
        "    min_out = minimize(_fn, x0, args=(A, b), method='SLSQP', bounds=bounds, constraints=cons)\n",
        "    new_w = min_out.x + c\n",
        "    return new_w\n",
        "\n",
        "\n",
        "w_a, w_b = 0.5, 0.5\n",
        "c_a, c_b = 0.2, 0.2\n",
        "\n",
        "for step in range(0, 10):\n",
        "    res = sess.run([a_gradients, b_gradients, train], feed_dict={weight_a: w_a, weight_b: w_b})\n",
        "    weights = np.mat([[w_a], [w_b]])\n",
        "    paras = np.hstack((res[0][0], res[1][0]))\n",
        "    paras = np.transpose(paras)\n",
        "    w_a, w_b = pareto_step(weights, np.mat([[c_a], [c_b]]), paras)\n",
        "    la = sess.run(loss_a)\n",
        "    lb = sess.run(loss_b)\n",
        "    print(\"{:0>2d} {:4f} {:4f} {:4f} {:4f} {:4f}\".format(step, w_a, w_b, la, lb, la / lb))\n",
        "    # print(np.reshape(sess.run(W), (4,)), sess.run(b))"
      ]
    }
  ],
  "metadata": {
    "colab": {
      "collapsed_sections": [],
      "name": "T307666_Pareto_Efficient_algorithm_for_MOO.ipynb",
      "toc_visible": true
    },
    "kernelspec": {
      "display_name": "Python 3",
      "name": "python3"
    }
  },
  "nbformat": 4,
  "nbformat_minor": 0
}
