{
  "cells": [
    {
      "cell_type": "markdown",
      "metadata": {
        "id": "5zUUumhXG94f"
      },
      "source": [
        "# Multi-gradient Descent (MGDRec)"
      ]
    },
    {
      "cell_type": "markdown",
      "metadata": {
        "id": "mpxmxc7-HEgn"
      },
      "source": [
        "## Training procedure\n",
        "\n",
        "<p><center><img src='_images/L587138_1.png'></center></p>\n",
        "\n",
        "## Codebase\n",
        "\n",
        "<p><center><img src='_images/L587138_2.png'></center></p>\n",
        "\n",
        "## Results\n",
        "\n",
        "<p><center><figure><img src='_images/L587138_3.png'><figcaption>Results for two objectives: semantic relevance and revenue, on Movielens dataset combined with Amazon Movies dataset.</figcaption></figure></center></p>\n",
        "\n",
        "<p><center><figure><img src='_images/L587138_4.png'><figcaption>Results for two objectives: semantic relevance and revenue, on Amazon Books dataset.</figcaption></figure></center></p>\n",
        "\n",
        "<p><center><figure><img src='_images/L587138_5.png'><figcaption>Results for experiments with two objectives semantic: semantic relevance and content quality, on the Movielens dataset combined with Amazon Movies dataset.</figcaption></figure></center></p>"
      ]
    }
  ],
  "metadata": {
    "colab": {
      "collapsed_sections": [],
      "name": "L587138_Multi_gradient_Descent_(MGDRec).ipynb",
      "toc_visible": true
    },
    "kernelspec": {
      "display_name": "Python 3",
      "name": "python3"
    }
  },
  "nbformat": 4,
  "nbformat_minor": 0
}
