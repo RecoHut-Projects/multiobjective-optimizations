{
  "cells": [
    {
      "cell_type": "markdown",
      "metadata": {
        "id": "OROwu9wdFruN"
      },
      "source": [
        "# Shared Bottom"
      ]
    },
    {
      "cell_type": "markdown",
      "metadata": {
        "id": "mDIKxJnkFviP"
      },
      "source": [
        "The shared-bottom model is the simplest and most common multi-task learning architecture. The model has a single base (the shared bottom) from which all of the task-specific subnetworks begin from. This means that this single representation is used for all tasks, and there is no way for individual tasks to adjust what information they get out of the shared bottom compared to other tasks.\n",
        "\n",
        "<p><center><img src='_images/L762719_1.png'></center></p>"
      ]
    }
  ],
  "metadata": {
    "colab": {
      "collapsed_sections": [],
      "name": "L762719_Shared_Bottom.ipynb",
      "toc_visible": true
    },
    "kernelspec": {
      "display_name": "Python 3",
      "name": "python3"
    }
  },
  "nbformat": 4,
  "nbformat_minor": 0
}
