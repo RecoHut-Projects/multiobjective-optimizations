{
  "cells": [
    {
      "cell_type": "markdown",
      "metadata": {
        "id": "YytMn46D3Qxq"
      },
      "source": [
        "# Marketplace Recommenders"
      ]
    },
    {
      "cell_type": "markdown",
      "metadata": {
        "id": "wBTYvTL33WEM"
      },
      "source": [
        "<p><center><img src='_images/L480379_1.png'></center></p>\n",
        "\n",
        "<p><center><img src='_images/L480379_2.png'></center></p>\n",
        "\n",
        "<p><center><img src='_images/L480379_3.png'></center></p>\n",
        "\n",
        "<p><center><img src='_images/L480379_4.png'></center></p>"
      ]
    }
  ],
  "metadata": {
    "colab": {
      "collapsed_sections": [],
      "name": "L480379_Marketplace_Recommenders.ipynb",
      "toc_visible": true
    },
    "kernelspec": {
      "display_name": "Python 3",
      "name": "python3"
    }
  },
  "nbformat": 4,
  "nbformat_minor": 0
}
