{
  "cells": [
    {
      "cell_type": "markdown",
      "metadata": {
        "id": "Xb5oBDWUd86l"
      },
      "source": [
        "# MoE in Tensorflow"
      ]
    },
    {
      "cell_type": "code",
      "execution_count": null,
      "metadata": {
        "id": "jboou3AEhu1-"
      },
      "outputs": [
        {
          "name": "stdout",
          "output_type": "stream",
          "text": [
            "TensorFlow 1.x selected.\n"
          ]
        }
      ],
      "source": [
        "%tensorflow_version 1.x"
      ]
    },
    {
      "cell_type": "code",
      "execution_count": null,
      "metadata": {
        "id": "yM_YX_Sbhxjf"
      },
      "outputs": [],
      "source": [
        "import numpy as np\n",
        "import tensorflow as tf"
      ]
    },
    {
      "cell_type": "markdown",
      "metadata": {
        "id": "wGfJ5ds5iepc"
      },
      "source": [
        "## Multi-task"
      ]
    },
    {
      "cell_type": "code",
      "execution_count": null,
      "metadata": {
        "id": "RMyoWKz4iDwH"
      },
      "outputs": [],
      "source": [
        "def task_network(inputs,\n",
        "                 hidden_units,\n",
        "                 hidden_activation=tf.nn.relu,\n",
        "                 output_activation=tf.nn.sigmoid,\n",
        "                 hidden_dropout=None,\n",
        "                 initializer=None):\n",
        "\n",
        "    x = inputs\n",
        "    for units in hidden_units:\n",
        "        x = tf.layers.dense(x,\n",
        "                            units,\n",
        "                            activation=hidden_activation,\n",
        "                            kernel_initializer=initializer)\n",
        "\n",
        "        if hidden_dropout is not None:\n",
        "            x = tf.layers.dropout(x, rate=hidden_dropout)\n",
        "\n",
        "    outputs = tf.layers.dense(x, 1, kernel_initializer=initializer)\n",
        "\n",
        "    if output_activation is not None:\n",
        "        outputs = output_activation(outputs)\n",
        "    return outputs"
      ]
    },
    {
      "cell_type": "code",
      "execution_count": null,
      "metadata": {
        "id": "gCao5IgOh2_o"
      },
      "outputs": [],
      "source": [
        "def multi_task(inputs,\n",
        "               num_tasks,\n",
        "               task_hidden_units,\n",
        "               task_output_activations,\n",
        "               **kwargs):\n",
        "\n",
        "    outputs = []\n",
        "\n",
        "    for i in range(num_tasks):\n",
        "\n",
        "        task_inputs = inputs[i] if isinstance(inputs, list) else inputs\n",
        "\n",
        "        output = task_network(task_inputs,\n",
        "                              task_hidden_units,\n",
        "                              output_activation=task_output_activations[i],\n",
        "                              **kwargs)\n",
        "        outputs.append(output)\n",
        "\n",
        "    return outputs"
      ]
    },
    {
      "cell_type": "markdown",
      "metadata": {
        "id": "uJnNhkcmih1v"
      },
      "source": [
        "## Mixture-of-experts"
      ]
    },
    {
      "cell_type": "code",
      "execution_count": null,
      "metadata": {
        "id": "HPp49VXdiOdG"
      },
      "outputs": [],
      "source": [
        "def _synthetic_data(num_examples, example_dim=100, c=0.3, p=0.8, m=5):\n",
        "\n",
        "    mu1 = np.random.normal(size=example_dim)\n",
        "    mu1 = (mu1 - np.mean(mu1)) / (np.std(mu1) * np.sqrt(example_dim))\n",
        "\n",
        "    mu2 = np.random.normal(size=example_dim)\n",
        "    mu2 -= mu2.dot(mu1) * mu1\n",
        "    mu2 /= np.linalg.norm(mu2)\n",
        "\n",
        "    w1 = c * mu1\n",
        "    w2 = c * (p * mu1 + np.sqrt(1. - p ** 2) * mu2)\n",
        "\n",
        "    alpha = np.random.normal(size=m)\n",
        "    beta = np.random.normal(size=m)\n",
        "\n",
        "    examples = np.random.normal(size=(num_examples, example_dim))\n",
        "\n",
        "    w1x = np.matmul(examples, w1)\n",
        "    w2x = np.matmul(examples, w2)\n",
        "\n",
        "    sin1, sin2 = 0., 0.\n",
        "    for i in range(m):\n",
        "        sin1 += np.sin(alpha[i] * w1x + beta[i])\n",
        "        sin2 += np.sin(alpha[i] * w2x + beta[i])\n",
        "\n",
        "    y1 = w1x + sin1 + np.random.normal(size=num_examples, scale=0.01)\n",
        "    y2 = w2x + sin2 + np.random.normal(size=num_examples, scale=0.01)\n",
        "\n",
        "    return examples.astype(np.float32), (y1.astype(np.float32), y2.astype(np.float32))"
      ]
    },
    {
      "cell_type": "code",
      "execution_count": null,
      "metadata": {
        "id": "XRQNSwe3iSra"
      },
      "outputs": [],
      "source": [
        "def synthetic_data_input_fn(num_examples, epochs=1, batch_size=256, buffer_size=256, **kwargs):\n",
        "\n",
        "    synthetic_data = _synthetic_data(num_examples, **kwargs)\n",
        "\n",
        "    dataset = tf.data.Dataset.from_tensor_slices(synthetic_data)\n",
        "    dataset = dataset.batch(batch_size)\n",
        "    dataset = dataset.repeat(epochs)\n",
        "    dataset = dataset.prefetch(buffer_size)\n",
        "\n",
        "    return dataset"
      ]
    },
    {
      "cell_type": "code",
      "execution_count": null,
      "metadata": {
        "id": "sDt_NuQHiUc0"
      },
      "outputs": [],
      "source": [
        "def gating_network(inputs, num_experts, expert_index=None):\n",
        "    \"\"\"\n",
        "    Gating network: y = SoftMax(W * inputs)\n",
        "    :param inputs: tf.Tensor\n",
        "    :param num_experts: Int > 0, number of expert networks.\n",
        "    :param expert_index: Int, index of expert network.\n",
        "    :return: tf.Tensor\n",
        "    \"\"\"\n",
        "\n",
        "    x = tf.layers.dense(inputs,\n",
        "                        units=num_experts,\n",
        "                        use_bias=False,\n",
        "                        name=\"expert{}_gate\".format(expert_index))\n",
        "\n",
        "    return tf.nn.softmax(x)"
      ]
    },
    {
      "cell_type": "code",
      "execution_count": null,
      "metadata": {
        "id": "cRwWfO95iXkB"
      },
      "outputs": [],
      "source": [
        "def one_gate(inputs,\n",
        "             num_tasks,\n",
        "             num_experts,\n",
        "             task_hidden_units,\n",
        "             task_output_activations,\n",
        "             expert_hidden_units,\n",
        "             expert_hidden_activation=tf.nn.relu,\n",
        "             task_hidden_activation=tf.nn.relu,\n",
        "             task_initializer=None,\n",
        "             task_dropout=None):\n",
        "\n",
        "    experts_gate = gating_network(inputs, num_experts)\n",
        "\n",
        "    experts_outputs = []\n",
        "    for i in range(num_experts):\n",
        "        x = inputs\n",
        "        for j, units in enumerate(expert_hidden_units):\n",
        "            x = tf.layers.dense(x, units, activation=expert_hidden_activation, name=\"expert{}_dense{}\".format(i, j))\n",
        "        experts_outputs.append(x)\n",
        "\n",
        "    experts_outputs = tf.stack(experts_outputs, axis=1)\n",
        "    experts_selector = tf.expand_dims(experts_gate, axis=1)\n",
        "\n",
        "    outputs = tf.linalg.matmul(experts_selector, experts_outputs)\n",
        "\n",
        "    multi_task_inputs = tf.squeeze(outputs)\n",
        "\n",
        "    return multi_task(multi_task_inputs,\n",
        "                      num_tasks,\n",
        "                      task_hidden_units,\n",
        "                      task_output_activations,\n",
        "                      hidden_activation=task_hidden_activation,\n",
        "                      hidden_dropout=task_dropout,\n",
        "                      initializer=task_initializer)"
      ]
    },
    {
      "cell_type": "code",
      "execution_count": null,
      "metadata": {
        "id": "6A7TUMWYhtUY"
      },
      "outputs": [],
      "source": [
        "def multi_gate(inputs,\n",
        "               num_tasks,\n",
        "               num_experts,\n",
        "               task_hidden_units,\n",
        "               task_output_activations,\n",
        "               expert_hidden_units,\n",
        "               expert_hidden_activation=tf.nn.relu,\n",
        "               task_hidden_activation=tf.nn.relu,\n",
        "               task_initializer=None,\n",
        "               task_dropout=None):\n",
        "\n",
        "    experts_outputs = []\n",
        "    for i in range(num_experts):\n",
        "        x = inputs\n",
        "        for j, units in enumerate(expert_hidden_units[:-1]):\n",
        "            x = tf.layers.dense(x, units, activation=expert_hidden_activation, name=\"expert{}_dense{}\".format(i, j))\n",
        "\n",
        "        x = tf.layers.dense(x, expert_hidden_units[-1], name=\"expert{}_out\".format(i))\n",
        "\n",
        "        experts_outputs.append(x)\n",
        "\n",
        "    experts_outputs = tf.stack(experts_outputs, axis=1)\n",
        "\n",
        "    outputs = []\n",
        "    for i in range(num_experts):\n",
        "        expert_gate = gating_network(inputs, num_experts, expert_index=i)\n",
        "        expert_selector = tf.expand_dims(expert_gate, axis=1)\n",
        "\n",
        "        output = tf.linalg.matmul(expert_selector, experts_outputs)\n",
        "\n",
        "        outputs.append(tf.squeeze(output))\n",
        "\n",
        "    return multi_task(outputs,\n",
        "                      num_tasks,\n",
        "                      task_hidden_units,\n",
        "                      task_output_activations,\n",
        "                      hidden_activation=task_hidden_activation,\n",
        "                      hidden_dropout=task_dropout,\n",
        "                      initializer=task_initializer)"
      ]
    },
    {
      "cell_type": "markdown",
      "metadata": {
        "id": "-D70ghIDjDj4"
      },
      "source": [
        "## Testing"
      ]
    },
    {
      "cell_type": "code",
      "execution_count": null,
      "metadata": {
        "id": "WVUffDuwjUWD"
      },
      "outputs": [],
      "source": [
        "from absl.testing import parameterized\n",
        "import sys"
      ]
    },
    {
      "cell_type": "code",
      "execution_count": null,
      "metadata": {
        "id": "yZ2Ec1f6jL4q"
      },
      "outputs": [],
      "source": [
        "tf.disable_eager_execution()\n",
        "sys.dont_write_bytecode = True\n",
        "sys.argv = sys.argv[:1]\n",
        "old_sysexit = sys.exit\n",
        "tf.logging.set_verbosity(tf.logging.INFO)"
      ]
    },
    {
      "cell_type": "code",
      "execution_count": null,
      "metadata": {
        "id": "YgMk_BVUizdn"
      },
      "outputs": [],
      "source": [
        "class TestMixtureOfExperts(tf.test.TestCase, parameterized.TestCase):\n",
        "\n",
        "    @parameterized.parameters(42, 256, 1024, 2021)\n",
        "    def test_synthetic_data(self, random_seed):\n",
        "        np.random.seed(random_seed)\n",
        "        _, (y1, y2) = _synthetic_data(1000, p=0.8)\n",
        "        cor = np.corrcoef(y1, y2)\n",
        "        print(cor)\n",
        "\n",
        "    def test_one_gate(self):\n",
        "\n",
        "        num_examples = 1000\n",
        "        example_dim = 128\n",
        "\n",
        "        inputs = tf.random.normal(shape=(num_examples, example_dim))\n",
        "\n",
        "        outputs = one_gate(inputs,\n",
        "                       num_tasks=2,\n",
        "                       num_experts=3,\n",
        "                       task_hidden_units=[10, 5],\n",
        "                       task_output_activations=[None, None],\n",
        "                       expert_hidden_units=[64, 32],\n",
        "                       expert_hidden_activation=tf.nn.relu,\n",
        "                       task_hidden_activation=tf.nn.relu,\n",
        "                       task_initializer=None,\n",
        "                       task_dropout=None)\n",
        "\n",
        "    def test_multi_gate(self):\n",
        "\n",
        "        num_examples = 1000\n",
        "        example_dim = 128\n",
        "\n",
        "        inputs = tf.random.normal(shape=(num_examples, example_dim))\n",
        "\n",
        "        outputs = multi_gate(inputs,\n",
        "                       num_tasks=2,\n",
        "                       num_experts=3,\n",
        "                       task_hidden_units=[10, 5],\n",
        "                       task_output_activations=[None, None],\n",
        "                       expert_hidden_units=[64, 32],\n",
        "                       expert_hidden_activation=tf.nn.relu,\n",
        "                       task_hidden_activation=tf.nn.relu,\n",
        "                       task_initializer=None,\n",
        "                       task_dropout=None)"
      ]
    },
    {
      "cell_type": "code",
      "execution_count": null,
      "metadata": {
        "id": "RQwf3VdXj_5C"
      },
      "outputs": [
        {
          "name": "stderr",
          "output_type": "stream",
          "text": [
            "Running tests under Python 3.7.11: /usr/bin/python3\n",
            "[ RUN      ] TestMixtureOfExperts.test_multi_gate\n",
            "[       OK ] TestMixtureOfExperts.test_multi_gate\n",
            "[ RUN      ] TestMixtureOfExperts.test_one_gate\n",
            "[       OK ] TestMixtureOfExperts.test_one_gate\n",
            "[ RUN      ] TestMixtureOfExperts.test_session\n",
            "[  SKIPPED ] TestMixtureOfExperts.test_session\n",
            "[ RUN      ] TestMixtureOfExperts.test_synthetic_data0 (42)\n",
            "[       OK ] TestMixtureOfExperts.test_synthetic_data0 (42)\n",
            "[ RUN      ] TestMixtureOfExperts.test_synthetic_data1 (256)\n",
            "[       OK ] TestMixtureOfExperts.test_synthetic_data1 (256)\n",
            "[ RUN      ] TestMixtureOfExperts.test_synthetic_data2 (1024)\n",
            "[       OK ] TestMixtureOfExperts.test_synthetic_data2 (1024)\n",
            "[ RUN      ] TestMixtureOfExperts.test_synthetic_data3 (2021)\n",
            "[       OK ] TestMixtureOfExperts.test_synthetic_data3 (2021)\n"
          ]
        },
        {
          "name": "stdout",
          "output_type": "stream",
          "text": [
            "[[1.         0.81089216]\n",
            " [0.81089216 1.        ]]\n",
            "[[1.         0.79510139]\n",
            " [0.79510139 1.        ]]\n",
            "[[1.         0.81083881]\n",
            " [0.81083881 1.        ]]\n",
            "[[1.         0.80292345]\n",
            " [0.80292345 1.        ]]\n"
          ]
        },
        {
          "name": "stderr",
          "output_type": "stream",
          "text": [
            "----------------------------------------------------------------------\n",
            "Ran 7 tests in 0.548s\n",
            "\n",
            "OK (skipped=1)\n"
          ]
        }
      ],
      "source": [
        "try:\n",
        "    sys.exit = lambda *args: None\n",
        "    tf.test.main()\n",
        "finally:\n",
        "    sys.exit = old_sysexit"
      ]
    }
  ],
  "metadata": {
    "colab": {
      "collapsed_sections": [],
      "name": "T175823_MoE_in_Tensorflow.ipynb",
      "toc_visible": true
    },
    "kernelspec": {
      "display_name": "Python 3",
      "name": "python3"
    }
  },
  "nbformat": 4,
  "nbformat_minor": 0
}
