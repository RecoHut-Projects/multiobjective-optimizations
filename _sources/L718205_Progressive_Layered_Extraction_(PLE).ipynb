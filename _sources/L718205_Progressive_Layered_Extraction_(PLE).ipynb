{
  "cells": [
    {
      "cell_type": "markdown",
      "metadata": {
        "id": "DaG-ENH6Jkte"
      },
      "source": [
        "# Progressive Layered Extraction (PLE)"
      ]
    },
    {
      "cell_type": "markdown",
      "metadata": {
        "id": "S253GWOBJ02f"
      },
      "source": [
        "<p><center><img src='_images/L718205_1.png'></center></p>"
      ]
    }
  ],
  "metadata": {
    "colab": {
      "collapsed_sections": [],
      "name": "L718205_Progressive_Layered_Extraction_(PLE).ipynb",
      "toc_visible": true
    },
    "kernelspec": {
      "display_name": "Python 3",
      "name": "python3"
    }
  },
  "nbformat": 4,
  "nbformat_minor": 0
}
