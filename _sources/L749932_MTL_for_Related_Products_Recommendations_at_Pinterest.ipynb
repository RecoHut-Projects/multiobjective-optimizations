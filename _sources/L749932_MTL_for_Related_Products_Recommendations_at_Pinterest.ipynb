{
  "cells": [
    {
      "cell_type": "markdown",
      "metadata": {
        "id": "NQ0CqRP7J5Wu"
      },
      "source": [
        "# MTL for Related Products Recommendations at Pinterest"
      ]
    },
    {
      "cell_type": "markdown",
      "metadata": {
        "id": "Rl-nL6lyOTZu"
      },
      "source": [
        "[Multi-task Learning for Related Products Recommendations at Pinterest](https://medium.com/pinterest-engineering/multi-task-learning-for-related-products-recommendations-at-pinterest-62684f631c12)\n",
        "\n",
        "[PinnerSage: Multi-Modal User Embedding Framework for Recommendations at Pinterest](https://medium.com/pinterest-engineering/pinnersage-multi-modal-user-embedding-framework-for-recommendations-at-pinterest-bfd116b49475)"
      ]
    }
  ],
  "metadata": {
    "colab": {
      "collapsed_sections": [],
      "name": "L749932_MTL_for_Related_Products_Recommendations_at_Pinterest.ipynb",
      "toc_visible": true
    },
    "kernelspec": {
      "display_name": "Python 3",
      "name": "python3"
    }
  },
  "nbformat": 4,
  "nbformat_minor": 0
}
