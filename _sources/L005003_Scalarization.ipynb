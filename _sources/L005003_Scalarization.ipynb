{
  "cells": [
    {
      "cell_type": "markdown",
      "metadata": {
        "id": "6hGr3hXF6jsu"
      },
      "source": [
        "# Scalarization"
      ]
    },
    {
      "cell_type": "markdown",
      "metadata": {
        "id": "uFJqLjm6EpO-"
      },
      "source": [
        "| Method | Idea | Scalarization | Characteristic |\n",
        "| ------ | ---- | ------------- | -------------- |\n",
        "| Goal Programming | Set up goal for each objective | $min \\sum_{i=1}^M|d_i|$ | May not be Pareto optimal |\n",
        "| Physical Programming | Map goals and objective to utility functions $\\bar{g}_i$ | $min\\ log_{10} \\sum \\bar{g}_i$ | Pareto optimal\n",
        "Need detail knowledge of each objective |\n",
        "| Lexicographic | Order each objective by importance | Minimize each objective in order | The solution may not be feasible |\n",
        "\n",
        "<br>\n",
        "\n",
        "The central idea of scalarization algorithms is to transform multi objectives into one objective. If DM (decision maker) preference is available, this transformation can be done easily, and a single solution is produced. If DM preference is not available, such as in a posteriori and no DM cases, multiple runs of scalarization algorithm with different parameters are needed to find the Pareto set.\n",
        "\n",
        "There are many different types of scalarization algorithms that solve the MOO problem. The difference between them lies on how to transform the multi objectives into a single objective. After transforming multi objectives into one objective, the problem can be solved using regular optimization algorithms. Here is a list of commonly used methods of scalarization algorithms:\n",
        "\n",
        "- Weighting methods\n",
        "- 𝜖-constraint method\n",
        "- Normal Boundary Intersection (NBI) & Normal Constraint (NC) method\n",
        "- Goal Programming\n",
        "- Physical Programming\n",
        "- Lexicographic Method"
      ]
    }
  ],
  "metadata": {
    "colab": {
      "collapsed_sections": [],
      "name": "L005003_Scalarization.ipynb",
      "toc_visible": true
    },
    "kernelspec": {
      "display_name": "Python 3",
      "name": "python3"
    }
  },
  "nbformat": 4,
  "nbformat_minor": 0
}
