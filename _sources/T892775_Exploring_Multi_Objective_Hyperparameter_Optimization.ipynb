{
  "cells": [
    {
      "cell_type": "markdown",
      "metadata": {
        "id": "RKwUsfUqgVMF"
      },
      "source": [
        "# Exploring Multi-Objective Hyperparameter Optimization"
      ]
    },
    {
      "cell_type": "markdown",
      "metadata": {
        "id": "fMtnLo8lCce4"
      },
      "source": [
        "To get to grips with Ax and see multi-output Bayesian optimization in action, in `section 1`, we will tackle a totally synthetic problem `Ax on synthetic data`.\n",
        "\n",
        "While we wanted to demonstrate how to use the Ax Developer API to do this, we’d actually recommend using Optuna for this kind of problem. This trades off the flexibility of Ax for a much smaller and simpler API. So in `section 2`, we will do the same demo with Optuna.\n",
        "\n",
        "Section 1 and 2 demonstrate how to use the libraries on a completely toy problem. What happens when we up the problem complexity a little and try a real machine learning problem? In `section 3`, we attacked credit card fraud detection using a dataset released by the machine learning group at Université Libre de Bruxelles. Credit card fraud comes with some interesting facets, such as a highly imbalanced class distribution. The same group recently released a handbook about the problem, for those interested in diving deep.\n",
        "\n",
        "We put quite some effort into prototyping with xgboost and multi-layer perceptron algorithms on this dataset, with both Ax and Optuna. While we could cherry-pick results that show EHVI outperforming random search in finding hyperparameter combinations resulting in good, high AUPRC, low-latency algorithms, we couldn’t reliably reproduce these results, and often random would win.\n",
        "\n",
        "Our working hypothesis is that the problem is essentially too easy, by which we mean xgboost could find a good solution under a wide range of hyperparameters. If only one or two hyperparameters are important to a problem, we can get good coverage of those with random sampling, or even a parameter sweep (tantamount to grid search). While Bayesian optimization might sample slightly more densely from the good region, it doesn’t provide a reliable substantial improvement (and indeed, it appears to trade off some exploration for that). We expect Bayesian optimization to shine when more than one hyperparameter is important and good coverage of the hyperparameter space is not possible.\n",
        "\n",
        "Our final `section 4` dives deep into the world of approximate nearest neighbor (ANN) search. Approximate nearest neighbor search has all the elements we’re looking for: a real-world use case, a substantial and non-trivial dataset, and algorithms that have inherent tradeoffs between competing objectives like recall, inference time, and memory consumption. In this section we apply Optuna HPO to three different ANN algorithms on over one million GloVe word embeddings.\n",
        "\n",
        "Again, we put a ton of effort into prototyping with these algorithms but the results weren’t impressive. In nearly all cases, random search performed about as well as Optuna’s MO HPO strategy. We surmise that the reason lies in the relationship of these algorithms’ hyperparameters with the output objective space. Many ANN algorithms have hyperparameters that are designed to exert influence on only one or two objectives, constraining the range of possible output realizations. For example, we may think we have a wide two-dimensional plane of (speed, accuracy) points to explore, like we’ve discussed above. But for ANNs, the reality is that the actual possible range of realizable values is quite narrow because ANN hyperparameters tightly control single objectives. When this happens, it becomes much easier for random search to perform about as well as a more sophisticated HPO strategy, because there’s simply less output objective space to explore."
      ]
    },
    {
      "cell_type": "markdown",
      "metadata": {
        "id": "ZboWnfSTAQJ1"
      },
      "source": [
        "## Setup"
      ]
    },
    {
      "cell_type": "code",
      "execution_count": null,
      "metadata": {
        "id": "ggqF3mIJASFD"
      },
      "outputs": [
        {
          "name": "stdout",
          "output_type": "stream",
          "text": [
            "Writing requirements.txt\n"
          ]
        }
      ],
      "source": [
        "%%writefile requirements.txt\n",
        "ax-platform==0.1.20\n",
        "optuna==2.8.0\n",
        "pandas==1.2.4\n",
        "scikit-learn==0.23.2\n",
        "matplotlib==3.4.2\n",
        "seaborn==0.11.1\n",
        "xgboost==1.4.1\n",
        "h5py==3.2.1\n",
        "pyyaml==5.4.1 \n",
        "psutil==5.6.6 \n",
        "jinja2==3.0.0\n",
        "annoy==1.17.0\n",
        "hnswlib==0.5.1\n",
        "FALCONN"
      ]
    },
    {
      "cell_type": "code",
      "execution_count": null,
      "metadata": {
        "id": "g7Fc-fh9HmVJ"
      },
      "outputs": [],
      "source": [
        "!pip install -q -r requirements.txt"
      ]
    },
    {
      "cell_type": "markdown",
      "metadata": {
        "id": "GCZoK2LJ__Tl"
      },
      "source": [
        "## Multi-objective hyperparameter optimization with Ax\n",
        "\n",
        "This section demonstrates using Ax for multi-objective hyperparameter optimization synthetic binary classification task.\n",
        "\n",
        "In multi-objective hyperparameter optimization, we seek to find the \"Pareto frontier\" of points representing optimal tradeoffs between multiple objectives. In this example, we trade off prediction latency with predictive performance (area under the ROC curve). We will compare a Bayesian optimization algorithm, maximizing the expected hypervolume increase (EHVI) with Gaussian Process models of the objective functions, against quasi-random Sobol search.\n",
        "\n",
        "First, we need something to learn, so we'll generate a small, toy classification problem. We'll define the metrics we care about: the area under the ROC curve, and prediction latency. Then, we'll use the expected hypervolume improvement (EHVI) to find the Pareto frontier of points that maximize these objectives.\n",
        "\n",
        "This tutorial largely follows the official [Multi-Objective Optimization Ax API](https://ax.dev/tutorials/multiobjective_optimization.html) tutorial, but whereas the originial optimizes a known mathematical function, we have made some special considerations for hyperparameter optimization of machine learning models."
      ]
    },
    {
      "cell_type": "code",
      "execution_count": null,
      "metadata": {
        "id": "KSBDfNlFANLG"
      },
      "outputs": [],
      "source": [
        "import time\n",
        "import warnings\n",
        "from functools import lru_cache\n",
        "\n",
        "import matplotlib.pyplot as plt\n",
        "import numpy as np\n",
        "import pandas as pd\n",
        "\n",
        "from ax import Data, Models, MultiObjective, MultiObjectiveOptimizationConfig, ObjectiveThreshold\n",
        "from ax.core.experiment import Experiment\n",
        "from ax.core.parameter import RangeParameter, ParameterType\n",
        "from ax.core.search_space import SearchSpace\n",
        "from ax.metrics.noisy_function import NoisyFunctionMetric\n",
        "from ax.modelbridge.factory import get_MOO_EHVI\n",
        "from ax.modelbridge.modelbridge_utils import observed_hypervolume\n",
        "from ax.plot.exp_utils import exp_to_df\n",
        "from ax.plot.pareto_frontier import plot_pareto_frontier\n",
        "from ax.plot.pareto_utils import compute_pareto_frontier\n",
        "from ax.runners.synthetic import SyntheticRunner\n",
        "from ax.utils.notebook.plotting import render, init_notebook_plotting\n",
        "\n",
        "from sklearn.datasets import make_classification\n",
        "from sklearn.metrics import roc_auc_score\n",
        "from sklearn.model_selection import cross_validate, train_test_split\n",
        "from sklearn.neural_network import MLPClassifier\n",
        "from sklearn.pipeline import Pipeline\n",
        "from sklearn.preprocessing import StandardScaler"
      ]
    },
    {
      "cell_type": "markdown",
      "metadata": {
        "id": "coastal-wonder"
      },
      "source": [
        "There are some (safe!) warnings we anticipate, so we'll turn off the noise."
      ]
    },
    {
      "cell_type": "code",
      "execution_count": null,
      "metadata": {
        "id": "alternate-tooth"
      },
      "outputs": [],
      "source": [
        "warnings.filterwarnings('ignore')"
      ]
    },
    {
      "cell_type": "markdown",
      "metadata": {
        "id": "assured-wrapping"
      },
      "source": [
        "### Data"
      ]
    },
    {
      "cell_type": "markdown",
      "metadata": {
        "id": "metropolitan-belgium"
      },
      "source": [
        "Let's generate a classification problem. `sklearn` has a helper for that. The exact parameters aren't too important! In this notebook, we really just want to explore how to use Ax for multi-objective hyperparameter optimization."
      ]
    },
    {
      "cell_type": "code",
      "execution_count": null,
      "metadata": {
        "id": "991e3f7b"
      },
      "outputs": [],
      "source": [
        "X, y = make_classification(n_samples=1000, n_features=40, n_informative=20)"
      ]
    },
    {
      "cell_type": "markdown",
      "metadata": {
        "id": "antique-desire"
      },
      "source": [
        "We'll make an 80/20 split and use the larger portion for training, and the smaller portion for evaluation. If the algorithm we trained was going to be used, we'd want a third split to report our final metrics on. As is, we might risk overfitting the hyperparameters to the dev set across many trials. To avoid tripling (or more) the run time, we'll skip cross-validation and simply train each algorithm on the train set, and evaluate on dev. We could get a more robust measure of the metrics associated with each hyperparameter configuration by cross-validating each."
      ]
    },
    {
      "cell_type": "code",
      "execution_count": null,
      "metadata": {
        "id": "pending-thriller"
      },
      "outputs": [],
      "source": [
        "X_train, X_dev, y_train, y_dev = train_test_split(X, y, test_size=0.2, shuffle=True, stratify=y)"
      ]
    },
    {
      "cell_type": "markdown",
      "metadata": {
        "id": "normal-convertible"
      },
      "source": [
        "### Optimization objectives\n",
        "\n",
        "Let's say we care about two objectives: the area under the ROC curve (AUC), and latency. AUC captures the quality of a classifier in a threshold-independent way, and is appropriate for the balanced class distribution we have in our toy problem. By optimizing for this, we're finding a good classifier without making a decision about how bad each flavour of misclassification (false positives and false negatives) are, whereas optimizing for a point metric like accuracy directly would be making that call. Latency measures how long a prediction takes. As it turns out, with the scikit-learn multi-layer perceptron model we'll use, not very long. To help smooth out noise in the latency measurement, we'll measure the time required to predict on a batch of a million points.\n",
        "\n",
        "This will be a small model, and no GPU is used. If we were using a GPU-enabled framework (like PyTorch, TensorFlow, or Jax), we'd need to be a little more careful about how we measure latency. Also note that in most applications, we'd probably be more interested in the total response time of a model end point, or the total processing time for a large batch of offline predictions, and it's not necessarily the case that the actual model prediction time is the dominant bottleneck to those things at all!"
      ]
    },
    {
      "cell_type": "code",
      "execution_count": null,
      "metadata": {
        "id": "distant-intake"
      },
      "outputs": [],
      "source": [
        "million_points = np.repeat(X, 1000, axis=0)"
      ]
    },
    {
      "cell_type": "code",
      "execution_count": null,
      "metadata": {
        "id": "biological-travel"
      },
      "outputs": [],
      "source": [
        "def roc(model, X, y):\n",
        "    return roc_auc_score(y, model.predict(X))\n",
        "\n",
        "def latency(model, X):\n",
        "    start = time.time()\n",
        "    model.predict(X)\n",
        "    end = time.time()\n",
        "    return end - start"
      ]
    },
    {
      "cell_type": "markdown",
      "metadata": {
        "id": "paperback-cleaner"
      },
      "source": [
        "We define a training routine, and compute the objectives. We also wrap the routine in a `lru_cache` decorator. Ax optimizes over black box functions, and each objective is evaluated seperately. This makes it very flexible (and applicable to many more optimization problems than hyperparameter optimization), but means that no special consideration is given for hyperparameter optimization, like how expensive it is to repeatedly train a model.\n",
        "\n",
        "Since we are using the Developer API to Ax, we are afforded low level control over how the results of trials are handled. We could write some code in the Ax optimization loop to avoid requiring multiple evaluations. A simpler fix, since we're running only locally, is to cache the function, so that the second and subsequent evaluations are near instant, and we avoid retraining the model. A good description of both options is given in an Ax GitHub issue addressing exactly this question: [Ax/issues/584](https://github.com/facebook/Ax/issues/584).\n",
        "\n",
        "The `train_wrapper` function is simply to enable caching - mutable objects cannot be cached, so we must unpack and repack some arguments."
      ]
    },
    {
      "cell_type": "code",
      "execution_count": null,
      "metadata": {
        "id": "19059dad"
      },
      "outputs": [],
      "source": [
        "@lru_cache() #maxsize=maxsize\n",
        "def train(**param_dict):\n",
        "    hidden_layer_sizes = [\n",
        "        round(param_dict[f\"layer_{layer+1}_size\"])\n",
        "        for layer in range(round(param_dict[\"n_layers\"]))\n",
        "    ]\n",
        "\n",
        "    pipeline = Pipeline([\n",
        "        (\"scaler\", StandardScaler()),\n",
        "        (\"mlp\", MLPClassifier(\n",
        "            solver=\"adam\",\n",
        "            hidden_layer_sizes=hidden_layer_sizes,\n",
        "            alpha=param_dict[\"alpha\"],\n",
        "            tol=param_dict[\"tol\"],\n",
        "            beta_1=param_dict[\"beta_1\"],\n",
        "            beta_2=param_dict[\"beta_2\"],\n",
        "            learning_rate_init=param_dict[\"learning_rate_init\"]\n",
        "        ))\n",
        "    ])\n",
        "\n",
        "    # expedient for testing\n",
        "    pipeline.fit(X_train, y_train)\n",
        "    metrics = {\n",
        "        \"auc\": roc(pipeline, X_dev, y_dev),\n",
        "        \"latency\": latency(pipeline, million_points)\n",
        "    }\n",
        "\n",
        "    return metrics\n",
        "\n",
        "\n",
        "def train_wrapper(param_dict):\n",
        "    return train(**param_dict)"
      ]
    },
    {
      "cell_type": "markdown",
      "metadata": {
        "id": "independent-myrtle"
      },
      "source": [
        "### Search space\n",
        "\n",
        "Search space for scikit-learn's `MLPClassifier` roughly taken from [Multi-objective multi-fidelity hyperparameter optimization with application to fairness](https://www.amazon.science/publications/multi-objective-multi-fidelity-hyperparameter-optimization-with-application-to-fairness).\n",
        "\n",
        "Notice that this is a tricky search space! We allow up to three layers in the network, and we must always sample a layer size for each layer, even those we do not use. That means when we vary both `layer_3_size` and `n_layers`, the information about the effect of `layer_3_size` will be noisy, since it may not even be used, and thus not affect the HP search space at all. Hierarchical search spaces are on the long-term wishlist for Ax. As of right now, it works without special consideration, but it makes the problem harder.\n",
        "\n",
        "You may notice all the parameters are given type float. This seems strange, since the number of layers in a network is definitely an integer. We found that using integer `ParameterType`s resulted in the qEHVI algorithm we use below getting stuck on repeated hyperparameter combinations. The Gaussian Process models under the hood require that all parameters are presented as floats, and so we posit something goes wrong in the internal integer -> float -> integer conversion. Empirically, setting the `ParameterType` to `FLOAT` and casting to an integer on use in the `train` function above avoided the problem of repeated hyperparameter configurations."
      ]
    },
    {
      "cell_type": "code",
      "execution_count": null,
      "metadata": {
        "id": "2475fe51"
      },
      "outputs": [],
      "source": [
        "parameter_space = {\n",
        "    \"n_layers\": RangeParameter(name=\"n_layers\", lower=1, upper=3, parameter_type=ParameterType.FLOAT),\n",
        "    \"layer_1_size\": RangeParameter(name=\"layer_1_size\", lower=2, upper=50, parameter_type=ParameterType.FLOAT),\n",
        "    \"layer_2_size\": RangeParameter(name=\"layer_2_size\", lower=2, upper=50, parameter_type=ParameterType.FLOAT),\n",
        "    \"layer_3_size\": RangeParameter(name=\"layer_3_size\", lower=2, upper=50, parameter_type=ParameterType.FLOAT),\n",
        "    \"alpha\": RangeParameter(name=\"alpha\", lower=1e-6, upper=1, parameter_type=ParameterType.FLOAT, log_scale=True),\n",
        "    \"tol\": RangeParameter(name=\"tol\", lower=1e-5, upper=1e-1, parameter_type=ParameterType.FLOAT, log_scale=True),\n",
        "    \"beta_1\": RangeParameter(name=\"beta_1\", lower=0.001, upper=0.99, parameter_type=ParameterType.FLOAT),\n",
        "    \"beta_2\": RangeParameter(name=\"beta_2\", lower=0.001, upper=0.99, parameter_type=ParameterType.FLOAT),\n",
        "    \"learning_rate_init\": RangeParameter(name=\"learning_rate_init\", lower=1e-6, upper=1e-1, parameter_type=ParameterType.FLOAT, log_scale=True)\n",
        "}"
      ]
    },
    {
      "cell_type": "markdown",
      "metadata": {
        "id": "municipal-variation"
      },
      "source": [
        "From the individual paramater spaces, we construct a search space."
      ]
    },
    {
      "cell_type": "code",
      "execution_count": null,
      "metadata": {
        "id": "lonely-version"
      },
      "outputs": [],
      "source": [
        "search_space = SearchSpace(\n",
        "    parameters = parameter_space.values(),\n",
        ")"
      ]
    },
    {
      "cell_type": "code",
      "execution_count": null,
      "metadata": {
        "id": "d43aed10"
      },
      "outputs": [],
      "source": [
        "# This is a helper - the function we optimize must accept an array of arguments,\n",
        "# but it is clearer to use named entries in a dict, so we manually convert\n",
        "\n",
        "def cast_params_as_dict(current_params):\n",
        "    current_param_dict = dict()\n",
        "    for i, key in enumerate(list(parameter_space.keys())):\n",
        "        current_param_dict[key] = current_params[i]\n",
        "    return current_param_dict"
      ]
    },
    {
      "cell_type": "markdown",
      "metadata": {
        "id": "typical-planner"
      },
      "source": [
        "### Optimization objectives"
      ]
    },
    {
      "cell_type": "markdown",
      "metadata": {
        "id": "9b6151d8"
      },
      "source": [
        "We must define the objectives we care about in a way Ax understands. To do this, we write a small custom class for each metric, inheriting from an Ax base class. Note that we can specify whether lower is better or worse for each objective individually when instantiating the class, making it possible to jointly optimize for maximimum AUC and minimum latency."
      ]
    },
    {
      "cell_type": "code",
      "execution_count": null,
      "metadata": {
        "id": "affected-stake"
      },
      "outputs": [],
      "source": [
        "class MetricAUC(NoisyFunctionMetric):\n",
        "    def f(self, params: np.array):\n",
        "        param_dict = cast_params_as_dict(params)\n",
        "        return float(train_wrapper(param_dict)[\"auc\"])\n",
        "    \n",
        "class MetricLatency(NoisyFunctionMetric):\n",
        "    def f(self, params: np.array):\n",
        "        param_dict = cast_params_as_dict(params)\n",
        "        return float(train_wrapper(param_dict)[\"latency\"])"
      ]
    },
    {
      "cell_type": "code",
      "execution_count": null,
      "metadata": {
        "id": "981b68b8"
      },
      "outputs": [],
      "source": [
        "metric_auc = MetricAUC(\"auc\", parameter_space.keys(), noise_sd=0.0, lower_is_better=False)\n",
        "metric_latency = MetricLatency(\"latency\", parameter_space.keys(), noise_sd=0.0, lower_is_better=True)"
      ]
    },
    {
      "cell_type": "code",
      "execution_count": null,
      "metadata": {
        "id": "silver-strategy"
      },
      "outputs": [],
      "source": [
        "mo = MultiObjective(metrics=[\n",
        "    metric_auc,\n",
        "    metric_latency\n",
        "])"
      ]
    },
    {
      "cell_type": "markdown",
      "metadata": {
        "id": "3ae6b54e"
      },
      "source": [
        "We must set some _objective thresholds_. These determine the point from which the hypervolume is measured. The Ax docs advise picking a point around 10% lower (or higher, if the objective is to be minimized) than the lowest acceptable value for the ultimate purpose of the thing we're optimizing. So, if an algorithm must predict a million points in less than a second, we'd want our latency metric bound at 1.1s.\n",
        "\n",
        "When first exploring a problem, we may have no idea what accuracy or latency is achievable. In this case we recommend running manually with a few random hyperparameter combinations to get ballpark estimates. Over time, the objective thresholds can be refined to focus the search towards a particular part of the Pareto frontier.\n",
        "\n",
        "Choosing these values carefully is important. If we choose an objective threshold for a maximization target that we never reach, we won't be able to calculate a hypervolume at all (it's zero!) and the optimization process will fail. A little bit of experimentation is recommended here, perhaps with a sample of the dataset you ultimately want to train on for speed.\n",
        "\n",
        "The `relative` flag allows the bound to be a percentage of the current best trial for that objective, but we'll stick to absolute thresholds."
      ]
    },
    {
      "cell_type": "code",
      "execution_count": null,
      "metadata": {
        "id": "czech-powder"
      },
      "outputs": [],
      "source": [
        "objective_thresholds = [\n",
        "    ObjectiveThreshold(metric=metric_auc, bound=0.5, relative=False),\n",
        "    ObjectiveThreshold(metric=metric_latency, bound=2.0, relative=False),\n",
        "]"
      ]
    },
    {
      "cell_type": "markdown",
      "metadata": {
        "id": "4dc00374"
      },
      "source": [
        "We bundle up the objectives and thresholds into a config that will be passed to the experiment."
      ]
    },
    {
      "cell_type": "code",
      "execution_count": null,
      "metadata": {
        "id": "received-charles"
      },
      "outputs": [],
      "source": [
        "optimization_config = MultiObjectiveOptimizationConfig(\n",
        "    objective=mo,\n",
        "    objective_thresholds=objective_thresholds   \n",
        ")"
      ]
    },
    {
      "cell_type": "markdown",
      "metadata": {
        "id": "e9404de3"
      },
      "source": [
        "### Experiment setup"
      ]
    },
    {
      "cell_type": "markdown",
      "metadata": {
        "id": "frequent-today"
      },
      "source": [
        "We'll run two hyperparameter searches: one using the expected hypervolume improvement, and another with quasi-random Sobol sampling for comparison. In both cases, we initialize our model for generating new hyperparameter configs with a few random points, before performing a fixed number of trials. (In the Sobol case, there's no difference between the random initial points and the rest of the points)."
      ]
    },
    {
      "cell_type": "code",
      "execution_count": null,
      "metadata": {
        "id": "local-breakfast"
      },
      "outputs": [],
      "source": [
        "N_INIT = 5    # number of initial (SOBOL) points\n",
        "N_TRIAL = 50  # number of trials to run after initialization"
      ]
    },
    {
      "cell_type": "markdown",
      "metadata": {
        "id": "compact-cylinder"
      },
      "source": [
        "A couple of helper functions to avoid repeating ourselves. An `Experiment` is the abstraction for a complete hyperparameter search in Ax. The `runner` determines how the trials of the experiment are deployed. For instance, here, they're run locally using the `SyntheticRunner` with no changes. Ax allows custom runners, which (the docs tell us) can control things like deploying the experiment to production (to collect data there, useful for A/B testing-like optimization)."
      ]
    },
    {
      "cell_type": "code",
      "execution_count": null,
      "metadata": {
        "id": "adaptive-terrace"
      },
      "outputs": [],
      "source": [
        "def build_experiment(name):\n",
        "    experiment = Experiment(\n",
        "        name=name,\n",
        "        search_space=search_space,\n",
        "        optimization_config=optimization_config,\n",
        "        runner=SyntheticRunner(),\n",
        "    )\n",
        "    return experiment"
      ]
    },
    {
      "cell_type": "code",
      "execution_count": null,
      "metadata": {
        "id": "trying-folks"
      },
      "outputs": [],
      "source": [
        "def initialize_experiment(experiment):\n",
        "    sobol = Models.SOBOL(search_space=experiment.search_space)\n",
        "\n",
        "    for _ in range(N_INIT):\n",
        "        experiment.new_trial(sobol.gen(1)).run()\n",
        "\n",
        "    return experiment.fetch_data()"
      ]
    },
    {
      "cell_type": "markdown",
      "metadata": {
        "id": "completed-madness"
      },
      "source": [
        "### MOBO Experiment (with EHVI)"
      ]
    },
    {
      "cell_type": "markdown",
      "metadata": {
        "id": "annual-retrieval"
      },
      "source": [
        "For the first experiment, we'll use the qEHVI algorithm detailed in the paper [Differentiable Expected Hypervolume Improvement for Parallel Multi-Objective Bayesian Optimization](https://arxiv.org/abs/2006.05078). The \"q\" in \"qEHVI\" represents the number of parallel trials, and since we're not parallelizing anything, q=1 here. We explained how the expected hypervolume improvement (EHVI) acquisition function works in this blog post [Exploring Multi-Objective Hyperparameter Optimization](https://blog.fastforwardlabs.com/2021/07/07/exploring-multi-objective-hyperparameter-optimization.html). In a nutshell, we create a model that takes hyperparameters as inputs and predicts the resultant optimization objectives as outputs. We use this model to find the input hyperparameter combination that will most improve the hypervolume spanned between the Pareto frontier and the objective thresholds we set earlier. Then, we try that hyperparameter config, generating a new data point with which to improve our model, and loop this whole procedure `N_TRIAL` times."
      ]
    },
    {
      "cell_type": "code",
      "execution_count": null,
      "metadata": {
        "id": "healthy-emission"
      },
      "outputs": [],
      "source": [
        "def ehvi_experiment(experiment, data):\n",
        "    \"\"\"\n",
        "    Takes in an initialized experiment (with SOBOL, for example)\n",
        "    along with data generated from that initial experiment. \n",
        "    These provide the basis of the MOO_EHVI model\n",
        "    \"\"\"\n",
        "    hv_list = []\n",
        "    model = None\n",
        "    for i in range(N_TRIAL):\n",
        "        print(f\"Iteration: {i}\")\n",
        "        # create an optimization model\n",
        "        model = get_MOO_EHVI(\n",
        "            experiment=experiment, \n",
        "            data=data,\n",
        "        )\n",
        "\n",
        "        # generate a candidate hp configuration\n",
        "        generator_run = model.gen(1)\n",
        "\n",
        "        # turn that config into a trial and run it\n",
        "        trial = experiment.new_trial(generator_run=generator_run)\n",
        "        print(f\"Trial parameters: {trial.arm.parameters}\")\n",
        "        trial.run()\n",
        "\n",
        "        # get the results of that trial and append it to existing results\n",
        "        data = Data.from_multiple_data([data, trial.fetch_data()])\n",
        "\n",
        "        try:\n",
        "            hv = observed_hypervolume(modelbridge=model)\n",
        "        except:\n",
        "            hv = 0\n",
        "            print(\"Failed to compute hv\")\n",
        "        hv_list.append(hv)\n",
        "        print(f\"Hypervolume: {hv}\")\n",
        "        print()\n",
        "\n",
        "    return np.array(exp_to_df(experiment)[[\"auc\", \"latency\"]], dtype=np.double), model, data"
      ]
    },
    {
      "cell_type": "markdown",
      "metadata": {
        "id": "desirable-lewis"
      },
      "source": [
        "Initialize the experiment with `N_INIT` random points, and fit a model to those points."
      ]
    },
    {
      "cell_type": "code",
      "execution_count": null,
      "metadata": {
        "id": "1cd6f991"
      },
      "outputs": [],
      "source": [
        "mobo_experiment = build_experiment(\"mo_mlp\")\n",
        "mobo_data = initialize_experiment(mobo_experiment)"
      ]
    },
    {
      "cell_type": "markdown",
      "metadata": {
        "id": "bulgarian-rabbit"
      },
      "source": [
        "Begin sampling hyperparameter configurations smartly here. We output the outcomes, model and raw data. We'll only actually use the outcomes below, but Ax has a host of neat visualizations that can be built from the model and data, and it's handy to have them around if you'd like to have a play!\n",
        "\n",
        "On each trial we also output the hyperparameter combination. Note that everything is a float due to our earlier computational trick. Notice also that we generate all the `layer_x_size` hyperparameters on each trial, even if `n_layers` means that they won't all be used."
      ]
    },
    {
      "cell_type": "code",
      "execution_count": null,
      "metadata": {
        "id": "d7b5453d"
      },
      "outputs": [
        {
          "name": "stdout",
          "output_type": "stream",
          "text": [
            "Iteration: 0\n",
            "Trial parameters: {'n_layers': 2.171482669035623, 'layer_1_size': 30.08647830534666, 'layer_2_size': 2.071838398216976, 'layer_3_size': 2.0, 'alpha': 1.1461861985117928e-05, 'tol': 0.0015148752326422294, 'beta_1': 0.2823774422300207, 'beta_2': 0.3235873399832296, 'learning_rate_init': 0.1}\n",
            "Hypervolume: 0.4542651975154876\n",
            "\n",
            "Iteration: 1\n",
            "Trial parameters: {'n_layers': 2.1559662174735656, 'layer_1_size': 34.392685004951716, 'layer_2_size': 2.0, 'layer_3_size': 2.0000000000000004, 'alpha': 4.885909407587005e-06, 'tol': 0.001581289807264481, 'beta_1': 0.4486767992040468, 'beta_2': 0.24576658413799793, 'learning_rate_init': 0.1}\n",
            "Hypervolume: 0.4969227111339569\n",
            "\n",
            "Iteration: 2\n",
            "Trial parameters: {'n_layers': 2.168520731591188, 'layer_1_size': 32.788328555101394, 'layer_2_size': 2.0, 'layer_3_size': 2.0, 'alpha': 7.70695609181423e-05, 'tol': 0.0018821611128834747, 'beta_1': 0.32901484388947333, 'beta_2': 0.17551068504044162, 'learning_rate_init': 0.1}\n",
            "Hypervolume: 0.4969227111339569\n",
            "\n",
            "Iteration: 3\n",
            "Trial parameters: {'n_layers': 2.1965441163266024, 'layer_1_size': 38.878539082805126, 'layer_2_size': 2.0, 'layer_3_size': 2.000000000000001, 'alpha': 1.1693167177245632e-05, 'tol': 0.0032980252422236574, 'beta_1': 0.24440184158634584, 'beta_2': 0.30631586777782577, 'learning_rate_init': 0.1}\n",
            "Hypervolume: 0.4969227111339569\n",
            "\n",
            "Iteration: 4\n",
            "Trial parameters: {'n_layers': 2.1554462401856114, 'layer_1_size': 27.876108720090528, 'layer_2_size': 2.0, 'layer_3_size': 2.0, 'alpha': 9.285826395574598e-06, 'tol': 0.007915046766495017, 'beta_1': 0.3393730911921644, 'beta_2': 0.23572099775207456, 'learning_rate_init': 0.1}\n",
            "Hypervolume: 0.5018305158615112\n",
            "\n",
            "Iteration: 5\n",
            "Trial parameters: {'n_layers': 2.504480657269585, 'layer_1_size': 31.543215389630127, 'layer_2_size': 2.0, 'layer_3_size': 2.0, 'alpha': 1.2450609638958142e-05, 'tol': 0.0016577129894726156, 'beta_1': 0.32804614370209617, 'beta_2': 0.24114523691423684, 'learning_rate_init': 0.07324881520582602}\n",
            "Hypervolume: 0.5077590203285217\n",
            "\n",
            "Iteration: 6\n",
            "Trial parameters: {'n_layers': 2.1407625350324024, 'layer_1_size': 32.975575935025184, 'layer_2_size': 7.5641726314122355, 'layer_3_size': 2.000000000000002, 'alpha': 5.263330295525675e-06, 'tol': 0.0011806415752733932, 'beta_1': 0.24051611665607558, 'beta_2': 0.1648346820716327, 'learning_rate_init': 0.07149941692102016}\n",
            "Hypervolume: 0.5077590203285217\n",
            "\n",
            "Iteration: 7\n",
            "Trial parameters: {'n_layers': 2.2844628346428317, 'layer_1_size': 35.6128305312202, 'layer_2_size': 2.0, 'layer_3_size': 2.0, 'alpha': 4.521445246774359e-05, 'tol': 0.0019857893588151065, 'beta_1': 0.38858326786146824, 'beta_2': 0.3569262215709754, 'learning_rate_init': 0.1}\n",
            "Hypervolume: 0.5077590203285217\n",
            "\n",
            "Iteration: 8\n",
            "Trial parameters: {'n_layers': 2.181785332592603, 'layer_1_size': 32.092949056359785, 'layer_2_size': 2.0000000000000138, 'layer_3_size': 8.018564742883298, 'alpha': 1.762033690693942e-05, 'tol': 0.0021589475480211498, 'beta_1': 0.33056563088506113, 'beta_2': 0.28647770878039147, 'learning_rate_init': 0.053369993520097275}\n",
            "Hypervolume: 0.5077590203285217\n",
            "\n",
            "Iteration: 9\n",
            "Trial parameters: {'n_layers': 2.1229704596322803, 'layer_1_size': 33.379802585996465, 'layer_2_size': 2.000000005201619, 'layer_3_size': 2.0, 'alpha': 1.9470067154406234e-05, 'tol': 0.002212618601943917, 'beta_1': 0.33384352135660883, 'beta_2': 0.2883312944327689, 'learning_rate_init': 0.02161882611679547}\n",
            "Hypervolume: 0.528127644062042\n",
            "\n",
            "Iteration: 10\n",
            "Trial parameters: {'n_layers': 2.2761734072992796, 'layer_1_size': 21.24786952110524, 'layer_2_size': 2.0, 'layer_3_size': 9.77580267266817, 'alpha': 2.2782447436130996e-05, 'tol': 0.0013196204781981532, 'beta_1': 0.41803511519533454, 'beta_2': 0.2476367755743143, 'learning_rate_init': 0.09999999993081568}\n",
            "Hypervolume: 0.528127644062042\n",
            "\n",
            "Iteration: 11\n",
            "Trial parameters: {'n_layers': 2.3708642794808106, 'layer_1_size': 15.961970335777423, 'layer_2_size': 2.0000000000000466, 'layer_3_size': 11.30367195097513, 'alpha': 5.296683778565724e-05, 'tol': 0.0026748010966388294, 'beta_1': 0.19669488713593217, 'beta_2': 0.28400806993714833, 'learning_rate_init': 0.0999999999999957}\n",
            "Hypervolume: 0.5423303472995756\n",
            "\n",
            "Iteration: 12\n",
            "Trial parameters: {'n_layers': 2.3879304584355525, 'layer_1_size': 12.110614309508819, 'layer_2_size': 2.000000000000383, 'layer_3_size': 12.090141099811415, 'alpha': 3.2485296835728523e-06, 'tol': 0.0026534332055059328, 'beta_1': 0.25368824794074213, 'beta_2': 0.3648850806720361, 'learning_rate_init': 0.09999999999989959}\n",
            "Hypervolume: 0.552562699317932\n",
            "\n",
            "Iteration: 13\n",
            "Trial parameters: {'n_layers': 2.3008292557503456, 'layer_1_size': 5.931034087172928, 'layer_2_size': 2.0, 'layer_3_size': 5.531588035603183, 'alpha': 4.4114821778808025e-06, 'tol': 0.0026032083097342466, 'beta_1': 0.28990616132537833, 'beta_2': 0.2839499769192946, 'learning_rate_init': 0.1}\n",
            "Hypervolume: 0.5786638271808623\n",
            "\n",
            "Iteration: 14\n",
            "Trial parameters: {'n_layers': 2.4358822658457693, 'layer_1_size': 2.0, 'layer_2_size': 2.0, 'layer_3_size': 2.40868687631494, 'alpha': 2.1746395739235583e-06, 'tol': 0.0023827308697848474, 'beta_1': 0.26786634367069173, 'beta_2': 0.21043247132917572, 'learning_rate_init': 0.1}\n",
            "Hypervolume: 0.6390115344524382\n",
            "\n",
            "Iteration: 15\n",
            "Trial parameters: {'n_layers': 2.2977471124946436, 'layer_1_size': 29.647383247239524, 'layer_2_size': 2.0000000000817857, 'layer_3_size': 13.377488415458469, 'alpha': 7.894079277531108e-06, 'tol': 0.002655347185384139, 'beta_1': 0.2927377671795356, 'beta_2': 0.3326066685098693, 'learning_rate_init': 0.09365821870574463}\n",
            "Hypervolume: 0.6743603813648222\n",
            "\n",
            "Iteration: 16\n",
            "Trial parameters: {'n_layers': 2.4198308960816055, 'layer_1_size': 17.71988872165018, 'layer_2_size': 2.0, 'layer_3_size': 11.098336461857787, 'alpha': 1.390103035708873e-05, 'tol': 0.0018082427622846322, 'beta_1': 0.262680807696098, 'beta_2': 0.3729265674811088, 'learning_rate_init': 0.03670215196731105}\n",
            "Hypervolume: 0.6747909152507781\n",
            "\n",
            "Iteration: 17\n",
            "Trial parameters: {'n_layers': 2.455302931995293, 'layer_1_size': 2.0, 'layer_2_size': 2.0, 'layer_3_size': 2.000000002616093, 'alpha': 1.1934609500280115e-06, 'tol': 0.0006977356479936777, 'beta_1': 0.26402431567435675, 'beta_2': 0.18131391161165974, 'learning_rate_init': 0.1}\n",
            "Hypervolume: 0.6747909152507781\n",
            "\n",
            "Iteration: 18\n",
            "Trial parameters: {'n_layers': 2.7246090963433707, 'layer_1_size': 2.00000000787909, 'layer_2_size': 2.0000000120430705, 'layer_3_size': 2.000000073127251, 'alpha': 2.9801204533115163e-06, 'tol': 0.0011829638364021704, 'beta_1': 0.32294203970911844, 'beta_2': 0.26455338645478965, 'learning_rate_init': 0.09999999972422231}\n",
            "Hypervolume: 0.6753506302833556\n",
            "\n",
            "Iteration: 19\n",
            "Trial parameters: {'n_layers': 2.511806025975865, 'layer_1_size': 2.000000000000165, 'layer_2_size': 2.0000000000003606, 'layer_3_size': 2.000000000001316, 'alpha': 1.0000000000001185e-06, 'tol': 0.0017893153320823576, 'beta_1': 0.37947419521767267, 'beta_2': 0.10969514552380613, 'learning_rate_init': 0.1}\n",
            "Hypervolume: 0.6753506302833556\n",
            "\n",
            "Iteration: 20\n",
            "Trial parameters: {'n_layers': 2.5668846185546323, 'layer_1_size': 2.0000000000000098, 'layer_2_size': 2.0000000000000187, 'layer_3_size': 2.0000000000000187, 'alpha': 2.2983096452556754e-06, 'tol': 0.0008368413669434144, 'beta_1': 0.18750360351542125, 'beta_2': 0.2722287921883868, 'learning_rate_init': 0.09999999999999959}\n",
            "Hypervolume: 0.6753506302833556\n",
            "\n",
            "Iteration: 21\n",
            "Trial parameters: {'n_layers': 2.175409661713549, 'layer_1_size': 30.96061600468984, 'layer_2_size': 4.725067706896717, 'layer_3_size': 11.584705354692389, 'alpha': 5.523780001275952e-05, 'tol': 0.0008281034363167859, 'beta_1': 0.3857629606631202, 'beta_2': 0.2754608293485975, 'learning_rate_init': 0.09999999956225132}\n",
            "Hypervolume: 0.6753506302833556\n",
            "\n",
            "Iteration: 22\n",
            "Trial parameters: {'n_layers': 2.579249473582747, 'layer_1_size': 14.107374786788643, 'layer_2_size': 2.000000000000044, 'layer_3_size': 9.853311565321544, 'alpha': 8.98716770781367e-06, 'tol': 0.0012688358433801683, 'beta_1': 0.2486651132010794, 'beta_2': 0.2532521322179295, 'learning_rate_init': 0.1}\n",
            "Hypervolume: 0.6753506302833556\n",
            "\n",
            "Iteration: 23\n",
            "Trial parameters: {'n_layers': 2.0769455423026284, 'layer_1_size': 21.32043127246135, 'layer_2_size': 2.0000324928404685, 'layer_3_size': 5.542660610274344, 'alpha': 1.8832645533399574e-05, 'tol': 0.0006735630400330491, 'beta_1': 0.16868690493511163, 'beta_2': 0.21299442768194718, 'learning_rate_init': 0.09999957895958349}\n"
          ]
        },
        {
          "name": "stdout",
          "output_type": "stream",
          "text": [
            "Hypervolume: 0.6753506302833556\n",
            "\n",
            "Iteration: 24\n",
            "Trial parameters: {'n_layers': 2.33898454049863, 'layer_1_size': 2.0, 'layer_2_size': 2.0, 'layer_3_size': 2.000000001451734, 'alpha': 1.0000000002168774e-06, 'tol': 0.0017696101934131195, 'beta_1': 0.40236014283387966, 'beta_2': 0.3849995251040405, 'learning_rate_init': 0.1}\n",
            "Hypervolume: 0.6753506302833556\n",
            "\n",
            "Iteration: 25\n",
            "Trial parameters: {'n_layers': 2.0998638534663705, 'layer_1_size': 16.221529986826575, 'layer_2_size': 4.216120793925986, 'layer_3_size': 8.18961306754179, 'alpha': 4.153461509004716e-05, 'tol': 0.00823856122117489, 'beta_1': 0.2550077074035585, 'beta_2': 0.36015722570253444, 'learning_rate_init': 0.1}\n",
            "Hypervolume: 0.6753506302833556\n",
            "\n",
            "Iteration: 26\n",
            "Trial parameters: {'n_layers': 2.3690197106053503, 'layer_1_size': 2.000000000001144, 'layer_2_size': 2.0000000000012297, 'layer_3_size': 2.000000000001774, 'alpha': 1.1074317504396192e-06, 'tol': 0.0004962911348616523, 'beta_1': 0.33693812845081966, 'beta_2': 0.22181933448306582, 'learning_rate_init': 0.027404057764938254}\n",
            "Hypervolume: 0.6753506302833556\n",
            "\n",
            "Iteration: 27\n",
            "Trial parameters: {'n_layers': 2.2907800929747935, 'layer_1_size': 28.025427409474666, 'layer_2_size': 2.0, 'layer_3_size': 11.319119104383475, 'alpha': 2.847524866552166e-06, 'tol': 0.002912666172343327, 'beta_1': 0.2679797247421904, 'beta_2': 0.28236319216160854, 'learning_rate_init': 0.1}\n",
            "Hypervolume: 0.6767765033245084\n",
            "\n",
            "Iteration: 28\n",
            "Trial parameters: {'n_layers': 2.259476975678476, 'layer_1_size': 27.56570138818317, 'layer_2_size': 2.0000000000001186, 'layer_3_size': 7.406192447839585, 'alpha': 5.8156337545378865e-05, 'tol': 0.003581516697766077, 'beta_1': 0.37020848608648477, 'beta_2': 0.3046460563373836, 'learning_rate_init': 0.09999999999999938}\n",
            "Hypervolume: 0.6767765033245084\n",
            "\n",
            "Iteration: 29\n",
            "Trial parameters: {'n_layers': 2.3617568674505836, 'layer_1_size': 2.0, 'layer_2_size': 2.0, 'layer_3_size': 2.0, 'alpha': 1.0183003235982578e-05, 'tol': 0.0004016631805430063, 'beta_1': 0.34970091693446326, 'beta_2': 0.22008698980346006, 'learning_rate_init': 0.09470149839864953}\n",
            "Hypervolume: 0.6767765033245084\n",
            "\n",
            "Iteration: 30\n",
            "Trial parameters: {'n_layers': 2.0880496859648394, 'layer_1_size': 2.0000000440604184, 'layer_2_size': 2.000000000114252, 'layer_3_size': 15.075828925559662, 'alpha': 9.893983594078947e-06, 'tol': 0.0018839212529773062, 'beta_1': 0.16542865507266338, 'beta_2': 0.3373743623511453, 'learning_rate_init': 0.07408994735976521}\n",
            "Hypervolume: 0.6767765033245084\n",
            "\n",
            "Iteration: 31\n",
            "Trial parameters: {'n_layers': 2.352931728672978, 'layer_1_size': 27.13170525586469, 'layer_2_size': 3.590962896407267, 'layer_3_size': 6.521828584272605, 'alpha': 7.596596299851156e-06, 'tol': 0.005204493146422204, 'beta_1': 0.2549968087560718, 'beta_2': 0.37968984045903487, 'learning_rate_init': 0.09999999999998384}\n",
            "Hypervolume: 0.6767765033245084\n",
            "\n",
            "Iteration: 32\n",
            "Trial parameters: {'n_layers': 2.2955540989566177, 'layer_1_size': 2.000000649759022, 'layer_2_size': 2.000000243315218, 'layer_3_size': 9.878974090376314, 'alpha': 1.000000676232105e-06, 'tol': 0.0009031454606763224, 'beta_1': 0.25408420038110113, 'beta_2': 0.2262085111078986, 'learning_rate_init': 0.052124754641595245}\n",
            "Hypervolume: 0.677192803621292\n",
            "\n",
            "Iteration: 33\n",
            "Trial parameters: {'n_layers': 2.4149049199187242, 'layer_1_size': 2.000000000181535, 'layer_2_size': 2.0000000019973263, 'layer_3_size': 5.882747003652283, 'alpha': 5.737428125076955e-06, 'tol': 0.010178097552905557, 'beta_1': 0.22544160060416105, 'beta_2': 0.3505036704064393, 'learning_rate_init': 0.024243137848720956}\n",
            "Hypervolume: 0.677192803621292\n",
            "\n",
            "Iteration: 34\n",
            "Trial parameters: {'n_layers': 2.4678263688509934, 'layer_1_size': 21.697644122237072, 'layer_2_size': 7.563284500820823, 'layer_3_size': 7.4579621057293455, 'alpha': 9.079379776888422e-06, 'tol': 0.004510449265109881, 'beta_1': 0.27434494259025083, 'beta_2': 0.34449538455090056, 'learning_rate_init': 0.08377645457746859}\n",
            "Hypervolume: 0.6801311779022214\n",
            "\n",
            "Iteration: 35\n",
            "Trial parameters: {'n_layers': 2.006482158747981, 'layer_1_size': 32.93672039503974, 'layer_2_size': 2.0000000000014766, 'layer_3_size': 7.518012395572798, 'alpha': 9.052510679289635e-06, 'tol': 0.003933767392095681, 'beta_1': 0.3358597230209689, 'beta_2': 0.3767985508681723, 'learning_rate_init': 0.09999999999998528}\n",
            "Hypervolume: 0.6801311779022214\n",
            "\n",
            "Iteration: 36\n",
            "Trial parameters: {'n_layers': 2.349710133978586, 'layer_1_size': 2.0000000678741903, 'layer_2_size': 2.000000058386465, 'layer_3_size': 10.357118795659213, 'alpha': 8.168960636911883e-06, 'tol': 0.020465459096204893, 'beta_1': 0.2510726162481965, 'beta_2': 0.3987139372379151, 'learning_rate_init': 0.09999999932335508}\n",
            "Hypervolume: 0.6801311779022214\n",
            "\n",
            "Iteration: 37\n",
            "Trial parameters: {'n_layers': 2.2357994263303764, 'layer_1_size': 46.14269100155069, 'layer_2_size': 2.0, 'layer_3_size': 6.93141556387207, 'alpha': 3.708630016435144e-05, 'tol': 0.0009668094858794671, 'beta_1': 0.3059108542210651, 'beta_2': 0.21861364996603727, 'learning_rate_init': 0.1}\n",
            "Hypervolume: 0.6801311779022214\n",
            "\n",
            "Iteration: 38\n",
            "Trial parameters: {'n_layers': 2.184197114686457, 'layer_1_size': 2.0, 'layer_2_size': 2.0, 'layer_3_size': 3.7283172384029086, 'alpha': 5.169955887654654e-06, 'tol': 0.007387845725779292, 'beta_1': 0.06269954077957314, 'beta_2': 0.37077648557029524, 'learning_rate_init': 0.1}\n",
            "Hypervolume: 0.6801311779022214\n",
            "\n",
            "Iteration: 39\n",
            "Trial parameters: {'n_layers': 2.3263929203099343, 'layer_1_size': 29.68348438392572, 'layer_2_size': 2.0, 'layer_3_size': 7.7463465326862115, 'alpha': 2.1483380298530478e-05, 'tol': 0.001032589282398367, 'beta_1': 0.2445609769907558, 'beta_2': 0.27632860476868254, 'learning_rate_init': 0.1}\n",
            "Hypervolume: 0.6801311779022214\n",
            "\n",
            "Iteration: 40\n",
            "Trial parameters: {'n_layers': 2.2798317963232746, 'layer_1_size': 18.71262709991881, 'layer_2_size': 2.000000001819187, 'layer_3_size': 8.451682992783047, 'alpha': 6.622882524204553e-06, 'tol': 0.0082636922516075, 'beta_1': 0.3435557939636251, 'beta_2': 0.3618395643286626, 'learning_rate_init': 0.04623236360930396}\n",
            "Hypervolume: 0.6801311779022214\n",
            "\n",
            "Iteration: 41\n",
            "Trial parameters: {'n_layers': 2.2136337114318314, 'layer_1_size': 38.955223653694446, 'layer_2_size': 2.000000000017822, 'layer_3_size': 5.68149005894366, 'alpha': 3.4270994681317695e-05, 'tol': 0.0030102534687364937, 'beta_1': 0.20868182508050467, 'beta_2': 0.3732647779303089, 'learning_rate_init': 0.09999999999972985}\n",
            "Hypervolume: 0.6801311779022214\n",
            "\n",
            "Iteration: 42\n",
            "Trial parameters: {'n_layers': 2.216707352843848, 'layer_1_size': 25.069550956338375, 'layer_2_size': 2.0000000000000067, 'layer_3_size': 7.432740718517184, 'alpha': 4.527609371630962e-05, 'tol': 0.0022895467378352854, 'beta_1': 0.284063350070402, 'beta_2': 0.23670920686675387, 'learning_rate_init': 0.1}\n",
            "Hypervolume: 0.6801311779022214\n",
            "\n",
            "Iteration: 43\n",
            "Trial parameters: {'n_layers': 2.3454902720276714, 'layer_1_size': 30.65477749815171, 'layer_2_size': 2.000000000060351, 'layer_3_size': 2.0000000001119997, 'alpha': 5.714022114131987e-06, 'tol': 0.00023635449987376156, 'beta_1': 0.30952532702200886, 'beta_2': 0.20231028247553035, 'learning_rate_init': 0.042187511793780934}\n",
            "Hypervolume: 0.6801311779022214\n",
            "\n",
            "Iteration: 44\n",
            "Trial parameters: {'n_layers': 2.5493636759698317, 'layer_1_size': 2.0000000000001195, 'layer_2_size': 2.0000000000002562, 'layer_3_size': 2.0000000000000515, 'alpha': 3.337160492526422e-05, 'tol': 0.008055640281554123, 'beta_1': 0.264499875570493, 'beta_2': 0.36481315258112285, 'learning_rate_init': 0.09999999999999734}\n",
            "Hypervolume: 0.6801311779022214\n",
            "\n",
            "Iteration: 45\n",
            "Trial parameters: {'n_layers': 2.2912920718855343, 'layer_1_size': 38.939932330146995, 'layer_2_size': 2.000000000036352, 'layer_3_size': 9.077504772173233, 'alpha': 1.2275211933729696e-05, 'tol': 0.001218185311188117, 'beta_1': 0.44054052414950007, 'beta_2': 0.29173638248149475, 'learning_rate_init': 0.09999999999900935}\n",
            "Hypervolume: 0.6801311779022214\n",
            "\n",
            "Iteration: 46\n",
            "Trial parameters: {'n_layers': 2.42665466917612, 'layer_1_size': 18.2870757134025, 'layer_2_size': 2.000000058947996, 'layer_3_size': 12.890261731007357, 'alpha': 2.059246538284955e-05, 'tol': 0.002046482844228231, 'beta_1': 0.29707952637039114, 'beta_2': 0.28456789206766875, 'learning_rate_init': 0.020527063683686758}\n"
          ]
        },
        {
          "name": "stdout",
          "output_type": "stream",
          "text": [
            "Hypervolume: 0.6801311779022214\n",
            "\n",
            "Iteration: 47\n",
            "Trial parameters: {'n_layers': 2.1740833359780547, 'layer_1_size': 2.00000000722151, 'layer_2_size': 2.0000003910139785, 'layer_3_size': 17.72250574389064, 'alpha': 9.625332225111807e-05, 'tol': 0.05984304155379833, 'beta_1': 0.159189341037692, 'beta_2': 0.3310724166482909, 'learning_rate_init': 0.09999999566833469}\n",
            "Hypervolume: 0.6801311779022214\n",
            "\n",
            "Iteration: 48\n",
            "Trial parameters: {'n_layers': 2.387685932472402, 'layer_1_size': 2.0, 'layer_2_size': 2.0, 'layer_3_size': 12.46606763938873, 'alpha': 2.2725143880376773e-05, 'tol': 0.06319847041938564, 'beta_1': 0.0920470780206449, 'beta_2': 0.31482440098010545, 'learning_rate_init': 0.1}\n",
            "Hypervolume: 0.6845613408088683\n",
            "\n",
            "Iteration: 49\n",
            "Trial parameters: {'n_layers': 2.0815076900282987, 'layer_1_size': 10.89255115911259, 'layer_2_size': 2.0, 'layer_3_size': 21.358310305745476, 'alpha': 0.0002325608788495778, 'tol': 0.02548872435612815, 'beta_1': 0.2381769461749815, 'beta_2': 0.3335624922305656, 'learning_rate_init': 0.09999999999998814}\n",
            "Hypervolume: 0.6845613408088683\n",
            "\n"
          ]
        }
      ],
      "source": [
        "mobo_outcomes, mobo_model, mobo_post_data = ehvi_experiment(mobo_experiment, mobo_data)"
      ]
    },
    {
      "cell_type": "markdown",
      "metadata": {
        "id": "356231fb"
      },
      "source": [
        "### Random Experiment (with Sobol)"
      ]
    },
    {
      "cell_type": "code",
      "execution_count": null,
      "metadata": {
        "id": "04cf1035"
      },
      "outputs": [],
      "source": [
        "def sobol_experiment(experiment, data):\n",
        "    sobol_model = Models.SOBOL(\n",
        "        experiment=experiment, \n",
        "        data=data,\n",
        "    )\n",
        "    sobol_hv_list = []\n",
        "    for i in range(N_TRIAL):\n",
        "        print(f\"Iteration: {i}\")\n",
        "        \n",
        "        # generate a random hp configuration\n",
        "        generator_run = sobol_model.gen(1)\n",
        "                \n",
        "        # turn that config into a trial and run it\n",
        "        trial = experiment.new_trial(generator_run=generator_run)\n",
        "        trial.run()\n",
        "\n",
        "        print(f\"Trial parameters: {trial.arm.parameters}\")\n",
        "        # Fit a GP-based model in order to compute a hypervolume\n",
        "        # NOT used to generate new hp configuration points\n",
        "        dummy_model = get_MOO_EHVI(\n",
        "            experiment=experiment, \n",
        "            data=experiment.fetch_data(),\n",
        "        )\n",
        "        try:\n",
        "            hv = observed_hypervolume(modelbridge=dummy_model)\n",
        "        except:\n",
        "            hv = 0\n",
        "            print(\"Failed to compute hv\")\n",
        "        sobol_hv_list.append(hv)\n",
        "        print(f\"Hypervolume: {hv}\")\n",
        "        print()\n",
        "\n",
        "    return np.array(exp_to_df(experiment)[[\"auc\", \"latency\"]], dtype=np.double)"
      ]
    },
    {
      "cell_type": "code",
      "execution_count": null,
      "metadata": {
        "id": "732edb6f"
      },
      "outputs": [],
      "source": [
        "random_experiment = build_experiment(\"sobol_mlp\")\n",
        "random_data = initialize_experiment(random_experiment)"
      ]
    },
    {
      "cell_type": "code",
      "execution_count": null,
      "metadata": {
        "id": "97a3720c"
      },
      "outputs": [
        {
          "name": "stdout",
          "output_type": "stream",
          "text": [
            "Iteration: 0\n",
            "Trial parameters: {'n_layers': 2.3876266479492188, 'layer_1_size': 32.793450355529785, 'layer_2_size': 29.24840259552002, 'layer_3_size': 24.738411903381348, 'alpha': 0.7005566319366558, 'tol': 0.012106192465260531, 'beta_1': 0.02480564844235778, 'beta_2': 0.8933606113791466, 'learning_rate_init': 2.367064363405651e-06}\n",
            "Hypervolume: 0.5037194621562957\n",
            "\n",
            "Iteration: 1\n",
            "Trial parameters: {'n_layers': 1.626617981120944, 'layer_1_size': 19.20220473408699, 'layer_2_size': 7.705499842762947, 'layer_3_size': 30.610647603869438, 'alpha': 0.0006718020342532956, 'tol': 0.00015653476454037594, 'beta_1': 0.8733604594357312, 'beta_2': 0.11035005169361829, 'learning_rate_init': 0.043907645241162696}\n",
            "Hypervolume: 0.5067433512210845\n",
            "\n",
            "Iteration: 2\n",
            "Trial parameters: {'n_layers': 1.331133909523487, 'layer_1_size': 45.251627668738365, 'layer_2_size': 44.46834337711334, 'layer_3_size': 11.565945342183113, 'alpha': 4.882724323426376e-06, 'tol': 1.948534770172022e-05, 'beta_1': 0.469042191199027, 'beta_2': 0.4463693572785705, 'learning_rate_init': 0.003326329390861609}\n",
            "Hypervolume: 0.5251318323612213\n",
            "\n",
            "Iteration: 3\n",
            "Trial parameters: {'n_layers': 2.592106305062771, 'layer_1_size': 6.717572033405304, 'layer_2_size': 22.48565535247326, 'layer_3_size': 41.531844675540924, 'alpha': 0.004691798757360244, 'tol': 0.002708534513507292, 'beta_1': 0.6143161879442632, 'beta_2': 0.534049687971361, 'learning_rate_init': 2.888559484874865e-05}\n",
            "Hypervolume: 0.5251318323612213\n",
            "\n",
            "Iteration: 4\n",
            "Trial parameters: {'n_layers': 2.857993047684431, 'layer_1_size': 40.58149953186512, 'layer_2_size': 9.031672313809395, 'layer_3_size': 48.54681473970413, 'alpha': 0.00989952917357636, 'tol': 0.050468348544478736, 'beta_1': 0.3559965386679396, 'beta_2': 0.3077685929397121, 'learning_rate_init': 0.0006366144037249331}\n",
            "Hypervolume: 0.5251318323612213\n",
            "\n",
            "Iteration: 5\n",
            "Trial parameters: {'n_layers': 1.097474630922079, 'layer_1_size': 11.42294529080391, 'layer_2_size': 34.01442900300026, 'layer_3_size': 6.8614387065172195, 'alpha': 1.0593306242400134e-05, 'tol': 0.0003891914630408717, 'beta_1': 0.7273618404753506, 'beta_2': 0.7034814686570316, 'learning_rate_init': 0.00016165942910395683}\n",
            "Hypervolume: 0.565696746110916\n",
            "\n",
            "Iteration: 6\n",
            "Trial parameters: {'n_layers': 1.9232655111700296, 'layer_1_size': 28.873416408896446, 'layer_2_size': 18.251539155840874, 'layer_3_size': 35.46791999042034, 'alpha': 6.914495897549351e-05, 'tol': 8.423367861632198e-05, 'beta_1': 0.14364598613139243, 'beta_2': 0.8463880526311696, 'learning_rate_init': 6.308985444824775e-06}\n",
            "Hypervolume: 0.565696746110916\n",
            "\n",
            "Iteration: 7\n",
            "Trial parameters: {'n_layers': 2.183751503005624, 'layer_1_size': 23.157306730747223, 'layer_2_size': 42.794464349746704, 'layer_3_size': 17.68869659304619, 'alpha': 0.07388710481080317, 'tol': 0.006043253202244398, 'beta_1': 0.7545201208256185, 'beta_2': 0.1260992139345035, 'learning_rate_init': 0.015423412289538084}\n",
            "Hypervolume: 0.565696746110916\n",
            "\n",
            "Iteration: 8\n",
            "Trial parameters: {'n_layers': 2.1074771489948034, 'layer_1_size': 48.96616117656231, 'layer_2_size': 14.466326043009758, 'layer_3_size': 4.4527901113033295, 'alpha': 0.0002834437119808365, 'tol': 0.00137252160113304, 'beta_1': 0.3082725239386782, 'beta_2': 0.32228515935502944, 'learning_rate_init': 0.0006943252577063182}\n",
            "Hypervolume: 0.565696746110916\n",
            "\n",
            "Iteration: 9\n",
            "Trial parameters: {'n_layers': 1.8469682391732931, 'layer_1_size': 3.120314359664917, 'layer_2_size': 40.486202120780945, 'layer_3_size': 46.39534358680248, 'alpha': 0.29528842601515487, 'tol': 1.0731568719090511e-05, 'beta_1': 0.65170620091632, 'beta_2': 0.6562458675252274, 'learning_rate_init': 0.00015330481131706574}\n",
            "Hypervolume: 0.565696746110916\n",
            "\n",
            "Iteration: 10\n",
            "Trial parameters: {'n_layers': 1.1737948060035706, 'layer_1_size': 36.67269004881382, 'layer_2_size': 11.246757462620735, 'layer_3_size': 15.375372007489204, 'alpha': 0.001979284411249378, 'tol': 0.0003054157684031657, 'beta_1': 0.18847283466812223, 'beta_2': 0.7683065984277054, 'learning_rate_init': 1.1356257081356907e-05}\n",
            "Hypervolume: 0.565696746110916\n",
            "\n",
            "Iteration: 11\n",
            "Trial parameters: {'n_layers': 2.9342751055955887, 'layer_1_size': 15.393189162015915, 'layer_2_size': 37.705685406923294, 'layer_3_size': 33.22407811880112, 'alpha': 2.058362883832593e-06, 'tol': 0.02222619409760319, 'beta_1': 0.8330731623731553, 'beta_2': 0.23351558849960566, 'learning_rate_init': 0.008284174248869179}\n",
            "Hypervolume: 0.565696746110916\n",
            "\n",
            "Iteration: 12\n",
            "Trial parameters: {'n_layers': 2.6371697522699833, 'layer_1_size': 29.65899483859539, 'layer_2_size': 48.25318956375122, 'layer_3_size': 28.330959975719452, 'alpha': 2.5133065415858905e-05, 'tol': 0.003336045580102628, 'beta_1': 0.07156201451923698, 'beta_2': 0.9695085818804801, 'learning_rate_init': 1.8646625123594012e-06}\n",
            "Hypervolume: 0.565696746110916\n",
            "\n",
            "Iteration: 13\n",
            "Trial parameters: {'n_layers': 1.3761744983494282, 'layer_1_size': 22.254629135131836, 'layer_2_size': 24.794284507632256, 'layer_3_size': 22.57526572048664, 'alpha': 0.023465470180976344, 'tol': 4.2597736046679686e-05, 'beta_1': 0.9499839825220406, 'beta_2': 0.0010001206612214445, 'learning_rate_init': 0.056367098551043195}\n",
            "Hypervolume: 0.565696746110916\n",
            "\n",
            "Iteration: 14\n",
            "Trial parameters: {'n_layers': 1.581600235775113, 'layer_1_size': 41.2021936327219, 'layer_2_size': 27.03368392586708, 'layer_3_size': 39.15996889770031, 'alpha': 0.17528677283985655, 'tol': 0.000716291520103208, 'beta_1': 0.4232514676665887, 'beta_2': 0.42991929334495216, 'learning_rate_init': 0.0021507987891938697}\n",
            "Hypervolume: 0.565696746110916\n",
            "\n",
            "Iteration: 15\n",
            "Trial parameters: {'n_layers': 2.3425706941634417, 'layer_1_size': 10.731849640607834, 'layer_2_size': 4.013876512646675, 'layer_3_size': 9.497938722372055, 'alpha': 0.0001639112198265041, 'tol': 0.09825456201970183, 'beta_1': 0.5367272571884095, 'beta_2': 0.5793517326358706, 'learning_rate_init': 4.4172988585201856e-05}\n",
            "Hypervolume: 0.565696746110916\n",
            "\n",
            "Iteration: 16\n",
            "Trial parameters: {'n_layers': 2.286590538918972, 'layer_1_size': 42.65602780878544, 'layer_2_size': 39.08290049433708, 'layer_3_size': 36.55237178504467, 'alpha': 0.0024440496432114843, 'tol': 3.802152405469434e-05, 'beta_1': 0.9133116063093767, 'beta_2': 0.39607808716315773, 'learning_rate_init': 8.693081858953526e-05}\n",
            "Hypervolume: 0.565696746110916\n",
            "\n",
            "Iteration: 17\n",
            "Trial parameters: {'n_layers': 1.5392537787556648, 'layer_1_size': 9.371765464544296, 'layer_2_size': 16.05685605108738, 'layer_3_size': 18.796677440404892, 'alpha': 2.5421605533368903e-06, 'tol': 0.004894578727668136, 'beta_1': 0.04642177283391356, 'beta_2': 0.6073230338227004, 'learning_rate_init': 0.001209276916182206}\n",
            "Hypervolume: 0.565696746110916\n",
            "\n",
            "Iteration: 18\n",
            "Trial parameters: {'n_layers': 1.4946852456778288, 'layer_1_size': 30.92386345565319, 'layer_2_size': 36.29698771238327, 'layer_3_size': 47.37991613149643, 'alpha': 0.0005388461134912532, 'tol': 0.062312958818119046, 'beta_1': 0.5695359376659617, 'beta_2': 0.9435160805135965, 'learning_rate_init': 0.006792144334123189}\n",
            "Hypervolume: 0.565696746110916\n",
            "\n",
            "Iteration: 19\n",
            "Trial parameters: {'n_layers': 2.7419857662171125, 'layer_1_size': 21.083510518074036, 'layer_2_size': 12.842854842543602, 'layer_3_size': 5.717886045575142, 'alpha': 0.5612613521875438, 'tol': 0.0008622153383270953, 'beta_1': 0.45225516929104925, 'beta_2': 0.03682012666296214, 'learning_rate_init': 1.3985283679902212e-05}\n",
            "Hypervolume: 0.565696746110916\n",
            "\n",
            "Iteration: 20\n",
            "Trial parameters: {'n_layers': 2.944395938888192, 'layer_1_size': 35.21885658800602, 'layer_2_size': 23.20301939547062, 'layer_3_size': 12.732843235135078, 'alpha': 0.03834346815251047, 'tol': 1.5781659899747944e-05, 'beta_1': 0.6883760404800996, 'beta_2': 0.803960596694611, 'learning_rate_init': 0.09970206921368036}\n",
            "Hypervolume: 0.565696746110916\n",
            "\n",
            "Iteration: 21\n",
            "Trial parameters: {'n_layers': 1.1975493971258402, 'layer_1_size': 16.753272622823715, 'layer_2_size': 49.65722092986107, 'layer_3_size': 42.675396621227264, 'alpha': 3.586355931679589e-05, 'tol': 0.0012225823876705346, 'beta_1': 0.3334150664769113, 'beta_2': 0.20735709413513542, 'learning_rate_init': 1.067797218000312e-06}\n",
            "Hypervolume: 0.565696746110916\n",
            "\n",
            "Iteration: 22\n",
            "Trial parameters: {'n_layers': 1.774377878755331, 'layer_1_size': 47.70129184424877, 'layer_2_size': 2.4170436710119247, 'layer_3_size': 23.653959840536118, 'alpha': 8.471752785869621e-06, 'tol': 0.02682008230380691, 'beta_1': 0.8002666611662135, 'beta_2': 0.3503319078851491, 'learning_rate_init': 5.3715429215193894e-05}\n"
          ]
        },
        {
          "name": "stdout",
          "output_type": "stream",
          "text": [
            "Hypervolume: 0.565696746110916\n",
            "\n",
            "Iteration: 23\n",
            "Trial parameters: {'n_layers': 2.021191995590925, 'layer_1_size': 4.291433691978455, 'layer_2_size': 28.44311100244522, 'layer_3_size': 29.502666041254997, 'alpha': 0.007907780625795788, 'tol': 0.00019327251871192847, 'beta_1': 0.15946671797707676, 'beta_2': 0.6224801234239712, 'learning_rate_init': 0.0017510817195338577}\n",
            "Hypervolume: 0.565696746110916\n",
            "\n",
            "Iteration: 24\n",
            "Trial parameters: {'n_layers': 2.1949023753404617, 'layer_1_size': 27.232035741209984, 'layer_2_size': 6.295709237456322, 'layer_3_size': 40.266760274767876, 'alpha': 1.0724075626030375e-06, 'tol': 0.0004311551282011866, 'beta_1': 0.6404688712274655, 'beta_2': 0.8184167514443398, 'learning_rate_init': 0.024931592714360348}\n",
            "Hypervolume: 0.565696746110916\n",
            "\n",
            "Iteration: 25\n",
            "Trial parameters: {'n_layers': 1.9480653405189514, 'layer_1_size': 24.704937398433685, 'layer_2_size': 30.84560388326645, 'layer_3_size': 10.581384152173996, 'alpha': 0.0010302343098922426, 'tol': 0.0335580919014286, 'beta_1': 0.257452125813812, 'beta_2': 0.1599404201162979, 'learning_rate_init': 4.1286346571670175e-06}\n",
            "Hypervolume: 0.565696746110916\n",
            "\n",
            "Iteration: 26\n",
            "Trial parameters: {'n_layers': 1.0238543208688498, 'layer_1_size': 38.75408299267292, 'layer_2_size': 21.081981793045998, 'layer_3_size': 27.189330637454987, 'alpha': 0.23678647887404494, 'tol': 0.009767676394539519, 'beta_1': 0.8452763105323539, 'beta_2': 0.2719485869379714, 'learning_rate_init': 2.37155539481684e-05}\n",
            "Hypervolume: 0.565696746110916\n",
            "\n",
            "Iteration: 27\n",
            "Trial parameters: {'n_layers': 2.770662745460868, 'layer_1_size': 13.156611829996109, 'layer_2_size': 46.059233874082565, 'layer_3_size': 21.4101073294878, 'alpha': 0.00022712025764174622, 'tol': 7.076833041549904e-05, 'beta_1': 0.23832741432264448, 'beta_2': 0.7294739700239151, 'learning_rate_init': 0.004102348130371032}\n",
            "Hypervolume: 0.565696746110916\n",
            "\n",
            "Iteration: 28\n",
            "Trial parameters: {'n_layers': 2.537033947184682, 'layer_1_size': 46.893009051680565, 'layer_2_size': 32.41795665025711, 'layer_3_size': 16.517002061009407, 'alpha': 8.507434502950944e-05, 'tol': 0.00010431240734320164, 'beta_1': 0.9602550184642896, 'beta_2': 0.4725278516430408, 'learning_rate_init': 0.000285554383538666}\n",
            "Hypervolume: 0.565696746110916\n",
            "\n",
            "Iteration: 29\n",
            "Trial parameters: {'n_layers': 1.2897105682641268, 'layer_1_size': 5.169940650463104, 'layer_2_size': 10.440727457404137, 'layer_3_size': 34.389237225055695, 'alpha': 0.09089268993566091, 'tol': 0.013378544614626753, 'beta_1': 0.12334870639070869, 'beta_2': 0.4983956897044554, 'learning_rate_init': 0.00036403217603283997}\n",
            "Hypervolume: 0.5795015656948088\n",
            "\n",
            "Iteration: 30\n",
            "Trial parameters: {'n_layers': 1.744220782071352, 'layer_1_size': 34.6208668500185, 'layer_2_size': 41.204303592443466, 'layer_3_size': 3.345999449491501, 'alpha': 0.018761085047039116, 'tol': 0.0022801930224322915, 'beta_1': 0.5235587584665045, 'beta_2': 0.9271263692965731, 'learning_rate_init': 0.01872985515608467}\n",
            "Hypervolume: 0.5795015656948088\n",
            "\n",
            "Iteration: 31\n",
            "Trial parameters: {'n_layers': 2.4915193654596806, 'layer_1_size': 17.468538910150528, 'layer_2_size': 19.65447761118412, 'layer_3_size': 45.31189887225628, 'alpha': 2.0079492125512588e-05, 'tol': 3.14211810765807e-05, 'beta_1': 0.3743622385747731, 'beta_2': 0.08230330316349864, 'learning_rate_init': 5.129068959110631e-06}\n",
            "Hypervolume: 0.5795015656948088\n",
            "\n",
            "Iteration: 32\n",
            "Trial parameters: {'n_layers': 2.4430059492588043, 'layer_1_size': 44.22796009480953, 'layer_2_size': 12.068569138646126, 'layer_3_size': 29.762721717357635, 'alpha': 0.0523906672082365, 'tol': 5.859004632964501e-05, 'beta_1': 0.5771822051890194, 'beta_2': 0.1737382767163217, 'learning_rate_init': 0.0009578864307476489}\n",
            "Hypervolume: 0.5795015656948088\n",
            "\n",
            "Iteration: 33\n",
            "Trial parameters: {'n_layers': 1.6961918324232101, 'layer_1_size': 7.755968153476715, 'layer_2_size': 36.97771528363228, 'layer_3_size': 24.080916240811348, 'alpha': 5.0324881740519216e-05, 'tol': 0.0075321843096224795, 'beta_1': 0.4443599012186751, 'beta_2': 0.8278080878695473, 'learning_rate_init': 9.930633133824226e-05}\n",
            "Hypervolume: 0.5795015656948088\n",
            "\n",
            "Iteration: 34\n",
            "Trial parameters: {'n_layers': 1.2757354285567999, 'layer_1_size': 32.68009229004383, 'layer_2_size': 15.241194054484367, 'layer_3_size': 43.683895632624626, 'alpha': 1.1571425387656801e-05, 'tol': 0.04050504590951469, 'beta_1': 0.9056580309532583, 'beta_2': 0.71573834513966, 'learning_rate_init': 1.7681350240671893e-05}\n",
            "Hypervolume: 0.5795015656948088\n",
            "\n",
            "Iteration: 35\n",
            "Trial parameters: {'n_layers': 2.522581970319152, 'layer_1_size': 19.277374535799026, 'layer_2_size': 39.80499255657196, 'layer_3_size': 13.908425897359848, 'alpha': 0.01110025455846956, 'tol': 0.000559351811264088, 'beta_1': 0.05430925779696554, 'beta_2': 0.2624988210070878, 'learning_rate_init': 0.005953835119370998}\n",
            "Hypervolume: 0.5795015656948088\n",
            "\n",
            "Iteration: 36\n",
            "Trial parameters: {'n_layers': 2.7889217901974916, 'layer_1_size': 27.64718697965145, 'layer_2_size': 26.25874724984169, 'layer_3_size': 6.0160273015499115, 'alpha': 0.0041299627852019825, 'tol': 2.421801953171003e-05, 'beta_1': 0.7772478979714215, 'beta_2': 0.5155059381555765, 'learning_rate_init': 1.19762177494387e-06}\n",
            "Hypervolume: 0.5795015656948088\n",
            "\n",
            "Iteration: 37\n",
            "Trial parameters: {'n_layers': 1.041621269658208, 'layer_1_size': 24.368967831134796, 'layer_2_size': 4.694971635937691, 'layer_3_size': 47.88597373664379, 'alpha': 4.411935685965514e-06, 'tol': 0.0018892622617045027, 'beta_1': 0.18271939077880234, 'beta_2': 0.494044682902284, 'learning_rate_init': 0.07842919840096199}\n",
            "Hypervolume: 0.5910428380966187\n",
            "\n",
            "Iteration: 38\n",
            "Trial parameters: {'n_layers': 1.9923177398741245, 'layer_1_size': 39.94477815926075, 'layer_2_size': 47.43144655227661, 'layer_3_size': 19.843262746930122, 'alpha': 0.0009102803417348881, 'tol': 0.017350328786851027, 'beta_1': 0.7113870242498815, 'beta_2': 0.06513453678321093, 'learning_rate_init': 0.001559010609757258}\n",
            "Hypervolume: 0.5910428380966187\n",
            "\n",
            "Iteration: 39\n",
            "Trial parameters: {'n_layers': 2.2396545000374317, 'layer_1_size': 12.097649604082108, 'layer_2_size': 25.52236907184124, 'layer_3_size': 37.80705636739731, 'alpha': 0.9743546046607365, 'tol': 0.00012598604539900017, 'beta_1': 0.310155082157813, 'beta_2': 0.9056717992275953, 'learning_rate_init': 6.819239691802227e-05}\n",
            "Hypervolume: 0.5910428380966187\n",
            "\n",
            "Iteration: 40\n",
            "Trial parameters: {'n_layers': 2.038333334028721, 'layer_1_size': 37.89460505545139, 'layer_2_size': 45.24028170108795, 'layer_3_size': 44.04705220460892, 'alpha': 0.00011940112551049051, 'tol': 0.0008865155378612799, 'beta_1': 0.8529244644232095, 'beta_2': 0.5935855520451442, 'learning_rate_init': 3.3586831867464384e-06}\n",
            "Hypervolume: 0.5910428380966187\n",
            "\n",
            "Iteration: 41\n",
            "Trial parameters: {'n_layers': 1.7910347506403923, 'layer_1_size': 14.18014332652092, 'layer_2_size': 21.807375475764275, 'layer_3_size': 2.2949285060167313, 'alpha': 0.12418150721771991, 'tol': 0.06882473103199008, 'beta_1': 0.23043025988247245, 'beta_2': 0.3866264053899795, 'learning_rate_init': 0.028925711278995004}\n",
            "Hypervolume: 0.5910428380966187\n",
            "\n",
            "Iteration: 42\n",
            "Trial parameters: {'n_layers': 1.2428966145962477, 'layer_1_size': 49.60717408359051, 'layer_2_size': 30.067284137010574, 'layer_3_size': 33.875763580203056, 'alpha': 0.026333095369846498, 'tol': 0.004763780740938282, 'beta_1': 0.6328134095035494, 'beta_2': 0.05061612636968493, 'learning_rate_init': 0.005035441104107058}\n",
            "Hypervolume: 0.5910428380966187\n",
            "\n",
            "Iteration: 43\n",
            "Trial parameters: {'n_layers': 2.990219993516803, 'layer_1_size': 2.446971893310547, 'layer_2_size': 6.9804594069719315, 'layer_3_size': 16.217487066984177, 'alpha': 2.743130953327706e-05, 'tol': 3.440950211744576e-05, 'beta_1': 0.2653414971446618, 'beta_2': 0.9529055010965094, 'learning_rate_init': 2.0412969362428316e-05}\n",
            "Hypervolume: 0.5910428380966187\n",
            "\n",
            "Iteration: 44\n",
            "Trial parameters: {'n_layers': 2.692598784342408, 'layer_1_size': 42.23033584654331, 'layer_2_size': 17.432725831866264, 'layer_3_size': 20.23022124171257, 'alpha': 1.8614148014067335e-06, 'tol': 0.00021357470333493577, 'beta_1': 0.5005418816395104, 'beta_2': 0.1901864708615467, 'learning_rate_init': 0.0004205372248552947}\n",
            "Hypervolume: 0.5910428380966187\n",
            "\n",
            "Iteration: 45\n",
            "Trial parameters: {'n_layers': 1.44579035975039, 'layer_1_size': 9.694998472929, 'layer_2_size': 43.51961922645569, 'layer_3_size': 26.17048589885235, 'alpha': 0.0017408474425489734, 'tol': 0.02755465438794672, 'beta_1': 0.39761302500870077, 'beta_2': 0.7825041107833386, 'learning_rate_init': 0.00022875807990824186}\n"
          ]
        },
        {
          "name": "stdout",
          "output_type": "stream",
          "text": [
            "Hypervolume: 0.5910428380966187\n",
            "\n",
            "Iteration: 46\n",
            "Trial parameters: {'n_layers': 1.5261293165385723, 'layer_1_size': 29.767856046557426, 'layer_2_size': 8.259665325284004, 'layer_3_size': 10.152871802449226, 'alpha': 0.4110527837427628, 'tol': 0.0011068267778721252, 'beta_1': 0.9832641158662736, 'beta_2': 0.6395885149817914, 'learning_rate_init': 4.446315850269228e-06}\n",
            "Hypervolume: 0.5910428380966187\n",
            "\n",
            "Iteration: 47\n",
            "Trial parameters: {'n_layers': 2.2729663513600826, 'layer_1_size': 22.177891492843628, 'layer_2_size': 34.692594438791275, 'layer_3_size': 39.999472200870514, 'alpha': 0.0003837277239000288, 'tol': 1.535021701862983e-05, 'beta_1': 0.10009060843940824, 'beta_2': 0.3718468233020976, 'learning_rate_init': 0.023411880438750914}\n",
            "Hypervolume: 0.5910428380966187\n",
            "\n",
            "Iteration: 48\n",
            "Trial parameters: {'n_layers': 2.3556875344365835, 'layer_1_size': 31.59673671424389, 'layer_2_size': 20.21629346907139, 'layer_3_size': 17.951682046055794, 'alpha': 0.005838667261995344, 'tol': 0.018739333334087626, 'beta_1': 0.4922941584549844, 'beta_2': 0.6656295829508454, 'learning_rate_init': 0.035180786304251116}\n",
            "Hypervolume: 0.5910428380966187\n",
            "\n",
            "Iteration: 49\n",
            "Trial parameters: {'n_layers': 1.5952015426009893, 'layer_1_size': 20.442760825157166, 'layer_2_size': 46.64376375079155, 'layer_3_size': 35.891946613788605, 'alpha': 6.083316753057435e-06, 'tol': 0.00023980834827542975, 'beta_1': 0.5912981302952394, 'beta_2': 0.3360753986397758, 'learning_rate_init': 2.7349772949846056e-06}\n",
            "Hypervolume: 0.5910428380966187\n",
            "\n"
          ]
        }
      ],
      "source": [
        "random_outcomes = sobol_experiment(random_experiment, random_data)"
      ]
    },
    {
      "cell_type": "markdown",
      "metadata": {
        "id": "adbc0925"
      },
      "source": [
        "### Visualize Results"
      ]
    },
    {
      "cell_type": "markdown",
      "metadata": {
        "id": "modern-architecture"
      },
      "source": [
        "We can visually compare the results of qEHVI (we only proposed and evaluated one point at a time, so q=1). We want to see a Pareto frontier of points in the lower right corner of the chart - points with the highest accuracy and lowest latency possible.\n"
      ]
    },
    {
      "cell_type": "code",
      "execution_count": null,
      "metadata": {
        "id": "02deb61c"
      },
      "outputs": [
        {
          "data": {
            "image/png": "[encoded data removed]",
            "text/plain": [
              "<Figure size 1152x288 with 3 Axes>"
            ]
          },
          "metadata": {
            "needs_background": "light"
          },
          "output_type": "display_data"
        }
      ],
      "source": [
        "fig, axs = plt.subplots(1, 3, sharey=True, figsize=(16,4))\n",
        "axs[0].scatter(mobo_outcomes[:,0], mobo_outcomes[:,1], alpha=0.6, label=\"MOBO\")\n",
        "axs[0].scatter(random_outcomes[:,0], random_outcomes[:,1], alpha=0.6, label=\"SOBOL\")\n",
        "axs[0].legend()\n",
        "axs[0].set_title(\"Comparison\")\n",
        "\n",
        "axs[1].scatter(mobo_outcomes[:,0], mobo_outcomes[:,1], alpha=0.6, c=range(len(mobo_outcomes[:,0])))\n",
        "axs[1].set_title(\"qEHVI\")\n",
        "\n",
        "axs[2].scatter(random_outcomes[:,0], random_outcomes[:,1], alpha=0.6, c=range(len(random_outcomes[:,0])))\n",
        "axs[2].set_title(\"Sobol\")\n",
        "\n",
        "for ax in axs.flat:\n",
        "    ax.set(xlabel=\"AUC\", ylabel=\"Latency (1 million points)\")\n",
        "\n",
        "fig.show()"
      ]
    },
    {
      "cell_type": "markdown",
      "metadata": {
        "id": "invisible-aquarium"
      },
      "source": [
        "The leftmost panel shows a comparison of the two experiments, while the middle and right panels show each experiment individually, with their points colored according to the order in which the trials were run. Notice in the qEHVI panel that earlier trials (purple points) are scattered about (reflecting the initialization phase), while later trials (yellow points) have honed in on the Pareto frontier. The same cannot be said for the Sobol experiment, which samples randomly for all trials. \n",
        "\n",
        "Because we generated the dataset randomly, and initialized the sampling randomly, it's likely your results differ from ours (we could of course have mitigated this by fixing seeds for the random number generators, but we're very wary of cherry-picking good results, and wanted to encourage some exploration)! Here's one of the more impressive results we obtained, specifically chosen for its spectacular separation of the qEHVI trials and the Sobol trials. Multi-objective Bayesian optimization (MOBO = qEHVI) found a host of models that are faster _and_ more accurate than Sobol-random search found!"
      ]
    },
    {
      "cell_type": "markdown",
      "metadata": {
        "id": "QTklSUOUBk-5"
      },
      "source": [
        "**A pretty great result for qEHVI**"
      ]
    },
    {
      "cell_type": "markdown",
      "metadata": {
        "id": "MXGw3oc4fxJ_"
      },
      "source": [
        "<p><center><img src='https://github.com/sparsh-ai/multiobjective-optimizations/blob/main/docs/_images/T892775_1.png?raw=1'></center></p>"
      ]
    },
    {
      "cell_type": "markdown",
      "metadata": {
        "id": "-XReDvpDBm2e"
      },
      "source": [
        "Alas, it's not always the case. In this example, random search actually found the highest AUC model, though it does trade off quite some latency for it."
      ]
    },
    {
      "cell_type": "markdown",
      "metadata": {
        "id": "BidE23pkBoRq"
      },
      "source": [
        "**A pretty good result for random**"
      ]
    },
    {
      "cell_type": "markdown",
      "metadata": {
        "id": "Yaj0Xrtkf1QI"
      },
      "source": [
        "<p><center><img src='https://github.com/sparsh-ai/multiobjective-optimizations/blob/main/docs/_images/T892775_2.png?raw=1'></center></p>"
      ]
    },
    {
      "cell_type": "markdown",
      "metadata": {
        "id": "H3es1kH2BptR"
      },
      "source": [
        "The focus on maximizing the expected hypervolume improvement can lead to a lack of exploration of the wider parts of the hyperparameter space, and sometimes randomly sampling finds better points. Try running the experiments a few times and see what you get!"
      ]
    },
    {
      "cell_type": "markdown",
      "metadata": {
        "id": "distinct-evaluation"
      },
      "source": [
        "Ax also provides some visualization helpers, including a handy one to construct the Pareto frontier. The plot below shows the Pareto frontier found by the EHVI algorithm. Note that not all the points on the frontier below were sampled during the optimization process. However, since we now have a posterior model of the map between the input hyperparameters and output (AUC, Latency) space, we can calculate the Pareto frontier based on that model. The uncertainty of that posterior model is reflected in the 90% CI intervals on the frontier points."
      ]
    },
    {
      "cell_type": "code",
      "execution_count": null,
      "metadata": {
        "id": "b6dbd3ee"
      },
      "outputs": [],
      "source": [
        "init_notebook_plotting()\n",
        "\n",
        "frontier = compute_pareto_frontier(\n",
        "    experiment=mobo_experiment,\n",
        "    data=mobo_experiment.fetch_data(),\n",
        "    primary_objective=metric_latency,\n",
        "    secondary_objective=metric_auc,\n",
        "    absolute_metrics=[\"latency\", \"auc\"],\n",
        "    num_points=50,\n",
        ")\n",
        "\n",
        "render(plot_pareto_frontier(frontier, CI_level=0.90)) "
      ]
    },
    {
      "cell_type": "markdown",
      "metadata": {
        "id": "R6jC9SCCf3Rc"
      },
      "source": [
        "<p><center><img src='https://github.com/sparsh-ai/multiobjective-optimizations/blob/main/docs/_images/T892775_3.png?raw=1'></center></p>"
      ]
    },
    {
      "cell_type": "markdown",
      "metadata": {
        "id": "recognized-ordering"
      },
      "source": [
        "Is EHVI worth the implementation complexity vs random search? It's hard to say from this toy example. It's further hard, in general, to make blanket statements about optimal methods for hyperparameter search, since each problem and search space is different! It's also a slightly unfair question, since the Sobol quasi-random search here is better than regular random search, and the latter is much easier to implement - just use scikit-learn."
      ]
    },
    {
      "cell_type": "markdown",
      "metadata": {
        "id": "5a378f3c"
      },
      "source": [
        "## Multi-objective hyperparameter optimization with Optuna\n",
        "\n",
        "This section walks through a minimal example of multi-objective hyperparameter optimization using the Optuna automatic hyperparameter optimization framework.\n",
        "\n",
        "First, we need something to learn, so we'll generate a small, toy classification problem. We'll define the metrics we care about: the area under the ROC curve, and prediction latency. Then, we'll use the expected hypervolume improvement (EHVI) to find the Pareto frontier of points that maximize these objectives.\n",
        "\n",
        "While the official Multi-Objective Optimization with Optuna tutorial provides a fantastic example for PyTorch models, here we demonstrate how to use Optuna with scikit-learn and include a comparison with random sampling for hyperparameter optimization."
      ]
    },
    {
      "cell_type": "code",
      "execution_count": null,
      "metadata": {
        "id": "4bUVYjWOETCe"
      },
      "outputs": [],
      "source": [
        "import pickle\n",
        "import sys\n",
        "import time\n",
        "import warnings\n",
        "\n",
        "import matplotlib.pyplot as plt\n",
        "import numpy as np\n",
        "import optuna\n",
        "import pandas as pd\n",
        "\n",
        "from sklearn.datasets import make_classification\n",
        "from sklearn.metrics import roc_auc_score\n",
        "from sklearn.model_selection import train_test_split\n",
        "from sklearn.neural_network import MLPClassifier\n",
        "from sklearn.pipeline import Pipeline\n",
        "from sklearn.preprocessing import StandardScaler"
      ]
    },
    {
      "cell_type": "markdown",
      "metadata": {
        "id": "711a6599"
      },
      "source": [
        "### Data\n",
        "\n",
        "Let's generate a classification problem. `sklearn` has a helper for that. The exact parameters aren't too important! In this section, we really just want to explore how to use Optuna for multi-objective hyperparameter optimization."
      ]
    },
    {
      "cell_type": "markdown",
      "metadata": {
        "id": "forced-combining"
      },
      "source": [
        "First, we must generate some data, and divide it into a train and development set. We'll train each model on the train set, then "
      ]
    },
    {
      "cell_type": "code",
      "execution_count": null,
      "metadata": {
        "id": "burning-interface"
      },
      "outputs": [],
      "source": [
        "X, y = make_classification(n_samples=1000, n_features=40, n_informative=20)"
      ]
    },
    {
      "cell_type": "markdown",
      "metadata": {
        "id": "3e0d5191"
      },
      "source": [
        "We'll make an 80/20 split and use the larger portion for training, and the smaller portion for evaluation. If the algorithm we trained was going to be used, we'd want a third split to report our final metrics on. As is, we might risk overfitting the hyperparameters to the dev set across many trials. To avoid tripling (or more) the run time, we'll skip cross-validation and simply train each algorithm on the train set, and evaluate on dev. We could get a more robust measure of the metrics associated with each hyperparameter configuration by cross-validating each trial."
      ]
    },
    {
      "cell_type": "code",
      "execution_count": null,
      "metadata": {
        "id": "2UCsAAssEkwS"
      },
      "outputs": [],
      "source": [
        "X_train, X_dev, y_train, y_dev = train_test_split(X, y, test_size=0.2, shuffle=True, stratify=y)"
      ]
    },
    {
      "cell_type": "markdown",
      "metadata": {
        "id": "aaeaa79f"
      },
      "source": [
        "### Optimization objectives\n",
        "\n",
        "Let's say we care about two objectives: the area under the ROC curve (AUC), and latency. AUC captures the quality of a classifier in a threshold-independent way, and is appropriate for the balanced class distribution we have in our toy problem. By optimizing for this, we're finding a good classifier without making a decision about how bad each flavour of misclassification (false positives and false negatives) are, whereas optimizing for a point metric like accuracy directly would be making that call. Latency measures how long a prediction takes. As it turns out, with the scikit-learn multi-layer perceptron model we'll use, not very long. To help smooth out noise in the latency measurement, we'll measure the time required to predict on a batch of a million points.\n",
        "\n",
        "This will be a small model, and no GPU is used. If we were using a GPU-enabled framework (like PyTorch, TensorFlow, or Jax), we'd need to be a little more careful about how we measure latency (another option is presented in the official Optuna tutorial). Also note that in most applications, we'd probably be more interested in the total response time of a model end point, or the total processing time for a large batch of offline predictions, and it's not necessarily the case that the actual model prediction time is the dominant bottleneck to those things at all!"
      ]
    },
    {
      "cell_type": "code",
      "execution_count": null,
      "metadata": {
        "id": "fa5ec30f"
      },
      "outputs": [],
      "source": [
        "million_points = np.repeat(X, 1000, axis=0)"
      ]
    },
    {
      "cell_type": "code",
      "execution_count": null,
      "metadata": {
        "id": "sq85b4ZeEkwT"
      },
      "outputs": [],
      "source": [
        "def roc(model, X, y):\n",
        "    return roc_auc_score(y, model.predict(X))\n",
        "\n",
        "def latency(model, X):\n",
        "    start = time.time()\n",
        "    model.predict(X)\n",
        "    end = time.time()\n",
        "    return end - start"
      ]
    },
    {
      "cell_type": "markdown",
      "metadata": {
        "id": "pretty-function"
      },
      "source": [
        "We define a training routine and compute the objectives. The search space for scikit-learn's `MLPClassifier` is roughly the same as that in [Multi-objective multi-fidelity hyperparameter optimization with application to fairness](https://www.amazon.science/publications/multi-objective-multi-fidelity-hyperparameter-optimization-with-application-to-fairness). Notice that this is a tricky search space! We allow up to three layers in the network, and we only want to sample a layer size for those layers that exist. This means `layer_size` is dependent on `n_layers`. Thankfully, Optuna naturally lends itself to hierarchical search spaces like this because it dynamically constructs the hyperparameter search space for each trial (however, this comes with a drawback as we'll see shortly).  "
      ]
    },
    {
      "cell_type": "code",
      "execution_count": null,
      "metadata": {
        "id": "SZP9YKY1EkwT"
      },
      "outputs": [],
      "source": [
        "def train(trial):    \n",
        "    hidden_layer_sizes = [\n",
        "        trial.suggest_int(f\"layer_{layer+1}_size\", 2, 50)\n",
        "        for layer in range(trial.suggest_int(\"n_layers\", 1, 3))\n",
        "    ]\n",
        "    \n",
        "    pipeline = Pipeline([\n",
        "        (\"scaler\", StandardScaler()),\n",
        "        (\"mlp\", MLPClassifier(\n",
        "            solver=\"adam\",\n",
        "            hidden_layer_sizes=hidden_layer_sizes,\n",
        "            alpha=trial.suggest_float(\"alpha\", 1e-6, 1.0, log=True),\n",
        "            tol=trial.suggest_float(\"tol\", 1e-5, 1.0, log=True),\n",
        "            beta_1=trial.suggest_float(\"beta_1\", 0.001, 0.99),\n",
        "            beta_2=trial.suggest_float(\"beta_2\", 0.001, 0.99),\n",
        "            learning_rate_init=trial.suggest_float(\"learning_rate_init\", 1e-6, 1e-1, log=True)\n",
        "        ))\n",
        "    ])\n",
        "    \n",
        "    pipeline.fit(X_train, y_train)\n",
        "    auc = roc(pipeline, X_dev, y_dev)\n",
        "    lat = latency(pipeline, million_points)\n",
        "\n",
        "    return auc, lat"
      ]
    },
    {
      "cell_type": "markdown",
      "metadata": {
        "id": "6834a337"
      },
      "source": [
        "### Experiment setup\n",
        "\n",
        "We'll run two hyperparameter searches: one using the expected hypervolume improvement (EHVI), and another with pseudo-random sampling for comparison. Optuna initializes the EHVI model for generating new hyperparameter configs with a few random points before performing a fixed number of trials, a process that is performed automatically under-the-hood. "
      ]
    },
    {
      "cell_type": "code",
      "execution_count": null,
      "metadata": {
        "id": "v1PY0mXtEkwU"
      },
      "outputs": [],
      "source": [
        "N_TRIAL = 55  # number of trials to run after initialization"
      ]
    },
    {
      "cell_type": "markdown",
      "metadata": {
        "id": "6ac8104d"
      },
      "source": [
        "We're just about ready to cleverly optimize our hyperparameters. For this experiment we'll use the MOTPE algorithm detailed in [Multiobjective tree-structured parzen estimator for computationally expensive optimization problems](https://dl.acm.org/doi/10.1145/3377930.3389817). This algorithm uses tree-structured parzen estimators as the surrogate function and EHVI as the acquisition function. We explained how these algorithms work in [Exploring Multi-Objective Hyperparameter Optimization](https://blog.fastforwardlabs.com/2021/07/07/exploring-multi-objective-hyperparameter-optimization.html). In a nutshell, we create a model that takes hyperparameters as inputs and predicts the resultant optimization objectives as outputs. We use this model to find the input hyperparameter combination that will most improve the hypervolume thus expanding the Pareto frontier. Then, we try that hyperparameter config, generating a new data point with which to improve our model, and loop this whole procedure `N_TRIAL` times."
      ]
    },
    {
      "cell_type": "code",
      "execution_count": null,
      "metadata": {
        "id": "generous-habitat"
      },
      "outputs": [
        {
          "name": "stderr",
          "output_type": "stream",
          "text": [
            "<ipython-input-8-88b9b9235eb2>:1: ExperimentalWarning: MOTPESampler is experimental (supported from v2.4.0). The interface can change in the future.\n",
            "  motpe_sampler = optuna.samplers.MOTPESampler()\n",
            "\u001b[32m[I 2021-06-24 13:33:08,291]\u001b[0m A new study created in memory with name: no-name-2683aec9-a927-43aa-a061-b67e320433a8\u001b[0m\n",
            "\u001b[32m[I 2021-06-24 13:33:09,437]\u001b[0m Trial 0 finished with values: [0.8450000000000001, 0.8262290954589844] and parameters: {'n_layers': 3, 'layer_1_size': 5, 'layer_2_size': 46, 'layer_3_size': 41, 'alpha': 9.16429681464628e-06, 'tol': 4.4073149861688505e-05, 'beta_1': 0.34931254944477413, 'beta_2': 0.9232175410049337, 'learning_rate_init': 0.011713650842477602}. \u001b[0m\n",
            "\u001b[32m[I 2021-06-24 13:33:10,384]\u001b[0m Trial 1 finished with values: [0.8999999999999999, 0.8827610015869141] and parameters: {'n_layers': 3, 'layer_1_size': 47, 'layer_2_size': 30, 'layer_3_size': 33, 'alpha': 0.000497863420997646, 'tol': 0.042431076986822885, 'beta_1': 0.40591916231423836, 'beta_2': 0.409687630011716, 'learning_rate_init': 0.012091492235530358}. \u001b[0m\n",
            "/opt/anaconda3/envs/hpo/lib/python3.9/site-packages/sklearn/neural_network/_multilayer_perceptron.py:582: ConvergenceWarning: Stochastic Optimizer: Maximum iterations (200) reached and the optimization hasn't converged yet.\n",
            "  warnings.warn(\n",
            "\u001b[32m[I 2021-06-24 13:33:11,313]\u001b[0m Trial 2 finished with values: [0.895, 0.48149800300598145] and parameters: {'n_layers': 2, 'layer_1_size': 30, 'layer_2_size': 3, 'alpha': 3.038276168745543e-05, 'tol': 3.1396224961989394e-05, 'beta_1': 0.5517188842437748, 'beta_2': 0.006529385036930512, 'learning_rate_init': 0.00041299273929972354}. \u001b[0m\n",
            "\u001b[32m[I 2021-06-24 13:33:11,688]\u001b[0m Trial 3 finished with values: [0.47500000000000003, 0.35079503059387207] and parameters: {'n_layers': 1, 'layer_1_size': 10, 'alpha': 0.007869345652559853, 'tol': 5.497102524380759e-05, 'beta_1': 0.25209991704021734, 'beta_2': 0.10238799967205169, 'learning_rate_init': 1.3432997566445058e-06}. \u001b[0m\n",
            "/opt/anaconda3/envs/hpo/lib/python3.9/site-packages/sklearn/neural_network/_multilayer_perceptron.py:582: ConvergenceWarning: Stochastic Optimizer: Maximum iterations (200) reached and the optimization hasn't converged yet.\n",
            "  warnings.warn(\n",
            "\u001b[32m[I 2021-06-24 13:33:13,005]\u001b[0m Trial 4 finished with values: [0.7350000000000001, 0.6523792743682861] and parameters: {'n_layers': 3, 'layer_1_size': 23, 'layer_2_size': 24, 'layer_3_size': 2, 'alpha': 0.00013963220952780344, 'tol': 2.1064664725154894e-05, 'beta_1': 0.9683884641443996, 'beta_2': 0.7395920927717222, 'learning_rate_init': 0.00010157408120893174}. \u001b[0m\n",
            "\u001b[32m[I 2021-06-24 13:33:13,674]\u001b[0m Trial 5 finished with values: [0.7050000000000001, 0.6269810199737549] and parameters: {'n_layers': 3, 'layer_1_size': 3, 'layer_2_size': 4, 'layer_3_size': 39, 'alpha': 2.6574599948815355e-05, 'tol': 0.09692403417909953, 'beta_1': 0.6617988223501713, 'beta_2': 0.7718478809362541, 'learning_rate_init': 0.0038072027111208037}. \u001b[0m\n",
            "\u001b[32m[I 2021-06-24 13:33:14,526]\u001b[0m Trial 6 finished with values: [0.905, 0.8008348941802979] and parameters: {'n_layers': 3, 'layer_1_size': 28, 'layer_2_size': 20, 'layer_3_size': 41, 'alpha': 0.02604155204819618, 'tol': 0.2150534277233646, 'beta_1': 0.6584798756571555, 'beta_2': 0.1763795518854328, 'learning_rate_init': 0.07963358328379677}. \u001b[0m\n",
            "\u001b[32m[I 2021-06-24 13:33:16,180]\u001b[0m Trial 7 finished with values: [0.885, 0.8790798187255859] and parameters: {'n_layers': 3, 'layer_1_size': 29, 'layer_2_size': 35, 'layer_3_size': 46, 'alpha': 4.543994517425308e-06, 'tol': 0.00011916514693828936, 'beta_1': 0.919988728094854, 'beta_2': 0.7743257374553468, 'learning_rate_init': 0.0003861316703292381}. \u001b[0m\n",
            "\u001b[32m[I 2021-06-24 13:33:16,977]\u001b[0m Trial 8 finished with values: [0.915, 0.7575907707214355] and parameters: {'n_layers': 2, 'layer_1_size': 38, 'layer_2_size': 45, 'alpha': 0.013560034935590921, 'tol': 0.6685371542516644, 'beta_1': 0.128661020423243, 'beta_2': 0.7201105780751946, 'learning_rate_init': 0.014071036028619628}. \u001b[0m\n",
            "\u001b[32m[I 2021-06-24 13:33:17,654]\u001b[0m Trial 9 finished with values: [0.915, 0.6342971324920654] and parameters: {'n_layers': 2, 'layer_1_size': 39, 'layer_2_size': 22, 'alpha': 0.17594677971231898, 'tol': 0.07035694001328437, 'beta_1': 0.36351333637023076, 'beta_2': 0.4178716102505961, 'learning_rate_init': 0.06040958609329022}. \u001b[0m\n",
            "\u001b[32m[I 2021-06-24 13:33:18,097]\u001b[0m Trial 10 finished with values: [0.52, 0.39836716651916504] and parameters: {'n_layers': 1, 'layer_1_size': 19, 'alpha': 1.3259685116626232e-06, 'tol': 0.0011323507429594967, 'beta_1': 0.655247094910459, 'beta_2': 0.24771477428955968, 'learning_rate_init': 2.706540462517576e-06}. \u001b[0m\n",
            "\u001b[32m[I 2021-06-24 13:33:18,696]\u001b[0m Trial 11 finished with values: [0.6000000000000001, 0.5507080554962158] and parameters: {'n_layers': 1, 'layer_1_size': 45, 'alpha': 0.00011268199542449281, 'tol': 0.0008452694354531599, 'beta_1': 0.013412735810499676, 'beta_2': 0.0017106012447751428, 'learning_rate_init': 2.0613948526760165e-05}. \u001b[0m\n",
            "\u001b[32m[I 2021-06-24 13:33:19,184]\u001b[0m Trial 12 finished with values: [0.5399999999999999, 0.43607306480407715] and parameters: {'n_layers': 2, 'layer_1_size': 15, 'layer_2_size': 7, 'alpha': 0.0013069810733212196, 'tol': 0.012218925536263683, 'beta_1': 0.8113858645642817, 'beta_2': 0.005957308012763156, 'learning_rate_init': 0.000286682371770664}. \u001b[0m\n",
            "/opt/anaconda3/envs/hpo/lib/python3.9/site-packages/sklearn/neural_network/_multilayer_perceptron.py:582: ConvergenceWarning: Stochastic Optimizer: Maximum iterations (200) reached and the optimization hasn't converged yet.\n",
            "  warnings.warn(\n",
            "\u001b[32m[I 2021-06-24 13:33:20,086]\u001b[0m Trial 13 finished with values: [0.515, 0.47922420501708984] and parameters: {'n_layers': 1, 'layer_1_size': 34, 'alpha': 0.8519578187834544, 'tol': 1.1180861407790612e-05, 'beta_1': 0.5032659400449669, 'beta_2': 0.5439709434541915, 'learning_rate_init': 1.227166430077063e-05}. \u001b[0m\n",
            "\u001b[32m[I 2021-06-24 13:33:20,987]\u001b[0m Trial 14 finished with values: [0.885, 0.44770359992980957] and parameters: {'n_layers': 2, 'layer_1_size': 14, 'layer_2_size': 12, 'alpha': 1.0070144695138192e-06, 'tol': 0.00021423679915695925, 'beta_1': 0.02080658390365603, 'beta_2': 0.3079751855846036, 'learning_rate_init': 0.001335813224383925}. \u001b[0m\n",
            "\u001b[32m[I 2021-06-24 13:33:21,657]\u001b[0m Trial 15 finished with values: [0.9049999999999999, 0.36991095542907715] and parameters: {'n_layers': 1, 'layer_1_size': 12, 'alpha': 1.2419811704953315e-06, 'tol': 0.00025782422258097115, 'beta_1': 0.04915900647234839, 'beta_2': 0.2638688161574923, 'learning_rate_init': 0.003092165834130955}. \u001b[0m\n",
            "\u001b[32m[I 2021-06-24 13:33:22,093]\u001b[0m Trial 16 finished with values: [0.8499999999999999, 0.35782790184020996] and parameters: {'n_layers': 1, 'layer_1_size': 9, 'alpha': 0.0014466206582471482, 'tol': 0.008382379738575741, 'beta_1': 0.19066504937732265, 'beta_2': 0.5436387490435325, 'learning_rate_init': 0.0018505858034919347}. \u001b[0m\n",
            "/opt/anaconda3/envs/hpo/lib/python3.9/site-packages/sklearn/neural_network/_multilayer_perceptron.py:582: ConvergenceWarning: Stochastic Optimizer: Maximum iterations (200) reached and the optimization hasn't converged yet.\n",
            "  warnings.warn(\n",
            "\u001b[32m[I 2021-06-24 13:33:22,881]\u001b[0m Trial 17 finished with values: [0.7300000000000001, 0.41161584854125977] and parameters: {'n_layers': 1, 'layer_1_size': 20, 'alpha': 3.412151537229594e-06, 'tol': 0.0005601470062129255, 'beta_1': 0.03360345505593364, 'beta_2': 0.32346359272864006, 'learning_rate_init': 7.024964062852993e-05}. \u001b[0m\n",
            "\u001b[32m[I 2021-06-24 13:33:23,254]\u001b[0m Trial 18 finished with values: [0.875, 0.3131232261657715] and parameters: {'n_layers': 1, 'layer_1_size': 2, 'alpha': 0.10160335653501168, 'tol': 0.003295747559005705, 'beta_1': 0.12973937149022546, 'beta_2': 0.12144622926630172, 'learning_rate_init': 0.03764977876147358}. \u001b[0m\n",
            "\u001b[32m[I 2021-06-24 13:33:23,907]\u001b[0m Trial 19 finished with values: [0.9049999999999999, 0.3615438938140869] and parameters: {'n_layers': 1, 'layer_1_size': 8, 'alpha': 0.00021230857347505363, 'tol': 0.00020666539188587117, 'beta_1': 0.27026240461197854, 'beta_2': 0.6340047740691164, 'learning_rate_init': 0.0036611758781709856}. \u001b[0m\n",
            "\u001b[32m[I 2021-06-24 13:33:24,297]\u001b[0m Trial 20 finished with values: [0.875, 0.3256676197052002] and parameters: {'n_layers': 1, 'layer_1_size': 2, 'alpha': 0.09688235880484591, 'tol': 0.003715321559537017, 'beta_1': 0.26116708187883253, 'beta_2': 0.9873796201507512, 'learning_rate_init': 0.045297031815301134}. \u001b[0m\n"
          ]
        },
        {
          "name": "stderr",
          "output_type": "stream",
          "text": [
            "\u001b[32m[I 2021-06-24 13:33:24,682]\u001b[0m Trial 21 finished with values: [0.8900000000000001, 0.34682798385620117] and parameters: {'n_layers': 1, 'layer_1_size': 7, 'alpha': 0.4220468928331617, 'tol': 0.9205855947906584, 'beta_1': 0.1355045696452603, 'beta_2': 0.12358877798741968, 'learning_rate_init': 0.026215233749186093}. \u001b[0m\n",
            "\u001b[32m[I 2021-06-24 13:33:25,363]\u001b[0m Trial 22 finished with values: [0.885, 0.5584681034088135] and parameters: {'n_layers': 2, 'layer_1_size': 2, 'layer_2_size': 37, 'alpha': 0.05927541209993249, 'tol': 0.0029859542692567418, 'beta_1': 0.276718698028048, 'beta_2': 0.6467856636383467, 'learning_rate_init': 0.005313774791799439}. \u001b[0m\n",
            "\u001b[32m[I 2021-06-24 13:33:25,820]\u001b[0m Trial 23 finished with values: [0.8949999999999999, 0.39627814292907715] and parameters: {'n_layers': 1, 'layer_1_size': 17, 'alpha': 0.003966062336361071, 'tol': 0.022560292596133607, 'beta_1': 0.14092242274995986, 'beta_2': 0.8719943100057457, 'learning_rate_init': 0.0773444843114371}. \u001b[0m\n",
            "\u001b[32m[I 2021-06-24 13:33:26,580]\u001b[0m Trial 24 finished with values: [0.6250000000000001, 0.6833100318908691] and parameters: {'n_layers': 2, 'layer_1_size': 8, 'layer_2_size': 50, 'alpha': 0.7108676700695464, 'tol': 0.2268470093354554, 'beta_1': 0.46008802111568425, 'beta_2': 0.41425616974036406, 'learning_rate_init': 0.0008778356686439788}. \u001b[0m\n",
            "\u001b[32m[I 2021-06-24 13:33:27,234]\u001b[0m Trial 25 finished with values: [0.92, 0.5472538471221924] and parameters: {'n_layers': 1, 'layer_1_size': 24, 'alpha': 0.2527894319467446, 'tol': 0.003817907750851227, 'beta_1': 0.2201911044553502, 'beta_2': 0.6241977351358688, 'learning_rate_init': 0.030048244665819682}. \u001b[0m\n",
            "\u001b[32m[I 2021-06-24 13:33:27,788]\u001b[0m Trial 26 finished with values: [0.885, 0.37929534912109375] and parameters: {'n_layers': 1, 'layer_1_size': 5, 'alpha': 0.04035086404093535, 'tol': 0.0015772100597426092, 'beta_1': 0.31983210103399984, 'beta_2': 0.1070563172989808, 'learning_rate_init': 0.005771575460170749}. \u001b[0m\n",
            "\u001b[32m[I 2021-06-24 13:33:28,390]\u001b[0m Trial 27 finished with values: [0.9000000000000001, 0.48125219345092773] and parameters: {'n_layers': 2, 'layer_1_size': 12, 'layer_2_size': 13, 'alpha': 0.00037381374577335043, 'tol': 0.00036803987105919495, 'beta_1': 0.11509538011805209, 'beta_2': 0.17742514744841037, 'learning_rate_init': 0.098533253291663}. \u001b[0m\n",
            "\u001b[32m[I 2021-06-24 13:33:28,860]\u001b[0m Trial 28 finished with values: [0.8750000000000001, 0.3381640911102295] and parameters: {'n_layers': 1, 'layer_1_size': 2, 'alpha': 0.00374876329258752, 'tol': 0.00010074420481316591, 'beta_1': 0.09386371352016509, 'beta_2': 0.49437870204785506, 'learning_rate_init': 0.020107037225897507}. \u001b[0m\n",
            "\u001b[32m[I 2021-06-24 13:33:29,701]\u001b[0m Trial 29 finished with values: [0.8499999999999999, 0.49644994735717773] and parameters: {'n_layers': 2, 'layer_1_size': 6, 'layer_2_size': 16, 'alpha': 0.014500060798757118, 'tol': 1.4622337591523938e-05, 'beta_1': 0.586619467167693, 'beta_2': 0.3522051176460188, 'learning_rate_init': 0.006593017788231954}. \u001b[0m\n",
            "\u001b[32m[I 2021-06-24 13:33:30,272]\u001b[0m Trial 30 finished with values: [0.9000000000000001, 0.46068811416625977] and parameters: {'n_layers': 1, 'layer_1_size': 24, 'alpha': 0.3008911753048114, 'tol': 0.0033534446033679217, 'beta_1': 0.19498515264825206, 'beta_2': 0.6551011501379808, 'learning_rate_init': 0.03883702672966298}. \u001b[0m\n",
            "\u001b[32m[I 2021-06-24 13:33:30,824]\u001b[0m Trial 31 finished with values: [0.8400000000000001, 0.44289684295654297] and parameters: {'n_layers': 1, 'layer_1_size': 21, 'alpha': 9.426709413690369e-05, 'tol': 0.007162534596671162, 'beta_1': 0.20814855881268296, 'beta_2': 0.8537697992885942, 'learning_rate_init': 0.0009298636148540676}. \u001b[0m\n",
            "\u001b[32m[I 2021-06-24 13:33:31,444]\u001b[0m Trial 32 finished with values: [0.875, 0.4068598747253418] and parameters: {'n_layers': 1, 'layer_1_size': 15, 'alpha': 0.0033422210874827028, 'tol': 0.002035376572759364, 'beta_1': 0.44313630060602044, 'beta_2': 0.5778648066441404, 'learning_rate_init': 0.001888594068533848}. \u001b[0m\n",
            "\u001b[32m[I 2021-06-24 13:33:31,966]\u001b[0m Trial 33 finished with values: [0.905, 0.3877236843109131] and parameters: {'n_layers': 1, 'layer_1_size': 11, 'alpha': 0.00044803849825677996, 'tol': 0.0006915427662677004, 'beta_1': 0.3004110596555007, 'beta_2': 0.4684418682612699, 'learning_rate_init': 0.009289000014349987}. \u001b[0m\n",
            "\u001b[32m[I 2021-06-24 13:33:32,616]\u001b[0m Trial 34 finished with values: [0.9199999999999999, 0.4958219528198242] and parameters: {'n_layers': 1, 'layer_1_size': 33, 'alpha': 0.14060606614370916, 'tol': 0.00012756757439172888, 'beta_1': 0.22848912933791732, 'beta_2': 0.6545972845611261, 'learning_rate_init': 0.02580564194852311}. \u001b[0m\n",
            "/opt/anaconda3/envs/hpo/lib/python3.9/site-packages/sklearn/neural_network/_multilayer_perceptron.py:582: ConvergenceWarning: Stochastic Optimizer: Maximum iterations (200) reached and the optimization hasn't converged yet.\n",
            "  warnings.warn(\n",
            "\u001b[32m[I 2021-06-24 13:33:33,580]\u001b[0m Trial 35 finished with values: [0.855, 0.5056807994842529] and parameters: {'n_layers': 1, 'layer_1_size': 33, 'alpha': 0.0957863159183445, 'tol': 6.40874896824633e-05, 'beta_1': 0.07742991990471831, 'beta_2': 0.5998278667628184, 'learning_rate_init': 0.00011631837814581641}. \u001b[0m\n",
            "/opt/anaconda3/envs/hpo/lib/python3.9/site-packages/sklearn/neural_network/_multilayer_perceptron.py:582: ConvergenceWarning: Stochastic Optimizer: Maximum iterations (200) reached and the optimization hasn't converged yet.\n",
            "  warnings.warn(\n",
            "\u001b[32m[I 2021-06-24 13:33:34,242]\u001b[0m Trial 36 finished with values: [0.8499999999999999, 0.35098886489868164] and parameters: {'n_layers': 1, 'layer_1_size': 4, 'alpha': 2.174007603453939e-05, 'tol': 0.00015286204751364474, 'beta_1': 0.3630803156007151, 'beta_2': 0.7020282708365593, 'learning_rate_init': 0.0028755536166495056}. \u001b[0m\n",
            "\u001b[32m[I 2021-06-24 13:33:34,902]\u001b[0m Trial 37 finished with values: [0.925, 0.5387508869171143] and parameters: {'n_layers': 1, 'layer_1_size': 43, 'alpha': 6.0188742456746935e-05, 'tol': 1.0040821446288553e-05, 'beta_1': 0.1645110475891487, 'beta_2': 0.8396096082685681, 'learning_rate_init': 0.022323632177520362}. \u001b[0m\n",
            "\u001b[32m[I 2021-06-24 13:33:35,886]\u001b[0m Trial 38 finished with values: [0.9100000000000001, 0.5701723098754883] and parameters: {'n_layers': 1, 'layer_1_size': 49, 'alpha': 0.0002504621455206035, 'tol': 0.00037787339972339027, 'beta_1': 0.24273321885455418, 'beta_2': 0.4727441419986968, 'learning_rate_init': 0.0009367998241135101}. \u001b[0m\n",
            "\u001b[32m[I 2021-06-24 13:33:36,559]\u001b[0m Trial 39 finished with values: [0.92, 0.417011022567749] and parameters: {'n_layers': 1, 'layer_1_size': 18, 'alpha': 0.0010113552186004052, 'tol': 2.874829807605508e-05, 'beta_1': 0.4063875900172627, 'beta_2': 0.9828639432076915, 'learning_rate_init': 0.008797369485265938}. \u001b[0m\n",
            "\u001b[32m[I 2021-06-24 13:33:37,185]\u001b[0m Trial 40 finished with values: [0.895, 0.35930705070495605] and parameters: {'n_layers': 1, 'layer_1_size': 8, 'alpha': 0.0018696881435804787, 'tol': 2.3951945245563057e-05, 'beta_1': 0.15942601774207996, 'beta_2': 0.962166131226281, 'learning_rate_init': 0.009045721228370355}. \u001b[0m\n",
            "\u001b[32m[I 2021-06-24 13:33:37,749]\u001b[0m Trial 41 finished with values: [0.895, 0.402346134185791] and parameters: {'n_layers': 1, 'layer_1_size': 13, 'alpha': 0.000841496079462844, 'tol': 1.3934098779389252e-05, 'beta_1': 0.4421476422362953, 'beta_2': 0.8677263032426578, 'learning_rate_init': 0.017054047336829265}. \u001b[0m\n",
            "\u001b[32m[I 2021-06-24 13:33:38,224]\u001b[0m Trial 42 finished with values: [0.8799999999999999, 0.4237329959869385] and parameters: {'n_layers': 1, 'layer_1_size': 16, 'alpha': 5.031212203007172e-05, 'tol': 0.37014501349322015, 'beta_1': 0.394563833693018, 'beta_2': 0.9144650382404799, 'learning_rate_init': 0.09581970222326597}. \u001b[0m\n",
            "\u001b[32m[I 2021-06-24 13:33:38,707]\u001b[0m Trial 43 finished with values: [0.8900000000000001, 0.41590380668640137] and parameters: {'n_layers': 1, 'layer_1_size': 18, 'alpha': 0.010241939511614643, 'tol': 0.020073367917353223, 'beta_1': 0.3066851468597482, 'beta_2': 0.8020650479727522, 'learning_rate_init': 0.04059518238654081}. \u001b[0m\n",
            "/opt/anaconda3/envs/hpo/lib/python3.9/site-packages/sklearn/neural_network/_multilayer_perceptron.py:582: ConvergenceWarning: Stochastic Optimizer: Maximum iterations (200) reached and the optimization hasn't converged yet.\n",
            "  warnings.warn(\n"
          ]
        },
        {
          "name": "stderr",
          "output_type": "stream",
          "text": [
            "\u001b[32m[I 2021-06-24 13:33:39,400]\u001b[0m Trial 44 finished with values: [0.9000000000000001, 0.35135507583618164] and parameters: {'n_layers': 1, 'layer_1_size': 7, 'alpha': 1.057434176380296e-05, 'tol': 6.707959414130896e-05, 'beta_1': 0.06619735461953394, 'beta_2': 0.07107971291956858, 'learning_rate_init': 0.005405215145553146}. \u001b[0m\n",
            "\u001b[32m[I 2021-06-24 13:33:39,876]\u001b[0m Trial 45 finished with values: [0.855, 0.323167085647583] and parameters: {'n_layers': 1, 'layer_1_size': 2, 'alpha': 0.030428082581132613, 'tol': 0.00040121967401255234, 'beta_1': 0.16804638046778253, 'beta_2': 0.17554668696202536, 'learning_rate_init': 0.053521417432980556}. \u001b[0m\n",
            "\u001b[32m[I 2021-06-24 13:33:40,449]\u001b[0m Trial 46 finished with values: [0.905, 0.3662989139556885] and parameters: {'n_layers': 1, 'layer_1_size': 10, 'alpha': 0.0007266574593452988, 'tol': 1.0102977147122388e-05, 'beta_1': 0.5207391537224039, 'beta_2': 0.9804189824133966, 'learning_rate_init': 0.02066479427739678}. \u001b[0m\n",
            "/opt/anaconda3/envs/hpo/lib/python3.9/site-packages/sklearn/neural_network/_multilayer_perceptron.py:582: ConvergenceWarning: Stochastic Optimizer: Maximum iterations (200) reached and the optimization hasn't converged yet.\n",
            "  warnings.warn(\n",
            "\u001b[32m[I 2021-06-24 13:33:41,090]\u001b[0m Trial 47 finished with values: [0.86, 0.33815693855285645] and parameters: {'n_layers': 1, 'layer_1_size': 4, 'alpha': 0.00022701071230889742, 'tol': 3.279104462178131e-05, 'beta_1': 0.32499309814314714, 'beta_2': 0.04567625158109884, 'learning_rate_init': 0.002213926603840808}. \u001b[0m\n",
            "\u001b[32m[I 2021-06-24 13:33:41,680]\u001b[0m Trial 48 finished with values: [0.885, 0.33988308906555176] and parameters: {'n_layers': 1, 'layer_1_size': 6, 'alpha': 0.00669288208685084, 'tol': 0.00020846516958136562, 'beta_1': 0.7582012751216174, 'beta_2': 0.823999384021163, 'learning_rate_init': 0.007246835115820264}. \u001b[0m\n",
            "\u001b[32m[I 2021-06-24 13:33:42,158]\u001b[0m Trial 49 finished with values: [0.595, 0.42757487297058105] and parameters: {'n_layers': 1, 'layer_1_size': 22, 'alpha': 0.002129998475488314, 'tol': 0.04731180742572224, 'beta_1': 0.27401537602710013, 'beta_2': 0.24723005295855346, 'learning_rate_init': 0.0005763291625101341}. \u001b[0m\n",
            "\u001b[32m[I 2021-06-24 13:33:42,814]\u001b[0m Trial 50 finished with values: [0.9150000000000001, 0.45728302001953125] and parameters: {'n_layers': 1, 'layer_1_size': 26, 'alpha': 1.2147295649122401e-05, 'tol': 6.890273606454276e-05, 'beta_1': 0.06968907676995637, 'beta_2': 0.05971563924269985, 'learning_rate_init': 0.004955076076501721}. \u001b[0m\n",
            "\u001b[32m[I 2021-06-24 13:33:43,413]\u001b[0m Trial 51 finished with values: [0.885, 0.3462188243865967] and parameters: {'n_layers': 1, 'layer_1_size': 7, 'alpha': 6.23136574187244e-05, 'tol': 2.073288787164361e-05, 'beta_1': 0.17117034240278398, 'beta_2': 0.9185294077608815, 'learning_rate_init': 0.015402461333351382}. \u001b[0m\n",
            "\u001b[32m[I 2021-06-24 13:33:44,089]\u001b[0m Trial 52 finished with values: [0.9149999999999999, 0.5402209758758545] and parameters: {'n_layers': 1, 'layer_1_size': 44, 'alpha': 0.596170955358332, 'tol': 8.971686212973368e-05, 'beta_1': 0.40430873654327387, 'beta_2': 0.9491304935612683, 'learning_rate_init': 0.031964242108817854}. \u001b[0m\n",
            "\u001b[32m[I 2021-06-24 13:33:44,775]\u001b[0m Trial 53 finished with values: [0.9299999999999998, 0.4530980587005615] and parameters: {'n_layers': 1, 'layer_1_size': 26, 'alpha': 0.0173117951359361, 'tol': 3.065172504685016e-05, 'beta_1': 0.10385550301659174, 'beta_2': 0.3691356144401184, 'learning_rate_init': 0.010241430487373542}. \u001b[0m\n",
            "\u001b[32m[I 2021-06-24 13:33:45,151]\u001b[0m Trial 54 finished with values: [0.855, 0.3304738998413086] and parameters: {'n_layers': 1, 'layer_1_size': 4, 'alpha': 0.0690676257681989, 'tol': 0.13384722503983637, 'beta_1': 0.09983794159959614, 'beta_2': 0.20509124886831753, 'learning_rate_init': 0.06607301485521548}. \u001b[0m\n"
          ]
        }
      ],
      "source": [
        "motpe_sampler = optuna.samplers.MOTPESampler()\n",
        "motpe_experiment = optuna.create_study(sampler=motpe_sampler, directions=[\"maximize\", \"minimize\"])\n",
        "motpe_experiment.optimize(train, n_trials=N_TRIAL)"
      ]
    },
    {
      "cell_type": "markdown",
      "metadata": {
        "id": "57c3752b"
      },
      "source": [
        "As a trade off to the flexibility of a define-by-run hyperparameter space, Optuna’s random search is suboptimal for problems with a fixed, non-dynamic hyperparameter space. Unlike Ax's use of Sobol random, Optuna uses the `numpy` RandomState class to generate independent samples from the parameter space. You can read more about the difference between these types of random sampling in our main blog post (TODO: link again (to the specific section))? \n",
        "\n",
        "However, generating an experiment with random sampling is as easy as changing the sampler!"
      ]
    },
    {
      "cell_type": "code",
      "execution_count": null,
      "metadata": {
        "id": "convenient-closure"
      },
      "outputs": [
        {
          "name": "stderr",
          "output_type": "stream",
          "text": [
            "\u001b[32m[I 2021-06-24 13:33:45,156]\u001b[0m A new study created in memory with name: no-name-f5ea743f-5351-4c94-bb3b-073cfc71208a\u001b[0m\n",
            "\u001b[32m[I 2021-06-24 13:33:45,526]\u001b[0m Trial 0 finished with values: [0.855, 0.3397219181060791] and parameters: {'n_layers': 1, 'layer_1_size': 5, 'alpha': 1.6583798916713135e-06, 'tol': 0.04131954057651528, 'beta_1': 0.03944237992080375, 'beta_2': 0.7740661460724664, 'learning_rate_init': 0.04852577351926202}. \u001b[0m\n",
            "\u001b[32m[I 2021-06-24 13:33:46,086]\u001b[0m Trial 1 finished with values: [0.8949999999999999, 0.5287368297576904] and parameters: {'n_layers': 1, 'layer_1_size': 42, 'alpha': 0.9963429830202633, 'tol': 0.09246280379558958, 'beta_1': 0.7195088193468046, 'beta_2': 0.29885617879226084, 'learning_rate_init': 0.06860857380535164}. \u001b[0m\n",
            "\u001b[32m[I 2021-06-24 13:33:46,747]\u001b[0m Trial 2 finished with values: [0.64, 0.623384952545166] and parameters: {'n_layers': 2, 'layer_1_size': 36, 'layer_2_size': 19, 'alpha': 3.1382750520930222e-06, 'tol': 0.008763082630036568, 'beta_1': 0.7933874414978763, 'beta_2': 0.32699564283576793, 'learning_rate_init': 0.00016543130829685916}. \u001b[0m\n",
            "\u001b[32m[I 2021-06-24 13:33:47,382]\u001b[0m Trial 3 finished with values: [0.505, 0.596613883972168] and parameters: {'n_layers': 2, 'layer_1_size': 20, 'layer_2_size': 31, 'alpha': 0.42397941653045, 'tol': 0.7581410178733912, 'beta_1': 0.373962412132173, 'beta_2': 0.6024219141589208, 'learning_rate_init': 1.8935334780803297e-06}. \u001b[0m\n",
            "\u001b[32m[I 2021-06-24 13:33:47,841]\u001b[0m Trial 4 finished with values: [0.5299999999999999, 0.43263888359069824] and parameters: {'n_layers': 1, 'layer_1_size': 22, 'alpha': 0.7236784657614748, 'tol': 0.6058590193629025, 'beta_1': 0.8490182333714608, 'beta_2': 0.49489308559283846, 'learning_rate_init': 0.00025438913324192535}. \u001b[0m\n",
            "\u001b[32m[I 2021-06-24 13:33:48,456]\u001b[0m Trial 5 finished with values: [0.92, 0.5632467269897461] and parameters: {'n_layers': 1, 'layer_1_size': 43, 'alpha': 0.005601695302365957, 'tol': 0.020153556066825066, 'beta_1': 0.8037899579284612, 'beta_2': 0.4189614188487681, 'learning_rate_init': 0.015437632775690668}. \u001b[0m\n",
            "\u001b[32m[I 2021-06-24 13:33:49,118]\u001b[0m Trial 6 finished with values: [0.5, 0.6153221130371094] and parameters: {'n_layers': 3, 'layer_1_size': 19, 'layer_2_size': 22, 'layer_3_size': 7, 'alpha': 0.2536664779941713, 'tol': 0.11306246065595354, 'beta_1': 0.22365200386713138, 'beta_2': 0.9722277568719978, 'learning_rate_init': 4.842107491111102e-05}. \u001b[0m\n",
            "\u001b[32m[I 2021-06-24 13:33:49,791]\u001b[0m Trial 7 finished with values: [0.5149999999999999, 0.6333682537078857] and parameters: {'n_layers': 2, 'layer_1_size': 7, 'layer_2_size': 41, 'alpha': 0.0004271872784203828, 'tol': 0.07664708651506831, 'beta_1': 0.9811908790685665, 'beta_2': 0.8259244904930456, 'learning_rate_init': 1.197868976673003e-05}. \u001b[0m\n",
            "/opt/anaconda3/envs/hpo/lib/python3.9/site-packages/sklearn/neural_network/_multilayer_perceptron.py:582: ConvergenceWarning: Stochastic Optimizer: Maximum iterations (200) reached and the optimization hasn't converged yet.\n",
            "  warnings.warn(\n",
            "\u001b[32m[I 2021-06-24 13:33:51,150]\u001b[0m Trial 8 finished with values: [0.9, 0.7186932563781738] and parameters: {'n_layers': 2, 'layer_1_size': 46, 'layer_2_size': 27, 'alpha': 0.005243706209133101, 'tol': 3.1614281193465674e-05, 'beta_1': 0.2909670167287171, 'beta_2': 0.8084795135185837, 'learning_rate_init': 0.0003413866228000295}. \u001b[0m\n",
            "\u001b[32m[I 2021-06-24 13:33:52,056]\u001b[0m Trial 9 finished with values: [0.4900000000000001, 0.8515229225158691] and parameters: {'n_layers': 3, 'layer_1_size': 10, 'layer_2_size': 37, 'layer_3_size': 41, 'alpha': 5.977067562977668e-06, 'tol': 0.0001858564972687893, 'beta_1': 0.2614030814174309, 'beta_2': 0.1554436285822663, 'learning_rate_init': 1.0954115984727397e-05}. \u001b[0m\n",
            "\u001b[32m[I 2021-06-24 13:33:53,506]\u001b[0m Trial 10 finished with values: [0.8200000000000001, 0.7752377986907959] and parameters: {'n_layers': 3, 'layer_1_size': 8, 'layer_2_size': 27, 'layer_3_size': 42, 'alpha': 0.0011728533397120265, 'tol': 0.0012326734934114524, 'beta_1': 0.5216284138903077, 'beta_2': 0.9119061996071103, 'learning_rate_init': 0.0007369021217116634}. \u001b[0m\n",
            "\u001b[32m[I 2021-06-24 13:33:54,541]\u001b[0m Trial 11 finished with values: [0.8550000000000002, 0.6994128227233887] and parameters: {'n_layers': 3, 'layer_1_size': 8, 'layer_2_size': 19, 'layer_3_size': 38, 'alpha': 0.5538325901691606, 'tol': 0.0007668619951854919, 'beta_1': 0.6712553151717879, 'beta_2': 0.5570377134596991, 'learning_rate_init': 0.004286934471615339}. \u001b[0m\n",
            "\u001b[32m[I 2021-06-24 13:33:55,494]\u001b[0m Trial 12 finished with values: [0.9149999999999999, 0.7734830379486084] and parameters: {'n_layers': 2, 'layer_1_size': 45, 'layer_2_size': 38, 'alpha': 0.10330475805355407, 'tol': 6.933829845186716e-05, 'beta_1': 0.5411549805754399, 'beta_2': 0.8261044700714064, 'learning_rate_init': 0.012836281190961819}. \u001b[0m\n",
            "\u001b[32m[I 2021-06-24 13:33:56,343]\u001b[0m Trial 13 finished with values: [0.91, 0.7191028594970703] and parameters: {'n_layers': 2, 'layer_1_size': 36, 'layer_2_size': 38, 'alpha': 0.00018293294356677486, 'tol': 0.0017038915001011785, 'beta_1': 0.25176497601454806, 'beta_2': 0.6017723593140502, 'learning_rate_init': 0.0036629996866074264}. \u001b[0m\n",
            "\u001b[32m[I 2021-06-24 13:33:56,800]\u001b[0m Trial 14 finished with values: [0.8799999999999999, 0.38059115409851074] and parameters: {'n_layers': 1, 'layer_1_size': 11, 'alpha': 0.0014559109594048342, 'tol': 1.4704417828771943e-05, 'beta_1': 0.8308062313058308, 'beta_2': 0.06619582670978796, 'learning_rate_init': 0.01818759455072945}. \u001b[0m\n",
            "\u001b[32m[I 2021-06-24 13:33:57,737]\u001b[0m Trial 15 finished with values: [0.54, 0.8825051784515381] and parameters: {'n_layers': 3, 'layer_1_size': 46, 'layer_2_size': 13, 'layer_3_size': 38, 'alpha': 0.0008155199557337989, 'tol': 0.9274263741709988, 'beta_1': 0.08628533951365917, 'beta_2': 0.22145158263462905, 'learning_rate_init': 2.111706618963953e-05}. \u001b[0m\n",
            "\u001b[32m[I 2021-06-24 13:33:58,112]\u001b[0m Trial 16 finished with values: [0.885, 0.34348392486572266] and parameters: {'n_layers': 1, 'layer_1_size': 5, 'alpha': 2.4437319186487103e-05, 'tol': 0.024847942502518868, 'beta_1': 0.08255665258506001, 'beta_2': 0.11759147669654614, 'learning_rate_init': 0.026362335735349265}. \u001b[0m\n",
            "\u001b[32m[I 2021-06-24 13:33:59,467]\u001b[0m Trial 17 finished with values: [0.8900000000000001, 1.0606257915496826] and parameters: {'n_layers': 3, 'layer_1_size': 39, 'layer_2_size': 42, 'layer_3_size': 49, 'alpha': 0.00012881218852591343, 'tol': 8.160713830729106e-05, 'beta_1': 0.7543338098522159, 'beta_2': 0.2882403890404505, 'learning_rate_init': 0.002015949676692678}. \u001b[0m\n",
            "/opt/anaconda3/envs/hpo/lib/python3.9/site-packages/sklearn/neural_network/_multilayer_perceptron.py:582: ConvergenceWarning: Stochastic Optimizer: Maximum iterations (200) reached and the optimization hasn't converged yet.\n",
            "  warnings.warn(\n",
            "\u001b[32m[I 2021-06-24 13:34:01,117]\u001b[0m Trial 18 finished with values: [0.71, 0.850836992263794] and parameters: {'n_layers': 3, 'layer_1_size': 38, 'layer_2_size': 37, 'layer_3_size': 19, 'alpha': 2.929803841476853e-05, 'tol': 2.463734430094916e-05, 'beta_1': 0.3163110539111522, 'beta_2': 0.8900123217662869, 'learning_rate_init': 2.8819353954641113e-05}. \u001b[0m\n",
            "/opt/anaconda3/envs/hpo/lib/python3.9/site-packages/sklearn/neural_network/_multilayer_perceptron.py:582: ConvergenceWarning: Stochastic Optimizer: Maximum iterations (200) reached and the optimization hasn't converged yet.\n",
            "  warnings.warn(\n",
            "\u001b[32m[I 2021-06-24 13:34:02,017]\u001b[0m Trial 19 finished with values: [0.55, 0.4279639720916748] and parameters: {'n_layers': 2, 'layer_1_size': 10, 'layer_2_size': 6, 'alpha': 1.991925800723186e-05, 'tol': 1.1108773191494136e-05, 'beta_1': 0.15620543788512337, 'beta_2': 0.23519189125732423, 'learning_rate_init': 4.0655131391347275e-05}. \u001b[0m\n",
            "/opt/anaconda3/envs/hpo/lib/python3.9/site-packages/sklearn/neural_network/_multilayer_perceptron.py:582: ConvergenceWarning: Stochastic Optimizer: Maximum iterations (200) reached and the optimization hasn't converged yet.\n",
            "  warnings.warn(\n",
            "\u001b[32m[I 2021-06-24 13:34:03,294]\u001b[0m Trial 20 finished with values: [0.8200000000000001, 0.6442630290985107] and parameters: {'n_layers': 3, 'layer_1_size': 2, 'layer_2_size': 13, 'layer_3_size': 36, 'alpha': 4.307738569153522e-06, 'tol': 4.512112322889721e-05, 'beta_1': 0.5507619382339853, 'beta_2': 0.5115341186797726, 'learning_rate_init': 0.001962163151533638}. \u001b[0m\n"
          ]
        },
        {
          "name": "stderr",
          "output_type": "stream",
          "text": [
            "\u001b[32m[I 2021-06-24 13:34:03,977]\u001b[0m Trial 21 finished with values: [0.875, 0.6066792011260986] and parameters: {'n_layers': 2, 'layer_1_size': 50, 'layer_2_size': 3, 'alpha': 0.0007933111984618153, 'tol': 0.04194318984051112, 'beta_1': 0.942039711044863, 'beta_2': 0.8655986481594887, 'learning_rate_init': 0.010487012710084159}. \u001b[0m\n",
            "/opt/anaconda3/envs/hpo/lib/python3.9/site-packages/sklearn/neural_network/_multilayer_perceptron.py:582: ConvergenceWarning: Stochastic Optimizer: Maximum iterations (200) reached and the optimization hasn't converged yet.\n",
            "  warnings.warn(\n",
            "\u001b[32m[I 2021-06-24 13:34:04,760]\u001b[0m Trial 22 finished with values: [0.55, 0.40920495986938477] and parameters: {'n_layers': 1, 'layer_1_size': 15, 'alpha': 0.08577432928050567, 'tol': 0.0005611833437950967, 'beta_1': 0.06544242583279844, 'beta_2': 0.1581465699036227, 'learning_rate_init': 2.9969661296918156e-05}. \u001b[0m\n",
            "\u001b[32m[I 2021-06-24 13:34:05,612]\u001b[0m Trial 23 finished with values: [0.5, 0.7926290035247803] and parameters: {'n_layers': 3, 'layer_1_size': 23, 'layer_2_size': 36, 'layer_3_size': 23, 'alpha': 0.010466850264954053, 'tol': 0.04290765902542515, 'beta_1': 0.03243343830273739, 'beta_2': 0.4603344337508877, 'learning_rate_init': 8.544154512593795e-06}. \u001b[0m\n",
            "\u001b[32m[I 2021-06-24 13:34:06,443]\u001b[0m Trial 24 finished with values: [0.855, 0.5007359981536865] and parameters: {'n_layers': 3, 'layer_1_size': 6, 'layer_2_size': 9, 'layer_3_size': 12, 'alpha': 0.0006435187074001271, 'tol': 0.00027602508229182467, 'beta_1': 0.5084413597862643, 'beta_2': 0.7393831583344864, 'learning_rate_init': 0.01198268847665325}. \u001b[0m\n",
            "\u001b[32m[I 2021-06-24 13:34:07,405]\u001b[0m Trial 25 finished with values: [0.54, 0.9010748863220215] and parameters: {'n_layers': 3, 'layer_1_size': 15, 'layer_2_size': 33, 'layer_3_size': 48, 'alpha': 0.051414799565382745, 'tol': 0.031764352247501806, 'beta_1': 0.9587544992783016, 'beta_2': 0.279442607486061, 'learning_rate_init': 1.5063970873016203e-05}. \u001b[0m\n",
            "\u001b[32m[I 2021-06-24 13:34:08,001]\u001b[0m Trial 26 finished with values: [0.43499999999999994, 0.5616238117218018] and parameters: {'n_layers': 1, 'layer_1_size': 42, 'alpha': 1.624737859599849e-05, 'tol': 0.26871842526274853, 'beta_1': 0.3456434949987803, 'beta_2': 0.7082101962847671, 'learning_rate_init': 2.9370582989984074e-06}. \u001b[0m\n",
            "/opt/anaconda3/envs/hpo/lib/python3.9/site-packages/sklearn/neural_network/_multilayer_perceptron.py:582: ConvergenceWarning: Stochastic Optimizer: Maximum iterations (200) reached and the optimization hasn't converged yet.\n",
            "  warnings.warn(\n",
            "\u001b[32m[I 2021-06-24 13:34:09,343]\u001b[0m Trial 27 finished with values: [0.5249999999999999, 0.681602954864502] and parameters: {'n_layers': 2, 'layer_1_size': 42, 'layer_2_size': 23, 'alpha': 0.03945676786130281, 'tol': 2.6246078981459565e-05, 'beta_1': 0.680397427899695, 'beta_2': 0.8567586133823424, 'learning_rate_init': 1.174314947044249e-06}. \u001b[0m\n",
            "\u001b[32m[I 2021-06-24 13:34:09,784]\u001b[0m Trial 28 finished with values: [0.49499999999999994, 0.4152200222015381] and parameters: {'n_layers': 1, 'layer_1_size': 16, 'alpha': 0.006768462925861922, 'tol': 0.00023298985248277273, 'beta_1': 0.5004547307104211, 'beta_2': 0.5001752932075587, 'learning_rate_init': 4.347504095107995e-06}. \u001b[0m\n",
            "/opt/anaconda3/envs/hpo/lib/python3.9/site-packages/sklearn/neural_network/_multilayer_perceptron.py:582: ConvergenceWarning: Stochastic Optimizer: Maximum iterations (200) reached and the optimization hasn't converged yet.\n",
            "  warnings.warn(\n",
            "\u001b[32m[I 2021-06-24 13:34:10,624]\u001b[0m Trial 29 finished with values: [0.86, 0.44705986976623535] and parameters: {'n_layers': 1, 'layer_1_size': 23, 'alpha': 1.3761938079642387e-06, 'tol': 0.0005408636825472867, 'beta_1': 0.4108202108882131, 'beta_2': 0.0616851861392132, 'learning_rate_init': 0.0001846989091908955}. \u001b[0m\n",
            "\u001b[32m[I 2021-06-24 13:34:11,240]\u001b[0m Trial 30 finished with values: [0.45999999999999996, 0.5760910511016846] and parameters: {'n_layers': 3, 'layer_1_size': 10, 'layer_2_size': 2, 'layer_3_size': 32, 'alpha': 0.024585381327682697, 'tol': 0.011048799096017222, 'beta_1': 0.5286940395655706, 'beta_2': 0.9532751026932333, 'learning_rate_init': 3.5289168173536404e-05}. \u001b[0m\n",
            "/opt/anaconda3/envs/hpo/lib/python3.9/site-packages/sklearn/neural_network/_multilayer_perceptron.py:582: ConvergenceWarning: Stochastic Optimizer: Maximum iterations (200) reached and the optimization hasn't converged yet.\n",
            "  warnings.warn(\n",
            "\u001b[32m[I 2021-06-24 13:34:12,710]\u001b[0m Trial 31 finished with values: [0.54, 0.7988591194152832] and parameters: {'n_layers': 2, 'layer_1_size': 48, 'layer_2_size': 33, 'alpha': 3.1409790082700724e-06, 'tol': 1.5694702780057205e-05, 'beta_1': 0.62638611404597, 'beta_2': 0.5432363605559006, 'learning_rate_init': 4.030006254008868e-06}. \u001b[0m\n",
            "/opt/anaconda3/envs/hpo/lib/python3.9/site-packages/sklearn/neural_network/_multilayer_perceptron.py:582: ConvergenceWarning: Stochastic Optimizer: Maximum iterations (200) reached and the optimization hasn't converged yet.\n",
            "  warnings.warn(\n",
            "\u001b[32m[I 2021-06-24 13:34:14,629]\u001b[0m Trial 32 finished with values: [0.8499999999999999, 1.0101428031921387] and parameters: {'n_layers': 3, 'layer_1_size': 17, 'layer_2_size': 43, 'layer_3_size': 50, 'alpha': 0.0020394733454806068, 'tol': 0.000737611371478881, 'beta_1': 0.6389748930474267, 'beta_2': 0.9579072617603983, 'learning_rate_init': 9.910534011134151e-05}. \u001b[0m\n",
            "/opt/anaconda3/envs/hpo/lib/python3.9/site-packages/sklearn/neural_network/_multilayer_perceptron.py:582: ConvergenceWarning: Stochastic Optimizer: Maximum iterations (200) reached and the optimization hasn't converged yet.\n",
            "  warnings.warn(\n",
            "\u001b[32m[I 2021-06-24 13:34:16,694]\u001b[0m Trial 33 finished with values: [0.6000000000000001, 1.119797945022583] and parameters: {'n_layers': 3, 'layer_1_size': 49, 'layer_2_size': 37, 'layer_3_size': 44, 'alpha': 0.002382387886025946, 'tol': 2.3265033409221653e-05, 'beta_1': 0.5456980326652223, 'beta_2': 0.8028561054219006, 'learning_rate_init': 1.5408055104570808e-05}. \u001b[0m\n",
            "\u001b[32m[I 2021-06-24 13:34:17,419]\u001b[0m Trial 34 finished with values: [0.46499999999999997, 0.6823008060455322] and parameters: {'n_layers': 2, 'layer_1_size': 9, 'layer_2_size': 41, 'alpha': 5.197871032815299e-06, 'tol': 0.34922065975912536, 'beta_1': 0.877987038234385, 'beta_2': 0.6764641425499057, 'learning_rate_init': 2.434850287289835e-05}. \u001b[0m\n",
            "/opt/anaconda3/envs/hpo/lib/python3.9/site-packages/sklearn/neural_network/_multilayer_perceptron.py:582: ConvergenceWarning: Stochastic Optimizer: Maximum iterations (200) reached and the optimization hasn't converged yet.\n",
            "  warnings.warn(\n",
            "\u001b[32m[I 2021-06-24 13:34:19,249]\u001b[0m Trial 35 finished with values: [0.685, 0.9688162803649902] and parameters: {'n_layers': 3, 'layer_1_size': 41, 'layer_2_size': 17, 'layer_3_size': 46, 'alpha': 0.06446830412773256, 'tol': 4.4446477484800655e-05, 'beta_1': 0.5284062936253946, 'beta_2': 0.4034825970274928, 'learning_rate_init': 2.4954707549228485e-05}. \u001b[0m\n",
            "\u001b[32m[I 2021-06-24 13:34:19,936]\u001b[0m Trial 36 finished with values: [0.5, 0.642056941986084] and parameters: {'n_layers': 2, 'layer_1_size': 49, 'layer_2_size': 5, 'alpha': 7.484642780385038e-05, 'tol': 0.8026983711041319, 'beta_1': 0.8211770620959823, 'beta_2': 0.009330230528697806, 'learning_rate_init': 0.016142827887176994}. \u001b[0m\n",
            "/opt/anaconda3/envs/hpo/lib/python3.9/site-packages/sklearn/neural_network/_multilayer_perceptron.py:582: ConvergenceWarning: Stochastic Optimizer: Maximum iterations (200) reached and the optimization hasn't converged yet.\n",
            "  warnings.warn(\n",
            "\u001b[32m[I 2021-06-24 13:34:21,142]\u001b[0m Trial 37 finished with values: [0.76, 0.6158819198608398] and parameters: {'n_layers': 2, 'layer_1_size': 15, 'layer_2_size': 29, 'alpha': 0.5474988526548683, 'tol': 1.0787805202803713e-05, 'beta_1': 0.5157074397897745, 'beta_2': 0.5623035298482, 'learning_rate_init': 5.98508726436748e-05}. \u001b[0m\n",
            "\u001b[32m[I 2021-06-24 13:34:21,798]\u001b[0m Trial 38 finished with values: [0.91, 0.615792989730835] and parameters: {'n_layers': 1, 'layer_1_size': 44, 'alpha': 0.19102495225479055, 'tol': 0.050634509376439665, 'beta_1': 0.2722178227605082, 'beta_2': 0.42512133521713275, 'learning_rate_init': 0.02664631455679372}. \u001b[0m\n",
            "\u001b[32m[I 2021-06-24 13:34:22,475]\u001b[0m Trial 39 finished with values: [0.85, 0.6206238269805908] and parameters: {'n_layers': 2, 'layer_1_size': 6, 'layer_2_size': 35, 'alpha': 4.3534383191541425e-05, 'tol': 0.07000379573442753, 'beta_1': 0.19834320285948503, 'beta_2': 0.2658104205179576, 'learning_rate_init': 0.010038140134207767}. \u001b[0m\n"
          ]
        },
        {
          "name": "stderr",
          "output_type": "stream",
          "text": [
            "\u001b[32m[I 2021-06-24 13:34:23,036]\u001b[0m Trial 40 finished with values: [0.6000000000000001, 0.5281221866607666] and parameters: {'n_layers': 1, 'layer_1_size': 35, 'alpha': 0.0012641283486926052, 'tol': 0.9282753886154791, 'beta_1': 0.37774095460471235, 'beta_2': 0.6407286452574744, 'learning_rate_init': 1.977844210971094e-06}. \u001b[0m\n",
            "\u001b[32m[I 2021-06-24 13:34:23,420]\u001b[0m Trial 41 finished with values: [0.485, 0.35796308517456055] and parameters: {'n_layers': 1, 'layer_1_size': 5, 'alpha': 1.3989383647500107e-05, 'tol': 0.038166776868459595, 'beta_1': 0.5631958946498815, 'beta_2': 0.6935417098351765, 'learning_rate_init': 3.241404263654068e-06}. \u001b[0m\n",
            "\u001b[32m[I 2021-06-24 13:34:24,553]\u001b[0m Trial 42 finished with values: [0.8900000000000001, 0.9083409309387207] and parameters: {'n_layers': 3, 'layer_1_size': 27, 'layer_2_size': 26, 'layer_3_size': 34, 'alpha': 1.123847998137992e-05, 'tol': 0.0018205660184223804, 'beta_1': 0.3326677975728737, 'beta_2': 0.1256364390286232, 'learning_rate_init': 0.0017725719114662698}. \u001b[0m\n",
            "\u001b[32m[I 2021-06-24 13:34:25,490]\u001b[0m Trial 43 finished with values: [0.6749999999999999, 0.7808301448822021] and parameters: {'n_layers': 3, 'layer_1_size': 5, 'layer_2_size': 27, 'layer_3_size': 36, 'alpha': 0.0047016429006261524, 'tol': 0.0033275855653821618, 'beta_1': 0.05521239988246544, 'beta_2': 0.6501295018857687, 'learning_rate_init': 0.00034545741656327045}. \u001b[0m\n",
            "\u001b[32m[I 2021-06-24 13:34:26,138]\u001b[0m Trial 44 finished with values: [0.48, 0.6123931407928467] and parameters: {'n_layers': 1, 'layer_1_size': 45, 'alpha': 0.0005374729355163436, 'tol': 0.043896199593101065, 'beta_1': 0.6546103631566926, 'beta_2': 0.8335106441103929, 'learning_rate_init': 8.869773707109956e-06}. \u001b[0m\n",
            "\u001b[32m[I 2021-06-24 13:34:26,974]\u001b[0m Trial 45 finished with values: [0.4650000000000001, 0.7866928577423096] and parameters: {'n_layers': 2, 'layer_1_size': 45, 'layer_2_size': 28, 'alpha': 2.8588588882050116e-05, 'tol': 0.12825741154825399, 'beta_1': 0.0035546165875830382, 'beta_2': 0.04155368415087471, 'learning_rate_init': 4.670885073758701e-05}. \u001b[0m\n",
            "\u001b[32m[I 2021-06-24 13:34:27,541]\u001b[0m Trial 46 finished with values: [0.875, 0.4715080261230469] and parameters: {'n_layers': 1, 'layer_1_size': 16, 'alpha': 0.05035684906215516, 'tol': 0.00487310448019807, 'beta_1': 0.39122115729730395, 'beta_2': 0.835814075922457, 'learning_rate_init': 0.002753535093979246}. \u001b[0m\n",
            "\u001b[32m[I 2021-06-24 13:34:28,735]\u001b[0m Trial 47 finished with values: [0.8299999999999998, 1.0442109107971191] and parameters: {'n_layers': 3, 'layer_1_size': 17, 'layer_2_size': 44, 'layer_3_size': 50, 'alpha': 0.009609284111752372, 'tol': 0.015018481272420114, 'beta_1': 0.37690607974052004, 'beta_2': 0.08525260827450304, 'learning_rate_init': 0.0008199363166659755}. \u001b[0m\n",
            "/opt/anaconda3/envs/hpo/lib/python3.9/site-packages/sklearn/neural_network/_multilayer_perceptron.py:582: ConvergenceWarning: Stochastic Optimizer: Maximum iterations (200) reached and the optimization hasn't converged yet.\n",
            "  warnings.warn(\n",
            "\u001b[32m[I 2021-06-24 13:34:30,319]\u001b[0m Trial 48 finished with values: [0.905, 0.8430337905883789] and parameters: {'n_layers': 2, 'layer_1_size': 37, 'layer_2_size': 45, 'alpha': 0.10612273808327918, 'tol': 3.3620762652058e-05, 'beta_1': 0.6713143528457702, 'beta_2': 0.40658339286182416, 'learning_rate_init': 0.0004215816010897672}. \u001b[0m\n",
            "/opt/anaconda3/envs/hpo/lib/python3.9/site-packages/sklearn/neural_network/_multilayer_perceptron.py:582: ConvergenceWarning: Stochastic Optimizer: Maximum iterations (200) reached and the optimization hasn't converged yet.\n",
            "  warnings.warn(\n",
            "\u001b[32m[I 2021-06-24 13:34:31,187]\u001b[0m Trial 49 finished with values: [0.475, 0.46172499656677246] and parameters: {'n_layers': 1, 'layer_1_size': 18, 'alpha': 1.3407717747060347e-05, 'tol': 2.833612831697428e-05, 'beta_1': 0.598225759514398, 'beta_2': 0.6857723167686244, 'learning_rate_init': 1.2381650680544528e-06}. \u001b[0m\n",
            "/opt/anaconda3/envs/hpo/lib/python3.9/site-packages/sklearn/neural_network/_multilayer_perceptron.py:582: ConvergenceWarning: Stochastic Optimizer: Maximum iterations (200) reached and the optimization hasn't converged yet.\n",
            "  warnings.warn(\n",
            "\u001b[32m[I 2021-06-24 13:34:32,722]\u001b[0m Trial 50 finished with values: [0.505, 0.7949621677398682] and parameters: {'n_layers': 3, 'layer_1_size': 4, 'layer_2_size': 35, 'layer_3_size': 25, 'alpha': 0.299573687157635, 'tol': 2.5987417662356293e-05, 'beta_1': 0.7330778867852773, 'beta_2': 0.6078188681395581, 'learning_rate_init': 9.170306610311602e-06}. \u001b[0m\n",
            "\u001b[32m[I 2021-06-24 13:34:33,422]\u001b[0m Trial 51 finished with values: [0.55, 0.6555390357971191] and parameters: {'n_layers': 3, 'layer_1_size': 4, 'layer_2_size': 36, 'layer_3_size': 5, 'alpha': 4.883106191941164e-05, 'tol': 0.023259746876049123, 'beta_1': 0.8746642547164667, 'beta_2': 0.4758580715642077, 'learning_rate_init': 9.688075251402541e-06}. \u001b[0m\n",
            "\u001b[32m[I 2021-06-24 13:34:33,813]\u001b[0m Trial 52 finished with values: [0.395, 0.36202383041381836] and parameters: {'n_layers': 1, 'layer_1_size': 7, 'alpha': 2.25192461437767e-06, 'tol': 0.04401127662912664, 'beta_1': 0.9129755595332987, 'beta_2': 0.21240965455242183, 'learning_rate_init': 4.335062761351774e-05}. \u001b[0m\n",
            "\u001b[32m[I 2021-06-24 13:34:34,320]\u001b[0m Trial 53 finished with values: [0.44000000000000006, 0.473236083984375] and parameters: {'n_layers': 1, 'layer_1_size': 27, 'alpha': 0.01643970382856014, 'tol': 0.002741058586533343, 'beta_1': 0.5990453920419062, 'beta_2': 0.20520586612661593, 'learning_rate_init': 7.337546198419339e-06}. \u001b[0m\n",
            "\u001b[32m[I 2021-06-24 13:34:35,326]\u001b[0m Trial 54 finished with values: [0.45999999999999996, 0.9478251934051514] and parameters: {'n_layers': 3, 'layer_1_size': 6, 'layer_2_size': 48, 'layer_3_size': 44, 'alpha': 0.14520299591564892, 'tol': 0.04787757788198888, 'beta_1': 0.3836450839555026, 'beta_2': 0.33950105302325123, 'learning_rate_init': 2.6012407491351593e-05}. \u001b[0m\n"
          ]
        }
      ],
      "source": [
        "random_sampler = optuna.samplers.RandomSampler()\n",
        "random_experiment = optuna.create_study(sampler=random_sampler, directions=[\"maximize\", \"minimize\"])\n",
        "random_experiment.optimize(train, n_trials=N_TRIAL, timeout=300)"
      ]
    },
    {
      "cell_type": "markdown",
      "metadata": {
        "id": "16588446"
      },
      "source": [
        "We provide a helper function that casts the output of the Optuna experiments into an easier-to-read format. "
      ]
    },
    {
      "cell_type": "code",
      "execution_count": null,
      "metadata": {
        "id": "9bc65590"
      },
      "outputs": [],
      "source": [
        "# Helper function that \n",
        "def cast_as_df(optuna_experiment, experiment_type):\n",
        "    df = (\n",
        "        optuna_experiment\n",
        "        .trials_dataframe()\n",
        "        .rename(columns={\"values_0\": \"auprc\", \"values_1\": \"latency\"})\n",
        "        .assign(experiment = experiment_type)\n",
        "    )\n",
        "    # the following lines create a column identifing which of the trials resulted in a\n",
        "    # Best configuration -- a model with these HPs lies along the empirical Pareto frontier\n",
        "    best_trials = [trial.number for trial in optuna_experiment.best_trials]\n",
        "    df['best_trial'] = np.where(df.number.isin(best_trials), 1, 0)\n",
        "    return df"
      ]
    },
    {
      "cell_type": "code",
      "execution_count": null,
      "metadata": {
        "id": "1d7e3ab7"
      },
      "outputs": [],
      "source": [
        "motpe_df = cast_as_df(motpe_experiment, \"MOTPE\")\n",
        "random_df = cast_as_df(random_experiment, \"Random\")"
      ]
    },
    {
      "cell_type": "markdown",
      "metadata": {
        "id": "72781110"
      },
      "source": [
        "### Visualize Results\n",
        "\n",
        "We can visually compare the results of MOPTE and random sampling. We want to see a Pareto frontier of points in the lower right corner of the chart - points with the highest accuracy and lowest latency possible."
      ]
    },
    {
      "cell_type": "code",
      "execution_count": null,
      "metadata": {
        "id": "mineral-centre"
      },
      "outputs": [
        {
          "name": "stderr",
          "output_type": "stream",
          "text": [
            "<ipython-input-12-2d3c23fbdebc>:16: UserWarning: Matplotlib is currently using module://ipykernel.pylab.backend_inline, which is a non-GUI backend, so cannot show the figure.\n",
            "  fig.show()\n"
          ]
        },
        {
          "data": {
            "image/png": "[encoded data removed]",
            "text/plain": [
              "<Figure size 1152x288 with 3 Axes>"
            ]
          },
          "metadata": {
            "needs_background": "light"
          },
          "output_type": "display_data"
        }
      ],
      "source": [
        "fig, axs = plt.subplots(1, 3, sharey=True, figsize=(16,4))\n",
        "axs[0].scatter(motpe_df.auprc, motpe_df.latency, alpha=0.6, label=motpe_df.experiment[0])\n",
        "axs[0].scatter(random_df.auprc, random_df.latency, alpha=0.6, label=random_df.experiment[0])\n",
        "axs[0].legend()\n",
        "axs[0].set_title(\"Comparison\")\n",
        "\n",
        "axs[1].scatter(motpe_df.auprc, motpe_df.latency, alpha=0.6, c=motpe_df.number)\n",
        "axs[1].set_title(motpe_df.experiment[0])\n",
        "\n",
        "axs[2].scatter(random_df.auprc, random_df.latency, alpha=0.6, c=random_df.number)\n",
        "axs[2].set_title(random_df.experiment[0])\n",
        "\n",
        "for ax in axs.flat:\n",
        "    ax.set(xlabel=\"AUC\", ylabel=\"Latency (1 million points)\")\n",
        "\n",
        "fig.show()"
      ]
    },
    {
      "cell_type": "markdown",
      "metadata": {
        "id": "cd5e6446"
      },
      "source": [
        "The leftmost panel shows a comparison of the two experiments, while the middle and right panels show each experiment individually, with their points colored according to the order in which the trials were run. Notice in the MOTPE panel that earlier trials (purple points) are scattered about (reflecting the initialization phase), while later trials (yellow points) have honed in on the Pareto frontier. The same cannot be said for the random experiment, which samples randomly for all trials. \n",
        "\n",
        "Because we generated the dataset randomly, and initialized the sampling randomly, it's likely your results differ from ours (we could of course have mitigated this by fixing seeds for the random number generators, but we're very wary of cherry-picking good results, and wanted to encourage some exploration)!  If you've already taken a look at our similar [tutorial using the Ax library](https://github.com/fastforwardlabs/multi-objective-hyperparameter-optimization/tree/master/ax-on-synthetic-data), you might notice that MOTPE and Random are often far more separated than Sobol vs qEVHI in that section. While a host of factors contribute to why, we'll mention two explicitly:\n",
        "1. MOTPE's tree-structured surrogate model (rather than the GP surrogate model used by the Ax library) is likely better suited for hierarchical hyperparameter spaces like that explored here\n",
        "2. Not all random sampling is equal: Sobol random sampling (in the Ax section) provides better coverage than pseudo-random sampling (in this section) over fixed hyperparamter spaces.  \n",
        "\n",
        "\n",
        "With that said, here's an example of one of the more impressive results we obtained, specifically chosen for its spectacular separation of the MOTPE trials and the random trials. Multi-objective Bayesian optimization found a host of models that are faster _and_ more accurate than random search found!\n",
        "\n",
        " \n"
      ]
    },
    {
      "cell_type": "markdown",
      "metadata": {
        "id": "85c93838"
      },
      "source": [
        "**A pretty great result for MOTPE**"
      ]
    },
    {
      "cell_type": "markdown",
      "metadata": {
        "id": "wmO9YVTyf7ro"
      },
      "source": [
        "<p><center><img src='https://github.com/sparsh-ai/multiobjective-optimizations/blob/main/docs/_images/T892775_4.png?raw=1'></center></p>"
      ]
    },
    {
      "cell_type": "markdown",
      "metadata": {
        "id": "6niPf3tmEtWV"
      },
      "source": [
        "But sometimes, even when MOTPE performs better, it's not always clear why. For example, in the figure below, MOTPE unequivocally better samples the Pareto frontier, but if we look at the order in which those trials were run, these Pareto-esque points were found very early in the optimization (dark purple) and then the algorithm moved _away_ from the Pareto frontier in the remaining trials, as indicated by the yellow points being scattered all over. So we might just have got lucky this time. "
      ]
    },
    {
      "cell_type": "markdown",
      "metadata": {
        "id": "GmpkHDwNEtxe"
      },
      "source": [
        "**A strange result for MOTPE**"
      ]
    },
    {
      "cell_type": "markdown",
      "metadata": {
        "id": "1787UCv8f9mQ"
      },
      "source": [
        "<p><center><img src='https://github.com/sparsh-ai/multiobjective-optimizations/blob/main/docs/_images/T892775_5.png?raw=1'></center></p>"
      ]
    },
    {
      "cell_type": "markdown",
      "metadata": {
        "id": "tHIQkOk9E3sX"
      },
      "source": [
        "## Multi-objective hyperparameter optimization for credit card fraud\n",
        "\n",
        "In multi-objective hyperparameter optimization, we seek to find the \"Pareto frontier\" of points representing optimal tradeoffs between multiple objectives. In this example, we trade off prediction latency with predictive performance. The class distribution is heavily imbalanced, so we measure performance with the area under the PR curve. The section compares a Bayesian optimization algorithm: maximizing the expected hypervolume increase (EHVI) using multi-objective tree-structured Parzen estimators (MOTPE), with good old random search."
      ]
    },
    {
      "cell_type": "code",
      "execution_count": null,
      "metadata": {
        "id": "ZYgNCqfRFL57"
      },
      "outputs": [
        {
          "name": "stdout",
          "output_type": "stream",
          "text": [
            "Collecting kaggle\n",
            "  Downloading kaggle-1.5.12.tar.gz (58 kB)\n",
            "\u001b[?25l\r\u001b[K     |█████▋                          | 10 kB 24.0 MB/s eta 0:00:01\r\u001b[K     |███████████▏                    | 20 kB 19.3 MB/s eta 0:00:01\r\u001b[K     |████████████████▊               | 30 kB 23.7 MB/s eta 0:00:01\r\u001b[K     |██████████████████████▎         | 40 kB 27.7 MB/s eta 0:00:01\r\u001b[K     |███████████████████████████▉    | 51 kB 31.3 MB/s eta 0:00:01\r\u001b[K     |████████████████████████████████| 58 kB 4.4 MB/s \n",
            "\u001b[?25hBuilding wheels for collected packages: kaggle\n",
            "  Building wheel for kaggle (setup.py) ... \u001b[?25l\u001b[?25hdone\n",
            "  Created wheel for kaggle: filename=kaggle-1.5.12-py3-none-any.whl size=73051 sha256=e242ead18420b915ef01a5ebde5538c731c340ab748dd8772d81ee146918beb7\n",
            "  Stored in directory: /root/.cache/pip/wheels/62/d6/58/5853130f941e75b2177d281eb7e44b4a98ed46dd155f556dc5\n",
            "Successfully built kaggle\n",
            "Installing collected packages: kaggle\n",
            "  Attempting uninstall: kaggle\n",
            "    Found existing installation: kaggle 1.5.12\n",
            "    Uninstalling kaggle-1.5.12:\n",
            "      Successfully uninstalled kaggle-1.5.12\n",
            "Successfully installed kaggle-1.5.12\n",
            "Downloading creditcardfraud.zip to /content\n",
            " 74% 49.0M/66.0M [00:00<00:00, 65.3MB/s]\n",
            "100% 66.0M/66.0M [00:00<00:00, 76.7MB/s]\n"
          ]
        }
      ],
      "source": [
        "!pip install -q -U kaggle\n",
        "!pip install --upgrade --force-reinstall --no-deps kaggle\n",
        "!mkdir ~/.kaggle\n",
        "!cp /content/drive/MyDrive/kaggle.json ~/.kaggle/\n",
        "!chmod 600 ~/.kaggle/kaggle.json\n",
        "!kaggle datasets download -d mlg-ulb/creditcardfraud"
      ]
    },
    {
      "cell_type": "markdown",
      "metadata": {
        "id": "western-salmon"
      },
      "source": [
        "## Multi-objective hyperparameter optimization for Credit Card Fraud with Optuna"
      ]
    },
    {
      "cell_type": "markdown",
      "metadata": {
        "id": "copyrighted-harassment"
      },
      "source": [
        "### A tale of two tradeoffs\n",
        "\n",
        "Credit card fraud is a nice problem, from a machine learning perspective, because (at least in it's naive version) it's a straightforward binary classification that very likely has a real attributable amount of money associated with true and false positives and negatives. As such, there’s a genuine optimization problem a bank can perform on how to trade off precision and recall. For example, a false positive labels a legit transaction as fraud. While this might be annoying for existing customers who have to call the bank and verify their purchase, it does not result in lost revenue. On the other hand, a false negative labels a fraudulent transaction as legit, and this has significant costs, both in terms of lost revenue and a potentially angry customer. \n",
        "\n",
        "While we _could_ train a model to minimize false negatives (FN) or false positives (FP), or even accuracy -- these come with considerable drawbacks. Minimizing either of FPs or FNs ignores the impact of the other. Even worse, as business needs change (say, the real cost associated with FPs increases) then a new model must be trained from scratch to address the updated business requirements. Optimizing for pure accuracy might be okay for balanced datasets but leads to overly-optimistic models when working with unbalanced datasets (since the model can achieve a high score by simply labeled _everything_ as nonfraudulent).\n",
        "\n",
        "In reality, the precision-recall tradeoff is ultimately a _business decision_ and should be made in conversation with expert business stakeholders. As machine learning engineers, our job is to give the business stakeholder the most favourable precision and recall curve possible, so that we trade off the least amount of precision for recall, or vice versa. To do this, we’ll optimize for the area under the PR curve (AUPRC). A model optimized for AUPRC can be used at several thresholds without retraining to accomodate evolving business needs. Additionally, AUPRC is meaningful even for imbalanced datasets, and credit card fraud is highly imbalanced; most transactions are not fraudulent.\n",
        "\n",
        "But there is another relevant tradeoff to consider! Not only should our model have strong predictive power, it should also be fast at making predictions. Fraudulent transactions should be detected quickly to reduce the most harm, and there may even be a hard constraint on the allowable latency from prediction. So we actually care about both AUPRC and latency. Unfortunately, there is no way for a single model to exhibit a wide range of AUPRC-latency values -- there's no \"threshold\" to sweep across like there is with precision vs recall. Instead, each model we train will have a different combination of predictive power and latency (inherited by our choice of hyperparameters) and our job will be to find the _set_ of such models that represent the optimal tradeoffs between the two. This sounds like a job for multi-objective Bayesian optimization!"
      ]
    },
    {
      "cell_type": "markdown",
      "metadata": {
        "id": "aoRK5VNtGD9Z"
      },
      "source": [
        "In this section, we'll demonstrate how to perform multi-objective Bayesian optimization to a canonical credit card fraud dataset. We'll consider an XGBoost model for several reasons: \n",
        "1. it's a powerful and well-known algorithm that works in many situations\n",
        "2. tree-based models often have prediction efficacy -- prediction latency tradeoffs: more/deeper trees usually provide better predictions but generally take longer at inference time\n",
        "3. XGBoost has many hyperparameters in addition to `max_depth` that we might wish to optimize, and their relationship with our output objectives (AUPRC and latency) is unclear\n",
        "\n",
        "Below we start with some install and imports. "
      ]
    },
    {
      "cell_type": "code",
      "execution_count": null,
      "metadata": {
        "id": "convinced-strip"
      },
      "outputs": [],
      "source": [
        "import time\n",
        "import warnings\n",
        "\n",
        "import matplotlib.pyplot as plt\n",
        "import numpy as np\n",
        "import optuna\n",
        "import pandas as pd\n",
        "import seaborn as sns\n",
        "import xgboost as xgb\n",
        "\n",
        "from sklearn.metrics import auc, precision_recall_curve\n",
        "from sklearn.model_selection import cross_validate, train_test_split\n",
        "from sklearn.pipeline import Pipeline\n",
        "from sklearn.preprocessing import StandardScaler"
      ]
    },
    {
      "cell_type": "code",
      "execution_count": null,
      "metadata": {
        "id": "friendly-tonight"
      },
      "outputs": [],
      "source": [
        "warnings.filterwarnings('ignore')"
      ]
    },
    {
      "cell_type": "markdown",
      "metadata": {
        "id": "AoNDiD5dF7YY"
      },
      "source": [
        "### Data\n",
        "\n",
        "In this section we use the anonymized [Credit Card Fraud dataset on Kaggle](https://www.kaggle.com/mlg-ulb/creditcardfraud). Sign-in is required to download this dataset. We have already performed this step and stored the dataset at `[project_directory]/data`, so we'll load it from there.  \n",
        "\n",
        "The data comes somewhat pre-feature-engineered, having gone through (at least) PCA. This was done in the name of privacy preservation, but also means the data is in reasonable shape to put directly into a supervised learning pipeline.\n",
        "\n",
        "In an unrealistic (but possibly good) assumption, we'll exclude the time variable and treat the remaining features as i.i.d. While it's possbile that fraudulent transactions are more likely at a certain time, creating a classifier that discriminates on the basis of time presents an easily-exploitable means of improving the likelihood of a successful fraudulent transaction, as an adversary. It's likely that time is confounded with the other variables from which features were derived. Unfortunately, we have no way of knowing. Causal inference always requires model assumptions, and is impossible with obfuscated variables.\n",
        "\n",
        "The task is \"point-like\" prediction of fraud, in the sense that transactions are not linked by any ID, so we can do no analysis of events from the same card over time. As such, each incoming datapoint will be subject to a prediction independent of the others. Time could be used as a feature, but only in the naive sense (time of day, etc). Neglecting time seems appropriate for this point-like prediction task."
      ]
    },
    {
      "cell_type": "code",
      "execution_count": null,
      "metadata": {
        "id": "requested-premises"
      },
      "outputs": [],
      "source": [
        "cc = pd.read_csv(\"creditcard.csv\").drop(\"Time\", axis=\"columns\")"
      ]
    },
    {
      "cell_type": "markdown",
      "metadata": {
        "id": "0be65501"
      },
      "source": [
        "We'll also separate the label column (`Class`) from the features in the dataset. "
      ]
    },
    {
      "cell_type": "code",
      "execution_count": null,
      "metadata": {
        "id": "lyric-destiny"
      },
      "outputs": [],
      "source": [
        "X = cc.drop(\"Class\", axis=\"columns\")\n",
        "y = cc.Class"
      ]
    },
    {
      "cell_type": "markdown",
      "metadata": {
        "id": "industrial-wyoming"
      },
      "source": [
        "The target classes are heavily imbalanced."
      ]
    },
    {
      "cell_type": "code",
      "execution_count": null,
      "metadata": {
        "id": "mysterious-estate"
      },
      "outputs": [
        {
          "name": "stdout",
          "output_type": "stream",
          "text": [
            "\n",
            "There are 492 identified cases of fraud in 284807 total cases.\n",
            "That's only 0.17%!\n",
            "\n"
          ]
        }
      ],
      "source": [
        "class_counts = cc.Class.value_counts()\n",
        "\n",
        "print(f\"\"\"\n",
        "There are {class_counts[1]} identified cases of fraud in {class_counts.sum()} total cases.\n",
        "That's only {100 * class_counts[1]/class_counts.sum():.2f}%!\n",
        "\"\"\")"
      ]
    },
    {
      "cell_type": "markdown",
      "metadata": {
        "id": "a0e2f18b"
      },
      "source": [
        "Next we'll perform a standard train/dev split. However, if this model were to be put into production, we'd want to also create a dev/test split so as not to overfit to our dev set. "
      ]
    },
    {
      "cell_type": "code",
      "execution_count": null,
      "metadata": {
        "id": "DhSGM5zqF7Yd"
      },
      "outputs": [],
      "source": [
        "X_train, X_dev, y_train, y_dev = train_test_split(X, y, test_size=0.3, shuffle=True, stratify=y)"
      ]
    },
    {
      "cell_type": "markdown",
      "metadata": {
        "id": "compatible-badge"
      },
      "source": [
        "There are no missing entries in the data set."
      ]
    },
    {
      "cell_type": "code",
      "execution_count": null,
      "metadata": {
        "id": "vertical-bleeding"
      },
      "outputs": [
        {
          "data": {
            "text/plain": [
              "False"
            ]
          },
          "execution_count": 7,
          "metadata": {},
          "output_type": "execute_result"
        }
      ],
      "source": [
        "cc.isna().any(axis=None)"
      ]
    },
    {
      "cell_type": "markdown",
      "metadata": {
        "id": "7414b89d"
      },
      "source": [
        "We now have a set of features `V1` through `V28` which are the output of the privacy-preserving PCA for each transaction, along with the `Amount` column. Let's get a feel for how these features look and how they compare across classes. "
      ]
    },
    {
      "cell_type": "code",
      "execution_count": null,
      "metadata": {
        "id": "angry-evolution"
      },
      "outputs": [
        {
          "data": {
            "text/html": [
              "<div>\n",
              "<style scoped>\n",
              "    .dataframe tbody tr th:only-of-type {\n",
              "        vertical-align: middle;\n",
              "    }\n",
              "\n",
              "    .dataframe tbody tr th {\n",
              "        vertical-align: top;\n",
              "    }\n",
              "\n",
              "    .dataframe thead th {\n",
              "        text-align: right;\n",
              "    }\n",
              "</style>\n",
              "<table border=\"1\" class=\"dataframe\">\n",
              "  <thead>\n",
              "    <tr style=\"text-align: right;\">\n",
              "      <th></th>\n",
              "      <th>V1</th>\n",
              "      <th>V2</th>\n",
              "      <th>V3</th>\n",
              "      <th>V4</th>\n",
              "      <th>V5</th>\n",
              "      <th>V6</th>\n",
              "      <th>V7</th>\n",
              "      <th>V8</th>\n",
              "      <th>V9</th>\n",
              "      <th>V10</th>\n",
              "      <th>...</th>\n",
              "      <th>V20</th>\n",
              "      <th>V21</th>\n",
              "      <th>V22</th>\n",
              "      <th>V23</th>\n",
              "      <th>V24</th>\n",
              "      <th>V25</th>\n",
              "      <th>V26</th>\n",
              "      <th>V27</th>\n",
              "      <th>V28</th>\n",
              "      <th>Amount</th>\n",
              "    </tr>\n",
              "  </thead>\n",
              "  <tbody>\n",
              "    <tr>\n",
              "      <th>count</th>\n",
              "      <td>199364.000000</td>\n",
              "      <td>199364.000000</td>\n",
              "      <td>199364.000000</td>\n",
              "      <td>199364.000000</td>\n",
              "      <td>199364.000000</td>\n",
              "      <td>199364.000000</td>\n",
              "      <td>199364.000000</td>\n",
              "      <td>199364.000000</td>\n",
              "      <td>199364.000000</td>\n",
              "      <td>199364.000000</td>\n",
              "      <td>...</td>\n",
              "      <td>199364.000000</td>\n",
              "      <td>199364.000000</td>\n",
              "      <td>199364.000000</td>\n",
              "      <td>199364.000000</td>\n",
              "      <td>199364.000000</td>\n",
              "      <td>199364.000000</td>\n",
              "      <td>199364.000000</td>\n",
              "      <td>199364.000000</td>\n",
              "      <td>199364.000000</td>\n",
              "      <td>199364.000000</td>\n",
              "    </tr>\n",
              "    <tr>\n",
              "      <th>mean</th>\n",
              "      <td>0.002782</td>\n",
              "      <td>-0.001017</td>\n",
              "      <td>-0.001026</td>\n",
              "      <td>-0.000179</td>\n",
              "      <td>0.001403</td>\n",
              "      <td>0.001152</td>\n",
              "      <td>0.002189</td>\n",
              "      <td>-0.001126</td>\n",
              "      <td>-0.000176</td>\n",
              "      <td>-0.001169</td>\n",
              "      <td>...</td>\n",
              "      <td>-0.001221</td>\n",
              "      <td>-0.000514</td>\n",
              "      <td>0.000803</td>\n",
              "      <td>-0.000591</td>\n",
              "      <td>0.000665</td>\n",
              "      <td>0.000083</td>\n",
              "      <td>-0.000136</td>\n",
              "      <td>-0.000114</td>\n",
              "      <td>-0.000129</td>\n",
              "      <td>88.424873</td>\n",
              "    </tr>\n",
              "    <tr>\n",
              "      <th>std</th>\n",
              "      <td>1.955035</td>\n",
              "      <td>1.650328</td>\n",
              "      <td>1.509339</td>\n",
              "      <td>1.413776</td>\n",
              "      <td>1.363592</td>\n",
              "      <td>1.326988</td>\n",
              "      <td>1.217031</td>\n",
              "      <td>1.190037</td>\n",
              "      <td>1.098078</td>\n",
              "      <td>1.083900</td>\n",
              "      <td>...</td>\n",
              "      <td>0.772523</td>\n",
              "      <td>0.732521</td>\n",
              "      <td>0.726467</td>\n",
              "      <td>0.636842</td>\n",
              "      <td>0.605492</td>\n",
              "      <td>0.522166</td>\n",
              "      <td>0.482836</td>\n",
              "      <td>0.400808</td>\n",
              "      <td>0.327791</td>\n",
              "      <td>249.621608</td>\n",
              "    </tr>\n",
              "    <tr>\n",
              "      <th>min</th>\n",
              "      <td>-41.928738</td>\n",
              "      <td>-63.344698</td>\n",
              "      <td>-32.965346</td>\n",
              "      <td>-5.683171</td>\n",
              "      <td>-40.427726</td>\n",
              "      <td>-21.929312</td>\n",
              "      <td>-43.557242</td>\n",
              "      <td>-50.688419</td>\n",
              "      <td>-13.434066</td>\n",
              "      <td>-24.588262</td>\n",
              "      <td>...</td>\n",
              "      <td>-28.009635</td>\n",
              "      <td>-22.889347</td>\n",
              "      <td>-10.933144</td>\n",
              "      <td>-44.807735</td>\n",
              "      <td>-2.836627</td>\n",
              "      <td>-10.295397</td>\n",
              "      <td>-2.604551</td>\n",
              "      <td>-22.565679</td>\n",
              "      <td>-11.710896</td>\n",
              "      <td>0.000000</td>\n",
              "    </tr>\n",
              "    <tr>\n",
              "      <th>25%</th>\n",
              "      <td>-0.919352</td>\n",
              "      <td>-0.596672</td>\n",
              "      <td>-0.891617</td>\n",
              "      <td>-0.847025</td>\n",
              "      <td>-0.690694</td>\n",
              "      <td>-0.768760</td>\n",
              "      <td>-0.553161</td>\n",
              "      <td>-0.209098</td>\n",
              "      <td>-0.641332</td>\n",
              "      <td>-0.535903</td>\n",
              "      <td>...</td>\n",
              "      <td>-0.212083</td>\n",
              "      <td>-0.228452</td>\n",
              "      <td>-0.542162</td>\n",
              "      <td>-0.161974</td>\n",
              "      <td>-0.354043</td>\n",
              "      <td>-0.317239</td>\n",
              "      <td>-0.327428</td>\n",
              "      <td>-0.070636</td>\n",
              "      <td>-0.052863</td>\n",
              "      <td>5.520000</td>\n",
              "    </tr>\n",
              "    <tr>\n",
              "      <th>50%</th>\n",
              "      <td>0.021603</td>\n",
              "      <td>0.066449</td>\n",
              "      <td>0.177854</td>\n",
              "      <td>-0.019554</td>\n",
              "      <td>-0.054717</td>\n",
              "      <td>-0.274843</td>\n",
              "      <td>0.041344</td>\n",
              "      <td>0.021957</td>\n",
              "      <td>-0.050598</td>\n",
              "      <td>-0.093471</td>\n",
              "      <td>...</td>\n",
              "      <td>-0.063053</td>\n",
              "      <td>-0.029246</td>\n",
              "      <td>0.007802</td>\n",
              "      <td>-0.011077</td>\n",
              "      <td>0.041296</td>\n",
              "      <td>0.017396</td>\n",
              "      <td>-0.053530</td>\n",
              "      <td>0.001343</td>\n",
              "      <td>0.011316</td>\n",
              "      <td>21.960000</td>\n",
              "    </tr>\n",
              "    <tr>\n",
              "      <th>75%</th>\n",
              "      <td>1.315787</td>\n",
              "      <td>0.802569</td>\n",
              "      <td>1.025892</td>\n",
              "      <td>0.741960</td>\n",
              "      <td>0.614586</td>\n",
              "      <td>0.400368</td>\n",
              "      <td>0.573119</td>\n",
              "      <td>0.327845</td>\n",
              "      <td>0.595768</td>\n",
              "      <td>0.452529</td>\n",
              "      <td>...</td>\n",
              "      <td>0.132733</td>\n",
              "      <td>0.186195</td>\n",
              "      <td>0.530376</td>\n",
              "      <td>0.147431</td>\n",
              "      <td>0.440686</td>\n",
              "      <td>0.350621</td>\n",
              "      <td>0.241311</td>\n",
              "      <td>0.091280</td>\n",
              "      <td>0.078230</td>\n",
              "      <td>76.900000</td>\n",
              "    </tr>\n",
              "    <tr>\n",
              "      <th>max</th>\n",
              "      <td>2.454930</td>\n",
              "      <td>22.057729</td>\n",
              "      <td>9.382558</td>\n",
              "      <td>16.875344</td>\n",
              "      <td>32.911462</td>\n",
              "      <td>23.917837</td>\n",
              "      <td>44.054461</td>\n",
              "      <td>19.587773</td>\n",
              "      <td>15.594995</td>\n",
              "      <td>23.745136</td>\n",
              "      <td>...</td>\n",
              "      <td>39.420904</td>\n",
              "      <td>27.202839</td>\n",
              "      <td>8.361985</td>\n",
              "      <td>22.528412</td>\n",
              "      <td>4.022866</td>\n",
              "      <td>7.519589</td>\n",
              "      <td>3.463246</td>\n",
              "      <td>12.152401</td>\n",
              "      <td>22.620072</td>\n",
              "      <td>19656.530000</td>\n",
              "    </tr>\n",
              "  </tbody>\n",
              "</table>\n",
              "<p>8 rows × 29 columns</p>\n",
              "</div>"
            ],
            "text/plain": [
              "                  V1             V2             V3             V4  \\\n",
              "count  199364.000000  199364.000000  199364.000000  199364.000000   \n",
              "mean        0.002782      -0.001017      -0.001026      -0.000179   \n",
              "std         1.955035       1.650328       1.509339       1.413776   \n",
              "min       -41.928738     -63.344698     -32.965346      -5.683171   \n",
              "25%        -0.919352      -0.596672      -0.891617      -0.847025   \n",
              "50%         0.021603       0.066449       0.177854      -0.019554   \n",
              "75%         1.315787       0.802569       1.025892       0.741960   \n",
              "max         2.454930      22.057729       9.382558      16.875344   \n",
              "\n",
              "                  V5             V6             V7             V8  \\\n",
              "count  199364.000000  199364.000000  199364.000000  199364.000000   \n",
              "mean        0.001403       0.001152       0.002189      -0.001126   \n",
              "std         1.363592       1.326988       1.217031       1.190037   \n",
              "min       -40.427726     -21.929312     -43.557242     -50.688419   \n",
              "25%        -0.690694      -0.768760      -0.553161      -0.209098   \n",
              "50%        -0.054717      -0.274843       0.041344       0.021957   \n",
              "75%         0.614586       0.400368       0.573119       0.327845   \n",
              "max        32.911462      23.917837      44.054461      19.587773   \n",
              "\n",
              "                  V9            V10  ...            V20            V21  \\\n",
              "count  199364.000000  199364.000000  ...  199364.000000  199364.000000   \n",
              "mean       -0.000176      -0.001169  ...      -0.001221      -0.000514   \n",
              "std         1.098078       1.083900  ...       0.772523       0.732521   \n",
              "min       -13.434066     -24.588262  ...     -28.009635     -22.889347   \n",
              "25%        -0.641332      -0.535903  ...      -0.212083      -0.228452   \n",
              "50%        -0.050598      -0.093471  ...      -0.063053      -0.029246   \n",
              "75%         0.595768       0.452529  ...       0.132733       0.186195   \n",
              "max        15.594995      23.745136  ...      39.420904      27.202839   \n",
              "\n",
              "                 V22            V23            V24            V25  \\\n",
              "count  199364.000000  199364.000000  199364.000000  199364.000000   \n",
              "mean        0.000803      -0.000591       0.000665       0.000083   \n",
              "std         0.726467       0.636842       0.605492       0.522166   \n",
              "min       -10.933144     -44.807735      -2.836627     -10.295397   \n",
              "25%        -0.542162      -0.161974      -0.354043      -0.317239   \n",
              "50%         0.007802      -0.011077       0.041296       0.017396   \n",
              "75%         0.530376       0.147431       0.440686       0.350621   \n",
              "max         8.361985      22.528412       4.022866       7.519589   \n",
              "\n",
              "                 V26            V27            V28         Amount  \n",
              "count  199364.000000  199364.000000  199364.000000  199364.000000  \n",
              "mean       -0.000136      -0.000114      -0.000129      88.424873  \n",
              "std         0.482836       0.400808       0.327791     249.621608  \n",
              "min        -2.604551     -22.565679     -11.710896       0.000000  \n",
              "25%        -0.327428      -0.070636      -0.052863       5.520000  \n",
              "50%        -0.053530       0.001343       0.011316      21.960000  \n",
              "75%         0.241311       0.091280       0.078230      76.900000  \n",
              "max         3.463246      12.152401      22.620072   19656.530000  \n",
              "\n",
              "[8 rows x 29 columns]"
            ]
          },
          "execution_count": 8,
          "metadata": {},
          "output_type": "execute_result"
        }
      ],
      "source": [
        "X_train.describe()"
      ]
    },
    {
      "cell_type": "markdown",
      "metadata": {
        "id": "signed-lending"
      },
      "source": [
        "Maybe some features will be well correlated with the target. Let's do a visual spot check. Because there's such a huge class imbalance, we randomly downsample the dominant class to match the prevalence of the minority class."
      ]
    },
    {
      "cell_type": "code",
      "execution_count": null,
      "metadata": {
        "id": "rental-forest"
      },
      "outputs": [],
      "source": [
        "melted_cc = (\n",
        "    pd.concat([cc[cc.Class == 1], cc[cc.Class == 0].sample(492)])#\n",
        "    .drop(\"Amount\", axis=\"columns\")\n",
        "    .melt(id_vars=[\"Class\"],\n",
        "          value_vars=[c for c in cc.columns if c not in [\"Class\", \"Amount\"]])\n",
        ")"
      ]
    },
    {
      "cell_type": "code",
      "execution_count": null,
      "metadata": {
        "id": "incorrect-shell"
      },
      "outputs": [
        {
          "data": {
            "text/plain": [
              "<seaborn.axisgrid.FacetGrid at 0x138483610>"
            ]
          },
          "execution_count": 10,
          "metadata": {},
          "output_type": "execute_result"
        },
        {
          "data": {
            "image/png": "[encoded data removed]",
            "text/plain": [
              "<Figure size 864x1512 with 28 Axes>"
            ]
          },
          "metadata": {
            "needs_background": "light"
          },
          "output_type": "display_data"
        }
      ],
      "source": [
        "grid = sns.FacetGrid(melted_cc, col=\"variable\", col_wrap=4)\n",
        "grid.map_dataframe(sns.histplot, x=\"value\", hue=\"Class\", element=\"step\")\n",
        "grid.set(xlim=(-10,10))"
      ]
    },
    {
      "cell_type": "markdown",
      "metadata": {
        "id": "advisory-investment"
      },
      "source": [
        "The scale of the `Amount` variable differs from the PCA variables above, so we plot it separately (again, downsampling non-fraudulent transactions)."
      ]
    },
    {
      "cell_type": "code",
      "execution_count": null,
      "metadata": {
        "id": "injured-commitment"
      },
      "outputs": [
        {
          "data": {
            "text/plain": [
              "<AxesSubplot:xlabel='Amount', ylabel='Count'>"
            ]
          },
          "execution_count": 11,
          "metadata": {},
          "output_type": "execute_result"
        },
        {
          "data": {
            "image/png": "[encoded data removed]",
            "text/plain": [
              "<Figure size 432x288 with 1 Axes>"
            ]
          },
          "metadata": {
            "needs_background": "light"
          },
          "output_type": "display_data"
        }
      ],
      "source": [
        "sns.histplot(\n",
        "    pd.concat([cc[cc.Class == 1], cc[cc.Class == 0].sample(492)]), # downsample\n",
        "    x=\"Amount\", hue=\"Class\", element=\"step\", bins=100\n",
        ")"
      ]
    },
    {
      "cell_type": "markdown",
      "metadata": {
        "id": "unlike-murder"
      },
      "source": [
        "The distribution of fraudulent transactions looks relatively well spread over the transaction size (recalling that downsampling non-fraudulent transactions so severely introduces a lot of statistical noise - run the function repeatedly to draw new samples). It looks like there's some reasonable separation between some of the PCA feature distributions though. This signals that there's a good chance we can learn to discriminate fraudulent transactions on the basis of these features. (Even those distributions that overlap extremely well may be useful in combination with other features).\n",
        "\n",
        "Another thing to note is that the features are not perfect standard normal distributions, but are all close to mean zero and standard deviation one, except the transaction amount. Taking all features `V1` through `V28` and `Amount` as our feature matrix, we can apply standard scaling to all (it will not harm those already scaled, and performance is not a concern). \n",
        "\n",
        "Now that we have a good idea about the distribution of our data and the features we have to work with, it's time to find the set of models that optimize the AUPRC-latency multi-objective space. "
      ]
    },
    {
      "cell_type": "markdown",
      "metadata": {
        "id": "t4e26QkoF7Yi"
      },
      "source": [
        "### Hyperparameter optimization with Optuna\n",
        "\n",
        "The first step on our optimization journey is to define our optimization targets. We have two: AUPRC and latency. Measuring AUPRC is straightforward with `sklearn`. For latency, we'll time how long it takes to infer on one million randomly sampled datapoints."
      ]
    },
    {
      "cell_type": "code",
      "execution_count": null,
      "metadata": {
        "id": "young-lotus"
      },
      "outputs": [],
      "source": [
        "million_points = X_train.sample(int(1e6), replace=True)"
      ]
    },
    {
      "cell_type": "code",
      "execution_count": null,
      "metadata": {
        "id": "Lpw5z0avF7Yj"
      },
      "outputs": [],
      "source": [
        "def area_under_pr_curve(model, X, y):\n",
        "    precision, recall, _ = precision_recall_curve(y, model.predict(X))\n",
        "    area = auc(recall, precision)\n",
        "    return area\n",
        "\n",
        "def latency(model, X):\n",
        "    start = time.time()\n",
        "    model.predict(X)\n",
        "    end = time.time()\n",
        "    return end - start"
      ]
    },
    {
      "cell_type": "markdown",
      "metadata": {
        "id": "5831061b"
      },
      "source": [
        "### Training routine\n",
        "Next we define the training routine that will allow Optuna to perform hyperparameter optimization. We pass the function a `trial` object through which Optuna will suggest a new value for each hyperparameter according to a pre-defined sampling strategy for each trial we run. \n",
        "\n",
        "**Note:** Optuna will train and evaluate a model for each trial. While the hyperparameter values, metric scores, and additional metadata are saved from each trial, the model itself is discarded. This means we would have to retrain our preferred model once optimization was complete. For most cases, this isn't an issue, however it is possible to save each model to disk during the optimization loop. Models of interest can then be fetched using the associated trial number."
      ]
    },
    {
      "cell_type": "code",
      "execution_count": null,
      "metadata": {
        "id": "threaded-timing"
      },
      "outputs": [],
      "source": [
        "def train(trial):\n",
        "    pipeline = Pipeline([\n",
        "        ('scaler', StandardScaler()),\n",
        "        ('xgboost', xgb.XGBClassifier(\n",
        "            eval_metric = \"logloss\",\n",
        "            use_label_encoder = False,\n",
        "            learning_rate =    trial.suggest_float(\"learning_rate\", 1e-6, 1, log=True),\n",
        "            n_estimators =     trial.suggest_int(\"n_estimators\", 1, 500),\n",
        "            gamma =            trial.suggest_float(\"gamma\", 1e-6, 1e1, log=True),\n",
        "            max_depth =        trial.suggest_int(\"max_depth\", 1, 20),\n",
        "            min_child_weight = trial.suggest_float(\"min_child_weight\", 1, 10),\n",
        "            max_delta_step =   trial.suggest_float(\"max_delta_step\", 0, 10),\n",
        "            subsample =        trial.suggest_float(\"subsample\", 0.2, 1),\n",
        "            reg_lambda =       trial.suggest_float(\"lambda\", 0, 10),\n",
        "            reg_alpha =        trial.suggest_float(\"alpha\", 0, 10)\n",
        "        ))\n",
        "    ])\n",
        "\n",
        "    # if we were patient, we could cross-validate here and\n",
        "    # report metrics on the average hold-out score\n",
        "    pipeline.fit(X_train, y_train)\n",
        "    \n",
        "    # evaluate metrics\n",
        "    auprc = area_under_pr_curve(pipeline, X_dev, y_dev)\n",
        "    lat = latency(pipeline, million_points)\n",
        "\n",
        "    # save a trained model to a file\n",
        "    if SAVE_MODELS:\n",
        "        with open(\"../output/models/{}.pickle\".format(trial.number), \"wb\") as fout:\n",
        "            pickle.dump(pipeline, fout)\n",
        "    \n",
        "    return auprc, lat"
      ]
    },
    {
      "cell_type": "markdown",
      "metadata": {
        "id": "yecwxC-vF7Yk"
      },
      "source": [
        "### Experiment setup\n",
        "\n",
        "We'll first use a multi-objective Bayesian optimization algorithm (MOTPE) to cleverly sample hyperparameter values that (hopefully) optimize both our objectives. You can read more about how the MOTPE algorithm works in our blog post [Exploring Multi-Objective Hyperparameter Optimization](https://blog.fastforwardlabs.com/2021/07/07/exploring-multi-objective-hyperparameter-optimization.html).\n",
        "\n",
        "Setting up an experiment is easy. The first line defines the sampling strategy. The second creates an Optuna `study` which tracks the details of the optimization run. For this, we need to tell Optuna how to optimize our objectives. In this case we want to _maximize_ AUPRC and _minimize_ latency. The order should reflect the order in which the values are passed out from the `train` routine above. Finally, we execute the experiment with a call to the `optimize` method, where we pass it the function we wish to optimize along with the number of trials for the optimization process. \n",
        "\n",
        "**Note:** The experiments in this section take a considerable amount of time to execute since each performs 50 trials and each trial trains a new XGBoost model on 200K credit card transactions. Expect these cells to take several minutes or more, depending on your hardware. If you don't want to wait, we've included a set of results from our experiments that you can examine in the next section. "
      ]
    },
    {
      "cell_type": "code",
      "execution_count": null,
      "metadata": {
        "id": "OJhiNk4vF7Yk"
      },
      "outputs": [],
      "source": [
        "N_TRIAL = 50\n",
        "SAVE_MODELS = False"
      ]
    },
    {
      "cell_type": "code",
      "execution_count": null,
      "metadata": {
        "id": "insured-advancement"
      },
      "outputs": [
        {
          "name": "stderr",
          "output_type": "stream",
          "text": [
            "\u001b[32m[I 2021-06-24 20:46:20,545]\u001b[0m A new study created in memory with name: no-name-fd328da8-cd5e-4bf5-84b5-7ea6bcfb3561\u001b[0m\n",
            "\u001b[32m[I 2021-06-24 20:46:27,486]\u001b[0m Trial 0 finished with values: [0.7218528003744463, 0.6946229934692383] and parameters: {'learning_rate': 0.0001758226885007034, 'n_estimators': 258, 'gamma': 0.000254816035807138, 'max_depth': 1, 'min_child_weight': 1.5844561218068764, 'max_delta_step': 7.269360054927513, 'subsample': 0.21175314615388371, 'lambda': 9.398630749093787, 'alpha': 4.86142669944999}. \u001b[0m\n",
            "\u001b[32m[I 2021-06-24 20:46:59,324]\u001b[0m Trial 1 finished with values: [0.8099176061326265, 1.3288612365722656] and parameters: {'learning_rate': 0.0006278354697490014, 'n_estimators': 253, 'gamma': 0.00010440178614951517, 'max_depth': 16, 'min_child_weight': 6.102792411013507, 'max_delta_step': 8.974872787219288, 'subsample': 0.5194152189405955, 'lambda': 1.9968383305021187, 'alpha': 0.5159333571793945}. \u001b[0m\n",
            "\u001b[32m[I 2021-06-24 20:47:21,222]\u001b[0m Trial 2 finished with values: [0.7893394252069803, 1.1087522506713867] and parameters: {'learning_rate': 2.5067498861796192e-06, 'n_estimators': 188, 'gamma': 1.1910314273054912, 'max_depth': 7, 'min_child_weight': 4.272659085759665, 'max_delta_step': 0.34068854689683015, 'subsample': 0.489353021096681, 'lambda': 1.9956722408009298, 'alpha': 8.433636306977103}. \u001b[0m\n",
            "\u001b[32m[I 2021-06-24 20:47:56,768]\u001b[0m Trial 3 finished with values: [0.8732328870535043, 1.1199331283569336] and parameters: {'learning_rate': 0.10307696192673896, 'n_estimators': 166, 'gamma': 0.019271265144421266, 'max_depth': 12, 'min_child_weight': 1.9957862993965563, 'max_delta_step': 3.1969446273710522, 'subsample': 0.7687886009748368, 'lambda': 5.547020366963203, 'alpha': 6.047288450805627}. \u001b[0m\n",
            "\u001b[32m[I 2021-06-24 20:48:04,187]\u001b[0m Trial 4 finished with values: [0.7907219480285735, 0.7253270149230957] and parameters: {'learning_rate': 0.0007950956451248601, 'n_estimators': 72, 'gamma': 0.2588302475297265, 'max_depth': 20, 'min_child_weight': 9.980249211870053, 'max_delta_step': 0.5070052767412336, 'subsample': 0.4427839167037173, 'lambda': 9.18342131974135, 'alpha': 6.142891353891624}. \u001b[0m\n",
            "\u001b[32m[I 2021-06-24 20:48:05,755]\u001b[0m Trial 5 finished with values: [0.8372239335890732, 0.5506250858306885] and parameters: {'learning_rate': 1.093648713084533e-05, 'n_estimators': 3, 'gamma': 3.9664972554432026e-05, 'max_depth': 13, 'min_child_weight': 3.432275441737101, 'max_delta_step': 1.8554617684534436, 'subsample': 0.9681059122367377, 'lambda': 5.933343041458691, 'alpha': 5.453249163711615}. \u001b[0m\n",
            "\u001b[32m[I 2021-06-24 20:48:32,244]\u001b[0m Trial 6 finished with values: [0.8819907134791205, 0.9833920001983643] and parameters: {'learning_rate': 0.821029533602367, 'n_estimators': 369, 'gamma': 2.2161757014229365e-05, 'max_depth': 15, 'min_child_weight': 1.4307189206386086, 'max_delta_step': 7.301499127258594, 'subsample': 0.5187790874065326, 'lambda': 2.090188681418923, 'alpha': 9.087315864563003}. \u001b[0m\n",
            "\u001b[32m[I 2021-06-24 20:49:37,820]\u001b[0m Trial 7 finished with values: [0.8164952608616804, 1.7470707893371582] and parameters: {'learning_rate': 6.737309426800943e-06, 'n_estimators': 430, 'gamma': 0.6868115423128701, 'max_depth': 19, 'min_child_weight': 2.581291915040649, 'max_delta_step': 2.8543903924150884, 'subsample': 0.6653646048159492, 'lambda': 9.484410488892946, 'alpha': 8.072584857843378}. \u001b[0m\n",
            "\u001b[32m[I 2021-06-24 20:49:57,615]\u001b[0m Trial 8 finished with values: [0.8110071208354481, 0.9040791988372803] and parameters: {'learning_rate': 0.0031677284739884772, 'n_estimators': 163, 'gamma': 0.00010702421330864722, 'max_depth': 18, 'min_child_weight': 8.856112044580582, 'max_delta_step': 5.093373981255441, 'subsample': 0.6003872671567319, 'lambda': 8.046720356388816, 'alpha': 6.356458751623912}. \u001b[0m\n",
            "\u001b[32m[I 2021-06-24 20:50:08,799]\u001b[0m Trial 9 finished with values: [0.8611497321132064, 0.7889628410339355] and parameters: {'learning_rate': 0.17112557188756733, 'n_estimators': 72, 'gamma': 0.001117269613116781, 'max_depth': 9, 'min_child_weight': 2.822529905930525, 'max_delta_step': 9.712416583652026, 'subsample': 0.5366657462471061, 'lambda': 6.346963249441826, 'alpha': 5.722158639756152}. \u001b[0m\n",
            "\u001b[32m[I 2021-06-24 20:50:12,772]\u001b[0m Trial 10 finished with values: [0.8190593634257831, 0.6103942394256592] and parameters: {'learning_rate': 2.8328548258503566e-05, 'n_estimators': 22, 'gamma': 1.4401765478644015e-06, 'max_depth': 3, 'min_child_weight': 6.3228651430797616, 'max_delta_step': 2.2128374822198724, 'subsample': 0.9875156223384347, 'lambda': 3.72546222321344, 'alpha': 2.6837190840802956}. \u001b[0m\n",
            "\u001b[32m[I 2021-06-24 20:50:14,820]\u001b[0m Trial 11 finished with values: [0.8212108153131968, 0.5293130874633789] and parameters: {'learning_rate': 1.3169956839423796e-06, 'n_estimators': 6, 'gamma': 3.7679523765754575e-06, 'max_depth': 12, 'min_child_weight': 4.408260493980597, 'max_delta_step': 5.321975475095146, 'subsample': 0.9906490751020187, 'lambda': 7.084676807945309, 'alpha': 0.02885143092349729}. \u001b[0m\n",
            "\u001b[32m[I 2021-06-24 20:51:53,340]\u001b[0m Trial 12 finished with values: [0.8096040355096351, 2.123795986175537] and parameters: {'learning_rate': 3.574248230763069e-05, 'n_estimators': 488, 'gamma': 0.010071406562763044, 'max_depth': 5, 'min_child_weight': 7.081831477143929, 'max_delta_step': 1.469450495185323, 'subsample': 0.8626282231677532, 'lambda': 0.11549233033703388, 'alpha': 2.8966693486582793}. \u001b[0m\n",
            "\u001b[32m[I 2021-06-24 20:52:23,776]\u001b[0m Trial 13 finished with values: [0.8217102835322941, 1.382354736328125] and parameters: {'learning_rate': 0.005362613188277339, 'n_estimators': 339, 'gamma': 1.29554214578235e-05, 'max_depth': 14, 'min_child_weight': 4.27102010974796, 'max_delta_step': 3.876823085247566, 'subsample': 0.33643603206419503, 'lambda': 4.168418113270792, 'alpha': 3.114876523744128}. \u001b[0m\n",
            "\u001b[32m[I 2021-06-24 20:52:36,083]\u001b[0m Trial 14 finished with values: [0.8154368154679541, 0.7646341323852539] and parameters: {'learning_rate': 2.494051364512187e-05, 'n_estimators': 89, 'gamma': 0.0018306237881515531, 'max_depth': 9, 'min_child_weight': 7.732851360809009, 'max_delta_step': 0.02361847155997676, 'subsample': 0.8516146614316329, 'lambda': 7.572027410560815, 'alpha': 1.6380365775549208}. \u001b[0m\n",
            "\u001b[32m[I 2021-06-24 20:53:26,097]\u001b[0m Trial 15 finished with values: [0.8633044164736345, 1.428790807723999] and parameters: {'learning_rate': 0.013784803227981588, 'n_estimators': 308, 'gamma': 0.05031346438224321, 'max_depth': 17, 'min_child_weight': 3.374623811387655, 'max_delta_step': 1.4581067498184277, 'subsample': 0.7359146331941624, 'lambda': 4.719590009902535, 'alpha': 4.472362077695003}. \u001b[0m\n",
            "\u001b[32m[I 2021-06-24 20:54:58,279]\u001b[0m Trial 16 finished with values: [0.8235868808857589, 2.006478786468506] and parameters: {'learning_rate': 6.082728364930827e-06, 'n_estimators': 498, 'gamma': 1.0991666927093917e-06, 'max_depth': 12, 'min_child_weight': 5.245900719048517, 'max_delta_step': 6.279545736187093, 'subsample': 0.8811278835093631, 'lambda': 3.359483893211821, 'alpha': 7.247337373259028}. \u001b[0m\n",
            "\u001b[32m[I 2021-06-24 20:55:29,456]\u001b[0m Trial 17 finished with values: [0.8296553899158493, 0.9752237796783447] and parameters: {'learning_rate': 0.0001558669988145356, 'n_estimators': 119, 'gamma': 9.687002571688614, 'max_depth': 7, 'min_child_weight': 1.042021283438359, 'max_delta_step': 3.977586096516638, 'subsample': 0.9949142096312764, 'lambda': 0.49316790110574615, 'alpha': 9.81870345582193}. \u001b[0m\n",
            "\u001b[32m[I 2021-06-24 20:55:30,578]\u001b[0m Trial 18 finished with values: [0.8029202507075638, 0.519097089767456] and parameters: {'learning_rate': 0.00013030941908511435, 'n_estimators': 2, 'gamma': 1.241334065455237e-05, 'max_depth': 14, 'min_child_weight': 3.479010449552889, 'max_delta_step': 1.5375076391481943, 'subsample': 0.31936821435437807, 'lambda': 5.662345591728402, 'alpha': 3.8642884050868407}. \u001b[0m\n",
            "\u001b[32m[I 2021-06-24 20:55:53,963]\u001b[0m Trial 19 finished with values: [0.7736580986027985, 0.8894929885864258] and parameters: {'learning_rate': 6.431816304724322e-06, 'n_estimators': 425, 'gamma': 0.00024478965727701486, 'max_depth': 1, 'min_child_weight': 5.684328554585848, 'max_delta_step': 3.8753853187933225, 'subsample': 0.9203137783278178, 'lambda': 8.381754095265858, 'alpha': 1.4735484394877063}. \u001b[0m\n"
          ]
        },
        {
          "name": "stderr",
          "output_type": "stream",
          "text": [
            "\u001b[32m[I 2021-06-24 20:56:02,791]\u001b[0m Trial 20 finished with values: [0.8633044164736345, 0.7527987957000732] and parameters: {'learning_rate': 0.8943000035466402, 'n_estimators': 39, 'gamma': 0.0009374759777297474, 'max_depth': 10, 'min_child_weight': 2.7972723804638853, 'max_delta_step': 9.715767719674412, 'subsample': 0.7345387773887169, 'lambda': 6.438201070530747, 'alpha': 5.291548608701597}. \u001b[0m\n",
            "\u001b[32m[I 2021-06-24 20:56:11,339]\u001b[0m Trial 21 finished with values: [0.8242881215957178, 0.66837477684021] and parameters: {'learning_rate': 0.01570830514132692, 'n_estimators': 44, 'gamma': 0.0005843419549110167, 'max_depth': 10, 'min_child_weight': 3.451703160815641, 'max_delta_step': 5.970869095086018, 'subsample': 0.7855819304167373, 'lambda': 6.640877751460141, 'alpha': 9.931482531919947}. \u001b[0m\n",
            "\u001b[32m[I 2021-06-24 20:56:31,464]\u001b[0m Trial 22 finished with values: [0.8190593634257831, 0.9080891609191895] and parameters: {'learning_rate': 1.2132474088146525e-06, 'n_estimators': 123, 'gamma': 5.6973247272204155e-05, 'max_depth': 7, 'min_child_weight': 5.001152424429211, 'max_delta_step': 2.4380920807775857, 'subsample': 0.6873597883200264, 'lambda': 5.724053366517921, 'alpha': 7.556686631049391}. \u001b[0m\n",
            "\u001b[32m[I 2021-06-24 20:56:38,140]\u001b[0m Trial 23 finished with values: [0.8190593634257831, 0.6599571704864502] and parameters: {'learning_rate': 7.97444360904522e-05, 'n_estimators': 42, 'gamma': 0.00463988389756205, 'max_depth': 3, 'min_child_weight': 2.0569415146958194, 'max_delta_step': 8.341904333971137, 'subsample': 0.9414736049764031, 'lambda': 4.819674774917272, 'alpha': 4.278570488827559}. \u001b[0m\n",
            "\u001b[32m[I 2021-06-24 20:56:39,255]\u001b[0m Trial 24 finished with values: [0.8199460677866314, 0.5046272277832031] and parameters: {'learning_rate': 0.0019307574955714929, 'n_estimators': 1, 'gamma': 4.942631410160456e-06, 'max_depth': 20, 'min_child_weight': 3.134099946280175, 'max_delta_step': 0.7215327368090307, 'subsample': 0.8129750730286442, 'lambda': 6.33253296445254, 'alpha': 7.04070926317071}. \u001b[0m\n",
            "\u001b[32m[I 2021-06-24 20:57:21,569]\u001b[0m Trial 25 finished with values: [0.8497067443220636, 1.444654941558838] and parameters: {'learning_rate': 0.0004909423405341595, 'n_estimators': 209, 'gamma': 4.8563679895476455e-05, 'max_depth': 13, 'min_child_weight': 4.272166163907865, 'max_delta_step': 4.430029921923916, 'subsample': 0.9327084797783503, 'lambda': 2.678936190904497, 'alpha': 3.623891336142108}. \u001b[0m\n",
            "\u001b[32m[I 2021-06-24 20:57:37,138]\u001b[0m Trial 26 finished with values: [0.8190593634257831, 0.8482670783996582] and parameters: {'learning_rate': 1.1199666931371499e-05, 'n_estimators': 107, 'gamma': 3.3637346884893065e-06, 'max_depth': 5, 'min_child_weight': 7.261268727187913, 'max_delta_step': 3.1825340112399374, 'subsample': 0.629615493773783, 'lambda': 7.6206509350579585, 'alpha': 5.216504727063977}. \u001b[0m\n",
            "\u001b[32m[I 2021-06-24 20:57:46,338]\u001b[0m Trial 27 finished with values: [0.857311265788703, 0.793402910232544] and parameters: {'learning_rate': 0.0644316254401455, 'n_estimators': 45, 'gamma': 0.0002949552355248947, 'max_depth': 17, 'min_child_weight': 2.352103041588548, 'max_delta_step': 1.882347763159959, 'subsample': 0.7221470931042703, 'lambda': 8.65235184265372, 'alpha': 1.7276626749666697}. \u001b[0m\n",
            "\u001b[32m[I 2021-06-24 20:58:12,755]\u001b[0m Trial 28 finished with values: [0.8869709470943627, 1.0466270446777344] and parameters: {'learning_rate': 0.4108095470017982, 'n_estimators': 147, 'gamma': 0.05414824732217044, 'max_depth': 10, 'min_child_weight': 1.0645669753059692, 'max_delta_step': 1.1311077246249992, 'subsample': 0.8457226912084972, 'lambda': 9.993710370110481, 'alpha': 9.209188200810011}. \u001b[0m\n",
            "\u001b[32m[I 2021-06-24 20:58:21,987]\u001b[0m Trial 29 finished with values: [0.500866074458996, 0.5441570281982422] and parameters: {'learning_rate': 2.180103124467189e-06, 'n_estimators': 59, 'gamma': 7.99081955663191, 'max_depth': 15, 'min_child_weight': 3.7720054097935156, 'max_delta_step': 0.021239392868065643, 'subsample': 0.9102785270729872, 'lambda': 1.1128511336253855, 'alpha': 0.8995571016424462}. \u001b[0m\n",
            "\u001b[32m[I 2021-06-24 20:58:23,074]\u001b[0m Trial 30 finished with values: [0.8199460677866314, 0.5142290592193604] and parameters: {'learning_rate': 0.0025504654904952837, 'n_estimators': 1, 'gamma': 4.513420559952353e-06, 'max_depth': 19, 'min_child_weight': 2.92422655260822, 'max_delta_step': 0.8035071237303693, 'subsample': 0.7993979237817694, 'lambda': 6.359724385518489, 'alpha': 6.9503641082501915}. \u001b[0m\n",
            "\u001b[32m[I 2021-06-24 20:58:28,555]\u001b[0m Trial 31 finished with values: [0.8097309773814971, 0.6845550537109375] and parameters: {'learning_rate': 0.028757184452310628, 'n_estimators': 29, 'gamma': 2.1944782544787574e-05, 'max_depth': 19, 'min_child_weight': 4.938365438163685, 'max_delta_step': 0.9101695250225518, 'subsample': 0.8114961543616174, 'lambda': 7.022438508376041, 'alpha': 5.371175703048151}. \u001b[0m\n",
            "\u001b[32m[I 2021-06-24 20:58:31,026]\u001b[0m Trial 32 finished with values: [0.8190593634257831, 0.6061441898345947] and parameters: {'learning_rate': 0.0016038015739477413, 'n_estimators': 9, 'gamma': 1.0135263447792603e-06, 'max_depth': 20, 'min_child_weight': 2.892024674267672, 'max_delta_step': 2.773643252655238, 'subsample': 0.7207211472647927, 'lambda': 5.256681086543765, 'alpha': 6.650864446166134}. \u001b[0m\n",
            "\u001b[32m[I 2021-06-24 20:58:47,796]\u001b[0m Trial 33 finished with values: [0.8190593634257831, 0.8620870113372803] and parameters: {'learning_rate': 0.00031879124643030386, 'n_estimators': 93, 'gamma': 5.991089809999583e-06, 'max_depth': 17, 'min_child_weight': 1.8411171580201566, 'max_delta_step': 1.8766777209429502, 'subsample': 0.6559622516630184, 'lambda': 4.442033136536418, 'alpha': 7.652974118877559}. \u001b[0m\n",
            "\u001b[32m[I 2021-06-24 20:59:32,776]\u001b[0m Trial 34 finished with values: [0.8827483715689888, 1.3534259796142578] and parameters: {'learning_rate': 0.7916257651279365, 'n_estimators': 218, 'gamma': 4.329166016405834e-05, 'max_depth': 11, 'min_child_weight': 3.2825110387115055, 'max_delta_step': 0.0962671918383069, 'subsample': 0.9556980538686872, 'lambda': 6.068578747893616, 'alpha': 4.971002836535026}. \u001b[0m\n",
            "\u001b[32m[I 2021-06-24 20:59:33,955]\u001b[0m Trial 35 finished with values: [0.7966857621125422, 0.537714958190918] and parameters: {'learning_rate': 0.005859284348518846, 'n_estimators': 1, 'gamma': 0.0007332978316777311, 'max_depth': 8, 'min_child_weight': 3.850350178542057, 'max_delta_step': 7.474503872597144, 'subsample': 0.8228098868533305, 'lambda': 7.432639787221948, 'alpha': 5.78252420266546}. \u001b[0m\n",
            "\u001b[32m[I 2021-06-24 20:59:55,898]\u001b[0m Trial 36 finished with values: [0.8701491652197825, 0.8639569282531738] and parameters: {'learning_rate': 0.29714892650024366, 'n_estimators': 133, 'gamma': 0.004252167407159966, 'max_depth': 15, 'min_child_weight': 2.368673704193263, 'max_delta_step': 5.8250803685449535, 'subsample': 0.8842370825434066, 'lambda': 3.802320232127904, 'alpha': 8.694646943576233}. \u001b[0m\n",
            "\u001b[32m[I 2021-06-24 21:00:10,075]\u001b[0m Trial 37 finished with values: [0.8216567660231857, 0.8082258701324463] and parameters: {'learning_rate': 6.797131487983354e-05, 'n_estimators': 81, 'gamma': 1.5926585650552506e-06, 'max_depth': 13, 'min_child_weight': 5.627724516702568, 'max_delta_step': 9.856860405668833, 'subsample': 0.7670057355473066, 'lambda': 5.12872382811452, 'alpha': 6.7747210712520864}. \u001b[0m\n",
            "\u001b[32m[I 2021-06-24 21:00:13,819]\u001b[0m Trial 38 finished with values: [0.8055692573300804, 0.6419839859008789] and parameters: {'learning_rate': 0.02410415306516871, 'n_estimators': 26, 'gamma': 9.57517500900782e-06, 'max_depth': 3, 'min_child_weight': 4.797654735196051, 'max_delta_step': 3.3970562278814262, 'subsample': 0.5717919189012426, 'lambda': 6.787224894794189, 'alpha': 4.524024807533664}. \u001b[0m\n",
            "\u001b[32m[I 2021-06-24 21:00:25,197]\u001b[0m Trial 39 finished with values: [0.8376127606607264, 0.7177431583404541] and parameters: {'learning_rate': 1.1272591941437295e-05, 'n_estimators': 58, 'gamma': 8.132298515672763e-05, 'max_depth': 18, 'min_child_weight': 4.01178671217895, 'max_delta_step': 4.645635561759342, 'subsample': 0.7509392888542791, 'lambda': 3.2376877510253173, 'alpha': 2.316974592922121}. \u001b[0m\n",
            "\u001b[32m[I 2021-06-24 21:00:55,507]\u001b[0m Trial 40 finished with values: [0.8938399771147919, 0.9719398021697998] and parameters: {'learning_rate': 0.8666663645154254, 'n_estimators': 285, 'gamma': 2.7458056279217076e-05, 'max_depth': 15, 'min_child_weight': 1.4213403025683085, 'max_delta_step': 9.21203626032315, 'subsample': 0.6311193631746275, 'lambda': 5.925508887012758, 'alpha': 5.411290667010976}. \u001b[0m\n"
          ]
        },
        {
          "name": "stderr",
          "output_type": "stream",
          "text": [
            "\u001b[32m[I 2021-06-24 21:01:44,028]\u001b[0m Trial 41 finished with values: [0.8960887077034426, 1.3205640316009521] and parameters: {'learning_rate': 0.35255531082952624, 'n_estimators': 299, 'gamma': 0.0022554428603927803, 'max_depth': 11, 'min_child_weight': 1.4326160029393387, 'max_delta_step': 9.23833054166008, 'subsample': 0.5924575269082281, 'lambda': 6.279056012760253, 'alpha': 3.900550166331861}. \u001b[0m\n",
            "\u001b[32m[I 2021-06-24 21:02:18,902]\u001b[0m Trial 42 finished with values: [0.8869709470943627, 0.8983578681945801] and parameters: {'learning_rate': 0.9164021354316638, 'n_estimators': 420, 'gamma': 2.836435332224698e-05, 'max_depth': 16, 'min_child_weight': 1.0383833612085256, 'max_delta_step': 8.23276279240983, 'subsample': 0.6925163909114869, 'lambda': 5.934725798512234, 'alpha': 5.597046742001425}. \u001b[0m\n",
            "\u001b[32m[I 2021-06-24 21:03:36,769]\u001b[0m Trial 43 finished with values: [0.8790418265455769, 2.0225112438201904] and parameters: {'learning_rate': 0.055299118251327245, 'n_estimators': 453, 'gamma': 0.000260614052481391, 'max_depth': 16, 'min_child_weight': 2.558140412940894, 'max_delta_step': 8.558258517995641, 'subsample': 0.6969057507617269, 'lambda': 8.30503748657117, 'alpha': 3.3362374885062955}. \u001b[0m\n",
            "\u001b[32m[I 2021-06-24 21:04:35,850]\u001b[0m Trial 44 finished with values: [0.886011475371661, 1.5756418704986572] and parameters: {'learning_rate': 0.1674018527636666, 'n_estimators': 383, 'gamma': 2.625435841431077e-06, 'max_depth': 13, 'min_child_weight': 3.075127181163143, 'max_delta_step': 8.312056307610552, 'subsample': 0.8230128566364131, 'lambda': 5.142493761565072, 'alpha': 4.7660844480470494}. \u001b[0m\n",
            "\u001b[32m[I 2021-06-24 21:04:40,288]\u001b[0m Trial 45 finished with values: [0.8216567660231857, 0.575991153717041] and parameters: {'learning_rate': 0.007183698468875329, 'n_estimators': 23, 'gamma': 8.954724979599804e-06, 'max_depth': 20, 'min_child_weight': 2.226546587185025, 'max_delta_step': 6.764165706442737, 'subsample': 0.6964440456128205, 'lambda': 7.311009598668012, 'alpha': 6.481960784477348}. \u001b[0m\n",
            "\u001b[32m[I 2021-06-24 21:05:27,142]\u001b[0m Trial 46 finished with values: [0.8256868369018574, 1.2599658966064453] and parameters: {'learning_rate': 0.00032301087441987693, 'n_estimators': 229, 'gamma': 0.00018448407886833315, 'max_depth': 14, 'min_child_weight': 1.7966357215668838, 'max_delta_step': 7.9123078274182905, 'subsample': 0.8988846493365852, 'lambda': 6.697729860030265, 'alpha': 5.731621419458763}. \u001b[0m\n",
            "\u001b[32m[I 2021-06-24 21:05:42,795]\u001b[0m Trial 47 finished with values: [0.817647621215583, 0.793281078338623] and parameters: {'learning_rate': 0.0014834529444652292, 'n_estimators': 106, 'gamma': 0.0006748016100794333, 'max_depth': 16, 'min_child_weight': 3.666738435093685, 'max_delta_step': 9.862126303229266, 'subsample': 0.6432963310834884, 'lambda': 4.43066917068923, 'alpha': 7.086477237087129}. \u001b[0m\n",
            "\u001b[32m[I 2021-06-24 21:07:06,792]\u001b[0m Trial 48 finished with values: [0.896317585463515, 1.991610050201416] and parameters: {'learning_rate': 0.07055705272110428, 'n_estimators': 386, 'gamma': 2.7075445643830907e-05, 'max_depth': 17, 'min_child_weight': 2.694797059003313, 'max_delta_step': 8.891916820631465, 'subsample': 0.9595277923034844, 'lambda': 8.992140034504448, 'alpha': 4.059528790968905}. \u001b[0m\n",
            "\u001b[32m[I 2021-06-24 21:07:32,407]\u001b[0m Trial 49 finished with values: [0.7977261200751783, 1.0730280876159668] and parameters: {'learning_rate': 2.4327789499872114e-06, 'n_estimators': 277, 'gamma': 0.00012756997354334903, 'max_depth': 11, 'min_child_weight': 9.49056309499084, 'max_delta_step': 6.675906796625968, 'subsample': 0.4400139035111046, 'lambda': 5.949457200880867, 'alpha': 5.571534740484487}. \u001b[0m\n"
          ]
        }
      ],
      "source": [
        "motpe_sampler = optuna.samplers.MOTPESampler()\n",
        "motpe_experiment = optuna.create_study(sampler=motpe_sampler, directions=[\"maximize\", \"minimize\"])\n",
        "motpe_experiment.optimize(train, n_trials=N_TRIAL)"
      ]
    },
    {
      "cell_type": "markdown",
      "metadata": {
        "id": "eefb4534"
      },
      "source": [
        "Our second experiment will use random sampling for optimization. The only thing that needs to change is the sampling strategy. "
      ]
    },
    {
      "cell_type": "code",
      "execution_count": null,
      "metadata": {
        "id": "supreme-probe"
      },
      "outputs": [
        {
          "name": "stderr",
          "output_type": "stream",
          "text": [
            "\u001b[32m[I 2021-06-24 21:07:32,414]\u001b[0m A new study created in memory with name: no-name-c5e5c759-7e1d-4441-a31f-7819463f106d\u001b[0m\n",
            "\u001b[32m[I 2021-06-24 21:08:08,251]\u001b[0m Trial 0 finished with values: [0.8242881215957178, 1.2239470481872559] and parameters: {'learning_rate': 1.9507239259377863e-06, 'n_estimators': 271, 'gamma': 3.203084164333884e-05, 'max_depth': 12, 'min_child_weight': 3.9081575799327846, 'max_delta_step': 4.117412038341683, 'subsample': 0.5762772304746615, 'lambda': 5.405463628427972, 'alpha': 3.864109226147682}. \u001b[0m\n",
            "\u001b[32m[I 2021-06-24 21:08:18,362]\u001b[0m Trial 1 finished with values: [0.8296505703197883, 0.6600246429443359] and parameters: {'learning_rate': 0.01655164453347855, 'n_estimators': 58, 'gamma': 3.9044873735601247, 'max_depth': 13, 'min_child_weight': 7.984927170467948, 'max_delta_step': 8.09500795905697, 'subsample': 0.849813279677957, 'lambda': 7.3365891345582455, 'alpha': 2.2537196445796215}. \u001b[0m\n",
            "\u001b[32m[I 2021-06-24 21:08:24,360]\u001b[0m Trial 2 finished with values: [0.7962364659054924, 0.6288399696350098] and parameters: {'learning_rate': 7.144946052169984e-06, 'n_estimators': 55, 'gamma': 0.0005938900211062816, 'max_depth': 16, 'min_child_weight': 8.29773094793812, 'max_delta_step': 2.788855163589783, 'subsample': 0.4420523447596358, 'lambda': 5.066121241361202, 'alpha': 0.3988522258882743}. \u001b[0m\n",
            "\u001b[32m[I 2021-06-24 21:09:28,410]\u001b[0m Trial 3 finished with values: [0.8205210619242312, 1.6159019470214844] and parameters: {'learning_rate': 0.0005145376531234654, 'n_estimators': 407, 'gamma': 8.19479783583658, 'max_depth': 13, 'min_child_weight': 4.493654845616417, 'max_delta_step': 7.226690315481411, 'subsample': 0.7932310802055202, 'lambda': 3.130885424940356, 'alpha': 9.040552220313188}. \u001b[0m\n",
            "\u001b[32m[I 2021-06-24 21:09:48,963]\u001b[0m Trial 4 finished with values: [0.8496149189813387, 1.0410358905792236] and parameters: {'learning_rate': 0.013849555482491996, 'n_estimators': 247, 'gamma': 0.004894973036916711, 'max_depth': 9, 'min_child_weight': 6.9009694714379695, 'max_delta_step': 7.3663949572847685, 'subsample': 0.31946222683020187, 'lambda': 0.5603893246244229, 'alpha': 4.450235208975947}. \u001b[0m\n",
            "\u001b[32m[I 2021-06-24 21:10:14,033]\u001b[0m Trial 5 finished with values: [0.8230729155907346, 0.8897931575775146] and parameters: {'learning_rate': 0.00013362494466989306, 'n_estimators': 141, 'gamma': 0.000329157827823119, 'max_depth': 20, 'min_child_weight': 7.797581565153617, 'max_delta_step': 4.03179167233131, 'subsample': 0.9227920340824296, 'lambda': 1.6106526818819378, 'alpha': 6.601091473609549}. \u001b[0m\n",
            "\u001b[32m[I 2021-06-24 21:10:48,359]\u001b[0m Trial 6 finished with values: [0.8003060994353435, 1.498732089996338] and parameters: {'learning_rate': 1.168241229250612e-06, 'n_estimators': 439, 'gamma': 7.818060971555486e-05, 'max_depth': 17, 'min_child_weight': 6.41934097447878, 'max_delta_step': 7.810546223442011, 'subsample': 0.31300197310918787, 'lambda': 3.109239024530824, 'alpha': 1.3833741423925527}. \u001b[0m\n",
            "\u001b[32m[I 2021-06-24 21:11:39,786]\u001b[0m Trial 7 finished with values: [0.8701491652197825, 1.512773036956787] and parameters: {'learning_rate': 0.02790630764374101, 'n_estimators': 243, 'gamma': 0.32616502309400197, 'max_depth': 5, 'min_child_weight': 3.446731702524492, 'max_delta_step': 8.85814993654472, 'subsample': 0.8905978197038209, 'lambda': 0.2896918954362726, 'alpha': 6.0978187521867335}. \u001b[0m\n",
            "\u001b[32m[I 2021-06-24 21:12:20,530]\u001b[0m Trial 8 finished with values: [0.8746975062494932, 1.8283360004425049] and parameters: {'learning_rate': 0.06365863535683362, 'n_estimators': 377, 'gamma': 0.01206542578602256, 'max_depth': 4, 'min_child_weight': 7.580066616388424, 'max_delta_step': 2.9636879058903407, 'subsample': 0.48901772292932044, 'lambda': 2.163451159114259, 'alpha': 5.531900357691034}. \u001b[0m\n",
            "\u001b[32m[I 2021-06-24 21:12:46,343]\u001b[0m Trial 9 finished with values: [0.7689478730324634, 1.2750110626220703] and parameters: {'learning_rate': 1.0363857232566384e-06, 'n_estimators': 341, 'gamma': 0.0005049586032749233, 'max_depth': 9, 'min_child_weight': 9.265481309572648, 'max_delta_step': 5.236168392595397, 'subsample': 0.30241181083214913, 'lambda': 9.288411149593697, 'alpha': 1.4806249551779593}. \u001b[0m\n",
            "\u001b[32m[I 2021-06-24 21:13:15,668]\u001b[0m Trial 10 finished with values: [0.786973939042972, 1.3024439811706543] and parameters: {'learning_rate': 0.002335840721200959, 'n_estimators': 471, 'gamma': 2.732162626655945, 'max_depth': 11, 'min_child_weight': 8.446409864456264, 'max_delta_step': 8.414460270670364, 'subsample': 0.24599288277867146, 'lambda': 7.630680346954753, 'alpha': 7.164191512507909}. \u001b[0m\n",
            "\u001b[32m[I 2021-06-24 21:13:26,994]\u001b[0m Trial 11 finished with values: [0.8694663883046205, 0.9429812431335449] and parameters: {'learning_rate': 0.07049569809401308, 'n_estimators': 111, 'gamma': 0.010400062352022907, 'max_depth': 17, 'min_child_weight': 1.682818031984671, 'max_delta_step': 7.9353700622048295, 'subsample': 0.24055469032404275, 'lambda': 4.362461895127384, 'alpha': 1.429810512766334}. \u001b[0m\n",
            "\u001b[32m[I 2021-06-24 21:13:51,049]\u001b[0m Trial 12 finished with values: [0.8556790817356423, 0.9278888702392578] and parameters: {'learning_rate': 0.8521133971884453, 'n_estimators': 399, 'gamma': 0.05765190927287146, 'max_depth': 2, 'min_child_weight': 1.2005285447449363, 'max_delta_step': 8.347295791594432, 'subsample': 0.7032450156575869, 'lambda': 2.1712736719047876, 'alpha': 9.85013897044308}. \u001b[0m\n",
            "\u001b[32m[I 2021-06-24 21:14:11,533]\u001b[0m Trial 13 finished with values: [0.8164952608616804, 0.991943359375] and parameters: {'learning_rate': 0.00013974596048266447, 'n_estimators': 146, 'gamma': 9.639906431167176e-05, 'max_depth': 7, 'min_child_weight': 1.953471213218589, 'max_delta_step': 2.248534923591489, 'subsample': 0.5004616260874354, 'lambda': 3.475261912395701, 'alpha': 7.982277238304221}. \u001b[0m\n",
            "\u001b[32m[I 2021-06-24 21:14:34,379]\u001b[0m Trial 14 finished with values: [0.8656943012972265, 0.9568576812744141] and parameters: {'learning_rate': 0.6888988306460377, 'n_estimators': 240, 'gamma': 1.0297392319062661e-05, 'max_depth': 4, 'min_child_weight': 5.324504122542551, 'max_delta_step': 2.050103538295925, 'subsample': 0.84766005209242, 'lambda': 7.0135771183941396, 'alpha': 8.876460643992045}. \u001b[0m\n",
            "\u001b[32m[I 2021-06-24 21:15:12,327]\u001b[0m Trial 15 finished with values: [0.7893394252069803, 1.2191379070281982] and parameters: {'learning_rate': 1.9910319756644723e-05, 'n_estimators': 359, 'gamma': 0.1342591040715406, 'max_depth': 17, 'min_child_weight': 6.900616762527168, 'max_delta_step': 0.6841686028973304, 'subsample': 0.5191495086852524, 'lambda': 1.2145082775703975, 'alpha': 8.108235121968528}. \u001b[0m\n",
            "\u001b[32m[I 2021-06-24 21:15:44,691]\u001b[0m Trial 16 finished with values: [0.8388877369513583, 1.5050408840179443] and parameters: {'learning_rate': 0.00899052560815236, 'n_estimators': 291, 'gamma': 0.38349350195905285, 'max_depth': 7, 'min_child_weight': 8.996764763115241, 'max_delta_step': 8.343203615416073, 'subsample': 0.4937619595582944, 'lambda': 9.718912302234466, 'alpha': 1.556797069857253}. \u001b[0m\n",
            "\u001b[32m[I 2021-06-24 21:16:15,047]\u001b[0m Trial 17 finished with values: [0.8620796708637679, 1.2882869243621826] and parameters: {'learning_rate': 0.12042438603720615, 'n_estimators': 278, 'gamma': 0.13085929093618276, 'max_depth': 7, 'min_child_weight': 6.9412935626173455, 'max_delta_step': 1.017209248991896, 'subsample': 0.5695175622187703, 'lambda': 3.507755980106151, 'alpha': 7.6981528068144875}. \u001b[0m\n",
            "\u001b[32m[I 2021-06-24 21:16:31,255]\u001b[0m Trial 18 finished with values: [0.8190593634257831, 0.8593380451202393] and parameters: {'learning_rate': 3.360137322801189e-05, 'n_estimators': 145, 'gamma': 2.87781881000497e-06, 'max_depth': 20, 'min_child_weight': 4.313886958053366, 'max_delta_step': 7.783780042252879, 'subsample': 0.47965760708350813, 'lambda': 9.125929370528876, 'alpha': 2.075047118219052}. \u001b[0m\n",
            "\u001b[32m[I 2021-06-24 21:17:17,009]\u001b[0m Trial 19 finished with values: [0.8149820523103819, 1.215108871459961] and parameters: {'learning_rate': 0.002466037895045117, 'n_estimators': 291, 'gamma': 0.0001762100831698647, 'max_depth': 15, 'min_child_weight': 6.559990265810391, 'max_delta_step': 1.1303452422384253, 'subsample': 0.9616536564638809, 'lambda': 3.187000624434526, 'alpha': 8.279609591369342}. \u001b[0m\n"
          ]
        },
        {
          "name": "stderr",
          "output_type": "stream",
          "text": [
            "\u001b[32m[I 2021-06-24 21:17:56,898]\u001b[0m Trial 20 finished with values: [0.8110071208354481, 1.5800440311431885] and parameters: {'learning_rate': 2.0884008896526032e-06, 'n_estimators': 455, 'gamma': 2.891243616832569e-06, 'max_depth': 15, 'min_child_weight': 5.035721547860057, 'max_delta_step': 8.70477440647167, 'subsample': 0.3385504407877148, 'lambda': 2.7435598630534397, 'alpha': 0.6978146783305916}. \u001b[0m\n",
            "\u001b[32m[I 2021-06-24 21:18:00,515]\u001b[0m Trial 21 finished with values: [0.8641084498468754, 0.5938787460327148] and parameters: {'learning_rate': 0.5793789316528507, 'n_estimators': 32, 'gamma': 0.052375508713541845, 'max_depth': 9, 'min_child_weight': 7.430893761258581, 'max_delta_step': 6.395150246442426, 'subsample': 0.4435405009843316, 'lambda': 3.0110480701804763, 'alpha': 6.4509483120277125}. \u001b[0m\n",
            "\u001b[32m[I 2021-06-24 21:18:18,926]\u001b[0m Trial 22 finished with values: [0.8084182064818278, 0.9187440872192383] and parameters: {'learning_rate': 0.0002872486380637588, 'n_estimators': 160, 'gamma': 8.128741037256317e-05, 'max_depth': 4, 'min_child_weight': 2.575461825257871, 'max_delta_step': 9.246070649799462, 'subsample': 0.4899607230522984, 'lambda': 5.578388144432656, 'alpha': 8.099903083090448}. \u001b[0m\n",
            "\u001b[32m[I 2021-06-24 21:18:43,272]\u001b[0m Trial 23 finished with values: [0.8110071208354481, 1.1431057453155518] and parameters: {'learning_rate': 0.001381728822917572, 'n_estimators': 310, 'gamma': 3.7166911468646853, 'max_depth': 2, 'min_child_weight': 1.2941885682925542, 'max_delta_step': 6.5277324400696655, 'subsample': 0.6565476312576366, 'lambda': 9.69454691928472, 'alpha': 3.5948674166461645}. \u001b[0m\n",
            "\u001b[32m[I 2021-06-24 21:19:49,118]\u001b[0m Trial 24 finished with values: [0.857311265788703, 2.0020668506622314] and parameters: {'learning_rate': 0.031346928125215376, 'n_estimators': 419, 'gamma': 0.0006212152718852163, 'max_depth': 5, 'min_child_weight': 1.1202810266401795, 'max_delta_step': 8.801409251027748, 'subsample': 0.5896817648894658, 'lambda': 9.320145510414722, 'alpha': 6.225365754810461}. \u001b[0m\n",
            "\u001b[32m[I 2021-06-24 21:20:26,064]\u001b[0m Trial 25 finished with values: [0.8340701441935598, 1.2236511707305908] and parameters: {'learning_rate': 0.00011182559506367305, 'n_estimators': 248, 'gamma': 0.0010053636955866386, 'max_depth': 16, 'min_child_weight': 4.174266872618048, 'max_delta_step': 2.481259784028845, 'subsample': 0.659566715060743, 'lambda': 0.09586916840113813, 'alpha': 6.807305874708272}. \u001b[0m\n",
            "\u001b[32m[I 2021-06-24 21:20:43,091]\u001b[0m Trial 26 finished with values: [0.8611497321132064, 0.8022499084472656] and parameters: {'learning_rate': 0.09896390141242128, 'n_estimators': 97, 'gamma': 0.2833402629264894, 'max_depth': 11, 'min_child_weight': 5.292013380232245, 'max_delta_step': 6.731804241037651, 'subsample': 0.8644632339936671, 'lambda': 6.524342813771654, 'alpha': 9.471981763135433}. \u001b[0m\n",
            "\u001b[32m[I 2021-06-24 21:21:02,872]\u001b[0m Trial 27 finished with values: [0.8901473481580877, 1.3373830318450928] and parameters: {'learning_rate': 0.14021312820737467, 'n_estimators': 273, 'gamma': 8.146475211466562e-05, 'max_depth': 9, 'min_child_weight': 3.14388930063139, 'max_delta_step': 6.719270941417452, 'subsample': 0.2646046896455692, 'lambda': 6.61184963264053, 'alpha': 0.545784193512614}. \u001b[0m\n",
            "\u001b[32m[I 2021-06-24 21:22:00,733]\u001b[0m Trial 28 finished with values: [0.8229716051137779, 1.5625231266021729] and parameters: {'learning_rate': 0.004625944161007529, 'n_estimators': 425, 'gamma': 0.620112195315808, 'max_depth': 3, 'min_child_weight': 6.905011629893329, 'max_delta_step': 1.851315377470214, 'subsample': 0.9930086009772898, 'lambda': 4.971325051899399, 'alpha': 1.343103796366869}. \u001b[0m\n",
            "\u001b[32m[I 2021-06-24 21:22:15,808]\u001b[0m Trial 29 finished with values: [0.8110071208354481, 0.8679680824279785] and parameters: {'learning_rate': 0.0006005367776356777, 'n_estimators': 188, 'gamma': 0.0003989071140277466, 'max_depth': 2, 'min_child_weight': 7.70048315858797, 'max_delta_step': 3.352499659112773, 'subsample': 0.6362712821712457, 'lambda': 5.602814529170654, 'alpha': 3.5452047426838886}. \u001b[0m\n",
            "\u001b[32m[I 2021-06-24 21:23:00,075]\u001b[0m Trial 30 finished with values: [0.7936440992272074, 1.243791103363037] and parameters: {'learning_rate': 1.950840343464215e-05, 'n_estimators': 380, 'gamma': 0.0036582892083478367, 'max_depth': 5, 'min_child_weight': 7.291069053814144, 'max_delta_step': 0.09464097130660432, 'subsample': 0.7464831886530765, 'lambda': 7.138304276321468, 'alpha': 5.798901912189601}. \u001b[0m\n",
            "\u001b[32m[I 2021-06-24 21:23:40,834]\u001b[0m Trial 31 finished with values: [0.8543758450450631, 1.0849800109863281] and parameters: {'learning_rate': 0.1494159640075728, 'n_estimators': 442, 'gamma': 0.09977049939165789, 'max_depth': 20, 'min_child_weight': 8.983830088285888, 'max_delta_step': 4.813737648631068, 'subsample': 0.9397056707532663, 'lambda': 5.881035571085805, 'alpha': 9.617606737324499}. \u001b[0m\n",
            "\u001b[32m[I 2021-06-24 21:23:48,020]\u001b[0m Trial 32 finished with values: [0.8003060994353435, 0.7104589939117432] and parameters: {'learning_rate': 2.1991147225922148e-05, 'n_estimators': 104, 'gamma': 5.859308313423115e-05, 'max_depth': 2, 'min_child_weight': 8.230050161135958, 'max_delta_step': 7.398397307612075, 'subsample': 0.4257940713857218, 'lambda': 2.459720891739737, 'alpha': 3.755968680189591}. \u001b[0m\n",
            "\u001b[32m[I 2021-06-24 21:24:10,871]\u001b[0m Trial 33 finished with values: [0.8753304406743465, 0.8417830467224121] and parameters: {'learning_rate': 0.9394078194827746, 'n_estimators': 448, 'gamma': 0.000538048130123458, 'max_depth': 14, 'min_child_weight': 1.911829679403519, 'max_delta_step': 1.958940115833785, 'subsample': 0.3774079966016376, 'lambda': 1.1305928187999204, 'alpha': 9.862850414500029}. \u001b[0m\n",
            "\u001b[32m[I 2021-06-24 21:24:50,842]\u001b[0m Trial 34 finished with values: [0.7962364659054924, 1.2472569942474365] and parameters: {'learning_rate': 6.0782982971329043e-05, 'n_estimators': 339, 'gamma': 2.479857463426879e-05, 'max_depth': 19, 'min_child_weight': 2.7749295210233997, 'max_delta_step': 0.1081053253927311, 'subsample': 0.6529027193633793, 'lambda': 3.2047081687757997, 'alpha': 7.336297840995827}. \u001b[0m\n",
            "\u001b[32m[I 2021-06-24 21:25:23,460]\u001b[0m Trial 35 finished with values: [0.8003060994353435, 1.1897087097167969] and parameters: {'learning_rate': 8.802960709377651e-06, 'n_estimators': 335, 'gamma': 7.548534903723408e-05, 'max_depth': 15, 'min_child_weight': 7.913442979457331, 'max_delta_step': 7.273672219782713, 'subsample': 0.48860459391406075, 'lambda': 6.46402630454282, 'alpha': 9.763337730223803}. \u001b[0m\n",
            "\u001b[32m[I 2021-06-24 21:26:07,811]\u001b[0m Trial 36 finished with values: [0.827078301823953, 1.4122300148010254] and parameters: {'learning_rate': 0.0002168616709207641, 'n_estimators': 331, 'gamma': 0.004578134043902739, 'max_depth': 7, 'min_child_weight': 3.4174717554497627, 'max_delta_step': 4.893134554827137, 'subsample': 0.5295827673928973, 'lambda': 1.7403199384813228, 'alpha': 2.1403266705181645}. \u001b[0m\n",
            "\u001b[32m[I 2021-06-24 21:26:29,396]\u001b[0m Trial 37 finished with values: [0.8508501231162573, 0.8315458297729492] and parameters: {'learning_rate': 0.00010526742202047852, 'n_estimators': 114, 'gamma': 0.005805878866544669, 'max_depth': 10, 'min_child_weight': 2.468175236382814, 'max_delta_step': 6.204230102338428, 'subsample': 0.908156115347069, 'lambda': 1.0607574667062847, 'alpha': 4.465313958685507}. \u001b[0m\n",
            "\u001b[32m[I 2021-06-24 21:26:30,534]\u001b[0m Trial 38 finished with values: [0.7746126649789082, 0.49856996536254883] and parameters: {'learning_rate': 9.788402705802285e-06, 'n_estimators': 3, 'gamma': 1.8636442808909454e-06, 'max_depth': 20, 'min_child_weight': 9.537986914349867, 'max_delta_step': 5.27845522605244, 'subsample': 0.39015531862016606, 'lambda': 1.6367258439730936, 'alpha': 2.989343046650145}. \u001b[0m\n",
            "\u001b[32m[I 2021-06-24 21:26:47,650]\u001b[0m Trial 39 finished with values: [0.892981124197745, 0.9046058654785156] and parameters: {'learning_rate': 0.17959875151705093, 'n_estimators': 125, 'gamma': 0.0001109584364222337, 'max_depth': 12, 'min_child_weight': 5.39606378787268, 'max_delta_step': 1.9758010476326593, 'subsample': 0.577284400072523, 'lambda': 0.6219184183554771, 'alpha': 0.672004307953783}. \u001b[0m\n",
            "\u001b[32m[I 2021-06-24 21:27:16,047]\u001b[0m Trial 40 finished with values: [0.7974728529308776, 1.4177539348602295] and parameters: {'learning_rate': 0.0011845465569698794, 'n_estimators': 442, 'gamma': 0.7620830145090745, 'max_depth': 5, 'min_child_weight': 2.271722360863892, 'max_delta_step': 7.0210318813574375, 'subsample': 0.2116384393121508, 'lambda': 8.371442319574717, 'alpha': 5.882796103914561}. \u001b[0m\n"
          ]
        },
        {
          "name": "stderr",
          "output_type": "stream",
          "text": [
            "\u001b[32m[I 2021-06-24 21:27:28,994]\u001b[0m Trial 41 finished with values: [0.7948569290121553, 0.8213651180267334] and parameters: {'learning_rate': 8.4280873592244e-05, 'n_estimators': 268, 'gamma': 2.277792842070888e-06, 'max_depth': 20, 'min_child_weight': 7.4531713488192235, 'max_delta_step': 0.8172735909486628, 'subsample': 0.21085097355333302, 'lambda': 2.025124138341253, 'alpha': 2.1176634964253815}. \u001b[0m\n",
            "\u001b[32m[I 2021-06-24 21:27:53,899]\u001b[0m Trial 42 finished with values: [0.8694663883046205, 1.0063731670379639] and parameters: {'learning_rate': 0.34136880083925847, 'n_estimators': 177, 'gamma': 0.015021676606379956, 'max_depth': 8, 'min_child_weight': 1.5736368640199103, 'max_delta_step': 6.250758290164357, 'subsample': 0.5598802274964483, 'lambda': 6.967950869039663, 'alpha': 7.643500856478671}. \u001b[0m\n",
            "\u001b[32m[I 2021-06-24 21:28:01,544]\u001b[0m Trial 43 finished with values: [0.8633044164736345, 0.6240670680999756] and parameters: {'learning_rate': 0.1258658923810024, 'n_estimators': 41, 'gamma': 0.10648563780481408, 'max_depth': 19, 'min_child_weight': 5.343821672160628, 'max_delta_step': 6.653114723346393, 'subsample': 0.9141831943543757, 'lambda': 7.407423551110383, 'alpha': 6.118577237820352}. \u001b[0m\n",
            "\u001b[32m[I 2021-06-24 21:28:28,956]\u001b[0m Trial 44 finished with values: [0.8216567660231857, 0.9390499591827393] and parameters: {'learning_rate': 3.604195658289106e-06, 'n_estimators': 162, 'gamma': 4.2243333751987855, 'max_depth': 19, 'min_child_weight': 5.488203389834896, 'max_delta_step': 7.269422248948586, 'subsample': 0.8505629688396659, 'lambda': 8.688476930570168, 'alpha': 3.704597825216797}. \u001b[0m\n",
            "\u001b[32m[I 2021-06-24 21:28:42,839]\u001b[0m Trial 45 finished with values: [0.8110071208354481, 0.800206184387207] and parameters: {'learning_rate': 0.002129730178703707, 'n_estimators': 135, 'gamma': 0.023677990145689862, 'max_depth': 12, 'min_child_weight': 5.732403366160122, 'max_delta_step': 9.466053339973318, 'subsample': 0.447815873780944, 'lambda': 9.468174408899921, 'alpha': 0.5095257253610441}. \u001b[0m\n",
            "\u001b[32m[I 2021-06-24 21:29:11,197]\u001b[0m Trial 46 finished with values: [0.7789888066300412, 0.692234992980957] and parameters: {'learning_rate': 0.1259440314628567, 'n_estimators': 260, 'gamma': 2.0109008620769058, 'max_depth': 10, 'min_child_weight': 1.8364105493733527, 'max_delta_step': 0.05313929774694248, 'subsample': 0.4692861310587977, 'lambda': 3.1389419565946755, 'alpha': 3.168205632605723}. \u001b[0m\n",
            "\u001b[32m[I 2021-06-24 21:29:14,291]\u001b[0m Trial 47 finished with values: [0.8150374862525068, 0.5811522006988525] and parameters: {'learning_rate': 8.301101637578672e-05, 'n_estimators': 16, 'gamma': 0.0034515795349725265, 'max_depth': 16, 'min_child_weight': 2.9582455884170322, 'max_delta_step': 5.887308426635012, 'subsample': 0.5652222841444268, 'lambda': 6.388128240316052, 'alpha': 3.435226928525281}. \u001b[0m\n",
            "\u001b[32m[I 2021-06-24 21:30:03,799]\u001b[0m Trial 48 finished with values: [0.7977261200751783, 1.4499850273132324] and parameters: {'learning_rate': 2.754807472403577e-06, 'n_estimators': 445, 'gamma': 0.00014554001611299385, 'max_depth': 7, 'min_child_weight': 9.013766158049954, 'max_delta_step': 6.44510764082963, 'subsample': 0.5879644676886469, 'lambda': 4.4464742938363155, 'alpha': 7.019515902540286}. \u001b[0m\n",
            "\u001b[32m[I 2021-06-24 21:30:11,376]\u001b[0m Trial 49 finished with values: [0.7736580986027985, 0.6159448623657227] and parameters: {'learning_rate': 0.00017294564714432752, 'n_estimators': 145, 'gamma': 0.008710444065983784, 'max_depth': 1, 'min_child_weight': 5.96632723369129, 'max_delta_step': 2.9422256549284667, 'subsample': 0.849683050335331, 'lambda': 3.0456432415007315, 'alpha': 7.492133503450251}. \u001b[0m\n"
          ]
        }
      ],
      "source": [
        "random_sampler = optuna.samplers.RandomSampler()\n",
        "random_experiment = optuna.create_study(sampler=random_sampler, directions=[\"maximize\", \"minimize\"])\n",
        "random_experiment.optimize(train, n_trials=N_TRIAL)"
      ]
    },
    {
      "cell_type": "markdown",
      "metadata": {
        "id": "Q-if52vlF7Ym"
      },
      "source": [
        "### Visualize Results\n"
      ]
    },
    {
      "cell_type": "code",
      "execution_count": null,
      "metadata": {
        "id": "6c03fe64"
      },
      "outputs": [],
      "source": [
        "def cast_as_df(optuna_experiment, experiment_type):\n",
        "    df = (\n",
        "        optuna_experiment\n",
        "        .trials_dataframe()\n",
        "        .rename(columns={\"values_0\": \"auprc\", \"values_1\": \"latency\"})\n",
        "        .assign(experiment = experiment_type)\n",
        "    )\n",
        "    # the following lines create a column identifing which of the trials resulted in a\n",
        "    # Best configuration -- a model with these HPs lies along the empirical Pareto frontier\n",
        "    best_trials = [trial.number for trial in optuna_experiment.best_trials]\n",
        "    df['best_trial'] = np.where(df.number.isin(best_trials), 1, 0)\n",
        "    return df"
      ]
    },
    {
      "cell_type": "code",
      "execution_count": null,
      "metadata": {
        "id": "35ea6894"
      },
      "outputs": [],
      "source": [
        "def three_panel_fig(dfs):\n",
        "    fig = plt.figure(figsize=(15,5))\n",
        "\n",
        "    ax = fig.add_subplot(131)\n",
        "    for df in dfs:\n",
        "        ax.scatter(df[\"auprc\"], df[\"latency\"], alpha=0.5, label=df.reset_index().experiment[0])\n",
        "    plt.xlabel(\"AUPRC\")\n",
        "    plt.ylabel(\"Latency (1M points)\")\n",
        "    plt.legend()\n",
        "    plt.title(\"Comparison\")\n",
        "\n",
        "    ax = fig.add_subplot(132, sharey=ax, sharex=ax)\n",
        "    ax.scatter(dfs[0][\"auprc\"], dfs[0][\"latency\"], \n",
        "               alpha=0.5, c=dfs[0][\"number\"], cmap='Blues')\n",
        "    plt.xlabel(\"AUPRC\")\n",
        "    plt.ylabel(\"Latency (1M points)\")\n",
        "    plt.title(dfs[0].reset_index().experiment[0])\n",
        "\n",
        "    try:\n",
        "        ax = fig.add_subplot(133, sharey=ax, sharex=ax)\n",
        "        ax.scatter(dfs[1][\"auprc\"], dfs[1][\"latency\"], \n",
        "                   alpha=0.5, c=dfs[1][\"number\"], cmap='Oranges',\n",
        "                   label=dfs[1].reset_index().experiment[0])\n",
        "        plt.xlabel(\"AUPRC\")\n",
        "        plt.ylabel(\"Latency (1M points)\")\n",
        "        plt.title(dfs[1].reset_index().experiment[0])\n",
        "    except:\n",
        "        pass"
      ]
    },
    {
      "cell_type": "code",
      "execution_count": null,
      "metadata": {
        "id": "e923a915"
      },
      "outputs": [],
      "source": [
        "motpe_df = cast_as_df(motpe_experiment, experiment_type=\"MOTPE\")\n",
        "random_df = cast_as_df(random_experiment, experiment_type=\"Random\")"
      ]
    },
    {
      "cell_type": "code",
      "execution_count": null,
      "metadata": {
        "id": "solyXbepGknI"
      },
      "outputs": [],
      "source": [
        "motpe_df.to_csv(\"optuna_fraud_motpe_100trials.csv\")\n",
        "random_df.to_csv(\"optuna_fraud_random_100trials.csv\")"
      ]
    },
    {
      "cell_type": "code",
      "execution_count": null,
      "metadata": {
        "id": "z2tAkZFwGpME"
      },
      "outputs": [],
      "source": [
        "# motpe_df = pd.read_csv(\"optuna_fraud_motpe_100trials.csv\")\n",
        "# random_df = pd.read_csv(\"optuna_fraud_random_100trials.csv\")"
      ]
    },
    {
      "cell_type": "code",
      "execution_count": null,
      "metadata": {
        "id": "0eac627d"
      },
      "outputs": [
        {
          "data": {
            "image/png": "[encoded data removed]",
            "text/plain": [
              "<Figure size 1080x360 with 3 Axes>"
            ]
          },
          "metadata": {
            "needs_background": "light"
          },
          "output_type": "display_data"
        }
      ],
      "source": [
        "three_panel_fig([motpe_df, random_df])"
      ]
    },
    {
      "cell_type": "markdown",
      "metadata": {
        "id": "8451174b"
      },
      "source": [
        "The figures above (if you loaded ours) show the results of 100 trials using MOTPE and 100 trials of random search to optimize the hyperparameters of our XGBoost model for the fraud dataset. The leftmost panel shows a comparison between the two optimization experiments. We see that the MOTPE strategy more densely samples in the desired region (low latency - high AUPRC) and finds many models that dominate in terms of latency (fastest models). However, random search is no slouch and ends up finding several models that dominate in terms of AUPRC (most predictive accuracy).\n",
        "\n",
        "The middle and right panels show each experiment separately with points colored according to the trial in which they were sampled, with lighter points representing earlier trials and darker points, later trials. In the case of MOTPE, we see the lightest points are spread out over the latency-AUPRC space (this makes sense since the MOTPE algorithm is initially seeded with a few random trials), while the darker points cluster in the desirable corner. This indicates that the MOTPE algorithm is sampling strategically, attempting to identify hyperparameter configurations that optimize both objectives. \n",
        "\n",
        "On the other hand, the random search strategy is random throughout! Both lighter and darker orange points are widely dispersed and it was by sheer luck that this strategy landed on some of the most predictive models. But this is exactly the point -- given enough random samples, you're bound to cover a good portion of the space, including desirable regions of low latency and high AUPRC. \n",
        "\n",
        "Optuna also provides some nice visualizations.  Though we can't plot both studies simultaneously, these figures allow one to quickly identify the trials on the Pareto frontier (in red). Hovering over each point provides the details for that trial, including the sampled hyperparameters. "
      ]
    },
    {
      "cell_type": "code",
      "execution_count": null,
      "metadata": {
        "id": "hazardous-outline"
      },
      "outputs": [],
      "source": [
        "fig = optuna.visualization.plot_pareto_front(motpe_experiment, target_names=[\"AUPRC\", \"latency\"])\n",
        "fig.layout.title = 'Pareto-front MOTPE'\n",
        "fig"
      ]
    },
    {
      "cell_type": "markdown",
      "metadata": {
        "id": "fmwLJgM0gCtN"
      },
      "source": [
        "<p><center><img src='https://github.com/sparsh-ai/multiobjective-optimizations/blob/main/docs/_images/T892775_6.png?raw=1'></center></p>"
      ]
    },
    {
      "cell_type": "markdown",
      "metadata": {
        "id": "82593fcb"
      },
      "source": [
        "### Conclusion or something\n",
        "\n",
        "In this section we considered a simple, yet real-world use case in which one might wish to consider multi-objective Bayesian optimization to select the hyperparameters of a machine learning model. We found that although BO techniques more densely sampled the most desirable region of our objective space (low latency, high AUPRC), it was only marginally better than a random sampling approach. We suspect that, given additional trials (for both experiments), BO would eventually provide a better Pareto frontier than random sampling. If your compute budget is considerable, this may be a viable option.  However, for most use cases, random sampling is likely sufficient. Either way, run as many trials as your compute budget allows. \n"
      ]
    },
    {
      "cell_type": "markdown",
      "metadata": {
        "id": "sacred-alpha"
      },
      "source": [
        "## Multi-objective Bayesian optimization for Approximate Nearest Neighbors search (Annoy, HNSW, LSH)\n",
        "\n",
        "Some of the ANN algorithms explored in this section take a considerable amount of time and memory at install. They also take a long time to train during hyperparameter optimization. We've provided estimates of cell run times within the section. While we encourage experimentation and exploration, we include saved results so that execution of each cell is not strictly required.\n",
        "\n",
        "> This section makes use of a GloVe word embeddings dataset reformatted by the ANN Benchmarks repository, a project that provides tools, code, and data for performing comparative benchmarking between various approximate neareset neighbor algorithms. However, the ANN Benchmarks library is a heavy install, designed to provide a suite of Docker containers for benchmarking purposes. We do not wish to belabor the already lengthy install for this section so we have borrowed and gently modified their dataset fetching functionality. The original can be found [here](https://github.com/erikbern/ann-benchmarks/blob/18ba39b6a4af1243b26bf5fedc6c5c7ced791d70/ann_benchmarks/datasets.py)."
      ]
    },
    {
      "cell_type": "code",
      "execution_count": null,
      "metadata": {
        "id": "UcfdTtRmHa4C"
      },
      "outputs": [],
      "source": [
        "\"\"\"\n",
        "code gently modified from original source at \n",
        "https://github.com/erikbern/ann-benchmarks/blob/18ba39b6a4af1243b26bf5fedc6c5c7ced791d70/ann_benchmarks/datasets.py\n",
        "\"\"\"\n",
        "\n",
        "import h5py\n",
        "import os\n",
        "\n",
        "from urllib.request import urlretrieve\n",
        "\n",
        "\n",
        "def download(src, dst):\n",
        "    if not os.path.exists(dst):\n",
        "        # TODO: should be atomic\n",
        "        print('downloading %s -> %s...' % (src, dst))\n",
        "        urlretrieve(src, dst)\n",
        "\n",
        "\n",
        "def get_dataset_fn(dataset):\n",
        "    if not os.path.exists('data'):\n",
        "        os.mkdir('data')\n",
        "    return os.path.join('data', '%s.hdf5' % dataset)\n",
        "\n",
        "\n",
        "def get_dataset(which):\n",
        "    hdf5_fn = get_dataset_fn(which)\n",
        "    try:\n",
        "        url = 'http://ann-benchmarks.com/%s.hdf5' % which\n",
        "        download(url, hdf5_fn)\n",
        "    except:\n",
        "        print(\"Cannot download %s\" % url)\n",
        "    hdf5_f = h5py.File(hdf5_fn, 'r')\n",
        "\n",
        "    # here for backward compatibility, to ensure old datasets can still be used with newer versions\n",
        "    dimension = hdf5_f.attrs['dimension'] if 'dimension' in hdf5_f.attrs else len(hdf5_f['train'][0])\n",
        "\n",
        "    return hdf5_f, dimension"
      ]
    },
    {
      "cell_type": "markdown",
      "metadata": {
        "id": "31a61080"
      },
      "source": [
        "In our previous sections we explored multi-objective Bayesian optimization (MOBO) applied to a [synthetic dataset]() and to the canonical [Credit Card Fraud dataset](). While we learned a lot from these toy experiments, we wanted to consider a more realistic use case. A good candidate for MOBO has several qualities: \n",
        "1. it should be an expensive-to-run function that could potentially benefit from efficient optimization\n",
        "2. it should have multiple objectives that one might realistically strive to optimize\n",
        "3. and, ideally, it should have real-world utility and a more challenging dataset\n",
        "\n",
        "One such application that fits the bill is nearest neighbor search. In nearest neighbor search we typically have an entity represented by a vector and our goal is to indentify similar entities by finding those vectors closest to our query vector. In what follows, we explore several classes of approximate nearest neighbor search algorithms and share what we learned. "
      ]
    },
    {
      "cell_type": "markdown",
      "metadata": {
        "id": "_rSsp539Issk"
      },
      "source": [
        "### Nearest Neighbor Search\n",
        "Nearest neighbor search is a ubiquitous and fundamental tool. It can be used to detect spam, find similar images, recognize handwritten digits, find semantically similar pieces of text, and recommend articles, music, or videos. Just about any interaction on the internet involves the application of a nearest neighbor search! A brute force solution computes the exact distance between every single pair of objects in our database. However, modern applications typically require searching over millions of objects, rendering the brute force solution impractically slow.  This has spawned a huge area of research and the development of a wide variety of Approximate Nearest Neighbor (ANN) algorithms that make neighbor searching more efficient - at a price. In many applications an exact solution, while nice to have, is not a necessity when a good approximation will work well for most instances. ANN algorithms thus sacrifice accuracy (and sometimes memory) to increase the efficiency of the search. \n",
        "Therefore, these algorithms naturally demand trade-offs between latency, accuracy and memory footprint. \n",
        "\n",
        "#### ANN Primer\n",
        "The core idea behind the majority of ANN algorithms is that we can find an approximate solution by comparing our query point to a _subset_ of points in our database, rather than exhaustively comparing to _all_ points in our database (the brute force solution). The larger the subset we search over, the more likely we are to find the true set of nearest neighbors -- but it will take more time. If we allow the subset to equal the size of our database, we should retrieve the exact solution -- but the query would take so long that we'd lose all the users on our website who would get bored of waiting and churn off! \n",
        "\n",
        "Thus, the main objective for many ANN algorithms is to devise clever ways to reduce the number of items to be scored in search of the best neighbors. Often this is accomplished by proficiently partitioning the points in our database. This partitioning can be accomplished in several ways, which we can roughly group into three families of ANN algorithms.    \n",
        "\n",
        "#### All in the fANNmily \n",
        "\n",
        "1. **Tree-based** \\\n",
        "    Trees are another classic approach to nearest neighbor search. Data points are divided hierarchically into cells and neighbors are found by traversing the tree(s). This category includes classics like k-d trees and ball trees. Like graph methods, tree-based methods have a long construction time which is especially noticeable with very large datasets.  \n",
        "2. **Graph-based** \\\n",
        "    These algorithms first build a graph in which each item in the database is a node with the vertices representing the distance between nodes. Fast neighbor search is typically performed through greedy graph traversal. Dozens of algorithms exist in this category, including variations on graph construction and greedy  traversal methods. \n",
        "3. **Hashing-based** \\\n",
        "    These algorithms work by projecting the data points into lower-dimensional space using hashing. These hashes are \"locality-sensitive\" such that nearby points fall into the same hash bucket with high probability. Finding neighbors requires identifying bucket(s) that match the query hash. \n",
        " \n",
        "\n",
        "### The game plANN \n",
        "(Alright, we'll stop with the puns.) In this section we'll walk through how to apply multi-objective Bayesian optimization techniques to several ANN algorithms: **Annoy** (tree-based), **HNSW** (graph-based), and **LSH** (hashing-based), one from each of the ANN families above.  In each experiment we'll consider three objectives: accuracy, latency, and memory footprint. Our goal will be to find the 3D Pareto frontier that defines the trade-offs between these objectives. For each experiment, we'll perform multi-objective Bayesian optimization (MOBO) with the Optuna library and compare that to a quasi-random search. \n",
        "\n",
        "First, let's take care of some installs, imports, and the data that we'll use for this section. "
      ]
    },
    {
      "cell_type": "code",
      "execution_count": null,
      "metadata": {
        "id": "6bd6af86"
      },
      "outputs": [],
      "source": [
        "import os\n",
        "import psutil\n",
        "import time\n",
        "\n",
        "import pandas as pd\n",
        "import numpy as np\n",
        "import matplotlib.pyplot as plt\n",
        "\n",
        "import annoy\n",
        "import hnswlib\n",
        "import falconn\n",
        "import optuna"
      ]
    },
    {
      "cell_type": "markdown",
      "metadata": {
        "id": "62eee3bf"
      },
      "source": [
        "The next cell will take care of our data needs. We'll be using GloVe word embeddings generated from tweets. In order to compare our predicted (approximate) nearest neighbors to ground truth, we'll need to use a brute force method to compute what the ground truth neighbors are for a test set. Luckily, this work has already been done by the authors of the [ANN_benchmarks](https://github.com/erikbern/ann-benchmarks/tree/3aedc8a314aba1c7d42b64e7ff9f3944e6822a93) library. They even include a helpful function for automatically downloading a train and test set along with ground truth neighbors to compare against. "
      ]
    },
    {
      "cell_type": "code",
      "execution_count": null,
      "metadata": {
        "id": "4e5801f6"
      },
      "outputs": [],
      "source": [
        "# Load data for all experiments\n",
        "dataset, _ = get_dataset('glove-100-angular')\n",
        "\n",
        "# the data is structured as hd5f so we cast them to np.arrays\n",
        "# there are 1.2M word embeddings in the train set\n",
        "X_train = np.array(dataset['train'])\n",
        "# there are 10K word embeddings in the test set\n",
        "X_test = np.array(dataset['test'])\n",
        "# these are the brute-force-computed ground truth neighbors for each item in the test set\n",
        "X_test_neighbors = np.array(dataset['neighbors'])"
      ]
    },
    {
      "cell_type": "markdown",
      "metadata": {
        "id": "5fe49257"
      },
      "source": [
        "These constants will be used throughout the section. For each experiment we'll look for the 10 nearest neighbors to a given query point. Each experiment will run for a minimum of 50 trials. "
      ]
    },
    {
      "cell_type": "code",
      "execution_count": null,
      "metadata": {
        "id": "959831d2"
      },
      "outputs": [],
      "source": [
        "# for all experiments, we'll look for the 10 nearest neighbors\n",
        "N_NEIGHBORS = 10\n",
        "# each experiment will also be composed fo 50 rounds of optimization\n",
        "N_TRIALS = 50"
      ]
    },
    {
      "cell_type": "markdown",
      "metadata": {
        "id": "0ed89f0a"
      },
      "source": [
        "Next, we have a couple of utility functions for measuring the memory usage of our algorithms, computing recall, and formatting the results of an experiment. "
      ]
    },
    {
      "cell_type": "code",
      "execution_count": null,
      "metadata": {
        "id": "4b27a8a2"
      },
      "outputs": [],
      "source": [
        "def get_memory_usage(pid):\n",
        "    # given a process ID, return the memory usage in MB\n",
        "    return psutil.Process(pid).memory_info().rss / 1024 ** 2\n",
        "\n",
        "def compute_recall(predicted_neighbors, true_neighbors):\n",
        "    # given a list of neighbor predictions and ground truth neighbors\n",
        "    # compute the average recall\n",
        "    score = 0\n",
        "    for prediction, truth in zip(predicted_neighbors, true_neighbors):\n",
        "        score += len(set(prediction).intersection(truth)) / N_NEIGHBORS\n",
        "    return score / len(true_neighbors)\n",
        "\n",
        "def cast_as_df(optuna_experiment, experiment_type, algorithm_name):\n",
        "    return (\n",
        "        optuna_experiment\n",
        "        .trials_dataframe()\n",
        "        .rename(columns={\"values_0\": \"recall\", \"values_1\": \"query_time\", \"values_2\":\"index_size\"})\n",
        "        .assign(experiment = experiment_type,\n",
        "                algorithm = algorithm_name\n",
        "               )\n",
        "    )"
      ]
    },
    {
      "cell_type": "markdown",
      "metadata": {
        "id": "69f3eddb"
      },
      "source": [
        "We also include a few plotting routines. "
      ]
    },
    {
      "cell_type": "code",
      "execution_count": null,
      "metadata": {
        "id": "50495dbc"
      },
      "outputs": [],
      "source": [
        "def threeD_fig(dfs):\n",
        "    fig = plt.figure(figsize=(8,8))\n",
        "    ax = plt.axes(projection='3d')\n",
        "\n",
        "    for df in dfs:\n",
        "        ax.scatter3D(df[\"recall\"], df[\"query_time\"]*1e3, df['index_size'], alpha=0.5, label=df.reset_index().experiment[0])\n",
        "    ax.set_xlabel(\"Recall\", fontsize=12)\n",
        "    ax.set_ylabel(\"Query time (ms)\", fontsize=12)\n",
        "    ax.set_zlabel(\"Index size (MB)\")\n",
        "\n",
        "    plt.suptitle(f\"{df.reset_index().algorithm[0]} Results\", fontsize=20)\n",
        "    plt.tight_layout()\n",
        "\n",
        "    \n",
        "def three_panel_fig(dfs):\n",
        "    fig = plt.figure(figsize=(16,6))\n",
        "\n",
        "    ax = fig.add_subplot(131)\n",
        "    for df in dfs:\n",
        "        ax.scatter(df[\"recall\"], df[\"query_time\"]*1e3, alpha=0.5, label=df.reset_index().experiment[0])\n",
        "    plt.xlabel(\"Recall\")\n",
        "    plt.ylabel(\"Query Time (ms)\")\n",
        "    plt.legend()\n",
        "\n",
        "    ax = fig.add_subplot(132)\n",
        "    for df in dfs:\n",
        "        ax.scatter(df[\"recall\"], df[\"index_size\"], alpha=0.5, label=df.reset_index().experiment[0])\n",
        "    plt.xlabel(\"Recall\")\n",
        "    plt.ylabel(\"Index size (MB)\")\n",
        "    plt.legend();\n",
        "\n",
        "    ax = fig.add_subplot(133)\n",
        "    for df in dfs:\n",
        "        ax.scatter(df[\"query_time\"]*1e3, df[\"index_size\"], alpha=0.5, label=df.reset_index().experiment[0])\n",
        "    plt.xlabel(\"Query time (ms)\")\n",
        "    plt.ylabel(\"Index size (MB)\")\n",
        "    plt.legend();\n",
        "    \n",
        "    plt.suptitle(f\"{df.reset_index().algorithm[0]} Results\", fontsize=20)"
      ]
    },
    {
      "cell_type": "markdown",
      "metadata": {
        "id": "0c6c6cdf"
      },
      "source": [
        "### Approximate Nearest Neighbors, Oh Yeah!\n",
        "\n",
        "No kidding, those words compose the delightful acronym [Annoy](https://github.com/spotify/annoy). Developed by the good people at Spotify for music recommendations, the algorithm behind this library falls under the tree-based methods. While the library's author does a fantastic job describing the algorithm in [this](https://erikbern.com/2015/10/01/nearest-neighbors-and-vector-models-part-2-how-to-search-in-high-dimensional-spaces.html) blog post, we provide a brief overview here (borrowing their figures for illustration). \n",
        "\n",
        "At a high level, Annoy works by randomly selecting pairs of datapoints and creates a hyperplane equidistant between them to split the dataset. It does this recursively until the whole space is partitioned and each partition contains `k` datapoints. \n",
        "\n",
        "<p><center><img src='https://github.com/sparsh-ai/multiobjective-optimizations/blob/main/docs/_images/T892775_7.png?raw=1' style='width:500px;height:400px;'></center></p>\n",
        "\n",
        "Next, a binary tree is constructed from these partitions and points that are close to each other in space are likely to be close to each other in the tree as well. \n",
        "\n",
        "<p><center><img src='https://github.com/sparsh-ai/multiobjective-optimizations/blob/main/docs/_images/T892775_8.png?raw=1' style='width:800px;height:300px;'></center></p>\n",
        "\n",
        "This is performed many times until an entire forest is constructed. Neighbors are found by traversing the trees and only computing distances on those datapoints that fall in the same (or nearby) branches. \n"
      ]
    },
    {
      "cell_type": "markdown",
      "metadata": {
        "id": "60a1529d"
      },
      "source": [
        "### Hyperparameters\n",
        "There are two main hyperparameters to consider: the number of trees (`n_trees`) to construct during build time, and the number candidate points to inspect (`search_k`) at query time. Increasing the number of trees results in better accuracy but can take more memory. Increasing the number of points to inspect also increases accuracy but takes longer. \n",
        "\n",
        "### Code it up\n",
        "We'll use [Optuna]() to tune these hyperparameters. Below is the function we'll pass to Optuna's optimization engine. Optuna will suggest values for the hyperparameters through the `trial` object passed to the function. The function contains all the necessary pieces to build an Annoy Index and evaluate that index on the test set. The evaluation metrics include a simple computation of recall, as well as memory usage and the average query time for inference on the test set.  "
      ]
    },
    {
      "cell_type": "code",
      "execution_count": null,
      "metadata": {
        "id": "a61299ff"
      },
      "outputs": [],
      "source": [
        "def train_annoy(trial):    \n",
        "    # initialize the Annoy Index - requires the vector length and metric ('angular' is for cosine similarity)\n",
        "    ann = annoy.AnnoyIndex(X_train.shape[1], metric='angular')\n",
        "\n",
        "    # populate the index (build the trees) with train set\n",
        "    memory_usage_before = get_memory_usage(os.getpid())\n",
        "    for i, x in enumerate(X_train):\n",
        "        ann.add_item(i, x.tolist())\n",
        "    ann.build(n_trees = trial.suggest_int(\"n_trees\", 10, 100))\n",
        "    # measuring memory usage before and after the build \n",
        "    # will give us the size of the index in MB\n",
        "    index_size = get_memory_usage(os.getpid()) - memory_usage_before\n",
        "\n",
        "    # run queries for each example in the test set\n",
        "    t1 = time.time()\n",
        "    neighbors = []\n",
        "    for i, x in enumerate(X_test):\n",
        "        neighbors.append(ann.get_nns_by_vector(x.tolist(), \n",
        "                                               N_NEIGHBORS, \n",
        "                                               search_k = trial.suggest_int(\"search_k\", 100, 1000)\n",
        "                                              ))\n",
        "    # noting the time before and after running our queries will give an\n",
        "    # approximation of the average query_time\n",
        "    query_time = (time.time() - t1) / len(X_test)\n",
        "\n",
        "    recall = compute_recall(neighbors, X_test_neighbors)\n",
        "    return recall, query_time, index_size"
      ]
    },
    {
      "cell_type": "markdown",
      "metadata": {
        "id": "bdf8df77"
      },
      "source": [
        "Below we specify the MOTPE (Multi-Objective Trees of Parzen Estimators) algorithm to sample hyperparameter values. In Optuna, the optimization process is called a `study`, and we pass it our sampling strategy and the `direction` we wish to optimize our metrics.  We have three objectives: predictive performance (`recall`), speed (`query_time`), and memory consumption (`index_size`). We want to `maximize` recall and `minimize` the other two. The order should align with the order in which these variables are returned from the training function above. The third line begins the optimization exercise and here we pass it the function we wish to optimize and the number of trials it should run for. "
      ]
    },
    {
      "cell_type": "code",
      "execution_count": null,
      "metadata": {
        "id": "6bbcf3fa"
      },
      "outputs": [
        {
          "name": "stderr",
          "output_type": "stream",
          "text": [
            "<ipython-input-8-c8caf536b12c>:1: ExperimentalWarning: MOTPESampler is experimental (supported from v2.4.0). The interface can change in the future.\n",
            "  motpe_sampler = optuna.samplers.MOTPESampler()\n",
            "\u001b[32m[I 2021-06-24 18:02:42,741]\u001b[0m A new study created in memory with name: no-name-bb880729-97b0-4c77-8803-e339148d4e64\u001b[0m\n",
            "\u001b[32m[I 2021-06-24 18:03:05,170]\u001b[0m Trial 0 finished with values: [0.7299600000000024, 0.00014450559616088868, 801.37109375] and parameters: {'n_trees': 25, 'search_k': 569}. \u001b[0m\n",
            "\u001b[32m[I 2021-06-24 18:03:23,703]\u001b[0m Trial 1 finished with values: [0.6031800000000012, 9.578409194946289e-05, 909.98046875] and parameters: {'n_trees': 24, 'search_k': 283}. \u001b[0m\n",
            "\u001b[32m[I 2021-06-24 18:04:25,494]\u001b[0m Trial 2 finished with values: [0.8044399999999984, 0.00023747572898864745, 1981.5859375] and parameters: {'n_trees': 98, 'search_k': 635}. \u001b[0m\n",
            "\u001b[32m[I 2021-06-24 18:05:13,503]\u001b[0m Trial 3 finished with values: [0.7083799999999989, 0.00016117212772369385, 1998.16015625] and parameters: {'n_trees': 74, 'search_k': 372}. \u001b[0m\n",
            "\u001b[32m[I 2021-06-24 18:06:07,839]\u001b[0m Trial 4 finished with values: [0.5720700000000017, 0.000121159029006958, 1983.8359375] and parameters: {'n_trees': 87, 'search_k': 164}. \u001b[0m\n",
            "\u001b[32m[I 2021-06-24 18:07:04,034]\u001b[0m Trial 5 finished with values: [0.7731599999999986, 0.00021204431056976318, 1927.82421875] and parameters: {'n_trees': 91, 'search_k': 525}. \u001b[0m\n",
            "\u001b[32m[I 2021-06-24 18:07:45,555]\u001b[0m Trial 6 finished with values: [0.5702700000000009, 0.00011700329780578614, 1538.8125] and parameters: {'n_trees': 65, 'search_k': 172}. \u001b[0m\n",
            "\u001b[32m[I 2021-06-24 18:08:07,496]\u001b[0m Trial 7 finished with values: [0.8193899999999997, 0.0002068059206008911, 827.57421875] and parameters: {'n_trees': 25, 'search_k': 989}. \u001b[0m\n",
            "\u001b[32m[I 2021-06-24 18:08:29,636]\u001b[0m Trial 8 finished with values: [0.7788799999999998, 0.00017602019309997558, 840.84765625] and parameters: {'n_trees': 27, 'search_k': 751}. \u001b[0m\n",
            "\u001b[32m[I 2021-06-24 18:08:58,419]\u001b[0m Trial 9 finished with values: [0.6633800000000014, 0.0001228365182876587, 1097.82421875] and parameters: {'n_trees': 42, 'search_k': 332}. \u001b[0m\n",
            "\u001b[32m[I 2021-06-24 18:09:10,916]\u001b[0m Trial 10 finished with values: [0.7732999999999985, 0.00017564597129821776, 650.73046875] and parameters: {'n_trees': 12, 'search_k': 917}. \u001b[0m\n",
            "\u001b[32m[I 2021-06-24 18:09:22,751]\u001b[0m Trial 11 finished with values: [0.7667299999999982, 0.00017196671962738038, 687.89453125] and parameters: {'n_trees': 10, 'search_k': 955}. \u001b[0m\n",
            "\u001b[32m[I 2021-06-24 18:09:54,971]\u001b[0m Trial 12 finished with values: [0.8209599999999975, 0.00021422030925750732, 1527.29296875] and parameters: {'n_trees': 47, 'search_k': 843}. \u001b[0m\n",
            "\u001b[32m[I 2021-06-24 18:10:18,855]\u001b[0m Trial 13 finished with values: [0.7366799999999991, 0.00013359060287475587, 1176.86328125] and parameters: {'n_trees': 38, 'search_k': 523}. \u001b[0m\n",
            "\u001b[32m[I 2021-06-24 18:10:55,671]\u001b[0m Trial 14 finished with values: [0.7936599999999968, 0.0001958622932434082, 1544.11328125] and parameters: {'n_trees': 56, 'search_k': 675}. \u001b[0m\n",
            "\u001b[32m[I 2021-06-24 18:11:11,346]\u001b[0m Trial 15 finished with values: [0.6666200000000009, 0.00011324610710144043, 833.74609375] and parameters: {'n_trees': 16, 'search_k': 454}. \u001b[0m\n",
            "\u001b[32m[I 2021-06-24 18:11:36,741]\u001b[0m Trial 16 finished with values: [0.8027699999999978, 0.00019883131980895995, 1105.79296875] and parameters: {'n_trees': 35, 'search_k': 802}. \u001b[0m\n",
            "\u001b[32m[I 2021-06-24 18:12:12,620]\u001b[0m Trial 17 finished with values: [0.7831899999999992, 0.00018567397594451904, 1530.0625] and parameters: {'n_trees': 52, 'search_k': 645}. \u001b[0m\n",
            "\u001b[32m[I 2021-06-24 18:12:56,596]\u001b[0m Trial 18 finished with values: [0.6328900000000038, 0.00012887351512908937, 1471.1015625] and parameters: {'n_trees': 68, 'search_k': 245}. \u001b[0m\n",
            "\u001b[32m[I 2021-06-24 18:13:12,974]\u001b[0m Trial 19 finished with values: [0.6562900000000014, 0.00011083180904388428, 899.1171875] and parameters: {'n_trees': 18, 'search_k': 412}. \u001b[0m\n",
            "\u001b[32m[I 2021-06-24 18:13:24,791]\u001b[0m Trial 20 finished with values: [0.7583599999999977, 0.0001661931037902832, 694.23828125] and parameters: {'n_trees': 10, 'search_k': 907}. \u001b[0m\n",
            "\u001b[32m[I 2021-06-24 18:13:36,380]\u001b[0m Trial 21 finished with values: [0.7242000000000005, 0.0001424143075942993, 714.40625] and parameters: {'n_trees': 10, 'search_k': 736}. \u001b[0m\n",
            "\u001b[32m[I 2021-06-24 18:13:52,048]\u001b[0m Trial 22 finished with values: [0.7798900000000005, 0.00017392451763153076, 693.46875] and parameters: {'n_trees': 15, 'search_k': 887}. \u001b[0m\n",
            "\u001b[32m[I 2021-06-24 18:14:03,510]\u001b[0m Trial 23 finished with values: [0.7234700000000004, 0.0001459075927734375, 653.05859375] and parameters: {'n_trees': 10, 'search_k': 733}. \u001b[0m\n",
            "\u001b[32m[I 2021-06-24 18:14:26,743]\u001b[0m Trial 24 finished with values: [0.8045899999999995, 0.00019436302185058593, 1120.30859375] and parameters: {'n_trees': 30, 'search_k': 849}. \u001b[0m\n",
            "\u001b[32m[I 2021-06-24 18:14:43,709]\u001b[0m Trial 25 finished with values: [0.7545700000000019, 0.00015453028678894044, 890.98046875] and parameters: {'n_trees': 19, 'search_k': 717}. \u001b[0m\n",
            "\u001b[32m[I 2021-06-24 18:15:07,508]\u001b[0m Trial 26 finished with values: [0.7474999999999997, 0.00015871598720550536, 1181.91796875] and parameters: {'n_trees': 32, 'search_k': 589}. \u001b[0m\n",
            "\u001b[32m[I 2021-06-24 18:15:24,201]\u001b[0m Trial 27 finished with values: [0.7669500000000011, 0.0001666718006134033, 834.72265625] and parameters: {'n_trees': 18, 'search_k': 778}. \u001b[0m\n",
            "\u001b[32m[I 2021-06-24 18:15:53,404]\u001b[0m Trial 28 finished with values: [0.728969999999999, 0.00015100059509277344, 1112.0078125] and parameters: {'n_trees': 42, 'search_k': 483}. \u001b[0m\n",
            "\u001b[32m[I 2021-06-24 18:16:44,129]\u001b[0m Trial 29 finished with values: [0.8400099999999983, 0.00025642433166503907, 1993.1796875] and parameters: {'n_trees': 81, 'search_k': 845}. \u001b[0m\n",
            "\u001b[32m[I 2021-06-24 18:17:01,106]\u001b[0m Trial 30 finished with values: [0.8037499999999994, 0.00018991279602050782, 911.359375] and parameters: {'n_trees': 18, 'search_k': 976}. \u001b[0m\n",
            "\u001b[32m[I 2021-06-24 18:17:18,537]\u001b[0m Trial 31 finished with values: [0.6878500000000018, 0.00012064528465270997, 927.83984375] and parameters: {'n_trees': 21, 'search_k': 472}. \u001b[0m\n",
            "\u001b[32m[I 2021-06-24 18:17:42,684]\u001b[0m Trial 32 finished with values: [0.8288600000000006, 0.00021294629573822023, 1178.1328125] and parameters: {'n_trees': 31, 'search_k': 982}. \u001b[0m\n",
            "\u001b[32m[I 2021-06-24 18:17:57,691]\u001b[0m Trial 33 finished with values: [0.6510400000000003, 0.00011054368019104004, 620.92578125] and parameters: {'n_trees': 15, 'search_k': 428}. \u001b[0m\n",
            "\u001b[32m[I 2021-06-24 18:18:11,695]\u001b[0m Trial 34 finished with values: [0.42728999999999095, 5.519480705261231e-05, 630.40625] and parameters: {'n_trees': 14, 'search_k': 122}. \u001b[0m\n",
            "\u001b[32m[I 2021-06-24 18:18:29,810]\u001b[0m Trial 35 finished with values: [0.6087200000000014, 9.948570728302002e-05, 830.0234375] and parameters: {'n_trees': 24, 'search_k': 293}. \u001b[0m\n",
            "\u001b[32m[I 2021-06-24 18:18:54,496]\u001b[0m Trial 36 finished with values: [0.6104800000000002, 0.0001061837911605835, 1185.5625] and parameters: {'n_trees': 36, 'search_k': 257}. \u001b[0m\n",
            "\u001b[32m[I 2021-06-24 18:19:12,280]\u001b[0m Trial 37 finished with values: [0.6568100000000034, 0.00010924019813537598, 903.703125] and parameters: {'n_trees': 23, 'search_k': 387}. \u001b[0m\n",
            "\u001b[32m[I 2021-06-24 18:19:34,060]\u001b[0m Trial 38 finished with values: [0.6419700000000035, 0.00010734679698944091, 911.609375] and parameters: {'n_trees': 28, 'search_k': 335}. \u001b[0m\n",
            "\u001b[32m[I 2021-06-24 18:20:11,530]\u001b[0m Trial 39 finished with values: [0.7220300000000007, 0.00015792412757873535, 1465.9609375] and parameters: {'n_trees': 58, 'search_k': 428}. \u001b[0m\n",
            "\u001b[32m[I 2021-06-24 18:20:29,550]\u001b[0m Trial 40 finished with values: [0.6341900000000029, 0.000102762770652771, 902.51953125] and parameters: {'n_trees': 23, 'search_k': 342}. \u001b[0m\n",
            "\u001b[32m[I 2021-06-24 18:20:44,062]\u001b[0m Trial 41 finished with values: [0.6855100000000016, 0.00011883602142333984, 718.1796875] and parameters: {'n_trees': 15, 'search_k': 518}. \u001b[0m\n",
            "\u001b[32m[I 2021-06-24 18:20:56,515]\u001b[0m Trial 42 finished with values: [0.7197200000000007, 0.00013703577518463133, 710.81640625] and parameters: {'n_trees': 12, 'search_k': 669}. \u001b[0m\n",
            "\u001b[32m[I 2021-06-24 18:21:08,755]\u001b[0m Trial 43 finished with values: [0.7029600000000004, 0.0001284583330154419, 690.0546875] and parameters: {'n_trees': 12, 'search_k': 613}. \u001b[0m\n"
          ]
        },
        {
          "name": "stderr",
          "output_type": "stream",
          "text": [
            "\u001b[32m[I 2021-06-24 18:21:23,797]\u001b[0m Trial 44 finished with values: [0.7817899999999973, 0.00017605998516082765, 695.63671875] and parameters: {'n_trees': 13, 'search_k': 936}. \u001b[0m\n",
            "\u001b[32m[I 2021-06-24 18:21:35,373]\u001b[0m Trial 45 finished with values: [0.7119300000000002, 0.00014063560962677003, 706.6796875] and parameters: {'n_trees': 10, 'search_k': 687}. \u001b[0m\n",
            "\u001b[32m[I 2021-06-24 18:21:53,367]\u001b[0m Trial 46 finished with values: [0.7334200000000008, 0.00014655680656433105, 902.859375] and parameters: {'n_trees': 21, 'search_k': 612}. \u001b[0m\n",
            "\u001b[32m[I 2021-06-24 18:22:16,122]\u001b[0m Trial 47 finished with values: [0.7953299999999996, 0.0001865869998931885, 842.125] and parameters: {'n_trees': 28, 'search_k': 817}. \u001b[0m\n",
            "\u001b[32m[I 2021-06-24 18:22:31,404]\u001b[0m Trial 48 finished with values: [0.7773999999999993, 0.00017059760093688964, 697.41796875] and parameters: {'n_trees': 14, 'search_k': 893}. \u001b[0m\n",
            "\u001b[32m[I 2021-06-24 18:22:55,605]\u001b[0m Trial 49 finished with values: [0.7425200000000012, 0.0001503593921661377, 1178.1640625] and parameters: {'n_trees': 33, 'search_k': 566}. \u001b[0m\n"
          ]
        }
      ],
      "source": [
        "# Note: this cell takes 20-30 minutes to run\n",
        "motpe_sampler = optuna.samplers.MOTPESampler()\n",
        "motpe_experiment = optuna.create_study(sampler=motpe_sampler,\n",
        "                                       directions=[\"maximize\", \"minimize\", \"minimize\"])\n",
        "motpe_experiment.optimize(train_annoy, n_trials=N_TRIALS)"
      ]
    },
    {
      "cell_type": "markdown",
      "metadata": {
        "id": "788a9664"
      },
      "source": [
        "Want to run more trials? Optuna makes it easy. Simply keep running the experiment!"
      ]
    },
    {
      "cell_type": "code",
      "execution_count": null,
      "metadata": {
        "id": "QtWOvJvTJbrP"
      },
      "outputs": [],
      "source": [
        "# (OPTIONAL) run an additional N_TRIALS \n",
        "# motpe_experiment.optimize(train_annoy, n_trials=N_TRIALS)"
      ]
    },
    {
      "cell_type": "markdown",
      "metadata": {
        "id": "40c1ee94"
      },
      "source": [
        "Setting up an experiment that uses random sampling (rather than the fancy MOTPE strategy) is similarly straightforward. Just change the sampler!"
      ]
    },
    {
      "cell_type": "code",
      "execution_count": null,
      "metadata": {
        "id": "4a0c66bb"
      },
      "outputs": [
        {
          "name": "stderr",
          "output_type": "stream",
          "text": [
            "\u001b[32m[I 2021-06-24 18:25:38,503]\u001b[0m A new study created in memory with name: no-name-4b99c314-d172-4807-80a7-e6272f5bec81\u001b[0m\n",
            "\u001b[32m[I 2021-06-24 18:26:29,808]\u001b[0m Trial 0 finished with values: [0.6405900000000024, 0.0001361593723297119, 1994.2421875] and parameters: {'n_trees': 81, 'search_k': 244}. \u001b[0m\n",
            "\u001b[32m[I 2021-06-24 18:27:28,174]\u001b[0m Trial 1 finished with values: [0.610740000000003, 0.0001340374231338501, 1989.5] and parameters: {'n_trees': 95, 'search_k': 195}. \u001b[0m\n",
            "\u001b[32m[I 2021-06-24 18:27:44,941]\u001b[0m Trial 2 finished with values: [0.775880000000001, 0.0001720470905303955, 909.9296875] and parameters: {'n_trees': 16, 'search_k': 848}. \u001b[0m\n",
            "\u001b[32m[I 2021-06-24 18:28:10,219]\u001b[0m Trial 3 finished with values: [0.7087000000000028, 0.00013290958404541016, 1176.19140625] and parameters: {'n_trees': 31, 'search_k': 474}. \u001b[0m\n",
            "\u001b[32m[I 2021-06-24 18:29:05,679]\u001b[0m Trial 4 finished with values: [0.6768700000000033, 0.00016857590675354003, 1920.81640625] and parameters: {'n_trees': 88, 'search_k': 295}. \u001b[0m\n",
            "\u001b[32m[I 2021-06-24 18:29:48,169]\u001b[0m Trial 5 finished with values: [0.751759999999999, 0.00018195850849151611, 1463.890625] and parameters: {'n_trees': 63, 'search_k': 505}. \u001b[0m\n",
            "\u001b[32m[I 2021-06-24 18:30:38,833]\u001b[0m Trial 6 finished with values: [0.5292199999999988, 0.0001224360227584839, 1995.67578125] and parameters: {'n_trees': 82, 'search_k': 130}. \u001b[0m\n",
            "\u001b[32m[I 2021-06-24 18:31:20,187]\u001b[0m Trial 7 finished with values: [0.5912800000000008, 0.00010979037284851074, 1530.92578125] and parameters: {'n_trees': 63, 'search_k': 193}. \u001b[0m\n",
            "\u001b[32m[I 2021-06-24 18:32:17,489]\u001b[0m Trial 8 finished with values: [0.73897, 0.00019058051109313966, 1922.4765625] and parameters: {'n_trees': 94, 'search_k': 420}. \u001b[0m\n",
            "\u001b[32m[I 2021-06-24 18:32:49,072]\u001b[0m Trial 9 finished with values: [0.8240199999999973, 0.00021805870532989503, 1168.44140625] and parameters: {'n_trees': 46, 'search_k': 863}. \u001b[0m\n",
            "\u001b[32m[I 2021-06-24 18:33:17,053]\u001b[0m Trial 10 finished with values: [0.75525, 0.00016548652648925782, 1187.34375] and parameters: {'n_trees': 37, 'search_k': 590}. \u001b[0m\n",
            "\u001b[32m[I 2021-06-24 18:33:41,866]\u001b[0m Trial 11 finished with values: [0.692780000000003, 0.00012705209255218505, 1178.59375] and parameters: {'n_trees': 32, 'search_k': 430}. \u001b[0m\n",
            "\u001b[32m[I 2021-06-24 18:34:32,207]\u001b[0m Trial 12 finished with values: [0.6727800000000022, 0.0001531501054763794, 1994.86328125] and parameters: {'n_trees': 76, 'search_k': 299}. \u001b[0m\n",
            "\u001b[32m[I 2021-06-24 18:34:53,423]\u001b[0m Trial 13 finished with values: [0.4582099999999953, 6.970939636230469e-05, 904.04296875] and parameters: {'n_trees': 25, 'search_k': 119}. \u001b[0m\n",
            "\u001b[32m[I 2021-06-24 18:35:21,704]\u001b[0m Trial 14 finished with values: [0.4853999999999963, 8.091049194335938e-05, 1172.0859375] and parameters: {'n_trees': 38, 'search_k': 119}. \u001b[0m\n",
            "\u001b[32m[I 2021-06-24 18:35:58,778]\u001b[0m Trial 15 finished with values: [0.6589500000000013, 0.0001283493995666504, 1466.59765625] and parameters: {'n_trees': 52, 'search_k': 307}. \u001b[0m\n",
            "\u001b[32m[I 2021-06-24 18:36:29,325]\u001b[0m Trial 16 finished with values: [0.6731800000000011, 0.0001264847993850708, 1109.1953125] and parameters: {'n_trees': 42, 'search_k': 352}. \u001b[0m\n",
            "\u001b[32m[I 2021-06-24 18:37:15,711]\u001b[0m Trial 17 finished with values: [0.5399799999999996, 0.0001023080825805664, 1990.76953125] and parameters: {'n_trees': 73, 'search_k': 145}. \u001b[0m\n",
            "\u001b[32m[I 2021-06-24 18:38:05,826]\u001b[0m Trial 18 finished with values: [0.8563199999999987, 0.0002738676786422729, 1991.54296875] and parameters: {'n_trees': 78, 'search_k': 960}. \u001b[0m\n",
            "\u001b[32m[I 2021-06-24 18:38:25,671]\u001b[0m Trial 19 finished with values: [0.7578100000000022, 0.00015554838180541992, 897.015625] and parameters: {'n_trees': 24, 'search_k': 676}. \u001b[0m\n",
            "\u001b[32m[I 2021-06-24 18:39:09,510]\u001b[0m Trial 20 finished with values: [0.7968899999999983, 0.00020785210132598877, 1543.46484375] and parameters: {'n_trees': 68, 'search_k': 657}. \u001b[0m\n",
            "\u001b[32m[I 2021-06-24 18:40:00,529]\u001b[0m Trial 21 finished with values: [0.5247599999999989, 0.00010677750110626221, 1910.546875] and parameters: {'n_trees': 84, 'search_k': 124}. \u001b[0m\n",
            "\u001b[32m[I 2021-06-24 18:40:43,683]\u001b[0m Trial 22 finished with values: [0.8408699999999976, 0.000244869589805603, 1538.390625] and parameters: {'n_trees': 66, 'search_k': 890}. \u001b[0m\n",
            "\u001b[32m[I 2021-06-24 18:41:25,844]\u001b[0m Trial 23 finished with values: [0.5076299999999963, 9.353542327880859e-05, 1469.1328125] and parameters: {'n_trees': 68, 'search_k': 108}. \u001b[0m\n",
            "\u001b[32m[I 2021-06-24 18:41:51,836]\u001b[0m Trial 24 finished with values: [0.8174099999999969, 0.00021065123081207276, 1173.39453125] and parameters: {'n_trees': 36, 'search_k': 876}. \u001b[0m\n",
            "\u001b[32m[I 2021-06-24 18:42:54,072]\u001b[0m Trial 25 finished with values: [0.8683199999999982, 0.0003084920883178711, 2590.90234375] and parameters: {'n_trees': 100, 'search_k': 994}. \u001b[0m\n",
            "\u001b[32m[I 2021-06-24 18:43:39,445]\u001b[0m Trial 26 finished with values: [0.8083099999999973, 0.00022102899551391602, 1986.6796875] and parameters: {'n_trees': 72, 'search_k': 703}. \u001b[0m\n",
            "\u001b[32m[I 2021-06-24 18:44:35,354]\u001b[0m Trial 27 finished with values: [0.7047000000000015, 0.00016818852424621582, 1994.76953125] and parameters: {'n_trees': 91, 'search_k': 344}. \u001b[0m\n",
            "\u001b[32m[I 2021-06-24 18:45:26,462]\u001b[0m Trial 28 finished with values: [0.6810300000000028, 0.000154721999168396, 1922.58203125] and parameters: {'n_trees': 84, 'search_k': 307}. \u001b[0m\n",
            "\u001b[32m[I 2021-06-24 18:46:04,125]\u001b[0m Trial 29 finished with values: [0.71714, 0.00015302631855010986, 1523.015625] and parameters: {'n_trees': 59, 'search_k': 413}. \u001b[0m\n",
            "\u001b[32m[I 2021-06-24 18:46:48,840]\u001b[0m Trial 30 finished with values: [0.7963199999999983, 0.00020971572399139404, 1988.1953125] and parameters: {'n_trees': 70, 'search_k': 652}. \u001b[0m\n",
            "\u001b[32m[I 2021-06-24 18:47:10,429]\u001b[0m Trial 31 finished with values: [0.5947800000000004, 9.425170421600341e-05, 847.65625] and parameters: {'n_trees': 28, 'search_k': 256}. \u001b[0m\n",
            "\u001b[32m[I 2021-06-24 18:47:46,931]\u001b[0m Trial 32 finished with values: [0.7523000000000003, 0.00016569981575012207, 1535.12890625] and parameters: {'n_trees': 55, 'search_k': 521}. \u001b[0m\n",
            "\u001b[32m[I 2021-06-24 18:48:30,519]\u001b[0m Trial 33 finished with values: [0.8513299999999985, 0.00026622021198272706, 1452.90625] and parameters: {'n_trees': 64, 'search_k': 966}. \u001b[0m\n",
            "\u001b[32m[I 2021-06-24 18:49:01,470]\u001b[0m Trial 34 finished with values: [0.7229899999999989, 0.0001468843698501587, 1178.17578125] and parameters: {'n_trees': 42, 'search_k': 467}. \u001b[0m\n",
            "\u001b[32m[I 2021-06-24 18:49:31,540]\u001b[0m Trial 35 finished with values: [0.789849999999998, 0.00018884520530700684, 1108.00390625] and parameters: {'n_trees': 41, 'search_k': 710}. \u001b[0m\n",
            "\u001b[32m[I 2021-06-24 18:50:20,978]\u001b[0m Trial 36 finished with values: [0.8119899999999985, 0.00023058078289031982, 1916.4453125] and parameters: {'n_trees': 73, 'search_k': 718}. \u001b[0m\n",
            "\u001b[32m[I 2021-06-24 18:50:56,868]\u001b[0m Trial 37 finished with values: [0.6314399999999996, 0.0001175858974456787, 1457.734375] and parameters: {'n_trees': 53, 'search_k': 259}. \u001b[0m\n",
            "\u001b[32m[I 2021-06-24 18:51:59,828]\u001b[0m Trial 38 finished with values: [0.8107799999999986, 0.00024778900146484376, 2001.27734375] and parameters: {'n_trees': 97, 'search_k': 667}. \u001b[0m\n",
            "\u001b[32m[I 2021-06-24 18:52:16,289]\u001b[0m Trial 39 finished with values: [0.7687400000000012, 0.00016920382976531984, 834.99609375] and parameters: {'n_trees': 16, 'search_k': 813}. \u001b[0m\n",
            "\u001b[32m[I 2021-06-24 18:52:30,916]\u001b[0m Trial 40 finished with values: [0.53536, 7.796227931976318e-05, 631.41796875] and parameters: {'n_trees': 15, 'search_k': 227}. \u001b[0m\n",
            "\u001b[32m[I 2021-06-24 18:53:02,560]\u001b[0m Trial 41 finished with values: [0.6267400000000025, 0.00011182148456573487, 1170.63671875] and parameters: {'n_trees': 46, 'search_k': 262}. \u001b[0m\n",
            "\u001b[32m[I 2021-06-24 18:53:51,157]\u001b[0m Trial 42 finished with values: [0.5177099999999976, 9.809987545013427e-05, 1998.7421875] and parameters: {'n_trees': 77, 'search_k': 118}. \u001b[0m\n",
            "\u001b[32m[I 2021-06-24 18:54:03,948]\u001b[0m Trial 43 finished with values: [0.7686799999999996, 0.0001807464361190796, 619.0390625] and parameters: {'n_trees': 12, 'search_k': 889}. \u001b[0m\n",
            "\u001b[32m[I 2021-06-24 18:54:39,651]\u001b[0m Trial 44 finished with values: [0.785409999999997, 0.00020225830078125, 1543.421875] and parameters: {'n_trees': 51, 'search_k': 659}. \u001b[0m\n"
          ]
        },
        {
          "name": "stderr",
          "output_type": "stream",
          "text": [
            "\u001b[32m[I 2021-06-24 18:54:58,392]\u001b[0m Trial 45 finished with values: [0.7507200000000016, 0.00015626652240753174, 824.8046875] and parameters: {'n_trees': 23, 'search_k': 659}. \u001b[0m\n",
            "\u001b[32m[I 2021-06-24 18:55:15,463]\u001b[0m Trial 46 finished with values: [0.7031799999999997, 0.00013080110549926758, 946.61328125] and parameters: {'n_trees': 19, 'search_k': 528}. \u001b[0m\n",
            "\u001b[32m[I 2021-06-24 18:56:17,086]\u001b[0m Trial 47 finished with values: [0.7725799999999986, 0.00021990971565246582, 1964.546875] and parameters: {'n_trees': 97, 'search_k': 515}. \u001b[0m\n",
            "\u001b[32m[I 2021-06-24 18:56:46,749]\u001b[0m Trial 48 finished with values: [0.7408799999999989, 0.00015285589694976807, 1171.859375] and parameters: {'n_trees': 41, 'search_k': 525}. \u001b[0m\n",
            "\u001b[32m[I 2021-06-24 18:57:42,778]\u001b[0m Trial 49 finished with values: [0.533529999999999, 0.00011064469814300537, 1928.34765625] and parameters: {'n_trees': 92, 'search_k': 130}. \u001b[0m\n"
          ]
        }
      ],
      "source": [
        "# Note: this cell takes 20-30 minutes to run\n",
        "random_sampler = optuna.samplers.RandomSampler()\n",
        "random_experiment = optuna.create_study(sampler=random_sampler, directions=[\"maximize\", \"minimize\", \"minimize\"])\n",
        "random_experiment.optimize(train_annoy, n_trials=N_TRIALS)"
      ]
    },
    {
      "cell_type": "code",
      "execution_count": null,
      "metadata": {
        "id": "gCsBxTPbJEbT"
      },
      "outputs": [],
      "source": [
        "# (OPTIONAL) run an additional N_TRIALS\n",
        "# random_experiment.optimize(train_annoy, n_trials=N_TRIALS)"
      ]
    },
    {
      "cell_type": "markdown",
      "metadata": {
        "id": "7a7fae11"
      },
      "source": [
        "The output of these experiments include a Pandas dataframe summarizing the results. We created a wrapper to format that output in a nicer way. "
      ]
    },
    {
      "cell_type": "code",
      "execution_count": null,
      "metadata": {
        "id": "29c4b4f2"
      },
      "outputs": [],
      "source": [
        "annoy_motpe_df = cast_as_df(motpe_experiment, experiment_type=\"MOTPE\", algorithm_name=\"Annoy\")\n",
        "annoy_random_df = cast_as_df(random_experiment, experiment_type=\"Random\", algorithm_name=\"Annoy\")"
      ]
    },
    {
      "cell_type": "markdown",
      "metadata": {
        "id": "0e071de0"
      },
      "source": [
        "Let's look at the results! "
      ]
    },
    {
      "cell_type": "code",
      "execution_count": null,
      "metadata": {
        "id": "2bdd04f8"
      },
      "outputs": [
        {
          "data": {
            "image/png": "[encoded data removed]",
            "text/plain": [
              "<Figure size 1152x432 with 3 Axes>"
            ]
          },
          "metadata": {
            "needs_background": "light"
          },
          "output_type": "display_data"
        }
      ],
      "source": [
        "three_panel_fig([annoy_motpe_df, annoy_random_df])#\n",
        "#threeD_fig([motpe_df, random_df])"
      ]
    },
    {
      "cell_type": "markdown",
      "metadata": {
        "id": "e203a99a"
      },
      "source": [
        "### Discussion time\n",
        "Let's unpack this a bit. We had three objectives to optimize: recall, latency, and memory. In the figure above we show the relationship between all possible combinations of objectives (rather than showing a 3D scatter plot, which, while cool, is harder to glean useful information from. If you're hankering for some 3D, uncomment the other fig command and have at it).\n",
        "\n",
        "The leftmost panel shows the resulting `query_time` vs `recall` and a lovely curve demonstrating the trade-off between these two objectives.  The blue MOTPE points seem to be more densely clustered closer to the edge of the latency-recall Pareto frontier. However, the orange points sample it well enough. That these two distributions are so similar is not actually a surprise. It turns out that the `search_k` parameter is explicitly designed to directly control this trade-off: larger values of `search_k` result in higher accuracy _and_ longer query times. This means that tracing out the Pareto frontier is almost entirely a matter of fixing `n_trees` (our other hyperparameter), and sweeping over `search_k`. The results would yield a similar curve. \n",
        "\n",
        "If those were the only two objectives we cared about, we'd be done! But since we also care about memory, the problem is a bit more complex. In the middle and third panels, we see Index size (in MB) vs the other two objectives, and here we see a bit more difference between the MOTPE algorithm and randomly sampled hyperparameter values. The MOTPE algorithm better samples the regions we care about (low memory, fast query times, and high recall), but it's not always a significant difference, even when we run for many more trials! "
      ]
    },
    {
      "cell_type": "markdown",
      "metadata": {
        "id": "VKwbRkmTgSc6"
      },
      "source": [
        "<p><center><img src='https://github.com/sparsh-ai/multiobjective-optimizations/blob/main/docs/_images/T892775_9.png?raw=1'></center></p>"
      ]
    },
    {
      "cell_type": "markdown",
      "metadata": {
        "id": "24e82aed"
      },
      "source": [
        "Some other things to note: \n",
        "1. To run the optimization in a realistic amount of time, we provided the Annoy algorithm with artifically low values for its hyperparameters. The algorithm is fairly competitive and can achieve much better recall on the GloVe dataset. However, the build and query times associated with these preferrable hyperparameter values result in an optimization time on the order of several hours. It a pesky, double-edged sword: while we want to demonstrate realistic use cases / algorithms / datasets, they come with realistic compute times which are _considerable_. \n",
        "2. It's important to keep in mind that it may not be physically possible to densely sample the entire 3D output objective volume -- there is no guarantee that combinations of hyperparameters exist such that all white space could be covered by orange or blue points. "
      ]
    },
    {
      "cell_type": "markdown",
      "metadata": {
        "id": "3aaa4c5f"
      },
      "source": [
        "So why didn't MOBO run circles around random search? Maybe Annoy doesn't have enough hyperparameters to optimize over. Maybe it's just too simple. We'll come back to this discussion towards the end. For now, let's try our next ANN, which has three hyperparameters. "
      ]
    },
    {
      "cell_type": "markdown",
      "metadata": {
        "id": "986d9df4"
      },
      "source": [
        "### Hierarchical Navigable Small Worlds\n",
        "\n",
        "A classic brute-force method for computing nearest neighbors to a query point is to construct a KNN graph. While these work great for small datasets, they don't scale well to millions of points. Enter Hierarchical Navigable Small Worlds (HNSW) graphs. The name says a lot so let's break it down. \n",
        "\n",
        "A \"small world\" graph (or network) is one in which the nodes are highly clustered (most nodes are not neighbors of one another), but the _neighbors_ of any give node are likely to be neighbors of _each other_, resulting in a graph in which most nodes can be reached by every other node in only a few steps. While that might seem paradoxical, think of the distribution of air traffic. Planes fly mostly from busy, centralized hubs (highly clustered), and it only takes a few stop-overs to go from your local airport to just about any major city in the world. \n",
        "\n",
        "If we could structure our dataset in such a way that it has the properties of a small world graph, we'd be in decent shape because we could quickly find neighbors anywhere in the graph in a small number of steps. In practice, though, that's not enough. Tracing along the nodes in a graph still takes linear time (it takes _n_ time steps to move _n_ nodes). However, if a small world graph is also _navigable_ then it possesses an additional property: routing through the graph can be done on a logarathimic scale (those same _n_ nodes can now be traversed in only _log(n)_ time), which is much faster! But we can do even better.\n",
        "\n",
        "We finally come to the \"heirarchical\" part. The HNSW algorithm constructs a hierarchy of NSW graphs. The first layer is a graph of all the points in our database, where each point is connected to others on a small, characteristic scale length. Next, a subset of these points is kicked up to a second layer, where these points are connected via a slightly longer scale length. Then a subset of this subset is kicked up to a third layer with an even larger scale length connection, and so on."
      ]
    },
    {
      "cell_type": "markdown",
      "metadata": {
        "id": "lg94VzBDgT8o"
      },
      "source": [
        "<p><center><img src='https://github.com/sparsh-ai/multiobjective-optimizations/blob/main/docs/_images/T892775_10.png?raw=1'></center></p>"
      ]
    },
    {
      "cell_type": "markdown",
      "metadata": {
        "id": "FX7QvHp1JS3h"
      },
      "source": [
        "When a query comes in, the algorithm starts at the top layer, greedily searching for nearest neighbors on the graph with the longest scale length. The results of this layer are then passed down to the layer below, where new, closer neighbors are found. This continues until the algorithm reaches lowest layer, finally returning the closest neighbors.  \n",
        "\n",
        "\n",
        "### Hyperparameters\n",
        "We'll use the [hnswlib](https://github.com/nmslib/hnswlib) library for this algorithm. This implementation has three tunable hyperparameters. \n",
        "* `ef` sets the size of the dynamic list of candidates to evaluate at query time. This parameter affects the latency-recall trade-off, where large values of `ef` yield better accuracy but longer query times. \n",
        "* `ef_construction`: This has the same meaning as `ef` but during the construction phase. It influences the construction time as well as the quality of the index. Larger values result in a better index but take longer to build.  \n",
        "* `M`: this sets the number of bidirectional connections between nodes in the graph. More nodes mean more memory usage but also better connections between other nodes. Larger values of `M` are often better for high-dimensional vectors (like the word embeddings we're using).  \n",
        "\n",
        "\n",
        "### Code it up\n",
        "Very little changes from our previous function! We still initialize and populate an index even though, behind the scenes, the algorithm is constructing a very different object from the Annoy algorithm. "
      ]
    },
    {
      "cell_type": "code",
      "execution_count": null,
      "metadata": {
        "id": "70ffe1b0"
      },
      "outputs": [],
      "source": [
        "def train_hnsw(trial): \n",
        "    \n",
        "    ann = hnswlib.Index(space='cosine', dim=X_train.shape[1])\n",
        "    \n",
        "    num_elements = len(X_train)\n",
        "    \n",
        "    # Initializing index - the maximum number of elements should be known beforehand\n",
        "    memory_usage_before = get_memory_usage(os.getpid())\n",
        "    ann.init_index(max_elements = num_elements, \n",
        "                   ef_construction = trial.suggest_int(\"ef_construction\", 10, 100), \n",
        "                   M = trial.suggest_int(\"M\", 2, 50)\n",
        "                  )\n",
        "    # Element insertion \n",
        "    ann.add_items(X_train, np.arange(num_elements))\n",
        "    index_size = get_memory_usage(os.getpid()) - memory_usage_before\n",
        "\n",
        "    # control the recall (ef should always be >= N_NEIGHBORS)\n",
        "    ann.set_ef(trial.suggest_int(\"ef\", 10, 100)) \n",
        "\n",
        "    # run queries for each example in the test set\n",
        "    t1 = time.time()\n",
        "    # Query dataset, k - number of closest elements (returns 2 numpy arrays)\n",
        "    neighbors, _ = ann.knn_query(X_test, k = N_NEIGHBORS)\n",
        "    query_time = (time.time() - t1) / len(X_test)\n",
        "\n",
        "    recall = compute_recall(neighbors, X_test_neighbors)\n",
        "    \n",
        "    return recall, query_time, index_size"
      ]
    },
    {
      "cell_type": "code",
      "execution_count": null,
      "metadata": {
        "id": "87b18a4f"
      },
      "outputs": [
        {
          "name": "stderr",
          "output_type": "stream",
          "text": [
            "<ipython-input-13-1db9ede7d8eb>:1: ExperimentalWarning: MOTPESampler is experimental (supported from v2.4.0). The interface can change in the future.\n",
            "  motpe_sampler = optuna.samplers.MOTPESampler()\n",
            "\u001b[32m[I 2021-06-24 19:03:32,672]\u001b[0m A new study created in memory with name: no-name-95a55001-4570-4d8f-9543-c0a88604b11a\u001b[0m\n",
            "\u001b[32m[I 2021-06-24 19:03:43,053]\u001b[0m Trial 0 finished with values: [0.26542999999999495, 8.561468124389648e-06, 674.1875] and parameters: {'ef_construction': 51, 'M': 2, 'ef': 71}. \u001b[0m\n",
            "\u001b[32m[I 2021-06-24 19:06:18,716]\u001b[0m Trial 1 finished with values: [0.991349999999999, 7.11815357208252e-05, 1399.38671875] and parameters: {'ef_construction': 32, 'M': 96, 'ef': 33}. \u001b[0m\n",
            "\u001b[32m[I 2021-06-24 19:06:45,629]\u001b[0m Trial 2 finished with values: [0.784400000000004, 1.891188621520996e-05, 622.87890625] and parameters: {'ef_construction': 39, 'M': 10, 'ef': 33}. \u001b[0m\n",
            "\u001b[32m[I 2021-06-24 19:08:59,683]\u001b[0m Trial 3 finished with values: [0.9920599999999989, 7.491040229797363e-05, 1309.55078125] and parameters: {'ef_construction': 79, 'M': 86, 'ef': 38}. \u001b[0m\n",
            "\u001b[32m[I 2021-06-24 19:10:08,138]\u001b[0m Trial 4 finished with values: [0.9696199999999997, 5.083022117614746e-05, 909.734375] and parameters: {'ef_construction': 57, 'M': 42, 'ef': 42}. \u001b[0m\n",
            "\u001b[32m[I 2021-06-24 19:11:23,925]\u001b[0m Trial 5 finished with values: [0.98393, 6.899902820587158e-05, 1053.5859375] and parameters: {'ef_construction': 10, 'M': 58, 'ef': 49}. \u001b[0m\n",
            "\u001b[32m[I 2021-06-24 19:12:14,173]\u001b[0m Trial 6 finished with values: [0.9458000000000004, 4.4464731216430667e-05, 632.8125] and parameters: {'ef_construction': 69, 'M': 11, 'ef': 76}. \u001b[0m\n",
            "\u001b[32m[I 2021-06-24 19:13:48,047]\u001b[0m Trial 7 finished with values: [0.9961099999999997, 8.779120445251465e-05, 902.34375] and parameters: {'ef_construction': 73, 'M': 41, 'ef': 75}. \u001b[0m\n",
            "\u001b[32m[I 2021-06-24 19:14:37,028]\u001b[0m Trial 8 finished with values: [0.9817699999999995, 7.159368991851807e-05, 899.18359375] and parameters: {'ef_construction': 29, 'M': 41, 'ef': 77}. \u001b[0m\n",
            "\u001b[32m[I 2021-06-24 19:15:17,245]\u001b[0m Trial 9 finished with values: [0.8106700000000042, 1.9858622550964354e-05, 600.875] and parameters: {'ef_construction': 72, 'M': 8, 'ef': 43}. \u001b[0m\n",
            "\u001b[32m[I 2021-06-24 19:17:04,467]\u001b[0m Trial 10 finished with values: [0.8870600000000007, 2.0579004287719726e-05, 760.6328125] and parameters: {'ef_construction': 100, 'M': 25, 'ef': 13}. \u001b[0m\n",
            "\u001b[32m[I 2021-06-24 19:19:34,461]\u001b[0m Trial 11 finished with values: [0.9361299999999999, 3.240420818328857e-05, 1113.859375] and parameters: {'ef_construction': 98, 'M': 65, 'ef': 13}. \u001b[0m\n",
            "\u001b[32m[I 2021-06-24 19:21:04,091]\u001b[0m Trial 12 finished with values: [0.9972699999999997, 8.905429840087891e-05, 751.75390625] and parameters: {'ef_construction': 87, 'M': 25, 'ef': 91}. \u001b[0m\n",
            "\u001b[32m[I 2021-06-24 19:22:57,720]\u001b[0m Trial 13 finished with values: [0.9957799999999998, 9.269151687622071e-05, 1077.234375] and parameters: {'ef_construction': 58, 'M': 74, 'ef': 61}. \u001b[0m\n",
            "\u001b[32m[I 2021-06-24 19:23:21,257]\u001b[0m Trial 14 finished with values: [0.9499800000000002, 5.801699161529541e-05, 759.20703125] and parameters: {'ef_construction': 11, 'M': 24, 'ef': 98}. \u001b[0m\n",
            "\u001b[32m[I 2021-06-24 19:24:03,114]\u001b[0m Trial 15 finished with values: [0.674530000000004, 1.0708022117614746e-05, 590.74609375] and parameters: {'ef_construction': 90, 'M': 7, 'ef': 23}. \u001b[0m\n",
            "\u001b[32m[I 2021-06-24 19:25:07,843]\u001b[0m Trial 16 finished with values: [0.974189999999999, 6.696519851684571e-05, 705.09765625] and parameters: {'ef_construction': 67, 'M': 20, 'ef': 57}. \u001b[0m\n",
            "\u001b[32m[I 2021-06-24 19:26:32,009]\u001b[0m Trial 17 finished with values: [0.93601, 3.7243080139160155e-05, 998.546875] and parameters: {'ef_construction': 45, 'M': 53, 'ef': 24}. \u001b[0m\n",
            "\u001b[32m[I 2021-06-24 19:28:36,717]\u001b[0m Trial 18 finished with values: [0.9979299999999998, 0.00010821943283081054, 1211.60546875] and parameters: {'ef_construction': 20, 'M': 77, 'ef': 65}. \u001b[0m\n",
            "\u001b[32m[I 2021-06-24 19:30:23,788]\u001b[0m Trial 19 finished with values: [0.9888799999999998, 6.816809177398682e-05, 846.74609375] and parameters: {'ef_construction': 82, 'M': 36, 'ef': 48}. \u001b[0m\n",
            "\u001b[32m[I 2021-06-24 19:31:22,360]\u001b[0m Trial 20 finished with values: [0.9815699999999997, 5.994198322296142e-05, 656.48046875] and parameters: {'ef_construction': 68, 'M': 15, 'ef': 83}. \u001b[0m\n",
            "\u001b[32m[I 2021-06-24 19:31:49,498]\u001b[0m Trial 21 finished with values: [0.3025199999999958, 4.8305749893188475e-06, 555.96875] and parameters: {'ef_construction': 94, 'M': 3, 'ef': 22}. \u001b[0m\n",
            "\u001b[32m[I 2021-06-24 19:33:08,601]\u001b[0m Trial 22 finished with values: [0.99571, 0.00011474599838256836, 817.26171875] and parameters: {'ef_construction': 64, 'M': 33, 'ef': 87}. \u001b[0m\n",
            "\u001b[32m[I 2021-06-24 19:34:22,053]\u001b[0m Trial 23 finished with values: [0.9444899999999993, 3.7832713127136234e-05, 644.46484375] and parameters: {'ef_construction': 74, 'M': 14, 'ef': 51}. \u001b[0m\n",
            "\u001b[32m[I 2021-06-24 19:35:31,800]\u001b[0m Trial 24 finished with values: [0.96041, 4.2540788650512696e-05, 662.98828125] and parameters: {'ef_construction': 76, 'M': 16, 'ef': 49}. \u001b[0m\n",
            "\u001b[32m[I 2021-06-24 19:35:46,371]\u001b[0m Trial 25 finished with values: [0.2832999999999954, 9.058833122253418e-06, 546.078125] and parameters: {'ef_construction': 82, 'M': 2, 'ef': 65}. \u001b[0m\n",
            "\u001b[32m[I 2021-06-24 19:36:49,873]\u001b[0m Trial 26 finished with values: [0.9546300000000004, 4.5300817489624026e-05, 797.609375] and parameters: {'ef_construction': 49, 'M': 31, 'ef': 43}. \u001b[0m\n",
            "\u001b[32m[I 2021-06-24 19:37:56,812]\u001b[0m Trial 27 finished with values: [0.9163800000000026, 4.813470840454102e-05, 677.3359375] and parameters: {'ef_construction': 63, 'M': 18, 'ef': 31}. \u001b[0m\n",
            "\u001b[32m[I 2021-06-24 19:38:40,450]\u001b[0m Trial 28 finished with values: [0.7715000000000035, 3.0777311325073245e-05, 570.08984375] and parameters: {'ef_construction': 74, 'M': 6, 'ef': 56}. \u001b[0m\n",
            "\u001b[32m[I 2021-06-24 19:40:55,689]\u001b[0m Trial 29 finished with values: [0.9985599999999999, 0.00015600650310516358, 939.97265625] and parameters: {'ef_construction': 88, 'M': 47, 'ef': 98}. \u001b[0m\n",
            "\u001b[32m[I 2021-06-24 19:41:45,479]\u001b[0m Trial 30 finished with values: [0.7457400000000024, 1.3268184661865234e-05, 597.5234375] and parameters: {'ef_construction': 89, 'M': 9, 'ef': 21}. \u001b[0m\n",
            "\u001b[32m[I 2021-06-24 19:42:53,529]\u001b[0m Trial 31 finished with values: [0.8227500000000011, 1.66964054107666e-05, 632.84375] and parameters: {'ef_construction': 95, 'M': 13, 'ef': 18}. \u001b[0m\n",
            "\u001b[32m[I 2021-06-24 19:44:15,145]\u001b[0m Trial 32 finished with values: [0.9401800000000001, 3.325850963592529e-05, 695.2578125] and parameters: {'ef_construction': 84, 'M': 20, 'ef': 29}. \u001b[0m\n",
            "\u001b[32m[I 2021-06-24 19:46:02,819]\u001b[0m Trial 33 finished with values: [0.9976299999999998, 0.00010521950721740723, 785.35546875] and parameters: {'ef_construction': 92, 'M': 30, 'ef': 83}. \u001b[0m\n",
            "\u001b[32m[I 2021-06-24 19:47:02,022]\u001b[0m Trial 34 finished with values: [0.7081400000000023, 1.0004782676696777e-05, 631.9921875] and parameters: {'ef_construction': 81, 'M': 13, 'ef': 10}. \u001b[0m\n",
            "\u001b[32m[I 2021-06-24 19:48:09,114]\u001b[0m Trial 35 finished with values: [0.9786800000000001, 6.086788177490234e-05, 758.453125] and parameters: {'ef_construction': 62, 'M': 27, 'ef': 53}. \u001b[0m\n",
            "\u001b[32m[I 2021-06-24 19:48:22,975]\u001b[0m Trial 36 finished with values: [0.1972299999999982, 5.773591995239258e-06, 540.2578125] and parameters: {'ef_construction': 77, 'M': 2, 'ef': 38}. \u001b[0m\n",
            "\u001b[32m[I 2021-06-24 19:49:46,915]\u001b[0m Trial 37 finished with values: [0.8625700000000026, 2.913990020751953e-05, 664.20703125] and parameters: {'ef_construction': 100, 'M': 16, 'ef': 17}. \u001b[0m\n",
            "\u001b[32m[I 2021-06-24 19:51:12,314]\u001b[0m Trial 38 finished with values: [0.9406600000000012, 3.159458637237549e-05, 704.14453125] and parameters: {'ef_construction': 86, 'M': 21, 'ef': 27}. \u001b[0m\n",
            "\u001b[32m[I 2021-06-24 19:52:37,768]\u001b[0m Trial 39 finished with values: [0.9921099999999993, 7.47386932373047e-05, 839.58984375] and parameters: {'ef_construction': 68, 'M': 36, 'ef': 65}. \u001b[0m\n",
            "\u001b[32m[I 2021-06-24 19:53:13,385]\u001b[0m Trial 40 finished with values: [0.8203800000000033, 2.3042798042297363e-05, 578.09375] and parameters: {'ef_construction': 72, 'M': 7, 'ef': 56}. \u001b[0m\n",
            "\u001b[32m[I 2021-06-24 19:53:44,266]\u001b[0m Trial 41 finished with values: [0.8121000000000036, 2.2452425956726076e-05, 568.875] and parameters: {'ef_construction': 70, 'M': 6, 'ef': 71}. \u001b[0m\n"
          ]
        },
        {
          "name": "stderr",
          "output_type": "stream",
          "text": [
            "\u001b[32m[I 2021-06-24 20:06:49,033]\u001b[0m Trial 42 finished with values: [0.9911199999999997, 7.964971065521241e-05, 738.58984375] and parameters: {'ef_construction': 53, 'M': 25, 'ef': 90}. \u001b[0m\n",
            "\u001b[32m[I 2021-06-24 20:08:01,295]\u001b[0m Trial 43 finished with values: [0.9795499999999984, 5.242159366607666e-05, 658.45703125] and parameters: {'ef_construction': 78, 'M': 16, 'ef': 71}. \u001b[0m\n",
            "\u001b[32m[I 2021-06-24 20:09:23,540]\u001b[0m Trial 44 finished with values: [0.9883000000000002, 7.203876972198486e-05, 704.921875] and parameters: {'ef_construction': 79, 'M': 21, 'ef': 68}. \u001b[0m\n",
            "\u001b[32m[I 2021-06-24 20:12:36,768]\u001b[0m Trial 45 finished with values: [0.9993, 0.00015685410499572755, 1380.41796875] and parameters: {'ef_construction': 62, 'M': 96, 'ef': 82}. \u001b[0m\n",
            "\u001b[32m[I 2021-06-24 20:13:03,193]\u001b[0m Trial 46 finished with values: [0.7359600000000042, 2.223978042602539e-05, 560.40234375] and parameters: {'ef_construction': 57, 'M': 5, 'ef': 71}. \u001b[0m\n",
            "\u001b[32m[I 2021-06-24 20:13:58,171]\u001b[0m Trial 47 finished with values: [0.9367900000000003, 4.296810626983643e-05, 623.61328125] and parameters: {'ef_construction': 66, 'M': 12, 'ef': 60}. \u001b[0m\n",
            "\u001b[32m[I 2021-06-24 20:14:32,596]\u001b[0m Trial 48 finished with values: [0.9203600000000007, 3.722789287567139e-05, 604.9765625] and parameters: {'ef_construction': 46, 'M': 10, 'ef': 80}. \u001b[0m\n",
            "\u001b[32m[I 2021-06-24 20:15:00,791]\u001b[0m Trial 49 finished with values: [0.8694400000000009, 6.25748872756958e-05, 578.73046875] and parameters: {'ef_construction': 45, 'M': 7, 'ef': 94}. \u001b[0m\n"
          ]
        }
      ],
      "source": [
        "# NOTE: this cell takes about an hour to run\n",
        "motpe_sampler = optuna.samplers.MOTPESampler()\n",
        "motpe_experiment = optuna.create_study(sampler=motpe_sampler,\n",
        "                                       directions=[\"maximize\", \"minimize\", \"minimize\"])\n",
        "motpe_experiment.optimize(train_hnsw, n_trials=N_TRIALS)"
      ]
    },
    {
      "cell_type": "code",
      "execution_count": null,
      "metadata": {
        "id": "1d1a3e7b"
      },
      "outputs": [
        {
          "name": "stderr",
          "output_type": "stream",
          "text": [
            "\u001b[32m[I 2021-06-24 20:25:37,665]\u001b[0m A new study created in memory with name: no-name-a68eff9b-eb2b-4f18-bfc7-d4165162ea33\u001b[0m\n",
            "\u001b[32m[I 2021-06-24 20:28:06,180]\u001b[0m Trial 0 finished with values: [0.983939999999999, 5.984342098236084e-05, 1276.7578125] and parameters: {'ef_construction': 84, 'M': 85, 'ef': 29}. \u001b[0m\n",
            "\u001b[32m[I 2021-06-24 20:28:44,845]\u001b[0m Trial 1 finished with values: [0.979860000000001, 7.119548320770264e-05, 804.00390625] and parameters: {'ef_construction': 36, 'M': 32, 'ef': 89}. \u001b[0m\n",
            "\u001b[32m[I 2021-06-24 20:30:52,545]\u001b[0m Trial 2 finished with values: [0.9822999999999993, 7.502460479736328e-05, 1203.10546875] and parameters: {'ef_construction': 37, 'M': 77, 'ef': 32}. \u001b[0m\n",
            "\u001b[32m[I 2021-06-24 20:32:44,439]\u001b[0m Trial 3 finished with values: [0.9970999999999997, 9.25718069076538e-05, 884.734375] and parameters: {'ef_construction': 81, 'M': 41, 'ef': 77}. \u001b[0m\n",
            "\u001b[32m[I 2021-06-24 20:32:59,959]\u001b[0m Trial 4 finished with values: [0.7970900000000032, 2.7109718322753907e-05, 668.33984375] and parameters: {'ef_construction': 15, 'M': 17, 'ef': 47}. \u001b[0m\n",
            "\u001b[32m[I 2021-06-24 20:33:32,772]\u001b[0m Trial 5 finished with values: [0.96219, 6.515152454376221e-05, 776.95703125] and parameters: {'ef_construction': 20, 'M': 29, 'ef': 85}. \u001b[0m\n",
            "\u001b[32m[I 2021-06-24 20:36:21,116]\u001b[0m Trial 6 finished with values: [0.9994199999999999, 0.00012017207145690918, 1345.3828125] and parameters: {'ef_construction': 44, 'M': 92, 'ef': 77}. \u001b[0m\n",
            "\u001b[32m[I 2021-06-24 20:36:27,727]\u001b[0m Trial 7 finished with values: [0.35915999999999176, 1.0370612144470215e-05, 545.8046875] and parameters: {'ef_construction': 21, 'M': 3, 'ef': 64}. \u001b[0m\n",
            "\u001b[32m[I 2021-06-24 20:38:29,016]\u001b[0m Trial 8 finished with values: [0.9847699999999991, 5.770750045776367e-05, 890.859375] and parameters: {'ef_construction': 91, 'M': 41, 'ef': 35}. \u001b[0m\n",
            "\u001b[32m[I 2021-06-24 20:40:58,895]\u001b[0m Trial 9 finished with values: [0.9894599999999989, 7.027678489685059e-05, 1239.1875] and parameters: {'ef_construction': 28, 'M': 85, 'ef': 35}. \u001b[0m\n",
            "\u001b[32m[I 2021-06-24 20:41:44,598]\u001b[0m Trial 10 finished with values: [0.5599300000000004, 1.3425469398498535e-05, 587.28515625] and parameters: {'ef_construction': 85, 'M': 8, 'ef': 10}. \u001b[0m\n",
            "\u001b[32m[I 2021-06-24 20:42:14,849]\u001b[0m Trial 11 finished with values: [0.766440000000003, 2.0627212524414063e-05, 560.00390625] and parameters: {'ef_construction': 79, 'M': 5, 'ef': 75}. \u001b[0m\n",
            "\u001b[32m[I 2021-06-24 20:45:07,329]\u001b[0m Trial 12 finished with values: [0.9947599999999996, 7.598700523376465e-05, 1381.48046875] and parameters: {'ef_construction': 25, 'M': 96, 'ef': 39}. \u001b[0m\n",
            "\u001b[32m[I 2021-06-24 20:47:02,777]\u001b[0m Trial 13 finished with values: [0.9969599999999995, 0.00010768730640411377, 839.671875] and parameters: {'ef_construction': 84, 'M': 36, 'ef': 80}. \u001b[0m\n",
            "\u001b[32m[I 2021-06-24 20:49:57,728]\u001b[0m Trial 14 finished with values: [0.9990499999999998, 0.00014294648170471192, 1372.265625] and parameters: {'ef_construction': 45, 'M': 95, 'ef': 67}. \u001b[0m\n",
            "\u001b[32m[I 2021-06-24 20:50:57,472]\u001b[0m Trial 15 finished with values: [0.9916900000000003, 9.124739170074462e-05, 921.234375] and parameters: {'ef_construction': 17, 'M': 45, 'ef': 90}. \u001b[0m\n",
            "\u001b[32m[I 2021-06-24 20:52:30,273]\u001b[0m Trial 16 finished with values: [0.9467300000000006, 3.9931797981262205e-05, 1020.1015625] and parameters: {'ef_construction': 62, 'M': 56, 'ef': 25}. \u001b[0m\n",
            "\u001b[32m[I 2021-06-24 20:54:44,200]\u001b[0m Trial 17 finished with values: [0.9365899999999996, 3.886368274688721e-05, 1213.7109375] and parameters: {'ef_construction': 37, 'M': 78, 'ef': 16}. \u001b[0m\n",
            "\u001b[32m[I 2021-06-24 20:56:03,613]\u001b[0m Trial 18 finished with values: [0.9922900000000001, 0.00010780291557312012, 1029.96875] and parameters: {'ef_construction': 33, 'M': 57, 'ef': 72}. \u001b[0m\n",
            "\u001b[32m[I 2021-06-24 20:56:50,420]\u001b[0m Trial 19 finished with values: [0.9814399999999986, 7.200939655303955e-05, 849.078125] and parameters: {'ef_construction': 26, 'M': 37, 'ef': 86}. \u001b[0m\n",
            "\u001b[32m[I 2021-06-24 20:58:29,528]\u001b[0m Trial 20 finished with values: [0.99735, 0.00010547170639038086, 1011.078125] and parameters: {'ef_construction': 71, 'M': 55, 'ef': 76}. \u001b[0m\n",
            "\u001b[32m[I 2021-06-24 21:00:12,724]\u001b[0m Trial 21 finished with values: [0.9983299999999999, 0.00011518931388854981, 1137.484375] and parameters: {'ef_construction': 17, 'M': 69, 'ef': 90}. \u001b[0m\n",
            "\u001b[32m[I 2021-06-24 21:03:08,907]\u001b[0m Trial 22 finished with values: [0.9981299999999997, 0.00012965700626373292, 1372.80078125] and parameters: {'ef_construction': 50, 'M': 95, 'ef': 58}. \u001b[0m\n",
            "\u001b[32m[I 2021-06-24 21:06:04,751]\u001b[0m Trial 23 finished with values: [0.9997099999999999, 0.000155607008934021, 1381.28125] and parameters: {'ef_construction': 86, 'M': 96, 'ef': 97}. \u001b[0m\n",
            "\u001b[32m[I 2021-06-24 21:06:47,276]\u001b[0m Trial 24 finished with values: [0.9844999999999984, 7.136518955230712e-05, 812.45703125] and parameters: {'ef_construction': 39, 'M': 33, 'ef': 87}. \u001b[0m\n",
            "\u001b[32m[I 2021-06-24 21:08:02,283]\u001b[0m Trial 25 finished with values: [0.8973400000000004, 2.432389259338379e-05, 785.3359375] and parameters: {'ef_construction': 69, 'M': 30, 'ef': 16}. \u001b[0m\n",
            "\u001b[32m[I 2021-06-24 21:09:55,942]\u001b[0m Trial 26 finished with values: [0.99724, 8.974881172180176e-05, 803.5] and parameters: {'ef_construction': 95, 'M': 32, 'ef': 64}. \u001b[0m\n",
            "\u001b[32m[I 2021-06-24 21:41:48,518]\u001b[0m Trial 27 finished with values: [0.9955099999999997, 0.00010829892158508301, 1323.47265625] and parameters: {'ef_construction': 54, 'M': 90, 'ef': 44}. \u001b[0m\n",
            "\u001b[32m[I 2021-06-24 21:43:12,498]\u001b[0m Trial 28 finished with values: [0.9964599999999997, 0.00010232760906219483, 1019.7734375] and parameters: {'ef_construction': 45, 'M': 56, 'ef': 100}. \u001b[0m\n",
            "\u001b[32m[I 2021-06-24 21:45:07,259]\u001b[0m Trial 29 finished with values: [0.9922000000000002, 8.648409843444824e-05, 1192.33203125] and parameters: {'ef_construction': 35, 'M': 75, 'ef': 51}. \u001b[0m\n",
            "\u001b[32m[I 2021-06-24 21:47:06,937]\u001b[0m Trial 30 finished with values: [0.9993, 0.0001427665948867798, 1219.0859375] and parameters: {'ef_construction': 78, 'M': 78, 'ef': 94}. \u001b[0m\n",
            "\u001b[32m[I 2021-06-24 21:47:14,841]\u001b[0m Trial 31 finished with values: [0.3878799999999919, 9.720611572265625e-06, 546.96484375] and parameters: {'ef_construction': 27, 'M': 3, 'ef': 60}. \u001b[0m\n",
            "\u001b[32m[I 2021-06-24 21:48:41,248]\u001b[0m Trial 32 finished with values: [0.9938899999999999, 8.57154130935669e-05, 1051.703125] and parameters: {'ef_construction': 19, 'M': 59, 'ef': 69}. \u001b[0m\n",
            "\u001b[32m[I 2021-06-24 21:49:40,376]\u001b[0m Trial 33 finished with values: [0.9426799999999985, 4.706478118896484e-05, 929.80859375] and parameters: {'ef_construction': 28, 'M': 46, 'ef': 35}. \u001b[0m\n",
            "\u001b[32m[I 2021-06-24 21:52:46,734]\u001b[0m Trial 34 finished with values: [0.9902999999999994, 6.719732284545899e-05, 1363.19140625] and parameters: {'ef_construction': 31, 'M': 94, 'ef': 31}. \u001b[0m\n",
            "\u001b[32m[I 2021-06-24 21:53:44,678]\u001b[0m Trial 35 finished with values: [0.99135, 7.035219669342041e-05, 713.5546875] and parameters: {'ef_construction': 60, 'M': 22, 'ef': 86}. \u001b[0m\n",
            "\u001b[32m[I 2021-06-24 21:54:02,192]\u001b[0m Trial 36 finished with values: [0.8536300000000027, 3.54902982711792e-05, 631.8359375] and parameters: {'ef_construction': 19, 'M': 13, 'ef': 73}. \u001b[0m\n",
            "\u001b[32m[I 2021-06-24 21:54:39,540]\u001b[0m Trial 37 finished with values: [0.8390100000000023, 1.992931365966797e-05, 695.04296875] and parameters: {'ef_construction': 41, 'M': 20, 'ef': 21}. \u001b[0m\n",
            "\u001b[32m[I 2021-06-24 21:55:13,560]\u001b[0m Trial 38 finished with values: [0.9566199999999996, 5.2713918685913084e-05, 803.39453125] and parameters: {'ef_construction': 32, 'M': 32, 'ef': 66}. \u001b[0m\n",
            "\u001b[32m[I 2021-06-24 21:57:08,907]\u001b[0m Trial 39 finished with values: [0.9977999999999998, 0.00010398809909820556, 1209.72265625] and parameters: {'ef_construction': 59, 'M': 77, 'ef': 63}. \u001b[0m\n",
            "\u001b[32m[I 2021-06-24 21:58:56,433]\u001b[0m Trial 40 finished with values: [0.9887400000000002, 6.381468772888184e-05, 875.62890625] and parameters: {'ef_construction': 86, 'M': 40, 'ef': 45}. \u001b[0m\n",
            "\u001b[32m[I 2021-06-24 22:01:16,824]\u001b[0m Trial 41 finished with values: [0.9982000000000002, 0.00011196508407592773, 1300.015625] and parameters: {'ef_construction': 18, 'M': 87, 'ef': 64}. \u001b[0m\n",
            "\u001b[32m[I 2021-06-24 22:01:46,670]\u001b[0m Trial 42 finished with values: [0.9379699999999987, 4.261813163757324e-05, 649.89453125] and parameters: {'ef_construction': 36, 'M': 15, 'ef': 71}. \u001b[0m\n"
          ]
        },
        {
          "name": "stderr",
          "output_type": "stream",
          "text": [
            "\u001b[32m[I 2021-06-24 22:02:40,147]\u001b[0m Trial 43 finished with values: [0.8827200000000018, 2.7303791046142577e-05, 902.71875] and parameters: {'ef_construction': 25, 'M': 43, 'ef': 20}. \u001b[0m\n",
            "\u001b[32m[I 2021-06-24 22:04:13,108]\u001b[0m Trial 44 finished with values: [0.9580099999999994, 4.920849800109863e-05, 1110.40234375] and parameters: {'ef_construction': 64, 'M': 66, 'ef': 28}. \u001b[0m\n",
            "\u001b[32m[I 2021-06-24 22:06:12,731]\u001b[0m Trial 45 finished with values: [0.9991300000000001, 0.0001390671968460083, 1218.75] and parameters: {'ef_construction': 55, 'M': 78, 'ef': 92}. \u001b[0m\n",
            "\u001b[32m[I 2021-06-24 22:07:12,461]\u001b[0m Trial 46 finished with values: [0.9388200000000008, 3.362522125244141e-05, 631.83984375] and parameters: {'ef_construction': 84, 'M': 13, 'ef': 50}. \u001b[0m\n",
            "\u001b[32m[I 2021-06-24 22:07:54,610]\u001b[0m Trial 47 finished with values: [0.795320000000003, 1.5109610557556152e-05, 695.0390625] and parameters: {'ef_construction': 46, 'M': 20, 'ef': 14}. \u001b[0m\n",
            "\u001b[32m[I 2021-06-24 22:10:18,765]\u001b[0m Trial 48 finished with values: [0.9802700000000001, 5.933408737182617e-05, 1327.11328125] and parameters: {'ef_construction': 71, 'M': 90, 'ef': 26}. \u001b[0m\n",
            "\u001b[32m[I 2021-06-24 22:10:58,440]\u001b[0m Trial 49 finished with values: [0.9368900000000001, 3.7510275840759276e-05, 631.8359375] and parameters: {'ef_construction': 53, 'M': 13, 'ef': 61}. \u001b[0m\n"
          ]
        }
      ],
      "source": [
        "# Note: this cell can take 1-2 hours to run\n",
        "random_sampler = optuna.samplers.RandomSampler()\n",
        "random_experiment = optuna.create_study(sampler=random_sampler, directions=[\"maximize\", \"minimize\", \"minimize\"])\n",
        "random_experiment.optimize(train_hnsw, n_trials=N_TRIALS)"
      ]
    },
    {
      "cell_type": "code",
      "execution_count": null,
      "metadata": {
        "id": "c872db32"
      },
      "outputs": [],
      "source": [
        "hnsw_motpe_df = cast_as_df(motpe_experiment, experiment_type=\"MOTPE\", algorithm_name=\"HNSW\")\n",
        "hnsw_random_df = cast_as_df(random_experiment, experiment_type=\"Random\", algorithm_name=\"HNSW\")"
      ]
    },
    {
      "cell_type": "code",
      "execution_count": null,
      "metadata": {
        "id": "62769126"
      },
      "outputs": [
        {
          "data": {
            "image/png": "[encoded data removed]",
            "text/plain": [
              "<Figure size 1152x432 with 3 Axes>"
            ]
          },
          "metadata": {
            "needs_background": "light"
          },
          "output_type": "display_data"
        }
      ],
      "source": [
        "three_panel_fig([hnsw_motpe_df, hnsw_random_df])#"
      ]
    },
    {
      "cell_type": "markdown",
      "metadata": {
        "id": "7a5238cd"
      },
      "source": [
        "### Discussion time\n",
        "\n",
        "Results are essentially the same with this algorithm. Even though we have more hyperparameters (3 for HNSW vs only 2 for Annoy), random sampling is able to effectively cover similar regions of the objective space. Again, we ran this experiment for 100 trials (which took a looong time). \n"
      ]
    },
    {
      "cell_type": "markdown",
      "metadata": {
        "id": "G3IuIWr9gXA5"
      },
      "source": [
        "<p><center><img src='https://github.com/sparsh-ai/multiobjective-optimizations/blob/main/docs/_images/T892775_11.png?raw=1'></center></p>"
      ]
    },
    {
      "cell_type": "markdown",
      "metadata": {
        "id": "1ZNK_ovdJh8m"
      },
      "source": [
        "One intriguing difference is in the middle figure where the MOTPE algorithm identifies a few models that seem to dominate the memory space (having much lower memory than all other models) but this is likely a fluke because the way we  measure memory usage of the algorithm is not exact. "
      ]
    },
    {
      "cell_type": "markdown",
      "metadata": {
        "id": "d4286116"
      },
      "source": [
        "### Locality-sensitive Hashing\n",
        "\n",
        "A _hash function_ maps high-dimensional data to fixed-size low-dimensional representations. The outputs of hash functions are typically used as keys into _hash tables_.  In cryptography and security applications, hash functions are designed such that two datapoints (ideally) never map to the same output. But _locality-sensitive_ hash functions do just the opposite -- they are designed such that similar data points _collide_ with high probability, that is, they land in the same _bucket_. Thus, hash functions are another method to partition our dataset, reducing the amount of computation.  LSH strives to ensure similar points fall into the same bucket, and dissimilar points land in other buckets. At query time, we apply our hash function to the incoming query, match the hash output to the corresponding bucket, and examine only those database points residing in that same bucket. \n",
        "\n",
        "<p><center><img src='https://github.com/sparsh-ai/multiobjective-optimizations/blob/main/docs/_images/T892775_12.png?raw=1'></center></p>\n",
        "\n",
        "In reality, multiple hash functions are used, each resulting in a slightly different partitioning of the space.   When the query comes in, each hash function is applied to the query point and candidates from the matching bucket from _each_ hash table are retrieved.  \n",
        "\n",
        "A hash table can have lots of buckets or only a few buckets, determined by the number of _bits_. More bits equal more buckets. More buckets result in a finer partitioning of the space. For example, imagine we randomly mapped each point in our database to either 0 or 1 (two bits = two buckets). We'd have approximately half our database in each bucket. When performing a query, we'll retrieve all the members of, say, bucket 0. We'll still have to compute the distances between our query and _half_ the points in our database! Therefore, more bits usually reduces the query time by thinning out the number of candidates in each bucket. "
      ]
    },
    {
      "cell_type": "markdown",
      "metadata": {
        "id": "abdcfd18"
      },
      "source": [
        "### Hyperparameters\n",
        "While there are literally dozens of implementations, most versions (including the version we use) have the following hyperparameters to consider: \n",
        "\n",
        "* `number_of_hash_tables`: More hash tables lead to better accuracy but increased memory footprint.  \n",
        "* `number_of_hash_bits`: The number of hash bits determines the number of buckets per table; more buckets decreases query time but increases the memory footprint. \n",
        "* `number_of_probes`: At query time, we can examine multiple buckets from each hash table to find nearest neighbor candidates. More probes leads to great accuracy but the query will take longer. \n",
        "\n",
        "\n",
        "### Code it up\n",
        "We're using the [FALCONN](https://github.com/FALCONN-LIB/FALCONN) library for LSH (in case you're wondering, FALCONN is the decidedly awkward acronym for FAst Lookups of Cosine and Other Nearest Neighbors). We found this library to be a bit finicky, and it requires a sizeable amount of prepwork before index initialization. We borrowed from [this example](https://github.com/FALCONN-LIB/FALCONN/blob/master/src/examples/glove/glove.py), where you can find more details about these additional (non-tunable) parameters. \n",
        "\n",
        "**Special note:** This algorithm is structured in such a way that the `number_of_probes` used at query time _must_ be at least as large as the `number_of_tables`. This means we have one hyperparameter that is directly dependent on another! Thankfully, Optuna handles this use case with aplomb! Optuna's enables define-by-run optimization which means that each trial is generated entirely independently from others. Instead of assigning our HPs inline as in the previous examples, we'll handle them at the top of the function."
      ]
    },
    {
      "cell_type": "code",
      "execution_count": null,
      "metadata": {
        "id": "20e2ff39"
      },
      "outputs": [],
      "source": [
        "def train_lsh(trial):\n",
        "    \n",
        "    # Handle hyperparameter suggestions\n",
        "    num_tables = trial.suggest_int(\"number_of_tables\", 10, 50)\n",
        "    # num_probes depends on num_tables -- \n",
        "    # We can directly pass Optuna's num_tables suggestion to the num_probes generator\n",
        "    num_probes = trial.suggest_int(\"number_of_probes\", num_tables, num_tables*2) \n",
        "    # Don't allow num_bits > 28 or falconn will throw an error\n",
        "    num_bits = trial.suggest_int(\"number_of_hash_bits\", 12, 26)\n",
        "    \n",
        "    # LSH initialization (For more details see link to example above)\n",
        "    params = falconn.LSHConstructionParameters()\n",
        "    params.dimension = len(X_train[0])\n",
        "    params.lsh_family = falconn.LSHFamily.CrossPolytope\n",
        "    params.distance_function = falconn.DistanceFunction.EuclideanSquared\n",
        "    params.num_rotations = 1\n",
        "    params.seed = 5721840 \n",
        "    params.num_setup_threads = 0 # use all available threads\n",
        "    params.storage_hash_table = falconn.StorageHashTable.BitPackedFlatHashTable\n",
        "    # Set build-related hyperparameters\n",
        "    params.l = num_tables\n",
        "    falconn.compute_number_of_hash_functions(num_bits, params)\n",
        "\n",
        "    # LSH index construction\n",
        "    memory_usage_before = get_memory_usage(os.getpid())\n",
        "    table = falconn.LSHIndex(params)\n",
        "    table.setup(X_train)\n",
        "    index_size = get_memory_usage(os.getpid()) - memory_usage_before\n",
        "\n",
        "    # Set up the query object with num_probes\n",
        "    query_object = table.construct_query_object(num_probes=num_probes) \n",
        "    \n",
        "    # Perform the queries\n",
        "    t1 = time.time()\n",
        "    neighbors = []\n",
        "    for i, x in enumerate(X_test):\n",
        "        neighbors.append(query_object.find_k_nearest_neighbors(x, N_NEIGHBORS))\n",
        "    query_time = (time.time() - t1) / len(X_test)\n",
        "                         \n",
        "    # Evaluate\n",
        "    recall = compute_recall(neighbors, X_test_neighbors)\n",
        "\n",
        "    return recall, query_time, index_size"
      ]
    },
    {
      "cell_type": "code",
      "execution_count": null,
      "metadata": {
        "id": "e14126ab"
      },
      "outputs": [
        {
          "name": "stderr",
          "output_type": "stream",
          "text": [
            "<ipython-input-21-236ef6d9d285>:1: ExperimentalWarning: MOTPESampler is experimental (supported from v2.4.0). The interface can change in the future.\n",
            "  motpe_sampler = optuna.samplers.MOTPESampler()\n",
            "\u001b[32m[I 2021-06-25 09:51:36,492]\u001b[0m A new study created in memory with name: no-name-4bbb0127-2e15-433d-9c12-3219ddfe1e92\u001b[0m\n",
            "\u001b[32m[I 2021-06-25 09:52:09,918]\u001b[0m Trial 0 finished with values: [0.8797599999999849, 0.002646678829193115, 168.66796875] and parameters: {'number_of_tables': 48, 'number_of_probes': 65, 'number_of_hash_bits': 15}. \u001b[0m\n",
            "\u001b[32m[I 2021-06-25 09:52:31,149]\u001b[0m Trial 1 finished with values: [0.4578599999999973, 0.00046552860736846926, 2718.35546875] and parameters: {'number_of_tables': 43, 'number_of_probes': 83, 'number_of_hash_bits': 24}. \u001b[0m\n",
            "\u001b[32m[I 2021-06-25 09:52:41,046]\u001b[0m Trial 2 finished with values: [0.37286999999998993, 0.00021935951709747316, 742.484375] and parameters: {'number_of_tables': 23, 'number_of_probes': 44, 'number_of_hash_bits': 23}. \u001b[0m\n",
            "\u001b[32m[I 2021-06-25 09:52:56,552]\u001b[0m Trial 3 finished with values: [0.5693900000000017, 0.0004544396162033081, 125.79296875] and parameters: {'number_of_tables': 40, 'number_of_probes': 46, 'number_of_hash_bits': 20}. \u001b[0m\n",
            "\u001b[32m[I 2021-06-25 09:53:22,439]\u001b[0m Trial 4 finished with values: [0.8441099999999884, 0.002014873504638672, 94.87109375] and parameters: {'number_of_tables': 30, 'number_of_probes': 50, 'number_of_hash_bits': 15}. \u001b[0m\n",
            "\u001b[32m[I 2021-06-25 09:53:34,734]\u001b[0m Trial 5 finished with values: [0.529499999999999, 0.0003613719940185547, 374.28515625] and parameters: {'number_of_tables': 31, 'number_of_probes': 56, 'number_of_hash_bits': 21}. \u001b[0m\n",
            "\u001b[32m[I 2021-06-25 09:53:55,625]\u001b[0m Trial 6 finished with values: [0.7873699999999895, 0.0010903979063034057, 135.515625] and parameters: {'number_of_tables': 37, 'number_of_probes': 62, 'number_of_hash_bits': 17}. \u001b[0m\n",
            "\u001b[32m[I 2021-06-25 09:54:29,715]\u001b[0m Trial 7 finished with values: [0.8756799999999847, 0.0028057760953903196, 136.45703125] and parameters: {'number_of_tables': 35, 'number_of_probes': 48, 'number_of_hash_bits': 14}. \u001b[0m\n",
            "\u001b[32m[I 2021-06-25 09:54:42,316]\u001b[0m Trial 8 finished with values: [0.23708999999999172, 0.0001916936159133911, 355.74609375] and parameters: {'number_of_tables': 19, 'number_of_probes': 35, 'number_of_hash_bits': 25}. \u001b[0m\n",
            "\u001b[32m[I 2021-06-25 09:54:53,391]\u001b[0m Trial 9 finished with values: [0.5003900000000019, 0.00031712210178375246, -414.4453125] and parameters: {'number_of_tables': 31, 'number_of_probes': 33, 'number_of_hash_bits': 20}. \u001b[0m\n",
            "\u001b[32m[I 2021-06-25 09:54:59,475]\u001b[0m Trial 10 finished with values: [0.42324999999999463, 0.00021056768894195556, 66.0546875] and parameters: {'number_of_tables': 13, 'number_of_probes': 14, 'number_of_hash_bits': 18}. \u001b[0m\n",
            "\u001b[32m[I 2021-06-25 09:55:32,093]\u001b[0m Trial 11 finished with values: [0.8344199999999918, 0.0030727063179016114, 65.94140625] and parameters: {'number_of_tables': 12, 'number_of_probes': 23, 'number_of_hash_bits': 12}. \u001b[0m\n",
            "\u001b[32m[I 2021-06-25 09:55:51,691]\u001b[0m Trial 12 finished with values: [0.5932699999999993, 0.0005244213104248046, 871.046875] and parameters: {'number_of_tables': 50, 'number_of_probes': 98, 'number_of_hash_bits': 22}. \u001b[0m\n",
            "\u001b[32m[I 2021-06-25 09:56:40,319]\u001b[0m Trial 13 finished with values: [0.8821599999999884, 0.004491440415382385, 49.41015625] and parameters: {'number_of_tables': 23, 'number_of_probes': 30, 'number_of_hash_bits': 12}. \u001b[0m\n",
            "\u001b[32m[I 2021-06-25 09:57:01,455]\u001b[0m Trial 14 finished with values: [0.19335999999999487, 0.0001741429090499878, 983.36328125] and parameters: {'number_of_tables': 18, 'number_of_probes': 36, 'number_of_hash_bits': 26}. \u001b[0m\n",
            "\u001b[32m[I 2021-06-25 09:57:20,358]\u001b[0m Trial 15 finished with values: [0.707599999999994, 0.0007125402212142944, 214.0234375] and parameters: {'number_of_tables': 44, 'number_of_probes': 78, 'number_of_hash_bits': 19}. \u001b[0m\n",
            "\u001b[32m[I 2021-06-25 09:57:31,710]\u001b[0m Trial 16 finished with values: [0.6444599999999981, 0.000518613600730896, 107.1875] and parameters: {'number_of_tables': 24, 'number_of_probes': 26, 'number_of_hash_bits': 17}. \u001b[0m\n",
            "\u001b[32m[I 2021-06-25 09:57:44,463]\u001b[0m Trial 17 finished with values: [0.48950999999999933, 0.0003297036647796631, 385.5703125] and parameters: {'number_of_tables': 34, 'number_of_probes': 41, 'number_of_hash_bits': 21}. \u001b[0m\n",
            "\u001b[32m[I 2021-06-25 09:58:08,882]\u001b[0m Trial 18 finished with values: [0.20163999999999463, 0.0002264434814453125, 4530.6875] and parameters: {'number_of_tables': 27, 'number_of_probes': 33, 'number_of_hash_bits': 26}. \u001b[0m\n",
            "\u001b[32m[I 2021-06-25 09:58:17,121]\u001b[0m Trial 19 finished with values: [0.6207599999999976, 0.0006306215047836304, 31.37109375] and parameters: {'number_of_tables': 10, 'number_of_probes': 10, 'number_of_hash_bits': 14}. \u001b[0m\n",
            "\u001b[32m[I 2021-06-25 09:58:39,418]\u001b[0m Trial 20 finished with values: [0.836029999999988, 0.0014771086931228638, 142.6875] and parameters: {'number_of_tables': 37, 'number_of_probes': 60, 'number_of_hash_bits': 16}. \u001b[0m\n",
            "\u001b[32m[I 2021-06-25 09:58:49,057]\u001b[0m Trial 21 finished with values: [0.31789999999998875, 6.720409393310546e-05, 1113.5] and parameters: {'number_of_tables': 27, 'number_of_probes': 27, 'number_of_hash_bits': 23}. \u001b[0m\n",
            "\u001b[32m[I 2021-06-25 09:59:02,931]\u001b[0m Trial 22 finished with values: [0.6519799999999968, 0.0005425740003585815, -6.04296875] and parameters: {'number_of_tables': 34, 'number_of_probes': 39, 'number_of_hash_bits': 18}. \u001b[0m\n",
            "\u001b[32m[I 2021-06-25 09:59:15,396]\u001b[0m Trial 23 finished with values: [0.5873599999999999, 0.00040602688789367675, 180.46484375] and parameters: {'number_of_tables': 32, 'number_of_probes': 39, 'number_of_hash_bits': 19}. \u001b[0m\n",
            "\u001b[32m[I 2021-06-25 09:59:38,030]\u001b[0m Trial 24 finished with values: [0.8028599999999917, 0.0019501039743423463, 72.15234375] and parameters: {'number_of_tables': 18, 'number_of_probes': 20, 'number_of_hash_bits': 13}. \u001b[0m\n",
            "\u001b[32m[I 2021-06-25 09:59:50,894]\u001b[0m Trial 25 finished with values: [0.3029999999999891, 0.00024087769985198975, 2151.05859375] and parameters: {'number_of_tables': 28, 'number_of_probes': 33, 'number_of_hash_bits': 24}. \u001b[0m\n",
            "\u001b[32m[I 2021-06-25 10:00:08,143]\u001b[0m Trial 26 finished with values: [0.6477399999999978, 0.000591580080986023, -23.33203125] and parameters: {'number_of_tables': 44, 'number_of_probes': 76, 'number_of_hash_bits': 20}. \u001b[0m\n",
            "\u001b[32m[I 2021-06-25 10:00:22,703]\u001b[0m Trial 27 finished with values: [0.6663999999999942, 0.0004115888833999634, 163.83984375] and parameters: {'number_of_tables': 40, 'number_of_probes': 40, 'number_of_hash_bits': 18}. \u001b[0m\n",
            "\u001b[32m[I 2021-06-25 10:00:30,913]\u001b[0m Trial 28 finished with values: [0.36671999999999066, 0.00019075520038604735, 548.8046875] and parameters: {'number_of_tables': 21, 'number_of_probes': 30, 'number_of_hash_bits': 22}. \u001b[0m\n",
            "\u001b[32m[I 2021-06-25 10:00:40,481]\u001b[0m Trial 29 finished with values: [0.1628599999999968, 0.00011824250221252441, 1285.40625] and parameters: {'number_of_tables': 15, 'number_of_probes': 18, 'number_of_hash_bits': 25}. \u001b[0m\n",
            "\u001b[32m[I 2021-06-25 10:00:59,697]\u001b[0m Trial 30 finished with values: [0.7687999999999898, 0.0009250240087509156, -509.484375] and parameters: {'number_of_tables': 38, 'number_of_probes': 52, 'number_of_hash_bits': 17}. \u001b[0m\n",
            "\u001b[32m[I 2021-06-25 10:01:26,418]\u001b[0m Trial 31 finished with values: [0.8571899999999887, 0.0017379024267196656, 186.0] and parameters: {'number_of_tables': 49, 'number_of_probes': 68, 'number_of_hash_bits': 16}. \u001b[0m\n",
            "\u001b[32m[I 2021-06-25 10:01:56,910]\u001b[0m Trial 32 finished with values: [0.8790699999999879, 0.002172318410873413, 180.16796875] and parameters: {'number_of_tables': 48, 'number_of_probes': 93, 'number_of_hash_bits': 16}. \u001b[0m\n",
            "\u001b[32m[I 2021-06-25 10:02:17,265]\u001b[0m Trial 33 finished with values: [0.7831399999999917, 0.0010036286115646363, 187.47265625] and parameters: {'number_of_tables': 46, 'number_of_probes': 54, 'number_of_hash_bits': 17}. \u001b[0m\n",
            "\u001b[32m[I 2021-06-25 10:02:41,660]\u001b[0m Trial 34 finished with values: [0.8533199999999875, 0.0016864903926849366, 160.96875] and parameters: {'number_of_tables': 41, 'number_of_probes': 70, 'number_of_hash_bits': 16}. \u001b[0m\n",
            "\u001b[32m[I 2021-06-25 10:03:07,516]\u001b[0m Trial 35 finished with values: [0.8571399999999869, 0.0019451041221618653, 144.5546875] and parameters: {'number_of_tables': 38, 'number_of_probes': 53, 'number_of_hash_bits': 15}. \u001b[0m\n"
          ]
        },
        {
          "name": "stderr",
          "output_type": "stream",
          "text": [
            "\u001b[32m[I 2021-06-25 10:04:02,085]\u001b[0m Trial 36 finished with values: [0.9164999999999814, 0.004724530696868896, 174.75] and parameters: {'number_of_tables': 47, 'number_of_probes': 92, 'number_of_hash_bits': 14}. \u001b[0m\n",
            "\u001b[32m[I 2021-06-25 10:04:17,020]\u001b[0m Trial 37 finished with values: [0.6072200000000012, 0.0004701333045959473, 310.43359375] and parameters: {'number_of_tables': 42, 'number_of_probes': 58, 'number_of_hash_bits': 20}. \u001b[0m\n",
            "\u001b[32m[I 2021-06-25 10:04:30,403]\u001b[0m Trial 38 finished with values: [0.659839999999997, 0.0005370358943939208, 139.46484375] and parameters: {'number_of_tables': 32, 'number_of_probes': 43, 'number_of_hash_bits': 18}. \u001b[0m\n",
            "\u001b[32m[I 2021-06-25 10:05:35,044]\u001b[0m Trial 39 finished with values: [0.9189799999999837, 0.005846633505821228, 144.9609375] and parameters: {'number_of_tables': 38, 'number_of_probes': 74, 'number_of_hash_bits': 13}. \u001b[0m\n",
            "\u001b[32m[I 2021-06-25 10:05:50,321]\u001b[0m Trial 40 finished with values: [0.6989299999999935, 0.0006446422576904297, 164.7109375] and parameters: {'number_of_tables': 39, 'number_of_probes': 51, 'number_of_hash_bits': 18}. \u001b[0m\n",
            "\u001b[32m[I 2021-06-25 10:06:08,516]\u001b[0m Trial 41 finished with values: [0.7875899999999928, 0.0010140242099761962, 147.38671875] and parameters: {'number_of_tables': 35, 'number_of_probes': 63, 'number_of_hash_bits': 17}. \u001b[0m\n",
            "\u001b[32m[I 2021-06-25 10:06:28,754]\u001b[0m Trial 42 finished with values: [0.8304999999999891, 0.0013773599863052368, 148.53125] and parameters: {'number_of_tables': 36, 'number_of_probes': 57, 'number_of_hash_bits': 16}. \u001b[0m\n",
            "\u001b[32m[I 2021-06-25 10:06:45,548]\u001b[0m Trial 43 finished with values: [0.6890799999999935, 0.0007108644008636475, 187.8828125] and parameters: {'number_of_tables': 40, 'number_of_probes': 47, 'number_of_hash_bits': 18}. \u001b[0m\n",
            "\u001b[32m[I 2021-06-25 10:07:04,714]\u001b[0m Trial 44 finished with values: [0.7220999999999944, 0.0007699584007263184, 236.6796875] and parameters: {'number_of_tables': 45, 'number_of_probes': 86, 'number_of_hash_bits': 19}. \u001b[0m\n",
            "\u001b[32m[I 2021-06-25 10:07:23,493]\u001b[0m Trial 45 finished with values: [0.7882699999999926, 0.001070155906677246, 138.0390625] and parameters: {'number_of_tables': 33, 'number_of_probes': 66, 'number_of_hash_bits': 17}. \u001b[0m\n",
            "\u001b[32m[I 2021-06-25 10:07:36,705]\u001b[0m Trial 46 finished with values: [0.7410799999999922, 0.0007573356151580811, 126.61328125] and parameters: {'number_of_tables': 29, 'number_of_probes': 29, 'number_of_hash_bits': 16}. \u001b[0m\n",
            "\u001b[32m[I 2021-06-25 10:07:52,772]\u001b[0m Trial 47 finished with values: [0.663209999999996, 0.000581502103805542, 213.94140625] and parameters: {'number_of_tables': 39, 'number_of_probes': 60, 'number_of_hash_bits': 19}. \u001b[0m\n",
            "\u001b[32m[I 2021-06-25 10:08:20,690]\u001b[0m Trial 48 finished with values: [0.855969999999988, 0.0020762288808822632, 150.03515625] and parameters: {'number_of_tables': 41, 'number_of_probes': 50, 'number_of_hash_bits': 15}. \u001b[0m\n",
            "\u001b[32m[I 2021-06-25 10:08:34,570]\u001b[0m Trial 49 finished with values: [0.6240999999999984, 0.0004833122968673706, 274.21484375] and parameters: {'number_of_tables': 36, 'number_of_probes': 71, 'number_of_hash_bits': 20}. \u001b[0m\n"
          ]
        }
      ],
      "source": [
        "# Note: this cell takes about 20 minutes to run\n",
        "motpe_sampler = optuna.samplers.MOTPESampler()\n",
        "motpe_experiment = optuna.create_study(sampler=motpe_sampler,\n",
        "                                       directions=[\"maximize\", \"minimize\", \"minimize\"])\n",
        "motpe_experiment.optimize(train_lsh, n_trials=N_TRIALS)"
      ]
    },
    {
      "cell_type": "code",
      "execution_count": null,
      "metadata": {
        "id": "f9105777"
      },
      "outputs": [
        {
          "name": "stderr",
          "output_type": "stream",
          "text": [
            "\u001b[32m[I 2021-06-25 10:16:26,401]\u001b[0m A new study created in memory with name: no-name-fba75b23-62b5-45e2-8188-8631152733c7\u001b[0m\n",
            "\u001b[32m[I 2021-06-25 10:16:46,174]\u001b[0m Trial 0 finished with values: [0.7781999999999899, 0.0010494932889938355, 146.73046875] and parameters: {'number_of_tables': 40, 'number_of_probes': 55, 'number_of_hash_bits': 17}. \u001b[0m\n",
            "\u001b[32m[I 2021-06-25 10:17:21,762]\u001b[0m Trial 1 finished with values: [0.2764099999999897, 0.00046885650157928464, 5098.8984375] and parameters: {'number_of_tables': 34, 'number_of_probes': 61, 'number_of_hash_bits': 26}. \u001b[0m\n",
            "\u001b[32m[I 2021-06-25 10:17:46,242]\u001b[0m Trial 2 finished with values: [0.8394799999999893, 0.0018278647184371947, 114.30078125] and parameters: {'number_of_tables': 34, 'number_of_probes': 45, 'number_of_hash_bits': 15}. \u001b[0m\n",
            "\u001b[32m[I 2021-06-25 10:18:55,244]\u001b[0m Trial 3 finished with values: [0.9209299999999814, 0.0062559912919998165, 155.18359375] and parameters: {'number_of_tables': 41, 'number_of_probes': 75, 'number_of_hash_bits': 13}. \u001b[0m\n",
            "\u001b[32m[I 2021-06-25 10:19:12,738]\u001b[0m Trial 4 finished with values: [0.5966599999999979, 0.000511039400100708, 459.8046875] and parameters: {'number_of_tables': 47, 'number_of_probes': 73, 'number_of_hash_bits': 21}. \u001b[0m\n",
            "\u001b[32m[I 2021-06-25 10:20:12,425]\u001b[0m Trial 5 finished with values: [0.8983199999999877, 0.005467916393280029, 92.921875] and parameters: {'number_of_tables': 28, 'number_of_probes': 36, 'number_of_hash_bits': 12}. \u001b[0m\n",
            "\u001b[32m[I 2021-06-25 10:20:26,002]\u001b[0m Trial 6 finished with values: [0.737279999999992, 0.0011622004985809326, 31.28125] and parameters: {'number_of_tables': 12, 'number_of_probes': 20, 'number_of_hash_bits': 14}. \u001b[0m\n",
            "\u001b[32m[I 2021-06-25 10:20:40,540]\u001b[0m Trial 7 finished with values: [0.5234899999999997, 0.00038179941177368166, 448.53515625] and parameters: {'number_of_tables': 40, 'number_of_probes': 48, 'number_of_hash_bits': 21}. \u001b[0m\n",
            "\u001b[32m[I 2021-06-25 10:20:58,950]\u001b[0m Trial 8 finished with values: [0.7432799999999922, 0.0008508933067321778, 151.6171875] and parameters: {'number_of_tables': 37, 'number_of_probes': 73, 'number_of_hash_bits': 18}. \u001b[0m\n",
            "\u001b[32m[I 2021-06-25 10:21:14,577]\u001b[0m Trial 9 finished with values: [0.697359999999996, 0.0006478900194168091, 162.84375] and parameters: {'number_of_tables': 35, 'number_of_probes': 53, 'number_of_hash_bits': 18}. \u001b[0m\n",
            "\u001b[32m[I 2021-06-25 10:22:04,708]\u001b[0m Trial 10 finished with values: [0.8958599999999822, 0.004526280403137207, 111.49609375] and parameters: {'number_of_tables': 28, 'number_of_probes': 49, 'number_of_hash_bits': 13}. \u001b[0m\n",
            "\u001b[32m[I 2021-06-25 10:22:27,894]\u001b[0m Trial 11 finished with values: [0.7866999999999913, 0.0010530492782592773, 198.65625] and parameters: {'number_of_tables': 50, 'number_of_probes': 93, 'number_of_hash_bits': 18}. \u001b[0m\n",
            "\u001b[32m[I 2021-06-25 10:22:36,024]\u001b[0m Trial 12 finished with values: [0.13494999999999913, 9.886348247528076e-05, 1903.43359375] and parameters: {'number_of_tables': 11, 'number_of_probes': 22, 'number_of_hash_bits': 26}. \u001b[0m\n",
            "\u001b[32m[I 2021-06-25 10:22:44,446]\u001b[0m Trial 13 finished with values: [0.6394099999999963, 0.0005220484972000122, 46.1328125] and parameters: {'number_of_tables': 13, 'number_of_probes': 20, 'number_of_hash_bits': 16}. \u001b[0m\n",
            "\u001b[32m[I 2021-06-25 10:22:50,463]\u001b[0m Trial 14 finished with values: [0.3564299999999888, 0.00016739919185638428, 154.11328125] and parameters: {'number_of_tables': 14, 'number_of_probes': 18, 'number_of_hash_bits': 20}. \u001b[0m\n",
            "\u001b[32m[I 2021-06-25 10:23:24,463]\u001b[0m Trial 15 finished with values: [0.8769899999999843, 0.0028113796949386597, 119.81640625] and parameters: {'number_of_tables': 36, 'number_of_probes': 48, 'number_of_hash_bits': 14}. \u001b[0m\n",
            "\u001b[32m[I 2021-06-25 10:23:28,896]\u001b[0m Trial 16 finished with values: [0.5097599999999995, 0.0002581879615783691, 54.21875] and parameters: {'number_of_tables': 10, 'number_of_probes': 10, 'number_of_hash_bits': 16}. \u001b[0m\n",
            "\u001b[32m[I 2021-06-25 10:23:39,384]\u001b[0m Trial 17 finished with values: [0.18146999999999544, 0.0001444743871688843, 1684.9453125] and parameters: {'number_of_tables': 19, 'number_of_probes': 20, 'number_of_hash_bits': 25}. \u001b[0m\n",
            "\u001b[32m[I 2021-06-25 10:23:55,141]\u001b[0m Trial 18 finished with values: [0.42090999999999484, 0.000324407696723938, 901.9921875] and parameters: {'number_of_tables': 37, 'number_of_probes': 49, 'number_of_hash_bits': 23}. \u001b[0m\n",
            "\u001b[32m[I 2021-06-25 10:24:17,564]\u001b[0m Trial 19 finished with values: [0.8360499999999902, 0.001460992217063904, -7.48828125] and parameters: {'number_of_tables': 40, 'number_of_probes': 58, 'number_of_hash_bits': 16}. \u001b[0m\n",
            "\u001b[32m[I 2021-06-25 10:24:43,653]\u001b[0m Trial 20 finished with values: [0.8224599999999915, 0.0022998151063919068, 85.62109375] and parameters: {'number_of_tables': 18, 'number_of_probes': 24, 'number_of_hash_bits': 13}. \u001b[0m\n",
            "\u001b[32m[I 2021-06-25 10:25:31,059]\u001b[0m Trial 21 finished with values: [0.3131599999999899, 0.0007942313909530639, 4873.1328125] and parameters: {'number_of_tables': 41, 'number_of_probes': 75, 'number_of_hash_bits': 26}. \u001b[0m\n",
            "\u001b[32m[I 2021-06-25 10:26:01,954]\u001b[0m Trial 22 finished with values: [0.8479899999999876, 0.0026165685892105103, 80.04296875] and parameters: {'number_of_tables': 25, 'number_of_probes': 26, 'number_of_hash_bits': 13}. \u001b[0m\n",
            "\u001b[32m[I 2021-06-25 10:27:04,925]\u001b[0m Trial 23 finished with values: [0.2970399999999893, 0.0013944340944290162, 3904.8515625] and parameters: {'number_of_tables': 48, 'number_of_probes': 61, 'number_of_hash_bits': 26}. \u001b[0m\n",
            "\u001b[32m[I 2021-06-25 10:28:10,905]\u001b[0m Trial 24 finished with values: [0.9163099999999842, 0.005951592612266541, 123.68359375] and parameters: {'number_of_tables': 38, 'number_of_probes': 68, 'number_of_hash_bits': 13}. \u001b[0m\n",
            "\u001b[32m[I 2021-06-25 10:28:27,555]\u001b[0m Trial 25 finished with values: [0.7608999999999929, 0.0013949713230133056, 36.1015625] and parameters: {'number_of_tables': 13, 'number_of_probes': 23, 'number_of_hash_bits': 14}. \u001b[0m\n",
            "\u001b[32m[I 2021-06-25 10:28:31,974]\u001b[0m Trial 26 finished with values: [0.34653999999998847, 0.00015223381519317627, 141.76953125] and parameters: {'number_of_tables': 11, 'number_of_probes': 19, 'number_of_hash_bits': 20}. \u001b[0m\n",
            "\u001b[32m[I 2021-06-25 10:28:49,862]\u001b[0m Trial 27 finished with values: [0.695909999999994, 0.0006918719053268433, 218.96875] and parameters: {'number_of_tables': 45, 'number_of_probes': 71, 'number_of_hash_bits': 19}. \u001b[0m\n",
            "\u001b[32m[I 2021-06-25 10:29:05,744]\u001b[0m Trial 28 finished with values: [0.7177399999999956, 0.0005888368844985962, 164.8359375] and parameters: {'number_of_tables': 37, 'number_of_probes': 60, 'number_of_hash_bits': 18}. \u001b[0m\n",
            "\u001b[32m[I 2021-06-25 10:29:12,651]\u001b[0m Trial 29 finished with values: [0.37893999999999206, 0.00018789780139923096, 254.7265625] and parameters: {'number_of_tables': 17, 'number_of_probes': 27, 'number_of_hash_bits': 21}. \u001b[0m\n",
            "\u001b[32m[I 2021-06-25 10:29:47,177]\u001b[0m Trial 30 finished with values: [0.8729599999999864, 0.0027358051776885987, 123.08984375] and parameters: {'number_of_tables': 39, 'number_of_probes': 44, 'number_of_hash_bits': 14}. \u001b[0m\n",
            "\u001b[32m[I 2021-06-25 10:29:53,145]\u001b[0m Trial 31 finished with values: [0.25388999999999207, 0.00011690478324890137, 418.47265625] and parameters: {'number_of_tables': 13, 'number_of_probes': 16, 'number_of_hash_bits': 22}. \u001b[0m\n",
            "\u001b[32m[I 2021-06-25 10:29:57,587]\u001b[0m Trial 32 finished with values: [0.3310999999999878, 0.00014544570446014404, 70.640625] and parameters: {'number_of_tables': 11, 'number_of_probes': 17, 'number_of_hash_bits': 20}. \u001b[0m\n",
            "\u001b[32m[I 2021-06-25 10:30:15,378]\u001b[0m Trial 33 finished with values: [0.39047999999999133, 0.0003522584915161133, 2557.18359375] and parameters: {'number_of_tables': 37, 'number_of_probes': 56, 'number_of_hash_bits': 24}. \u001b[0m\n",
            "\u001b[32m[I 2021-06-25 10:30:34,952]\u001b[0m Trial 34 finished with values: [0.7778799999999925, 0.0016688410997390748, -269.765625] and parameters: {'number_of_tables': 14, 'number_of_probes': 18, 'number_of_hash_bits': 13}. \u001b[0m\n",
            "\u001b[32m[I 2021-06-25 10:30:39,133]\u001b[0m Trial 35 finished with values: [0.2727299999999904, 0.00011070821285247803, 208.33984375] and parameters: {'number_of_tables': 11, 'number_of_probes': 15, 'number_of_hash_bits': 21}. \u001b[0m\n",
            "\u001b[32m[I 2021-06-25 10:30:48,154]\u001b[0m Trial 36 finished with values: [0.1564799999999973, 0.00010971610546112061, 1225.671875] and parameters: {'number_of_tables': 14, 'number_of_probes': 17, 'number_of_hash_bits': 25}. \u001b[0m\n"
          ]
        },
        {
          "name": "stderr",
          "output_type": "stream",
          "text": [
            "\u001b[32m[I 2021-06-25 10:31:32,167]\u001b[0m Trial 37 finished with values: [0.8966099999999849, 0.003543233299255371, -490.703125] and parameters: {'number_of_tables': 49, 'number_of_probes': 58, 'number_of_hash_bits': 14}. \u001b[0m\n",
            "\u001b[32m[I 2021-06-25 10:31:54,924]\u001b[0m Trial 38 finished with values: [0.8315899999999902, 0.001818433904647827, 110.1484375] and parameters: {'number_of_tables': 25, 'number_of_probes': 47, 'number_of_hash_bits': 15}. \u001b[0m\n",
            "\u001b[32m[I 2021-06-25 10:32:14,844]\u001b[0m Trial 39 finished with values: [0.20976999999999385, 0.00020131540298461915, 3590.08984375] and parameters: {'number_of_tables': 21, 'number_of_probes': 40, 'number_of_hash_bits': 26}. \u001b[0m\n",
            "\u001b[32m[I 2021-06-25 10:32:21,519]\u001b[0m Trial 40 finished with values: [0.21414999999999368, 0.00012017819881439209, 779.625] and parameters: {'number_of_tables': 14, 'number_of_probes': 15, 'number_of_hash_bits': 23}. \u001b[0m\n",
            "\u001b[32m[I 2021-06-25 10:32:28,350]\u001b[0m Trial 41 finished with values: [0.4030499999999927, 0.0001993230104446411, -12.57421875] and parameters: {'number_of_tables': 14, 'number_of_probes': 25, 'number_of_hash_bits': 20}. \u001b[0m\n",
            "\u001b[32m[I 2021-06-25 10:32:47,883]\u001b[0m Trial 42 finished with values: [0.4036199999999926, 0.00037379658222198484, 2568.578125] and parameters: {'number_of_tables': 40, 'number_of_probes': 59, 'number_of_hash_bits': 24}. \u001b[0m\n",
            "\u001b[32m[I 2021-06-25 10:33:10,394]\u001b[0m Trial 43 finished with values: [0.8240399999999896, 0.001932988214492798, -252.359375] and parameters: {'number_of_tables': 18, 'number_of_probes': 35, 'number_of_hash_bits': 14}. \u001b[0m\n",
            "\u001b[32m[I 2021-06-25 10:33:21,861]\u001b[0m Trial 44 finished with values: [0.21251999999999385, 0.0001655750274658203, 1772.51953125] and parameters: {'number_of_tables': 20, 'number_of_probes': 27, 'number_of_hash_bits': 25}. \u001b[0m\n",
            "\u001b[32m[I 2021-06-25 10:33:38,161]\u001b[0m Trial 45 finished with values: [0.2849199999999896, 0.0002587076187133789, 1709.50390625] and parameters: {'number_of_tables': 27, 'number_of_probes': 45, 'number_of_hash_bits': 25}. \u001b[0m\n",
            "\u001b[32m[I 2021-06-25 10:34:52,425]\u001b[0m Trial 46 finished with values: [0.9225899999999821, 0.006703413605690003, -513.4140625] and parameters: {'number_of_tables': 42, 'number_of_probes': 79, 'number_of_hash_bits': 13}. \u001b[0m\n",
            "\u001b[32m[I 2021-06-25 10:35:13,134]\u001b[0m Trial 47 finished with values: [0.7708299999999901, 0.0009955607891082763, 170.828125] and parameters: {'number_of_tables': 43, 'number_of_probes': 86, 'number_of_hash_bits': 18}. \u001b[0m\n",
            "\u001b[32m[I 2021-06-25 10:35:48,713]\u001b[0m Trial 48 finished with values: [0.8452599999999911, 0.0032960205078125, 68.84375] and parameters: {'number_of_tables': 13, 'number_of_probes': 25, 'number_of_hash_bits': 12}. \u001b[0m\n",
            "\u001b[32m[I 2021-06-25 10:37:04,602]\u001b[0m Trial 49 finished with values: [0.3326099999999899, 0.0020538235902786257, 2185.73046875] and parameters: {'number_of_tables': 50, 'number_of_probes': 79, 'number_of_hash_bits': 26}. \u001b[0m\n"
          ]
        }
      ],
      "source": [
        "# Note: this cell takes about 20 minutes to run\n",
        "random_sampler = optuna.samplers.RandomSampler()\n",
        "random_experiment = optuna.create_study(sampler=random_sampler, directions=[\"maximize\", \"minimize\", \"minimize\"])\n",
        "random_experiment.optimize(train_lsh, n_trials=N_TRIALS)"
      ]
    },
    {
      "cell_type": "code",
      "execution_count": null,
      "metadata": {
        "id": "bfce2ed0"
      },
      "outputs": [],
      "source": [
        "lsh_motpe_df = cast_as_df(motpe_experiment, experiment_type=\"MOTPE\", algorithm_name=\"LSH\")\n",
        "lsh_random_df = cast_as_df(random_experiment, experiment_type=\"Random\", algorithm_name=\"LSH\")"
      ]
    },
    {
      "cell_type": "code",
      "execution_count": null,
      "metadata": {
        "id": "618adc73"
      },
      "outputs": [
        {
          "data": {
            "image/png": "[encoded data removed]",
            "text/plain": [
              "<Figure size 1152x432 with 3 Axes>"
            ]
          },
          "metadata": {
            "needs_background": "light"
          },
          "output_type": "display_data"
        }
      ],
      "source": [
        "three_panel_fig([lsh_motpe_df, lsh_random_df])#"
      ]
    },
    {
      "cell_type": "markdown",
      "metadata": {
        "id": "97ac0a16"
      },
      "source": [
        "### Discussion time\n",
        "These figures look much the same as previous experiments: both MOTPE and random sampling more or less trace out the same region of objective space. Again, we find a few points that seem to dominate the memory space but again we caution that this is likely due to the nature in which we measure memory (in fact, we know some of these measurements are completely wrong because they're negative!). We use the `psutil` library and pass it the process PID to measure the memory usage before and after building the index. While this works well enough for Annoy and HNSW, we suspect this LSH implementation does not always fully release memory upon a new iteration of a trial during the optimization run. This would cause the next pass through the training loop to still register memory from the previous loop, thus resulting in an incorrect measurement. We were unable to track down the exact cause -- if we figure it out, we'll fix it! (And if you spot the problem, let us know!)\n"
      ]
    },
    {
      "cell_type": "markdown",
      "metadata": {
        "id": "vFK_7w2KgcXu"
      },
      "source": [
        "<p><center><img src='https://github.com/sparsh-ai/multiobjective-optimizations/blob/main/docs/_images/T892775_13.png?raw=1'></center></p>"
      ]
    },
    {
      "cell_type": "markdown",
      "metadata": {
        "id": "PMvI5jemJrCF"
      },
      "source": [
        "To be consistent, we again ran this experiment for many more trials (150 this time). While we can see Pareto frontier is very densely sampled by the MOBO strategy, random search still does a fine job of covering the space. "
      ]
    },
    {
      "cell_type": "markdown",
      "metadata": {
        "id": "590ea8da"
      },
      "source": [
        "### Optimizing ANNs without MOBO\n",
        "\n",
        "We used ANNs to demonstrate a real-world, complex, data-intensive application with realistic multi-objective goals. This allowed us to explore the nuances of multi-objective optimization on more than a toy problem. But we ultimately discovered that even in such a setting, multi-objective Bayesian optimization does not typically perform significantly better than random sampling.  However, if you are building an ANN application (rather than reading along for a detailed look at MOBO) then we can do even better than random sampling. \n",
        "\n",
        "In real ANN applications, often the memory budget is already known (or is cheap enough that additional resources can be easily procured). If you already know your memory budget, then there is no need to optimize over it. For most ANN algorithms, the memory budget can be set to your specifications with a little fiddling (think `M` in the case of HNSW, or `number_of_hash_tables` in LSH). Once set, perform a simple sweep over the hyperparameter that controls the latency-recall tradeoff (`search_k` in Annoy, `ef` in HNSW, `number_of_probes` in LSH). And voila! This hyperparameter sweep will inherently trace out a Pareto frontier in Recall/Query time space. However, if you do not know _a priori_ what memory budget you are willing to allot for your application, the next best thing would be to perform a random sampling of the hyperparameters of your algorithm to get a feel for the trade-offs involved. \n",
        "\n",
        "Another interesting axis we didn't dig into in this post is an ANN algorithm's _build time_. We looked closely at _query time_, which is typically more important. In this section, we artifically set the range of hyperparameter values such that cells won't take hours or _days_ to run (resulting in some rather low values of Recall, if you noticed). However, in a real application, building the search index for one of these algorithms can take a considerable amount of time when more appropriate HPs are employed and even larger datasets are used. This matters if an application will require _rebuilding_ on a regular cadence. While some algorithms allow insertion of new datapoints, better results are often achieved by occasionally rebuilding the index, especially if many new items are to be added. \n",
        "\n",
        "A good example is tweets. More than 500 million new tweets are added to Twitter each day. Simple insertion of these new tweets to an existing index may be suboptimal. In which case, a regular rebuilding cadence should be established and the build time for such an algorithm becomes important. Therefore, some applications may require a careful analysis of the trade-off of build time with recall, query time, and memory footprint -- a 4D optimization problem! However, as with the memory footprint, an acceptable build time budget may already be known _a priori_ and hyperparameters can be set such that they meet memory and build time requirements. Then, simply sweep over the latency-recall trade-off hyperparameter to identify the Pareto frontier between predictive performance and inference time."
      ]
    },
    {
      "cell_type": "markdown",
      "metadata": {
        "id": "a3df1ff0"
      },
      "source": [
        "## The big take-away\n",
        "\n",
        "We applied multi-objective Bayesian optimization to three Approximate Nearest Neighbor algorithms and found that the results weren't always much better than using a random sampling. And this is not altogether unsurprising. In a [recent paper](https://arxiv.org/pdf/2012.03826.pdf), authors demonstrated that many MOBO algorithms only perform HPO a few percent better (in terms of optimizing an appropriate objective like accuracy) than random sampling on a wide range of machine learning experiments. \n",
        "\n",
        "While its still unclear when MOBO might provide significant gains over random sampling, one clue may be in the relationship of the hyperparameters to the objective space. Algorithms like neural networks have many parameters with complex and non-linear relationships between them and the objective (such as accuracy or latency). The myriad hyperparameter combinations could very well map to a vast space of possible (accuracy, latency) outputs (like on the right). However, this might not hold true for all algorithms, where the actual possible output space is constrained (like on the left)."
      ]
    },
    {
      "cell_type": "markdown",
      "metadata": {
        "id": "giCkZutPgek-"
      },
      "source": [
        "<p><center><img src='https://github.com/sparsh-ai/multiobjective-optimizations/blob/main/docs/_images/T892775_14.png?raw=1'></center></p>"
      ]
    },
    {
      "cell_type": "markdown",
      "metadata": {
        "id": "uY5KVqVyJ3GE"
      },
      "source": [
        "We speculate that MOBO optimization techniques stand a chance of performing better when the output space is like that on the right. The sophisticated mechanisms in these techniques should be better able to identify more ideal points in the output space over a random algorithm which samples, well... randomly! But when the output space is constrained, both MOBO and random search have \"less room\" to sample, so random performs about as well as these more sophisticated techniques. "
      ]
    },
    {
      "cell_type": "markdown",
      "metadata": {
        "id": "uRnCiDnuggXR"
      },
      "source": [
        "<p><center><img src='https://github.com/sparsh-ai/multiobjective-optimizations/blob/main/docs/_images/T892775_15.png?raw=1'></center></p>"
      ]
    },
    {
      "cell_type": "markdown",
      "metadata": {
        "id": "uPBL1Zk3J4r-"
      },
      "source": [
        "The hyperparameters of many approximate nearest neighbor algorithms may provide their own constraints, because they often control a single objective. For example, `M` in the HNSW algorithm is almost entirely responsible for the memory footprint. This means that, regardless of the value of other hyperparmeters, the memory output is more or less fixed, constraining the possible outputs in the objective space. The same is true for the hyperparameters that control the accuracy-latency trade-off. Thus, when we plot these results we see both random and MOBO algorithms perform similarly because there simply isn't that much output space to explore. \n",
        "\n",
        "The ultimate lesson from our experiments in this and our previous sections is that random sampling is probably good enough for most applications. Using more sophisticated optimization techniques may provide added benefit when the relationship between your hyperparameters and the objective space is murky, or when you have a large compute budget. The longer these experiments are run, the more likely the MOBO algorithm is to find marginally better solutions and sometimes even a marginal improvement is worth the computational cost. "
      ]
    }
  ],
  "metadata": {
    "colab": {
      "collapsed_sections": [],
      "name": "T892775_Exploring_Multi_Objective_Hyperparameter_Optimization.ipynb",
      "toc_visible": true
    },
    "kernelspec": {
      "display_name": "Python 3",
      "name": "python3"
    }
  },
  "nbformat": 4,
  "nbformat_minor": 0
}
