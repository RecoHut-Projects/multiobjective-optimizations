{
  "cells": [
    {
      "cell_type": "markdown",
      "metadata": {
        "id": "LjYoZD1BJaLQ"
      },
      "source": [
        "# Entire Space Multi-Task Model (ESSM)"
      ]
    },
    {
      "cell_type": "markdown",
      "metadata": {
        "id": "tceXbDgrJgaf"
      },
      "source": [
        "<p><center><img src='_images/L519476_1.png'></center></p>"
      ]
    }
  ],
  "metadata": {
    "colab": {
      "collapsed_sections": [],
      "name": "L519476_Entire_Space_Multi_Task_Model_(ESSM).ipynb",
      "toc_visible": true
    },
    "kernelspec": {
      "display_name": "Python 3",
      "name": "python3"
    }
  },
  "nbformat": 4,
  "nbformat_minor": 0
}
