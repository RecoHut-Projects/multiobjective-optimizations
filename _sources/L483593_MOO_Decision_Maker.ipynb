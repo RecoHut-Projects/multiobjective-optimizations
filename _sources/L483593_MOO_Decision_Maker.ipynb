{
  "cells": [
    {
      "cell_type": "markdown",
      "metadata": {
        "id": "dHjRt8ro1Toy"
      },
      "source": [
        "# MOO Decision Maker"
      ]
    },
    {
      "cell_type": "markdown",
      "metadata": {
        "id": "tw0R69-81Y2V"
      },
      "source": [
        "<p><center><img src='_images/L483593_1.png'></center></p>\n",
        "\n",
        "<p><center><img src='_images/L483593_2.png'></center></p>"
      ]
    }
  ],
  "metadata": {
    "colab": {
      "name": "L483593_MOO_Decision_Maker.ipynb",
      "toc_visible": true
    },
    "kernelspec": {
      "display_name": "Python 3",
      "name": "python3"
    }
  },
  "nbformat": 4,
  "nbformat_minor": 0
}
