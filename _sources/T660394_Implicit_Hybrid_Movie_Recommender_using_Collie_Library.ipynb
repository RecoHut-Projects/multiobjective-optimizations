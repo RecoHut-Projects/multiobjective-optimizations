{
  "cells": [
    {
      "cell_type": "markdown",
      "metadata": {
        "id": "meP8PulpcavH"
      },
      "source": [
        "# Implicit Hybrid Movie Recommender using Collie Library\n",
        "\n",
        "> Testing out the features of Collie Recs library on MovieLens-100K. Training Factorization and Hybrid models with Pytorch Lightning."
      ]
    },
    {
      "cell_type": "markdown",
      "metadata": {
        "id": "UDwkPy1gcA94"
      },
      "source": [
        "## Setup"
      ]
    },
    {
      "cell_type": "code",
      "execution_count": null,
      "metadata": {
        "id": "P43fS4H27gCt"
      },
      "outputs": [],
      "source": [
        "!pip install -q collie_recs\n",
        "!pip install -q git+https://github.com/sparsh-ai/recochef.git"
      ]
    },
    {
      "cell_type": "code",
      "execution_count": 2,
      "metadata": {
        "id": "PD0n8kefAb67"
      },
      "outputs": [],
      "source": [
        "import os\n",
        "import joblib\n",
        "import numpy as np\n",
        "import pandas as pd\n",
        "\n",
        "from collie_recs.interactions import Interactions\n",
        "from collie_recs.interactions import ApproximateNegativeSamplingInteractionsDataLoader\n",
        "from collie_recs.cross_validation import stratified_split\n",
        "from collie_recs.metrics import auc, evaluate_in_batches, mapk, mrr\n",
        "from collie_recs.model import CollieTrainer, MatrixFactorizationModel, HybridPretrainedModel\n",
        "from collie_recs.movielens import get_recommendation_visualizations\n",
        "\n",
        "import torch\n",
        "from pytorch_lightning.utilities.seed import seed_everything\n",
        "\n",
        "from recochef.datasets.movielens import MovieLens\n",
        "from recochef.preprocessing.encode import label_encode as le\n",
        "\n",
        "from IPython.display import HTML"
      ]
    },
    {
      "cell_type": "code",
      "execution_count": 3,
      "metadata": {
        "id": "ClWobbREN4VU"
      },
      "outputs": [
        {
          "name": "stderr",
          "output_type": "stream",
          "text": [
            "Global seed set to 22\n"
          ]
        },
        {
          "data": {
            "text/plain": [
              "22"
            ]
          },
          "execution_count": 3,
          "metadata": {},
          "output_type": "execute_result"
        }
      ],
      "source": [
        "# this handy PyTorch Lightning function fixes random seeds across all the libraries used here\n",
        "seed_everything(22)"
      ]
    },
    {
      "cell_type": "code",
      "execution_count": 6,
      "metadata": {
        "id": "xfNy6xZKS5HT"
      },
      "outputs": [
        {
          "name": "stdout",
          "output_type": "stream",
          "text": [
            "Last updated: 2021-10-27 05:51:23\n",
            "\n",
            "collie_recs      : 0.6.1\n",
            "pytorch_lightning: 1.4.9\n",
            "recochef         : 0.0.post1.dev55+gc3ce5c2\n",
            "\n",
            "Compiler    : GCC 7.5.0\n",
            "OS          : Linux\n",
            "Release     : 5.4.104+\n",
            "Machine     : x86_64\n",
            "Processor   : x86_64\n",
            "CPU cores   : 2\n",
            "Architecture: 64bit\n",
            "\n",
            "joblib : 1.0.1\n",
            "IPython: 5.5.0\n",
            "numpy  : 1.19.5\n",
            "torch  : 1.9.0+cu111\n",
            "pandas : 1.1.5\n",
            "\n"
          ]
        }
      ],
      "source": [
        "!pip install -q watermark\n",
        "%reload_ext watermark\n",
        "%watermark -m -iv -u -t -d -p collie_recs,pytorch_lightning,recochef"
      ]
    },
    {
      "cell_type": "markdown",
      "metadata": {
        "id": "T0N-kmIrcDZr"
      },
      "source": [
        "## Data Loading"
      ]
    },
    {
      "cell_type": "code",
      "execution_count": null,
      "metadata": {
        "id": "LEuHGsYgGv-e"
      },
      "outputs": [],
      "source": [
        "data_object = MovieLens()"
      ]
    },
    {
      "cell_type": "code",
      "execution_count": null,
      "metadata": {
        "id": "g3lLxQE1G120"
      },
      "outputs": [
        {
          "data": {
            "text/html": [
              "<div>\n",
              "<style scoped>\n",
              "    .dataframe tbody tr th:only-of-type {\n",
              "        vertical-align: middle;\n",
              "    }\n",
              "\n",
              "    .dataframe tbody tr th {\n",
              "        vertical-align: top;\n",
              "    }\n",
              "\n",
              "    .dataframe thead th {\n",
              "        text-align: right;\n",
              "    }\n",
              "</style>\n",
              "<table border=\"1\" class=\"dataframe\">\n",
              "  <thead>\n",
              "    <tr style=\"text-align: right;\">\n",
              "      <th></th>\n",
              "      <th>USERID</th>\n",
              "      <th>ITEMID</th>\n",
              "      <th>RATING</th>\n",
              "      <th>TIMESTAMP</th>\n",
              "    </tr>\n",
              "  </thead>\n",
              "  <tbody>\n",
              "    <tr>\n",
              "      <th>0</th>\n",
              "      <td>196</td>\n",
              "      <td>242</td>\n",
              "      <td>3.0</td>\n",
              "      <td>881250949</td>\n",
              "    </tr>\n",
              "    <tr>\n",
              "      <th>1</th>\n",
              "      <td>186</td>\n",
              "      <td>302</td>\n",
              "      <td>3.0</td>\n",
              "      <td>891717742</td>\n",
              "    </tr>\n",
              "    <tr>\n",
              "      <th>2</th>\n",
              "      <td>22</td>\n",
              "      <td>377</td>\n",
              "      <td>1.0</td>\n",
              "      <td>878887116</td>\n",
              "    </tr>\n",
              "    <tr>\n",
              "      <th>3</th>\n",
              "      <td>244</td>\n",
              "      <td>51</td>\n",
              "      <td>2.0</td>\n",
              "      <td>880606923</td>\n",
              "    </tr>\n",
              "    <tr>\n",
              "      <th>4</th>\n",
              "      <td>166</td>\n",
              "      <td>346</td>\n",
              "      <td>1.0</td>\n",
              "      <td>886397596</td>\n",
              "    </tr>\n",
              "  </tbody>\n",
              "</table>\n",
              "</div>"
            ],
            "text/plain": [
              "   USERID  ITEMID  RATING  TIMESTAMP\n",
              "0     196     242     3.0  881250949\n",
              "1     186     302     3.0  891717742\n",
              "2      22     377     1.0  878887116\n",
              "3     244      51     2.0  880606923\n",
              "4     166     346     1.0  886397596"
            ]
          },
          "execution_count": 61,
          "metadata": {
            "tags": []
          },
          "output_type": "execute_result"
        }
      ],
      "source": [
        "df = data_object.load_interactions()\n",
        "df.head()"
      ]
    },
    {
      "cell_type": "markdown",
      "metadata": {
        "id": "3X8-bE9YcGBg"
      },
      "source": [
        "## Preprocessing"
      ]
    },
    {
      "cell_type": "code",
      "execution_count": null,
      "metadata": {
        "id": "tJvifZdrLsGK"
      },
      "outputs": [],
      "source": [
        "# drop duplicate user-item pair records, keeping recent ratings only\n",
        "df.drop_duplicates(subset=['USERID','ITEMID'], keep='last', inplace=True)"
      ]
    },
    {
      "cell_type": "code",
      "execution_count": null,
      "metadata": {
        "id": "eq7GY0lEINgA"
      },
      "outputs": [],
      "source": [
        "# convert the explicit data to implicit by only keeping interactions with a rating ``>= 4``\n",
        "df = df[df.RATING>=4].reset_index(drop=True)\n",
        "df['RATING'] = 1"
      ]
    },
    {
      "cell_type": "code",
      "execution_count": null,
      "metadata": {
        "id": "Jo4FnRzSHPzs"
      },
      "outputs": [],
      "source": [
        "# label encode\n",
        "df, umap = le(df, col='USERID')\n",
        "df, imap = le(df, col='ITEMID')\n",
        "\n",
        "df = df.astype('int64')"
      ]
    },
    {
      "cell_type": "code",
      "execution_count": null,
      "metadata": {
        "id": "LA9BtiDrJ_wf"
      },
      "outputs": [
        {
          "data": {
            "text/html": [
              "<div>\n",
              "<style scoped>\n",
              "    .dataframe tbody tr th:only-of-type {\n",
              "        vertical-align: middle;\n",
              "    }\n",
              "\n",
              "    .dataframe tbody tr th {\n",
              "        vertical-align: top;\n",
              "    }\n",
              "\n",
              "    .dataframe thead th {\n",
              "        text-align: right;\n",
              "    }\n",
              "</style>\n",
              "<table border=\"1\" class=\"dataframe\">\n",
              "  <thead>\n",
              "    <tr style=\"text-align: right;\">\n",
              "      <th></th>\n",
              "      <th>USERID</th>\n",
              "      <th>ITEMID</th>\n",
              "      <th>RATING</th>\n",
              "      <th>TIMESTAMP</th>\n",
              "    </tr>\n",
              "  </thead>\n",
              "  <tbody>\n",
              "    <tr>\n",
              "      <th>0</th>\n",
              "      <td>0</td>\n",
              "      <td>0</td>\n",
              "      <td>1</td>\n",
              "      <td>884182806</td>\n",
              "    </tr>\n",
              "    <tr>\n",
              "      <th>1</th>\n",
              "      <td>1</td>\n",
              "      <td>1</td>\n",
              "      <td>1</td>\n",
              "      <td>891628467</td>\n",
              "    </tr>\n",
              "    <tr>\n",
              "      <th>2</th>\n",
              "      <td>2</td>\n",
              "      <td>2</td>\n",
              "      <td>1</td>\n",
              "      <td>879781125</td>\n",
              "    </tr>\n",
              "    <tr>\n",
              "      <th>3</th>\n",
              "      <td>3</td>\n",
              "      <td>3</td>\n",
              "      <td>1</td>\n",
              "      <td>876042340</td>\n",
              "    </tr>\n",
              "    <tr>\n",
              "      <th>4</th>\n",
              "      <td>4</td>\n",
              "      <td>4</td>\n",
              "      <td>1</td>\n",
              "      <td>879270459</td>\n",
              "    </tr>\n",
              "  </tbody>\n",
              "</table>\n",
              "</div>"
            ],
            "text/plain": [
              "   USERID  ITEMID  RATING  TIMESTAMP\n",
              "0       0       0       1  884182806\n",
              "1       1       1       1  891628467\n",
              "2       2       2       1  879781125\n",
              "3       3       3       1  876042340\n",
              "4       4       4       1  879270459"
            ]
          },
          "execution_count": 39,
          "metadata": {
            "tags": []
          },
          "output_type": "execute_result"
        }
      ],
      "source": [
        "df.head()"
      ]
    },
    {
      "cell_type": "code",
      "execution_count": null,
      "metadata": {
        "id": "W3hUWib-MyjB"
      },
      "outputs": [
        {
          "data": {
            "text/html": [
              "<div>\n",
              "<style scoped>\n",
              "    .dataframe tbody tr th:only-of-type {\n",
              "        vertical-align: middle;\n",
              "    }\n",
              "\n",
              "    .dataframe tbody tr th {\n",
              "        vertical-align: top;\n",
              "    }\n",
              "\n",
              "    .dataframe thead th {\n",
              "        text-align: right;\n",
              "    }\n",
              "</style>\n",
              "<table border=\"1\" class=\"dataframe\">\n",
              "  <thead>\n",
              "    <tr style=\"text-align: right;\">\n",
              "      <th></th>\n",
              "      <th>USERID</th>\n",
              "      <th>ITEMID</th>\n",
              "      <th>RATING</th>\n",
              "      <th>TIMESTAMP</th>\n",
              "    </tr>\n",
              "  </thead>\n",
              "  <tbody>\n",
              "    <tr>\n",
              "      <th>0</th>\n",
              "      <td>0</td>\n",
              "      <td>0</td>\n",
              "      <td>1</td>\n",
              "      <td>884182806</td>\n",
              "    </tr>\n",
              "    <tr>\n",
              "      <th>1</th>\n",
              "      <td>1</td>\n",
              "      <td>1</td>\n",
              "      <td>1</td>\n",
              "      <td>891628467</td>\n",
              "    </tr>\n",
              "    <tr>\n",
              "      <th>2</th>\n",
              "      <td>2</td>\n",
              "      <td>2</td>\n",
              "      <td>1</td>\n",
              "      <td>879781125</td>\n",
              "    </tr>\n",
              "    <tr>\n",
              "      <th>3</th>\n",
              "      <td>3</td>\n",
              "      <td>3</td>\n",
              "      <td>1</td>\n",
              "      <td>876042340</td>\n",
              "    </tr>\n",
              "    <tr>\n",
              "      <th>4</th>\n",
              "      <td>4</td>\n",
              "      <td>4</td>\n",
              "      <td>1</td>\n",
              "      <td>879270459</td>\n",
              "    </tr>\n",
              "  </tbody>\n",
              "</table>\n",
              "</div>"
            ],
            "text/plain": [
              "   USERID  ITEMID  RATING  TIMESTAMP\n",
              "0       0       0       1  884182806\n",
              "1       1       1       1  891628467\n",
              "2       2       2       1  879781125\n",
              "3       3       3       1  876042340\n",
              "4       4       4       1  879270459"
            ]
          },
          "execution_count": 40,
          "metadata": {
            "tags": []
          },
          "output_type": "execute_result"
        }
      ],
      "source": [
        "user_counts = df.groupby(by='USERID')['ITEMID'].count()\n",
        "user_list = user_counts[user_counts>=3].index.tolist()\n",
        "df = df[df.USERID.isin(user_list)]\n",
        "\n",
        "df.head()"
      ]
    },
    {
      "cell_type": "markdown",
      "metadata": {
        "id": "37Y7qEEJNiE4"
      },
      "source": [
        "### Interactions\n",
        "While we have chosen to represent the data as a ``pandas.DataFrame`` for easy viewing now, Collie uses a custom ``torch.utils.data.Dataset`` called ``Interactions``. This class stores a sparse representation of the data and offers some handy benefits, including: \n",
        "\n",
        "* The ability to index the data with a ``__getitem__`` method \n",
        "* The ability to sample many negative items (we will get to this later!) \n",
        "* Nice quality checks to ensure data is free of errors before model training \n",
        "\n",
        "Instantiating the object is simple! "
      ]
    },
    {
      "cell_type": "code",
      "execution_count": null,
      "metadata": {
        "id": "dLcqt57TI-6l"
      },
      "outputs": [
        {
          "name": "stdout",
          "output_type": "stream",
          "text": [
            "Checking for and removing duplicate user, item ID pairs...\n",
            "Checking ``num_negative_samples`` is valid...\n",
            "Maximum number of items a user has interacted with: 378\n",
            "Generating positive items set...\n"
          ]
        },
        {
          "data": {
            "text/plain": [
              "Interactions object with 48616 interactions between 941 users and 1447 items, returning 10 negative samples per interaction."
            ]
          },
          "execution_count": 41,
          "metadata": {
            "tags": []
          },
          "output_type": "execute_result"
        }
      ],
      "source": [
        "interactions = Interactions(\n",
        "    users=df['USERID'],\n",
        "    items=df['ITEMID'],\n",
        "    ratings=df['RATING'],\n",
        "    allow_missing_ids=True,\n",
        ")\n",
        "\n",
        "interactions"
      ]
    },
    {
      "cell_type": "markdown",
      "metadata": {
        "id": "4TaWM_OFNZzn"
      },
      "source": [
        "### Data Splits \n",
        "With an ``Interactions`` dataset, Collie supports two types of data splits. \n",
        "\n",
        "1. **Random split**: This code randomly assigns an interaction to a ``train``, ``validation``, or ``test`` dataset. While this is significantly faster to perform than a stratified split, it does not guarantee any balance, meaning a scenario where a user will have no interactions in the ``train`` dataset and all in the ``test`` dataset is possible. \n",
        "2. **Stratified split**: While this code runs slower than a random split, this guarantees that each user will be represented in the ``train``, ``validation``, and ``test`` dataset. This is by far the most fair way to train and evaluate a recommendation model. \n",
        "\n",
        "Since this is a small dataset and we have time, we will go ahead and use ``stratified_split``. If you're short on time, a ``random_split`` can easily be swapped in, since both functions share the same API! "
      ]
    },
    {
      "cell_type": "code",
      "execution_count": null,
      "metadata": {
        "id": "U_4IPy2aNLVE"
      },
      "outputs": [
        {
          "name": "stdout",
          "output_type": "stream",
          "text": [
            "Generating positive items set...\n",
            "Generating positive items set...\n"
          ]
        },
        {
          "data": {
            "text/plain": [
              "(Interactions object with 43508 interactions between 941 users and 1447 items, returning 10 negative samples per interaction.,\n",
              " Interactions object with 5108 interactions between 941 users and 1447 items, returning 10 negative samples per interaction.)"
            ]
          },
          "execution_count": 42,
          "metadata": {
            "tags": []
          },
          "output_type": "execute_result"
        }
      ],
      "source": [
        "train_interactions, val_interactions = stratified_split(interactions, test_p=0.1, seed=42)\n",
        "train_interactions, val_interactions"
      ]
    },
    {
      "cell_type": "markdown",
      "metadata": {
        "id": "PMN-6ktJb7qR"
      },
      "source": [
        "## Train a Matrix Factorization Model"
      ]
    },
    {
      "cell_type": "markdown",
      "metadata": {
        "id": "ZWi4VUjeghUA"
      },
      "source": [
        "### Model Architecture \n",
        "With our data ready-to-go, we can now start training a recommendation model. While Collie has several model architectures built-in, the simplest by far is the ``MatrixFactorizationModel``, which use ``torch.nn.Embedding`` layers and a dot-product operation to perform matrix factorization via collaborative filtering. \n",
        "\n",
        "![image.png](data:image/png;base64,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)\n",
        "\n",
        "Digging through the code of [``collie_recs.model.MatrixFactorizationModel``](../collie_recs/model.py) shows the architecture is as simple as we might think. For simplicity, we will include relevant portions below so we know exactly what we are building: \n",
        "\n",
        "````python\n",
        "def _setup_model(self, **kwargs) -> None:\n",
        "    self.user_biases = ZeroEmbedding(num_embeddings=self.hparams.num_users,\n",
        "                                     embedding_dim=1,\n",
        "                                     sparse=self.hparams.sparse)\n",
        "    self.item_biases = ZeroEmbedding(num_embeddings=self.hparams.num_items,\n",
        "                                     embedding_dim=1,\n",
        "                                     sparse=self.hparams.sparse)\n",
        "    self.user_embeddings = ScaledEmbedding(num_embeddings=self.hparams.num_users,\n",
        "                                           embedding_dim=self.hparams.embedding_dim,\n",
        "                                           sparse=self.hparams.sparse)\n",
        "    self.item_embeddings = ScaledEmbedding(num_embeddings=self.hparams.num_items,\n",
        "                                           embedding_dim=self.hparams.embedding_dim,\n",
        "                                           sparse=self.hparams.sparse)\n",
        "\n",
        "        \n",
        "def forward(self, users: torch.tensor, items: torch.tensor) -> torch.tensor:\n",
        "    user_embeddings = self.user_embeddings(users)\n",
        "    item_embeddings = self.item_embeddings(items)\n",
        "\n",
        "    preds = (\n",
        "        torch.mul(user_embeddings, item_embeddings).sum(axis=1)\n",
        "        + self.user_biases(users).squeeze(1)\n",
        "        + self.item_biases(items).squeeze(1)\n",
        "    )\n",
        "\n",
        "    if self.hparams.y_range is not None:\n",
        "        preds = (\n",
        "            torch.sigmoid(preds)\n",
        "            * (self.hparams.y_range[1] - self.hparams.y_range[0])\n",
        "            + self.hparams.y_range[0]\n",
        "        )\n",
        "\n",
        "    return preds\n",
        "````\n",
        "\n",
        "Let's go ahead and instantiate the model and start training! Note that even if you are running this model on a CPU instead of a GPU, this will still be relatively quick to fully train. "
      ]
    },
    {
      "cell_type": "markdown",
      "metadata": {
        "id": "L7o3t9vNN-Lt"
      },
      "source": [
        "Collie is built with PyTorch Lightning, so all the model classes and the ``CollieTrainer`` class accept all the training options available in PyTorch Lightning. Here, we're going to set the embedding dimension and learning rate differently, and go with the defaults for everything else"
      ]
    },
    {
      "cell_type": "code",
      "execution_count": null,
      "metadata": {
        "id": "LNfxzlruN1xx"
      },
      "outputs": [],
      "source": [
        "model = MatrixFactorizationModel(\n",
        "    train=train_interactions,\n",
        "    val=val_interactions,\n",
        "    embedding_dim=10,\n",
        "    lr=1e-2,\n",
        ")"
      ]
    },
    {
      "cell_type": "code",
      "execution_count": null,
      "metadata": {
        "id": "TKxeyMsMN1vg"
      },
      "outputs": [
        {
          "name": "stderr",
          "output_type": "stream",
          "text": [
            "GPU available: True, used: True\n",
            "TPU available: False, using: 0 TPU cores\n",
            "LOCAL_RANK: 0 - CUDA_VISIBLE_DEVICES: [0]\n",
            "\n",
            "  | Name            | Type            | Params\n",
            "----------------------------------------------------\n",
            "0 | user_biases     | ZeroEmbedding   | 941   \n",
            "1 | item_biases     | ZeroEmbedding   | 1.4 K \n",
            "2 | user_embeddings | ScaledEmbedding | 9.4 K \n",
            "3 | item_embeddings | ScaledEmbedding | 14.5 K\n",
            "4 | dropout         | Dropout         | 0     \n",
            "----------------------------------------------------\n",
            "26.3 K    Trainable params\n",
            "0         Non-trainable params\n",
            "26.3 K    Total params\n",
            "0.105     Total estimated model params size (MB)\n"
          ]
        },
        {
          "name": "stdout",
          "output_type": "stream",
          "text": [
            "Detected GPU. Setting ``gpus`` to 1.\n"
          ]
        },
        {
          "data": {
            "application/vnd.jupyter.widget-view+json": {
              "model_id": "a532ba9270d346ecbf3361663f592c42",
              "version_major": 2,
              "version_minor": 0
            },
            "text/plain": [
              "HBox(children=(FloatProgress(value=1.0, bar_style='info', description='Validation sanity check', layout=Layout…"
            ]
          },
          "metadata": {
            "tags": []
          },
          "output_type": "display_data"
        },
        {
          "name": "stderr",
          "output_type": "stream",
          "text": [
            "Global seed set to 22\n"
          ]
        },
        {
          "name": "stdout",
          "output_type": "stream",
          "text": [
            "\r"
          ]
        },
        {
          "data": {
            "application/vnd.jupyter.widget-view+json": {
              "model_id": "e5af3beb370e48ec819d910bd3180e49",
              "version_major": 2,
              "version_minor": 0
            },
            "text/plain": [
              "HBox(children=(FloatProgress(value=1.0, bar_style='info', description='Training', layout=Layout(flex='2'), max…"
            ]
          },
          "metadata": {
            "tags": []
          },
          "output_type": "display_data"
        },
        {
          "data": {
            "application/vnd.jupyter.widget-view+json": {
              "model_id": "e8fc918ec6844698acce9356a152d958",
              "version_major": 2,
              "version_minor": 0
            },
            "text/plain": [
              "HBox(children=(FloatProgress(value=1.0, bar_style='info', description='Validating', layout=Layout(flex='2'), m…"
            ]
          },
          "metadata": {
            "tags": []
          },
          "output_type": "display_data"
        },
        {
          "data": {
            "application/vnd.jupyter.widget-view+json": {
              "model_id": "e1b1a5bef2354532a53c097ff3fffd46",
              "version_major": 2,
              "version_minor": 0
            },
            "text/plain": [
              "HBox(children=(FloatProgress(value=1.0, bar_style='info', description='Validating', layout=Layout(flex='2'), m…"
            ]
          },
          "metadata": {
            "tags": []
          },
          "output_type": "display_data"
        },
        {
          "data": {
            "application/vnd.jupyter.widget-view+json": {
              "model_id": "44bad8cce24f4d3f8c06728f1982503c",
              "version_major": 2,
              "version_minor": 0
            },
            "text/plain": [
              "HBox(children=(FloatProgress(value=1.0, bar_style='info', description='Validating', layout=Layout(flex='2'), m…"
            ]
          },
          "metadata": {
            "tags": []
          },
          "output_type": "display_data"
        },
        {
          "name": "stdout",
          "output_type": "stream",
          "text": [
            "Epoch     3: reducing learning rate of group 0 to 1.0000e-03.\n",
            "Epoch     3: reducing learning rate of group 0 to 1.0000e-03.\n"
          ]
        },
        {
          "data": {
            "application/vnd.jupyter.widget-view+json": {
              "model_id": "03d70195faa841bb9852840f84d1854c",
              "version_major": 2,
              "version_minor": 0
            },
            "text/plain": [
              "HBox(children=(FloatProgress(value=1.0, bar_style='info', description='Validating', layout=Layout(flex='2'), m…"
            ]
          },
          "metadata": {
            "tags": []
          },
          "output_type": "display_data"
        },
        {
          "data": {
            "application/vnd.jupyter.widget-view+json": {
              "model_id": "7179bd8f092a484c95a288ff603cc036",
              "version_major": 2,
              "version_minor": 0
            },
            "text/plain": [
              "HBox(children=(FloatProgress(value=1.0, bar_style='info', description='Validating', layout=Layout(flex='2'), m…"
            ]
          },
          "metadata": {
            "tags": []
          },
          "output_type": "display_data"
        },
        {
          "name": "stdout",
          "output_type": "stream",
          "text": [
            "Epoch     5: reducing learning rate of group 0 to 1.0000e-04.\n",
            "Epoch     5: reducing learning rate of group 0 to 1.0000e-04.\n"
          ]
        },
        {
          "data": {
            "application/vnd.jupyter.widget-view+json": {
              "model_id": "6969b545595e4ef7bc03963777c7381f",
              "version_major": 2,
              "version_minor": 0
            },
            "text/plain": [
              "HBox(children=(FloatProgress(value=1.0, bar_style='info', description='Validating', layout=Layout(flex='2'), m…"
            ]
          },
          "metadata": {
            "tags": []
          },
          "output_type": "display_data"
        },
        {
          "data": {
            "application/vnd.jupyter.widget-view+json": {
              "model_id": "ee93de1b5c7b4983b0f8289bd8de62de",
              "version_major": 2,
              "version_minor": 0
            },
            "text/plain": [
              "HBox(children=(FloatProgress(value=1.0, bar_style='info', description='Validating', layout=Layout(flex='2'), m…"
            ]
          },
          "metadata": {
            "tags": []
          },
          "output_type": "display_data"
        },
        {
          "name": "stdout",
          "output_type": "stream",
          "text": [
            "Epoch     7: reducing learning rate of group 0 to 1.0000e-05.\n",
            "Epoch     7: reducing learning rate of group 0 to 1.0000e-05.\n"
          ]
        },
        {
          "data": {
            "application/vnd.jupyter.widget-view+json": {
              "model_id": "fe0bf03cbd0248759c449b79e96be5e7",
              "version_major": 2,
              "version_minor": 0
            },
            "text/plain": [
              "HBox(children=(FloatProgress(value=1.0, bar_style='info', description='Validating', layout=Layout(flex='2'), m…"
            ]
          },
          "metadata": {
            "tags": []
          },
          "output_type": "display_data"
        },
        {
          "data": {
            "application/vnd.jupyter.widget-view+json": {
              "model_id": "a379e734b9e04078b7189c60477dfa02",
              "version_major": 2,
              "version_minor": 0
            },
            "text/plain": [
              "HBox(children=(FloatProgress(value=1.0, bar_style='info', description='Validating', layout=Layout(flex='2'), m…"
            ]
          },
          "metadata": {
            "tags": []
          },
          "output_type": "display_data"
        },
        {
          "name": "stdout",
          "output_type": "stream",
          "text": [
            "Epoch     9: reducing learning rate of group 0 to 1.0000e-06.\n",
            "Epoch     9: reducing learning rate of group 0 to 1.0000e-06.\n"
          ]
        },
        {
          "data": {
            "application/vnd.jupyter.widget-view+json": {
              "model_id": "72a766ae6b76435d85b4c73b8ea925d8",
              "version_major": 2,
              "version_minor": 0
            },
            "text/plain": [
              "HBox(children=(FloatProgress(value=1.0, bar_style='info', description='Validating', layout=Layout(flex='2'), m…"
            ]
          },
          "metadata": {
            "tags": []
          },
          "output_type": "display_data"
        },
        {
          "name": "stdout",
          "output_type": "stream",
          "text": [
            "\n"
          ]
        }
      ],
      "source": [
        "trainer = CollieTrainer(model, max_epochs=10, deterministic=True)\n",
        "\n",
        "trainer.fit(model)"
      ]
    },
    {
      "cell_type": "markdown",
      "metadata": {
        "id": "b1PhE5nDghUC"
      },
      "source": [
        "### Evaluate the Model \n",
        "We have a model! Now, we need to figure out how well we did. Evaluating implicit recommendation models is a bit tricky, but Collie offers the following metrics that are built into the library. They use vectorized operations that can run on the GPU in a single pass for speed-ups. \n",
        "\n",
        "* [``Mean Average Precision at K (MAP@K)``](https://en.wikipedia.org/wiki/Evaluation_measures_(information_retrieval)#Mean_average_precision) \n",
        "* [``Mean Reciprocal Rank``](https://en.wikipedia.org/wiki/Mean_reciprocal_rank) \n",
        "* [``Area Under the Curve (AUC)``](https://en.wikipedia.org/wiki/Receiver_operating_characteristic#Area_under_the_curve) \n",
        "\n",
        "We'll go ahead and evaluate all of these at once below. "
      ]
    },
    {
      "cell_type": "code",
      "execution_count": null,
      "metadata": {
        "id": "fUFAraDsOHtL"
      },
      "outputs": [
        {
          "data": {
            "application/vnd.jupyter.widget-view+json": {
              "model_id": "55d2d78bb84d42dba55c98cefd715c0b",
              "version_major": 2,
              "version_minor": 0
            },
            "text/plain": [
              "HBox(children=(FloatProgress(value=0.0, max=28.0), HTML(value='')))"
            ]
          },
          "metadata": {
            "tags": []
          },
          "output_type": "display_data"
        },
        {
          "name": "stdout",
          "output_type": "stream",
          "text": [
            "\n",
            "MAP@10 Score: 0.030123216170802932\n",
            "MRR Score:    0.18514649777472775\n",
            "AUC Score:    0.866987761170696\n"
          ]
        }
      ],
      "source": [
        "model.eval()  # set model to inference mode\n",
        "mapk_score, mrr_score, auc_score = evaluate_in_batches([mapk, mrr, auc], val_interactions, model)\n",
        "\n",
        "print(f'MAP@10 Score: {mapk_score}')\n",
        "print(f'MRR Score:    {mrr_score}')\n",
        "print(f'AUC Score:    {auc_score}')"
      ]
    },
    {
      "cell_type": "markdown",
      "metadata": {
        "id": "zlqMa7eWOMGl"
      },
      "source": [
        "### Inference"
      ]
    },
    {
      "cell_type": "markdown",
      "metadata": {
        "id": "z7y-J7KUghUD"
      },
      "source": [
        "We can also look at particular users to get a sense of what the recs look like. "
      ]
    },
    {
      "cell_type": "code",
      "execution_count": null,
      "metadata": {
        "id": "sIQsXedgghUD"
      },
      "outputs": [
        {
          "data": {
            "text/html": [
              "<h3>User 895:</h3><table border=\"1\" class=\"dataframe\">\n",
              "  <thead>\n",
              "    <tr style=\"text-align: right;\">\n",
              "      <th></th>\n",
              "      <th>Willy Wonka and the Chocolate Factory (1971)</th>\n",
              "      <th>Mighty Aphrodite (1995)</th>\n",
              "      <th>Conspiracy Theory (1997)</th>\n",
              "      <th>Sense and Sensibility (1995)</th>\n",
              "      <th>Liar Liar (1997)</th>\n",
              "      <th>In & Out (1997)</th>\n",
              "      <th>Return of the Jedi (1983)</th>\n",
              "      <th>Ransom (1996)</th>\n",
              "      <th>Emma (1996)</th>\n",
              "      <th>Toy Story (1995)</th>\n",
              "    </tr>\n",
              "  </thead>\n",
              "  <tbody>\n",
              "    <tr>\n",
              "      <th>Some loved films:</th>\n",
              "      <td><img src=\"https://m.media-amazon.com/images/M/MV5BZTllNDU0ZTItYTYxMC00OTI4LThlNDAtZjNiNzdhMWZiYjNmXkEyXkFqcGdeQXVyNzY1NDgwNjQ@.jpg\" width=500></td>\n",
              "      <td><img src=\"https://m.media-amazon.com/images/M/MV5BMGM1NzM2ZjktNDM5ZS00YmExLTk5ZmYtNDdkNjdkNTdhZWZkXkEyXkFqcGdeQXVyNjE5MjUyOTM@.jpg\" width=500></td>\n",
              "      <td><img src=\"https://m.media-amazon.com/images/M/MV5BMjQ1MTYxMzA4OF5BMl5BanBnXkFtZTgwNjg2NTM1MTI@.jpg\" width=500></td>\n",
              "      <td><img src=\"https://m.media-amazon.com/images/M/MV5BNzk1MjU3MDQyMl5BMl5BanBnXkFtZTcwNjc1OTM2MQ@@.jpg\" width=500></td>\n",
              "      <td><img src=\"https://m.media-amazon.com/images/M/MV5BYjZlYmJjYWYtZDM0NS00YmZlLWIyMTAtMDY5ZTNjZTgwMDhjXkEyXkFqcGdeQXVyMTQxNzMzNDI@.jpg\" width=500></td>\n",
              "      <td><img src=\"https://m.media-amazon.com/images/M/MV5BNDZkMjVhZmItMmIyNC00OWYyLWFmZWQtMzIzZWZhY2QyMjZiXkEyXkFqcGdeQXVyMTQxNzMzNDI@.jpg\" width=500></td>\n",
              "      <td><img src=\"https://m.media-amazon.com/images/M/MV5BOWZlMjFiYzgtMTUzNC00Y2IzLTk1NTMtZmNhMTczNTk0ODk1XkEyXkFqcGdeQXVyNTAyODkwOQ@@.jpg\" width=500></td>\n",
              "      <td><img src=\"https://m.media-amazon.com/images/M/MV5BZTc0ZjNkYTktMmJmOS00OTJlLTg1NWUtMzQ5ZGMxM2NhY2M0L2ltYWdlL2ltYWdlXkEyXkFqcGdeQXVyNTAyODkwOQ@@.jpg\" width=500></td>\n",
              "      <td><img src=\"https://m.media-amazon.com/images/M/MV5BN2E1YTUzZDAtODQ2YS00MWNjLWEzMzAtZjgwY2M3ZTcwOTJhXkEyXkFqcGdeQXVyNjE5MjUyOTM@.jpg\" width=500></td>\n",
              "      <td><img src=\"https://m.media-amazon.com/images/M/MV5BMDU2ZWJlMjktMTRhMy00ZTA5LWEzNDgtYmNmZTEwZTViZWJkXkEyXkFqcGdeQXVyNDQ2OTk4MzI@.jpg\" width=500></td>\n",
              "    </tr>\n",
              "  </tbody>\n",
              "</table><table border=\"1\" class=\"dataframe\">\n",
              "  <thead>\n",
              "    <tr style=\"text-align: right;\">\n",
              "      <th></th>\n",
              "      <th>Bad Boys (1995)</th>\n",
              "      <th>When Harry Met Sally... (1989)</th>\n",
              "      <th>Sleeper (1973)</th>\n",
              "      <th>Richard III (1995)</th>\n",
              "      <th>Cold Comfort Farm (1995)</th>\n",
              "      <th>Lawnmower Man, The (1992)</th>\n",
              "      <th>Batman Forever (1995)</th>\n",
              "      <th>Graduate, The (1967)</th>\n",
              "      <th>Independence Day (ID4) (1996)</th>\n",
              "      <th>Star Wars (1977)</th>\n",
              "    </tr>\n",
              "  </thead>\n",
              "  <tbody>\n",
              "    <tr>\n",
              "      <th>Recommended films:</th>\n",
              "      <td><img src=\"https://m.media-amazon.com/images/M/MV5BMGE1ZTQ0ZTEtZTEwZS00NWE0LTlmMDUtMTE1ZWJiZTYzZTQ2XkEyXkFqcGdeQXVyNTAyODkwOQ@@.jpg\" width=500></td>\n",
              "      <td><img src=\"https://m.media-amazon.com/images/M/MV5BMjE0ODEwNjM2NF5BMl5BanBnXkFtZTcwMjU2Mzg3NA@@.jpg\" width=500></td>\n",
              "      <td><img src=\"https://m.media-amazon.com/images/M/MV5BMTUzMzY1MzI3Nl5BMl5BanBnXkFtZTcwOTM4OTYwNA@@.jpg\" width=500></td>\n",
              "      <td><img src=\"https://m.media-amazon.com/images/M/MV5BOWI3NjhhZDItNWQ2NS00Zjg0LWIzMjctNzY0MjRmNzkyYzVmXkEyXkFqcGdeQXVyMTA0MjU0Ng@@.jpg\" width=500></td>\n",
              "      <td><img src=\"https://m.media-amazon.com/images/M/MV5BZWI3MTA3NGEtYTg4ZC00MzgwLTliMGQtMjU2MWM5MmVmYThhXkEyXkFqcGdeQXVyNzc5MjA3OA@@.jpg\" width=500></td>\n",
              "      <td><img src=\"https://m.media-amazon.com/images/M/MV5BYWZhODdkMTEtMzBmNy00NzU5LWIzYjMtYTkwNWE3YTRjOTZkXkEyXkFqcGdeQXVyMTQxNzMzNDI@.jpg\" width=500></td>\n",
              "      <td><img src=\"https://m.media-amazon.com/images/M/MV5BNDdjYmFiYWEtYzBhZS00YTZkLWFlODgtY2I5MDE0NzZmMDljXkEyXkFqcGdeQXVyMTMxODk2OTU@.jpg\" width=500></td>\n",
              "      <td><img src=\"https://m.media-amazon.com/images/M/MV5BNjQ4MzUzYjYtYzk1My00M2Y2LWExMDEtY2E1NTlhMmQ0NGQ3XkEyXkFqcGdeQXVyMTQxNzMzNDI@.jpg\" width=500></td>\n",
              "      <td><img src=\"https://m.media-amazon.com/images/M/MV5BMGQwNDNkMmItYWY1Yy00YTZmLWE5OTAtODU0MGZmMzQ1NDdkXkEyXkFqcGdeQXVyMTQxNzMzNDI@.jpg\" width=500></td>\n",
              "      <td><img src=\"https://m.media-amazon.com/images/M/MV5BNzVlY2MwMjktM2E4OS00Y2Y3LWE3ZjctYzhkZGM3YzA1ZWM2XkEyXkFqcGdeQXVyNzkwMjQ5NzM@.jpg\" width=500></td>\n",
              "    </tr>\n",
              "  </tbody>\n",
              "</table>-----<p style=\"margin:0\">User 895 has rated <strong>12</strong> films with a 4 or 5</p><p style=\"margin:0\">User 895 has rated <strong>8</strong> films with a 1, 2, or 3</p><p style=\"margin:0\">% of these films rated 5 or 4 appearing in the first 10 recommendations:<strong style=\"color:green\">0.0%</strong></p><p style=\"margin:0\">% of these films rated 1, 2, or 3 appearing in the first 10 recommendations: <strong style=\"color:red\">0.0%</strong></p>"
            ],
            "text/plain": [
              "<IPython.core.display.HTML object>"
            ]
          },
          "metadata": {
            "tags": []
          },
          "output_type": "display_data"
        }
      ],
      "source": [
        "# select a random user ID to look at recommendations for\n",
        "user_id = np.random.randint(10, train_interactions.num_users)\n",
        "\n",
        "display(\n",
        "    HTML(\n",
        "        get_recommendation_visualizations(\n",
        "            model=model,\n",
        "            user_id=user_id,\n",
        "            filter_films=True,\n",
        "            shuffle=True,\n",
        "            detailed=True,\n",
        "        )\n",
        "    )\n",
        ")"
      ]
    },
    {
      "cell_type": "markdown",
      "metadata": {
        "id": "DbZ9ufGvghUE"
      },
      "source": [
        "### Save and Load a Standard Model "
      ]
    },
    {
      "cell_type": "code",
      "execution_count": null,
      "metadata": {
        "id": "WqJbXHXgghUG"
      },
      "outputs": [],
      "source": [
        "# we can save the model with...\n",
        "os.makedirs('models', exist_ok=True)\n",
        "model.save_model('models/matrix_factorization_model.pth')"
      ]
    },
    {
      "cell_type": "code",
      "execution_count": null,
      "metadata": {
        "id": "Dz_8miLPghUG"
      },
      "outputs": [
        {
          "data": {
            "text/plain": [
              "MatrixFactorizationModel(\n",
              "  (user_biases): ZeroEmbedding(941, 1)\n",
              "  (item_biases): ZeroEmbedding(1447, 1)\n",
              "  (user_embeddings): ScaledEmbedding(941, 10)\n",
              "  (item_embeddings): ScaledEmbedding(1447, 10)\n",
              "  (dropout): Dropout(p=0.0, inplace=False)\n",
              ")"
            ]
          },
          "execution_count": 48,
          "metadata": {
            "tags": []
          },
          "output_type": "execute_result"
        }
      ],
      "source": [
        "# ... and if we wanted to load that model back in, we can do that easily...\n",
        "model_loaded_in = MatrixFactorizationModel(load_model_path='models/matrix_factorization_model.pth')\n",
        "\n",
        "model_loaded_in"
      ]
    },
    {
      "cell_type": "markdown",
      "metadata": {
        "id": "cQpWlCuughUH"
      },
      "source": [
        "Now that we've built our first model and gotten some baseline metrics, we now will be looking at some more advanced features in Collie's ``MatrixFactorizationModel``. "
      ]
    },
    {
      "cell_type": "markdown",
      "metadata": {
        "id": "Q3Ne8ETsgzLe"
      },
      "source": [
        "## Faster Data Loading Through Approximate Negative Sampling "
      ]
    },
    {
      "cell_type": "markdown",
      "metadata": {
        "id": "8nBu6PZhgzLe"
      },
      "source": [
        "With sufficiently large enough data, verifying that each negative sample is one a user has *not* interacted with becomes expensive. With many items, this can soon become a bottleneck in the training process. \n",
        "\n",
        "Yet, when we have many items, the chances a user has interacted with most is increasingly rare. Say we have ``1,000,000`` items and we want to sample ``10`` negative items for a user that has positively interacted with ``200`` items. The chance that we accidentally select a positive item in a random sample of ``10`` items is just ``0.2%``. At that point, it might be worth it to forgo the expensive check to assert our negative sample is true, and instead just randomly sample negative items with the hope that most of the time, they will happen to be negative. \n",
        "\n",
        "This is the theory behind the ``ApproximateNegativeSamplingInteractionsDataLoader``, an alternate DataLoader built into Collie. Let's train a model with this below, noting how similar this procedure looks to that in the previous tutorial. "
      ]
    },
    {
      "cell_type": "code",
      "execution_count": null,
      "metadata": {
        "id": "MgSijz04gzLf"
      },
      "outputs": [],
      "source": [
        "train_loader = ApproximateNegativeSamplingInteractionsDataLoader(train_interactions, batch_size=1024, shuffle=True)\n",
        "val_loader = ApproximateNegativeSamplingInteractionsDataLoader(val_interactions, batch_size=1024, shuffle=False)"
      ]
    },
    {
      "cell_type": "code",
      "execution_count": null,
      "metadata": {
        "id": "n9wQLd9-gzLf"
      },
      "outputs": [],
      "source": [
        "model = MatrixFactorizationModel(\n",
        "    train=train_loader,\n",
        "    val=val_loader,\n",
        "    embedding_dim=10,\n",
        "    lr=1e-2,\n",
        ")"
      ]
    },
    {
      "cell_type": "code",
      "execution_count": null,
      "metadata": {
        "id": "AbYirCSNgzLg"
      },
      "outputs": [
        {
          "name": "stderr",
          "output_type": "stream",
          "text": [
            "GPU available: True, used: True\n",
            "TPU available: False, using: 0 TPU cores\n",
            "LOCAL_RANK: 0 - CUDA_VISIBLE_DEVICES: [0]\n",
            "\n",
            "  | Name            | Type            | Params\n",
            "----------------------------------------------------\n",
            "0 | user_biases     | ZeroEmbedding   | 941   \n",
            "1 | item_biases     | ZeroEmbedding   | 1.4 K \n",
            "2 | user_embeddings | ScaledEmbedding | 9.4 K \n",
            "3 | item_embeddings | ScaledEmbedding | 14.5 K\n",
            "4 | dropout         | Dropout         | 0     \n",
            "----------------------------------------------------\n",
            "26.3 K    Trainable params\n",
            "0         Non-trainable params\n",
            "26.3 K    Total params\n",
            "0.105     Total estimated model params size (MB)\n"
          ]
        },
        {
          "name": "stdout",
          "output_type": "stream",
          "text": [
            "Detected GPU. Setting ``gpus`` to 1.\n"
          ]
        },
        {
          "data": {
            "application/vnd.jupyter.widget-view+json": {
              "model_id": "cdad48dfe56b42a9a921302dd1bb30af",
              "version_major": 2,
              "version_minor": 0
            },
            "text/plain": [
              "HBox(children=(FloatProgress(value=1.0, bar_style='info', description='Validation sanity check', layout=Layout…"
            ]
          },
          "metadata": {
            "tags": []
          },
          "output_type": "display_data"
        },
        {
          "name": "stderr",
          "output_type": "stream",
          "text": [
            "Global seed set to 22\n"
          ]
        },
        {
          "name": "stdout",
          "output_type": "stream",
          "text": [
            "\r"
          ]
        },
        {
          "data": {
            "application/vnd.jupyter.widget-view+json": {
              "model_id": "d0a2f3c7539f47d787665ae5dbd9c708",
              "version_major": 2,
              "version_minor": 0
            },
            "text/plain": [
              "HBox(children=(FloatProgress(value=1.0, bar_style='info', description='Training', layout=Layout(flex='2'), max…"
            ]
          },
          "metadata": {
            "tags": []
          },
          "output_type": "display_data"
        },
        {
          "data": {
            "application/vnd.jupyter.widget-view+json": {
              "model_id": "8a9429e4228a4bfeaf9694679a62c9b4",
              "version_major": 2,
              "version_minor": 0
            },
            "text/plain": [
              "HBox(children=(FloatProgress(value=1.0, bar_style='info', description='Validating', layout=Layout(flex='2'), m…"
            ]
          },
          "metadata": {
            "tags": []
          },
          "output_type": "display_data"
        },
        {
          "data": {
            "application/vnd.jupyter.widget-view+json": {
              "model_id": "0878d639c1ab47db9df0434da5cd8451",
              "version_major": 2,
              "version_minor": 0
            },
            "text/plain": [
              "HBox(children=(FloatProgress(value=1.0, bar_style='info', description='Validating', layout=Layout(flex='2'), m…"
            ]
          },
          "metadata": {
            "tags": []
          },
          "output_type": "display_data"
        },
        {
          "data": {
            "application/vnd.jupyter.widget-view+json": {
              "model_id": "c3edba0cab41447f89e1626efacaf763",
              "version_major": 2,
              "version_minor": 0
            },
            "text/plain": [
              "HBox(children=(FloatProgress(value=1.0, bar_style='info', description='Validating', layout=Layout(flex='2'), m…"
            ]
          },
          "metadata": {
            "tags": []
          },
          "output_type": "display_data"
        },
        {
          "name": "stdout",
          "output_type": "stream",
          "text": [
            "Epoch     3: reducing learning rate of group 0 to 1.0000e-03.\n",
            "Epoch     3: reducing learning rate of group 0 to 1.0000e-03.\n"
          ]
        },
        {
          "data": {
            "application/vnd.jupyter.widget-view+json": {
              "model_id": "bafe7d36094f4697b15caff40fe153f4",
              "version_major": 2,
              "version_minor": 0
            },
            "text/plain": [
              "HBox(children=(FloatProgress(value=1.0, bar_style='info', description='Validating', layout=Layout(flex='2'), m…"
            ]
          },
          "metadata": {
            "tags": []
          },
          "output_type": "display_data"
        },
        {
          "data": {
            "application/vnd.jupyter.widget-view+json": {
              "model_id": "6954ebb5b9154db2acd936945a6dd53d",
              "version_major": 2,
              "version_minor": 0
            },
            "text/plain": [
              "HBox(children=(FloatProgress(value=1.0, bar_style='info', description='Validating', layout=Layout(flex='2'), m…"
            ]
          },
          "metadata": {
            "tags": []
          },
          "output_type": "display_data"
        },
        {
          "data": {
            "application/vnd.jupyter.widget-view+json": {
              "model_id": "bfee2e200b1345bcb8c0e888c51e574e",
              "version_major": 2,
              "version_minor": 0
            },
            "text/plain": [
              "HBox(children=(FloatProgress(value=1.0, bar_style='info', description='Validating', layout=Layout(flex='2'), m…"
            ]
          },
          "metadata": {
            "tags": []
          },
          "output_type": "display_data"
        },
        {
          "data": {
            "application/vnd.jupyter.widget-view+json": {
              "model_id": "04f49fbe1f73490bab41a2ea7cb82e0d",
              "version_major": 2,
              "version_minor": 0
            },
            "text/plain": [
              "HBox(children=(FloatProgress(value=1.0, bar_style='info', description='Validating', layout=Layout(flex='2'), m…"
            ]
          },
          "metadata": {
            "tags": []
          },
          "output_type": "display_data"
        },
        {
          "data": {
            "application/vnd.jupyter.widget-view+json": {
              "model_id": "f01ae7c057ab476c9da1530cd3db2f85",
              "version_major": 2,
              "version_minor": 0
            },
            "text/plain": [
              "HBox(children=(FloatProgress(value=1.0, bar_style='info', description='Validating', layout=Layout(flex='2'), m…"
            ]
          },
          "metadata": {
            "tags": []
          },
          "output_type": "display_data"
        },
        {
          "data": {
            "application/vnd.jupyter.widget-view+json": {
              "model_id": "800fd8df329e43aea1f2aa66708711b1",
              "version_major": 2,
              "version_minor": 0
            },
            "text/plain": [
              "HBox(children=(FloatProgress(value=1.0, bar_style='info', description='Validating', layout=Layout(flex='2'), m…"
            ]
          },
          "metadata": {
            "tags": []
          },
          "output_type": "display_data"
        },
        {
          "data": {
            "application/vnd.jupyter.widget-view+json": {
              "model_id": "2deab300c43a4fed95e629c6e287d015",
              "version_major": 2,
              "version_minor": 0
            },
            "text/plain": [
              "HBox(children=(FloatProgress(value=1.0, bar_style='info', description='Validating', layout=Layout(flex='2'), m…"
            ]
          },
          "metadata": {
            "tags": []
          },
          "output_type": "display_data"
        },
        {
          "name": "stdout",
          "output_type": "stream",
          "text": [
            "\n"
          ]
        },
        {
          "data": {
            "text/plain": [
              "MatrixFactorizationModel(\n",
              "  (user_biases): ZeroEmbedding(941, 1)\n",
              "  (item_biases): ZeroEmbedding(1447, 1)\n",
              "  (user_embeddings): ScaledEmbedding(941, 10)\n",
              "  (item_embeddings): ScaledEmbedding(1447, 10)\n",
              "  (dropout): Dropout(p=0.0, inplace=False)\n",
              ")"
            ]
          },
          "execution_count": 52,
          "metadata": {
            "tags": []
          },
          "output_type": "execute_result"
        }
      ],
      "source": [
        "trainer = CollieTrainer(model, max_epochs=10, deterministic=True)\n",
        "\n",
        "trainer.fit(model)\n",
        "model.eval()"
      ]
    },
    {
      "cell_type": "code",
      "execution_count": null,
      "metadata": {
        "id": "xLKDSq-hgzLg"
      },
      "outputs": [
        {
          "data": {
            "application/vnd.jupyter.widget-view+json": {
              "model_id": "d7c34c7be74246acb1a7da702b490029",
              "version_major": 2,
              "version_minor": 0
            },
            "text/plain": [
              "HBox(children=(FloatProgress(value=0.0, max=28.0), HTML(value='')))"
            ]
          },
          "metadata": {
            "tags": []
          },
          "output_type": "display_data"
        },
        {
          "name": "stdout",
          "output_type": "stream",
          "text": [
            "\n",
            "MAP@10 Score: 0.027979833367276323\n",
            "MRR Score:    0.1703751336709069\n",
            "AUC Score:    0.8517987786322347\n"
          ]
        }
      ],
      "source": [
        "mapk_score, mrr_score, auc_score = evaluate_in_batches([mapk, mrr, auc], val_interactions, model)\n",
        "\n",
        "print(f'MAP@10 Score: {mapk_score}')\n",
        "print(f'MRR Score:    {mrr_score}')\n",
        "print(f'AUC Score:    {auc_score}')"
      ]
    },
    {
      "cell_type": "markdown",
      "metadata": {
        "id": "qipOCQzxgzLh"
      },
      "source": [
        "We're seeing a small hit on performance and only a marginal improvement in training time compared to the standard ``MatrixFactorizationModel`` model because MovieLens 100K has so few items. ``ApproximateNegativeSamplingInteractionsDataLoader`` is especially recommended for when we have more items in our data and training times need to be optimized. \n",
        "\n",
        "For more details on this and other DataLoaders in Collie (including those for out-of-memory datasets), check out the [docs](https://collie.readthedocs.io/en/latest/index.html)! "
      ]
    },
    {
      "cell_type": "markdown",
      "metadata": {
        "id": "iGgM-FaegzLi"
      },
      "source": [
        "## Multiple Optimizers "
      ]
    },
    {
      "cell_type": "markdown",
      "metadata": {
        "id": "4xcFspsbgzLi"
      },
      "source": [
        "Training recommendation models at ShopRunner, we have encountered something we call \"the curse of popularity.\" \n",
        "\n",
        "This is best thought of in the viewpoint of a model optimizer - say we have a user, a positive item, and several negative items that we hope have recommendation scores that score lower than the positive item. As an optimizer, you can either optimize every single embedding dimension (hundreds of parameters) to achieve this, or instead choose to score a quick win by optimizing the bias terms for the items (just add a positive constant to the positive item and a negative constant to each negative item). \n",
        "\n",
        "While we clearly want to have varied embedding layers that reflect each user and item's taste profiles, some models learn to settle for popularity as a recommendation score proxy by over-optimizing the bias terms, essentially just returning the same set of recommendations for every user. Worst of all, since popular items are... well, popular, **the loss of this model will actually be decent, solidifying the model getting stuck in a local loss minima**. \n",
        "\n",
        "To counteract this, Collie supports multiple optimizers in a ``MatrixFactorizationModel``. With this, we can have a faster optimizer work to optimize the embedding layers for users and items, and a slower optimizer work to optimize the bias terms. With this, we impel the model to do the work actually coming up with varied, personalized recommendations for users while still taking into account the necessity of the bias (popularity) terms on recommendations. \n",
        "\n",
        "At ShopRunner, we have seen significantly better metrics and results from this type of model. With Collie, this is simple to do, as shown below. "
      ]
    },
    {
      "cell_type": "code",
      "execution_count": null,
      "metadata": {
        "id": "GxUMsr61gzLj"
      },
      "outputs": [],
      "source": [
        "model = MatrixFactorizationModel(\n",
        "    train=train_interactions,\n",
        "    val=val_interactions,\n",
        "    embedding_dim=10,\n",
        "    lr=1e-2,\n",
        "    bias_lr=1e-1,\n",
        "    optimizer='adam',\n",
        "    bias_optimizer='sgd',\n",
        ")"
      ]
    },
    {
      "cell_type": "code",
      "execution_count": null,
      "metadata": {
        "id": "dQ_tTRfOgzLj"
      },
      "outputs": [
        {
          "name": "stderr",
          "output_type": "stream",
          "text": [
            "GPU available: True, used: True\n",
            "TPU available: False, using: 0 TPU cores\n",
            "LOCAL_RANK: 0 - CUDA_VISIBLE_DEVICES: [0]\n",
            "\n",
            "  | Name            | Type            | Params\n",
            "----------------------------------------------------\n",
            "0 | user_biases     | ZeroEmbedding   | 941   \n",
            "1 | item_biases     | ZeroEmbedding   | 1.4 K \n",
            "2 | user_embeddings | ScaledEmbedding | 9.4 K \n",
            "3 | item_embeddings | ScaledEmbedding | 14.5 K\n",
            "4 | dropout         | Dropout         | 0     \n",
            "----------------------------------------------------\n",
            "26.3 K    Trainable params\n",
            "0         Non-trainable params\n",
            "26.3 K    Total params\n",
            "0.105     Total estimated model params size (MB)\n"
          ]
        },
        {
          "name": "stdout",
          "output_type": "stream",
          "text": [
            "Detected GPU. Setting ``gpus`` to 1.\n"
          ]
        },
        {
          "data": {
            "application/vnd.jupyter.widget-view+json": {
              "model_id": "49f97e2e5f55454bab313b1570b4b9c4",
              "version_major": 2,
              "version_minor": 0
            },
            "text/plain": [
              "HBox(children=(FloatProgress(value=1.0, bar_style='info', description='Validation sanity check', layout=Layout…"
            ]
          },
          "metadata": {
            "tags": []
          },
          "output_type": "display_data"
        },
        {
          "name": "stderr",
          "output_type": "stream",
          "text": [
            "Global seed set to 22\n"
          ]
        },
        {
          "name": "stdout",
          "output_type": "stream",
          "text": [
            "\r"
          ]
        },
        {
          "data": {
            "application/vnd.jupyter.widget-view+json": {
              "model_id": "8d714e45f0d64e85b637961f4a25f3d0",
              "version_major": 2,
              "version_minor": 0
            },
            "text/plain": [
              "HBox(children=(FloatProgress(value=1.0, bar_style='info', description='Training', layout=Layout(flex='2'), max…"
            ]
          },
          "metadata": {
            "tags": []
          },
          "output_type": "display_data"
        },
        {
          "data": {
            "application/vnd.jupyter.widget-view+json": {
              "model_id": "83658275a6c346d7822fd1368345e09a",
              "version_major": 2,
              "version_minor": 0
            },
            "text/plain": [
              "HBox(children=(FloatProgress(value=1.0, bar_style='info', description='Validating', layout=Layout(flex='2'), m…"
            ]
          },
          "metadata": {
            "tags": []
          },
          "output_type": "display_data"
        },
        {
          "data": {
            "application/vnd.jupyter.widget-view+json": {
              "model_id": "b9a2d6afed7641d995fba91c5a94f8ec",
              "version_major": 2,
              "version_minor": 0
            },
            "text/plain": [
              "HBox(children=(FloatProgress(value=1.0, bar_style='info', description='Validating', layout=Layout(flex='2'), m…"
            ]
          },
          "metadata": {
            "tags": []
          },
          "output_type": "display_data"
        },
        {
          "data": {
            "application/vnd.jupyter.widget-view+json": {
              "model_id": "a59ea6641fca44bbaa553a1624deab51",
              "version_major": 2,
              "version_minor": 0
            },
            "text/plain": [
              "HBox(children=(FloatProgress(value=1.0, bar_style='info', description='Validating', layout=Layout(flex='2'), m…"
            ]
          },
          "metadata": {
            "tags": []
          },
          "output_type": "display_data"
        },
        {
          "name": "stdout",
          "output_type": "stream",
          "text": [
            "Epoch     3: reducing learning rate of group 0 to 1.0000e-03.\n",
            "Epoch     3: reducing learning rate of group 0 to 1.0000e-02.\n"
          ]
        },
        {
          "data": {
            "application/vnd.jupyter.widget-view+json": {
              "model_id": "36d600f8e9be46a6b05ec580025aac20",
              "version_major": 2,
              "version_minor": 0
            },
            "text/plain": [
              "HBox(children=(FloatProgress(value=1.0, bar_style='info', description='Validating', layout=Layout(flex='2'), m…"
            ]
          },
          "metadata": {
            "tags": []
          },
          "output_type": "display_data"
        },
        {
          "data": {
            "application/vnd.jupyter.widget-view+json": {
              "model_id": "d75b9faa61b242279706a77458e55276",
              "version_major": 2,
              "version_minor": 0
            },
            "text/plain": [
              "HBox(children=(FloatProgress(value=1.0, bar_style='info', description='Validating', layout=Layout(flex='2'), m…"
            ]
          },
          "metadata": {
            "tags": []
          },
          "output_type": "display_data"
        },
        {
          "data": {
            "application/vnd.jupyter.widget-view+json": {
              "model_id": "57322a343ddd4ad2bc408a840eca0e98",
              "version_major": 2,
              "version_minor": 0
            },
            "text/plain": [
              "HBox(children=(FloatProgress(value=1.0, bar_style='info', description='Validating', layout=Layout(flex='2'), m…"
            ]
          },
          "metadata": {
            "tags": []
          },
          "output_type": "display_data"
        },
        {
          "data": {
            "application/vnd.jupyter.widget-view+json": {
              "model_id": "0351e40f8c0f46708aeea7233565800a",
              "version_major": 2,
              "version_minor": 0
            },
            "text/plain": [
              "HBox(children=(FloatProgress(value=1.0, bar_style='info', description='Validating', layout=Layout(flex='2'), m…"
            ]
          },
          "metadata": {
            "tags": []
          },
          "output_type": "display_data"
        },
        {
          "data": {
            "application/vnd.jupyter.widget-view+json": {
              "model_id": "93fbdf1f9df1464888cdecc6285ef575",
              "version_major": 2,
              "version_minor": 0
            },
            "text/plain": [
              "HBox(children=(FloatProgress(value=1.0, bar_style='info', description='Validating', layout=Layout(flex='2'), m…"
            ]
          },
          "metadata": {
            "tags": []
          },
          "output_type": "display_data"
        },
        {
          "data": {
            "application/vnd.jupyter.widget-view+json": {
              "model_id": "2c8df37c614447d5b5064dbbaa837081",
              "version_major": 2,
              "version_minor": 0
            },
            "text/plain": [
              "HBox(children=(FloatProgress(value=1.0, bar_style='info', description='Validating', layout=Layout(flex='2'), m…"
            ]
          },
          "metadata": {
            "tags": []
          },
          "output_type": "display_data"
        },
        {
          "data": {
            "application/vnd.jupyter.widget-view+json": {
              "model_id": "3d3ca53ac0cb41d1bbb58aa754a79619",
              "version_major": 2,
              "version_minor": 0
            },
            "text/plain": [
              "HBox(children=(FloatProgress(value=1.0, bar_style='info', description='Validating', layout=Layout(flex='2'), m…"
            ]
          },
          "metadata": {
            "tags": []
          },
          "output_type": "display_data"
        },
        {
          "name": "stdout",
          "output_type": "stream",
          "text": [
            "\n"
          ]
        },
        {
          "data": {
            "text/plain": [
              "MatrixFactorizationModel(\n",
              "  (user_biases): ZeroEmbedding(941, 1)\n",
              "  (item_biases): ZeroEmbedding(1447, 1)\n",
              "  (user_embeddings): ScaledEmbedding(941, 10)\n",
              "  (item_embeddings): ScaledEmbedding(1447, 10)\n",
              "  (dropout): Dropout(p=0.0, inplace=False)\n",
              ")"
            ]
          },
          "execution_count": 55,
          "metadata": {
            "tags": []
          },
          "output_type": "execute_result"
        }
      ],
      "source": [
        "trainer = CollieTrainer(model, max_epochs=10, deterministic=True)\n",
        "\n",
        "trainer.fit(model)\n",
        "model.eval()"
      ]
    },
    {
      "cell_type": "code",
      "execution_count": null,
      "metadata": {
        "id": "ENZSOd1DgzLk"
      },
      "outputs": [
        {
          "data": {
            "application/vnd.jupyter.widget-view+json": {
              "model_id": "5c2218b13d6345ff91c4d8980b2b2ca0",
              "version_major": 2,
              "version_minor": 0
            },
            "text/plain": [
              "HBox(children=(FloatProgress(value=0.0, max=28.0), HTML(value='')))"
            ]
          },
          "metadata": {
            "tags": []
          },
          "output_type": "display_data"
        },
        {
          "name": "stdout",
          "output_type": "stream",
          "text": [
            "\n",
            "MAP@10 Score: 0.03243186201880122\n",
            "MRR Score:    0.19819369246580287\n",
            "AUC Score:    0.8617710409716284\n"
          ]
        }
      ],
      "source": [
        "mapk_score, mrr_score, auc_score = evaluate_in_batches([mapk, mrr, auc], val_interactions, model)\n",
        "\n",
        "print(f'MAP@10 Score: {mapk_score}')\n",
        "print(f'MRR Score:    {mrr_score}')\n",
        "print(f'AUC Score:    {auc_score}')"
      ]
    },
    {
      "cell_type": "markdown",
      "metadata": {
        "id": "blXcVpg3gzLk"
      },
      "source": [
        "Again, we're not seeing as much performance increase here compared to the standard model because MovieLens 100K has so few items. For a more dramatic difference, try training this model on a larger dataset, such as MovieLens 10M, adjusting the architecture-specific hyperparameters, or train longer. "
      ]
    },
    {
      "cell_type": "markdown",
      "metadata": {
        "id": "1Dt0IsWJgzLk"
      },
      "source": [
        "## Item-Item Similarity "
      ]
    },
    {
      "cell_type": "markdown",
      "metadata": {
        "id": "sqQJpyKVgzLl"
      },
      "source": [
        "While we've trained every model thus far to work for member-item recommendations (given a *member*, recommend *items* - think of this best as \"Personalized recommendations for you\"), we also have access to item-item recommendations for free (given a seed *item*, recommend similar *items* - think of this more like \"People who interacted with this item also interacted with...\"). \n",
        "\n",
        "With Collie, accessing this is simple! "
      ]
    },
    {
      "cell_type": "code",
      "execution_count": null,
      "metadata": {
        "id": "RRMouFweUOhw"
      },
      "outputs": [
        {
          "data": {
            "text/html": [
              "<div>\n",
              "<style scoped>\n",
              "    .dataframe tbody tr th:only-of-type {\n",
              "        vertical-align: middle;\n",
              "    }\n",
              "\n",
              "    .dataframe tbody tr th {\n",
              "        vertical-align: top;\n",
              "    }\n",
              "\n",
              "    .dataframe thead th {\n",
              "        text-align: right;\n",
              "    }\n",
              "</style>\n",
              "<table border=\"1\" class=\"dataframe\">\n",
              "  <thead>\n",
              "    <tr style=\"text-align: right;\">\n",
              "      <th></th>\n",
              "      <th>ITEMID</th>\n",
              "      <th>TITLE</th>\n",
              "      <th>RELEASE</th>\n",
              "      <th>VIDRELEASE</th>\n",
              "      <th>URL</th>\n",
              "      <th>UNKNOWN</th>\n",
              "      <th>ACTION</th>\n",
              "      <th>ADVENTURE</th>\n",
              "      <th>ANIMATION</th>\n",
              "      <th>CHILDREN</th>\n",
              "      <th>COMEDY</th>\n",
              "      <th>CRIME</th>\n",
              "      <th>DOCUMENTARY</th>\n",
              "      <th>DRAMA</th>\n",
              "      <th>FANTASY</th>\n",
              "      <th>FILMNOIR</th>\n",
              "      <th>HORROR</th>\n",
              "      <th>MUSICAL</th>\n",
              "      <th>MYSTERY</th>\n",
              "      <th>ROMANCE</th>\n",
              "      <th>SCIFI</th>\n",
              "      <th>THRILLER</th>\n",
              "      <th>WAR</th>\n",
              "      <th>WESTERN</th>\n",
              "    </tr>\n",
              "  </thead>\n",
              "  <tbody>\n",
              "    <tr>\n",
              "      <th>0</th>\n",
              "      <td>1</td>\n",
              "      <td>Toy Story (1995)</td>\n",
              "      <td>01-Jan-1995</td>\n",
              "      <td>NaN</td>\n",
              "      <td>http://us.imdb.com/M/title-exact?Toy%20Story%2...</td>\n",
              "      <td>0</td>\n",
              "      <td>0</td>\n",
              "      <td>0</td>\n",
              "      <td>1</td>\n",
              "      <td>1</td>\n",
              "      <td>1</td>\n",
              "      <td>0</td>\n",
              "      <td>0</td>\n",
              "      <td>0</td>\n",
              "      <td>0</td>\n",
              "      <td>0</td>\n",
              "      <td>0</td>\n",
              "      <td>0</td>\n",
              "      <td>0</td>\n",
              "      <td>0</td>\n",
              "      <td>0</td>\n",
              "      <td>0</td>\n",
              "      <td>0</td>\n",
              "      <td>0</td>\n",
              "    </tr>\n",
              "    <tr>\n",
              "      <th>1</th>\n",
              "      <td>2</td>\n",
              "      <td>GoldenEye (1995)</td>\n",
              "      <td>01-Jan-1995</td>\n",
              "      <td>NaN</td>\n",
              "      <td>http://us.imdb.com/M/title-exact?GoldenEye%20(...</td>\n",
              "      <td>0</td>\n",
              "      <td>1</td>\n",
              "      <td>1</td>\n",
              "      <td>0</td>\n",
              "      <td>0</td>\n",
              "      <td>0</td>\n",
              "      <td>0</td>\n",
              "      <td>0</td>\n",
              "      <td>0</td>\n",
              "      <td>0</td>\n",
              "      <td>0</td>\n",
              "      <td>0</td>\n",
              "      <td>0</td>\n",
              "      <td>0</td>\n",
              "      <td>0</td>\n",
              "      <td>0</td>\n",
              "      <td>1</td>\n",
              "      <td>0</td>\n",
              "      <td>0</td>\n",
              "    </tr>\n",
              "    <tr>\n",
              "      <th>2</th>\n",
              "      <td>3</td>\n",
              "      <td>Four Rooms (1995)</td>\n",
              "      <td>01-Jan-1995</td>\n",
              "      <td>NaN</td>\n",
              "      <td>http://us.imdb.com/M/title-exact?Four%20Rooms%...</td>\n",
              "      <td>0</td>\n",
              "      <td>0</td>\n",
              "      <td>0</td>\n",
              "      <td>0</td>\n",
              "      <td>0</td>\n",
              "      <td>0</td>\n",
              "      <td>0</td>\n",
              "      <td>0</td>\n",
              "      <td>0</td>\n",
              "      <td>0</td>\n",
              "      <td>0</td>\n",
              "      <td>0</td>\n",
              "      <td>0</td>\n",
              "      <td>0</td>\n",
              "      <td>0</td>\n",
              "      <td>0</td>\n",
              "      <td>1</td>\n",
              "      <td>0</td>\n",
              "      <td>0</td>\n",
              "    </tr>\n",
              "    <tr>\n",
              "      <th>3</th>\n",
              "      <td>4</td>\n",
              "      <td>Get Shorty (1995)</td>\n",
              "      <td>01-Jan-1995</td>\n",
              "      <td>NaN</td>\n",
              "      <td>http://us.imdb.com/M/title-exact?Get%20Shorty%...</td>\n",
              "      <td>0</td>\n",
              "      <td>1</td>\n",
              "      <td>0</td>\n",
              "      <td>0</td>\n",
              "      <td>0</td>\n",
              "      <td>1</td>\n",
              "      <td>0</td>\n",
              "      <td>0</td>\n",
              "      <td>1</td>\n",
              "      <td>0</td>\n",
              "      <td>0</td>\n",
              "      <td>0</td>\n",
              "      <td>0</td>\n",
              "      <td>0</td>\n",
              "      <td>0</td>\n",
              "      <td>0</td>\n",
              "      <td>0</td>\n",
              "      <td>0</td>\n",
              "      <td>0</td>\n",
              "    </tr>\n",
              "    <tr>\n",
              "      <th>4</th>\n",
              "      <td>5</td>\n",
              "      <td>Copycat (1995)</td>\n",
              "      <td>01-Jan-1995</td>\n",
              "      <td>NaN</td>\n",
              "      <td>http://us.imdb.com/M/title-exact?Copycat%20(1995)</td>\n",
              "      <td>0</td>\n",
              "      <td>0</td>\n",
              "      <td>0</td>\n",
              "      <td>0</td>\n",
              "      <td>0</td>\n",
              "      <td>0</td>\n",
              "      <td>1</td>\n",
              "      <td>0</td>\n",
              "      <td>1</td>\n",
              "      <td>0</td>\n",
              "      <td>0</td>\n",
              "      <td>0</td>\n",
              "      <td>0</td>\n",
              "      <td>0</td>\n",
              "      <td>0</td>\n",
              "      <td>0</td>\n",
              "      <td>1</td>\n",
              "      <td>0</td>\n",
              "      <td>0</td>\n",
              "    </tr>\n",
              "  </tbody>\n",
              "</table>\n",
              "</div>"
            ],
            "text/plain": [
              "   ITEMID              TITLE      RELEASE  ...  THRILLER WAR  WESTERN\n",
              "0       1   Toy Story (1995)  01-Jan-1995  ...         0   0        0\n",
              "1       2   GoldenEye (1995)  01-Jan-1995  ...         1   0        0\n",
              "2       3  Four Rooms (1995)  01-Jan-1995  ...         1   0        0\n",
              "3       4  Get Shorty (1995)  01-Jan-1995  ...         0   0        0\n",
              "4       5     Copycat (1995)  01-Jan-1995  ...         1   0        0\n",
              "\n",
              "[5 rows x 24 columns]"
            ]
          },
          "execution_count": 68,
          "metadata": {
            "tags": []
          },
          "output_type": "execute_result"
        }
      ],
      "source": [
        "df_item = data_object.load_items()\n",
        "df_item.head()"
      ]
    },
    {
      "cell_type": "code",
      "execution_count": null,
      "metadata": {
        "id": "Ycl8PcLIgzLl"
      },
      "outputs": [
        {
          "data": {
            "text/html": [
              "<div>\n",
              "<style scoped>\n",
              "    .dataframe tbody tr th:only-of-type {\n",
              "        vertical-align: middle;\n",
              "    }\n",
              "\n",
              "    .dataframe tbody tr th {\n",
              "        vertical-align: top;\n",
              "    }\n",
              "\n",
              "    .dataframe thead th {\n",
              "        text-align: right;\n",
              "    }\n",
              "</style>\n",
              "<table border=\"1\" class=\"dataframe\">\n",
              "  <thead>\n",
              "    <tr style=\"text-align: right;\">\n",
              "      <th></th>\n",
              "      <th>ITEMID</th>\n",
              "      <th>TITLE</th>\n",
              "      <th>RELEASE</th>\n",
              "      <th>VIDRELEASE</th>\n",
              "      <th>URL</th>\n",
              "      <th>UNKNOWN</th>\n",
              "      <th>ACTION</th>\n",
              "      <th>ADVENTURE</th>\n",
              "      <th>ANIMATION</th>\n",
              "      <th>CHILDREN</th>\n",
              "      <th>COMEDY</th>\n",
              "      <th>CRIME</th>\n",
              "      <th>DOCUMENTARY</th>\n",
              "      <th>DRAMA</th>\n",
              "      <th>FANTASY</th>\n",
              "      <th>FILMNOIR</th>\n",
              "      <th>HORROR</th>\n",
              "      <th>MUSICAL</th>\n",
              "      <th>MYSTERY</th>\n",
              "      <th>ROMANCE</th>\n",
              "      <th>SCIFI</th>\n",
              "      <th>THRILLER</th>\n",
              "      <th>WAR</th>\n",
              "      <th>WESTERN</th>\n",
              "    </tr>\n",
              "  </thead>\n",
              "  <tbody>\n",
              "    <tr>\n",
              "      <th>0</th>\n",
              "      <td>9.0</td>\n",
              "      <td>Toy Story (1995)</td>\n",
              "      <td>01-Jan-1995</td>\n",
              "      <td>NaN</td>\n",
              "      <td>http://us.imdb.com/M/title-exact?Toy%20Story%2...</td>\n",
              "      <td>0</td>\n",
              "      <td>0</td>\n",
              "      <td>0</td>\n",
              "      <td>1</td>\n",
              "      <td>1</td>\n",
              "      <td>1</td>\n",
              "      <td>0</td>\n",
              "      <td>0</td>\n",
              "      <td>0</td>\n",
              "      <td>0</td>\n",
              "      <td>0</td>\n",
              "      <td>0</td>\n",
              "      <td>0</td>\n",
              "      <td>0</td>\n",
              "      <td>0</td>\n",
              "      <td>0</td>\n",
              "      <td>0</td>\n",
              "      <td>0</td>\n",
              "      <td>0</td>\n",
              "    </tr>\n",
              "    <tr>\n",
              "      <th>1</th>\n",
              "      <td>160.0</td>\n",
              "      <td>GoldenEye (1995)</td>\n",
              "      <td>01-Jan-1995</td>\n",
              "      <td>NaN</td>\n",
              "      <td>http://us.imdb.com/M/title-exact?GoldenEye%20(...</td>\n",
              "      <td>0</td>\n",
              "      <td>1</td>\n",
              "      <td>1</td>\n",
              "      <td>0</td>\n",
              "      <td>0</td>\n",
              "      <td>0</td>\n",
              "      <td>0</td>\n",
              "      <td>0</td>\n",
              "      <td>0</td>\n",
              "      <td>0</td>\n",
              "      <td>0</td>\n",
              "      <td>0</td>\n",
              "      <td>0</td>\n",
              "      <td>0</td>\n",
              "      <td>0</td>\n",
              "      <td>0</td>\n",
              "      <td>1</td>\n",
              "      <td>0</td>\n",
              "      <td>0</td>\n",
              "    </tr>\n",
              "    <tr>\n",
              "      <th>2</th>\n",
              "      <td>579.0</td>\n",
              "      <td>Four Rooms (1995)</td>\n",
              "      <td>01-Jan-1995</td>\n",
              "      <td>NaN</td>\n",
              "      <td>http://us.imdb.com/M/title-exact?Four%20Rooms%...</td>\n",
              "      <td>0</td>\n",
              "      <td>0</td>\n",
              "      <td>0</td>\n",
              "      <td>0</td>\n",
              "      <td>0</td>\n",
              "      <td>0</td>\n",
              "      <td>0</td>\n",
              "      <td>0</td>\n",
              "      <td>0</td>\n",
              "      <td>0</td>\n",
              "      <td>0</td>\n",
              "      <td>0</td>\n",
              "      <td>0</td>\n",
              "      <td>0</td>\n",
              "      <td>0</td>\n",
              "      <td>0</td>\n",
              "      <td>1</td>\n",
              "      <td>0</td>\n",
              "      <td>0</td>\n",
              "    </tr>\n",
              "    <tr>\n",
              "      <th>3</th>\n",
              "      <td>25.0</td>\n",
              "      <td>Get Shorty (1995)</td>\n",
              "      <td>01-Jan-1995</td>\n",
              "      <td>NaN</td>\n",
              "      <td>http://us.imdb.com/M/title-exact?Get%20Shorty%...</td>\n",
              "      <td>0</td>\n",
              "      <td>1</td>\n",
              "      <td>0</td>\n",
              "      <td>0</td>\n",
              "      <td>0</td>\n",
              "      <td>1</td>\n",
              "      <td>0</td>\n",
              "      <td>0</td>\n",
              "      <td>1</td>\n",
              "      <td>0</td>\n",
              "      <td>0</td>\n",
              "      <td>0</td>\n",
              "      <td>0</td>\n",
              "      <td>0</td>\n",
              "      <td>0</td>\n",
              "      <td>0</td>\n",
              "      <td>0</td>\n",
              "      <td>0</td>\n",
              "      <td>0</td>\n",
              "    </tr>\n",
              "    <tr>\n",
              "      <th>4</th>\n",
              "      <td>436.0</td>\n",
              "      <td>Copycat (1995)</td>\n",
              "      <td>01-Jan-1995</td>\n",
              "      <td>NaN</td>\n",
              "      <td>http://us.imdb.com/M/title-exact?Copycat%20(1995)</td>\n",
              "      <td>0</td>\n",
              "      <td>0</td>\n",
              "      <td>0</td>\n",
              "      <td>0</td>\n",
              "      <td>0</td>\n",
              "      <td>0</td>\n",
              "      <td>1</td>\n",
              "      <td>0</td>\n",
              "      <td>1</td>\n",
              "      <td>0</td>\n",
              "      <td>0</td>\n",
              "      <td>0</td>\n",
              "      <td>0</td>\n",
              "      <td>0</td>\n",
              "      <td>0</td>\n",
              "      <td>0</td>\n",
              "      <td>1</td>\n",
              "      <td>0</td>\n",
              "      <td>0</td>\n",
              "    </tr>\n",
              "  </tbody>\n",
              "</table>\n",
              "</div>"
            ],
            "text/plain": [
              "   ITEMID              TITLE      RELEASE  ...  THRILLER WAR  WESTERN\n",
              "0     9.0   Toy Story (1995)  01-Jan-1995  ...         0   0        0\n",
              "1   160.0   GoldenEye (1995)  01-Jan-1995  ...         1   0        0\n",
              "2   579.0  Four Rooms (1995)  01-Jan-1995  ...         1   0        0\n",
              "3    25.0  Get Shorty (1995)  01-Jan-1995  ...         0   0        0\n",
              "4   436.0     Copycat (1995)  01-Jan-1995  ...         1   0        0\n",
              "\n",
              "[5 rows x 24 columns]"
            ]
          },
          "execution_count": 69,
          "metadata": {
            "tags": []
          },
          "output_type": "execute_result"
        }
      ],
      "source": [
        "df_item = le(df_item, col='ITEMID', maps=imap)\n",
        "df_item.head()"
      ]
    },
    {
      "cell_type": "code",
      "execution_count": null,
      "metadata": {
        "id": "TvtbOrbtgzLl"
      },
      "outputs": [
        {
          "data": {
            "text/html": [
              "<div>\n",
              "<style scoped>\n",
              "    .dataframe tbody tr th:only-of-type {\n",
              "        vertical-align: middle;\n",
              "    }\n",
              "\n",
              "    .dataframe tbody tr th {\n",
              "        vertical-align: top;\n",
              "    }\n",
              "\n",
              "    .dataframe thead th {\n",
              "        text-align: right;\n",
              "    }\n",
              "</style>\n",
              "<table border=\"1\" class=\"dataframe\">\n",
              "  <thead>\n",
              "    <tr style=\"text-align: right;\">\n",
              "      <th></th>\n",
              "      <th>ITEMID</th>\n",
              "      <th>TITLE</th>\n",
              "      <th>RELEASE</th>\n",
              "      <th>VIDRELEASE</th>\n",
              "      <th>URL</th>\n",
              "      <th>UNKNOWN</th>\n",
              "      <th>ACTION</th>\n",
              "      <th>ADVENTURE</th>\n",
              "      <th>ANIMATION</th>\n",
              "      <th>CHILDREN</th>\n",
              "      <th>COMEDY</th>\n",
              "      <th>CRIME</th>\n",
              "      <th>DOCUMENTARY</th>\n",
              "      <th>DRAMA</th>\n",
              "      <th>FANTASY</th>\n",
              "      <th>FILMNOIR</th>\n",
              "      <th>HORROR</th>\n",
              "      <th>MUSICAL</th>\n",
              "      <th>MYSTERY</th>\n",
              "      <th>ROMANCE</th>\n",
              "      <th>SCIFI</th>\n",
              "      <th>THRILLER</th>\n",
              "      <th>WAR</th>\n",
              "      <th>WESTERN</th>\n",
              "    </tr>\n",
              "  </thead>\n",
              "  <tbody>\n",
              "    <tr>\n",
              "      <th>1</th>\n",
              "      <td>160.0</td>\n",
              "      <td>GoldenEye (1995)</td>\n",
              "      <td>01-Jan-1995</td>\n",
              "      <td>NaN</td>\n",
              "      <td>http://us.imdb.com/M/title-exact?GoldenEye%20(...</td>\n",
              "      <td>0</td>\n",
              "      <td>1</td>\n",
              "      <td>1</td>\n",
              "      <td>0</td>\n",
              "      <td>0</td>\n",
              "      <td>0</td>\n",
              "      <td>0</td>\n",
              "      <td>0</td>\n",
              "      <td>0</td>\n",
              "      <td>0</td>\n",
              "      <td>0</td>\n",
              "      <td>0</td>\n",
              "      <td>0</td>\n",
              "      <td>0</td>\n",
              "      <td>0</td>\n",
              "      <td>0</td>\n",
              "      <td>1</td>\n",
              "      <td>0</td>\n",
              "      <td>0</td>\n",
              "    </tr>\n",
              "  </tbody>\n",
              "</table>\n",
              "</div>"
            ],
            "text/plain": [
              "   ITEMID             TITLE      RELEASE  ...  THRILLER WAR  WESTERN\n",
              "1   160.0  GoldenEye (1995)  01-Jan-1995  ...         1   0        0\n",
              "\n",
              "[1 rows x 24 columns]"
            ]
          },
          "execution_count": 70,
          "metadata": {
            "tags": []
          },
          "output_type": "execute_result"
        }
      ],
      "source": [
        "df_item.loc[df_item['TITLE'] == 'GoldenEye (1995)']"
      ]
    },
    {
      "cell_type": "code",
      "execution_count": null,
      "metadata": {
        "id": "Uom6EVG8gzLm"
      },
      "outputs": [
        {
          "data": {
            "text/plain": [
              "160    1.000000\n",
              "123    0.842003\n",
              "948    0.828162\n",
              "398    0.827030\n",
              "197    0.826931\n",
              "         ...   \n",
              "26    -0.654127\n",
              "88    -0.680429\n",
              "165   -0.697536\n",
              "499   -0.729313\n",
              "312   -0.780792\n",
              "Length: 1447, dtype: float64"
            ]
          },
          "execution_count": 71,
          "metadata": {
            "tags": []
          },
          "output_type": "execute_result"
        }
      ],
      "source": [
        "# let's start by finding movies similar to GoldenEye (1995)\n",
        "item_similarities = model.item_item_similarity(item_id=160)\n",
        "\n",
        "item_similarities"
      ]
    },
    {
      "cell_type": "code",
      "execution_count": null,
      "metadata": {
        "id": "MW741iOcgzLm"
      },
      "outputs": [
        {
          "data": {
            "text/html": [
              "<div>\n",
              "<style scoped>\n",
              "    .dataframe tbody tr th:only-of-type {\n",
              "        vertical-align: middle;\n",
              "    }\n",
              "\n",
              "    .dataframe tbody tr th {\n",
              "        vertical-align: top;\n",
              "    }\n",
              "\n",
              "    .dataframe thead th {\n",
              "        text-align: right;\n",
              "    }\n",
              "</style>\n",
              "<table border=\"1\" class=\"dataframe\">\n",
              "  <thead>\n",
              "    <tr style=\"text-align: right;\">\n",
              "      <th></th>\n",
              "      <th>ITEMID</th>\n",
              "      <th>TITLE</th>\n",
              "      <th>RELEASE</th>\n",
              "      <th>VIDRELEASE</th>\n",
              "      <th>URL</th>\n",
              "      <th>UNKNOWN</th>\n",
              "      <th>ACTION</th>\n",
              "      <th>ADVENTURE</th>\n",
              "      <th>ANIMATION</th>\n",
              "      <th>CHILDREN</th>\n",
              "      <th>COMEDY</th>\n",
              "      <th>CRIME</th>\n",
              "      <th>DOCUMENTARY</th>\n",
              "      <th>DRAMA</th>\n",
              "      <th>FANTASY</th>\n",
              "      <th>FILMNOIR</th>\n",
              "      <th>HORROR</th>\n",
              "      <th>MUSICAL</th>\n",
              "      <th>MYSTERY</th>\n",
              "      <th>ROMANCE</th>\n",
              "      <th>SCIFI</th>\n",
              "      <th>THRILLER</th>\n",
              "      <th>WAR</th>\n",
              "      <th>WESTERN</th>\n",
              "    </tr>\n",
              "  </thead>\n",
              "  <tbody>\n",
              "    <tr>\n",
              "      <th>162</th>\n",
              "      <td>182.0</td>\n",
              "      <td>Return of the Pink Panther, The (1974)</td>\n",
              "      <td>01-Jan-1974</td>\n",
              "      <td>NaN</td>\n",
              "      <td>http://us.imdb.com/M/title-exact?Return%20of%2...</td>\n",
              "      <td>0</td>\n",
              "      <td>0</td>\n",
              "      <td>0</td>\n",
              "      <td>0</td>\n",
              "      <td>0</td>\n",
              "      <td>1</td>\n",
              "      <td>0</td>\n",
              "      <td>0</td>\n",
              "      <td>0</td>\n",
              "      <td>0</td>\n",
              "      <td>0</td>\n",
              "      <td>0</td>\n",
              "      <td>0</td>\n",
              "      <td>0</td>\n",
              "      <td>0</td>\n",
              "      <td>0</td>\n",
              "      <td>0</td>\n",
              "      <td>0</td>\n",
              "      <td>0</td>\n",
              "    </tr>\n",
              "    <tr>\n",
              "      <th>125</th>\n",
              "      <td>229.0</td>\n",
              "      <td>Spitfire Grill, The (1996)</td>\n",
              "      <td>06-Sep-1996</td>\n",
              "      <td>NaN</td>\n",
              "      <td>http://us.imdb.com/M/title-exact?Spitfire%20Gr...</td>\n",
              "      <td>0</td>\n",
              "      <td>0</td>\n",
              "      <td>0</td>\n",
              "      <td>0</td>\n",
              "      <td>0</td>\n",
              "      <td>0</td>\n",
              "      <td>0</td>\n",
              "      <td>0</td>\n",
              "      <td>1</td>\n",
              "      <td>0</td>\n",
              "      <td>0</td>\n",
              "      <td>0</td>\n",
              "      <td>0</td>\n",
              "      <td>0</td>\n",
              "      <td>0</td>\n",
              "      <td>0</td>\n",
              "      <td>0</td>\n",
              "      <td>0</td>\n",
              "      <td>0</td>\n",
              "    </tr>\n",
              "    <tr>\n",
              "      <th>975</th>\n",
              "      <td>933.0</td>\n",
              "      <td>Solo (1996)</td>\n",
              "      <td>23-Aug-1996</td>\n",
              "      <td>NaN</td>\n",
              "      <td>http://us.imdb.com/M/title-exact?Solo%20(1996)</td>\n",
              "      <td>0</td>\n",
              "      <td>1</td>\n",
              "      <td>0</td>\n",
              "      <td>0</td>\n",
              "      <td>0</td>\n",
              "      <td>0</td>\n",
              "      <td>0</td>\n",
              "      <td>0</td>\n",
              "      <td>0</td>\n",
              "      <td>0</td>\n",
              "      <td>0</td>\n",
              "      <td>0</td>\n",
              "      <td>0</td>\n",
              "      <td>0</td>\n",
              "      <td>0</td>\n",
              "      <td>1</td>\n",
              "      <td>1</td>\n",
              "      <td>0</td>\n",
              "      <td>0</td>\n",
              "    </tr>\n",
              "    <tr>\n",
              "      <th>401</th>\n",
              "      <td>175.0</td>\n",
              "      <td>Ghost (1990)</td>\n",
              "      <td>01-Jan-1990</td>\n",
              "      <td>NaN</td>\n",
              "      <td>http://us.imdb.com/M/title-exact?Ghost%20(1990)</td>\n",
              "      <td>0</td>\n",
              "      <td>0</td>\n",
              "      <td>0</td>\n",
              "      <td>0</td>\n",
              "      <td>0</td>\n",
              "      <td>1</td>\n",
              "      <td>0</td>\n",
              "      <td>0</td>\n",
              "      <td>0</td>\n",
              "      <td>0</td>\n",
              "      <td>0</td>\n",
              "      <td>0</td>\n",
              "      <td>0</td>\n",
              "      <td>0</td>\n",
              "      <td>1</td>\n",
              "      <td>0</td>\n",
              "      <td>1</td>\n",
              "      <td>0</td>\n",
              "      <td>0</td>\n",
              "    </tr>\n",
              "    <tr>\n",
              "      <th>199</th>\n",
              "      <td>72.0</td>\n",
              "      <td>Shining, The (1980)</td>\n",
              "      <td>01-Jan-1980</td>\n",
              "      <td>NaN</td>\n",
              "      <td>http://us.imdb.com/M/title-exact?Shining,%20Th...</td>\n",
              "      <td>0</td>\n",
              "      <td>0</td>\n",
              "      <td>0</td>\n",
              "      <td>0</td>\n",
              "      <td>0</td>\n",
              "      <td>0</td>\n",
              "      <td>0</td>\n",
              "      <td>0</td>\n",
              "      <td>0</td>\n",
              "      <td>0</td>\n",
              "      <td>0</td>\n",
              "      <td>1</td>\n",
              "      <td>0</td>\n",
              "      <td>0</td>\n",
              "      <td>0</td>\n",
              "      <td>0</td>\n",
              "      <td>0</td>\n",
              "      <td>0</td>\n",
              "      <td>0</td>\n",
              "    </tr>\n",
              "  </tbody>\n",
              "</table>\n",
              "</div>"
            ],
            "text/plain": [
              "     ITEMID                                   TITLE  ... WAR  WESTERN\n",
              "162   182.0  Return of the Pink Panther, The (1974)  ...   0        0\n",
              "125   229.0              Spitfire Grill, The (1996)  ...   0        0\n",
              "975   933.0                             Solo (1996)  ...   0        0\n",
              "401   175.0                            Ghost (1990)  ...   0        0\n",
              "199    72.0                     Shining, The (1980)  ...   0        0\n",
              "\n",
              "[5 rows x 24 columns]"
            ]
          },
          "execution_count": 72,
          "metadata": {
            "tags": []
          },
          "output_type": "execute_result"
        }
      ],
      "source": [
        "df_item.iloc[item_similarities.index][:5]"
      ]
    },
    {
      "cell_type": "markdown",
      "metadata": {
        "id": "_py39oQ8gzLm"
      },
      "source": [
        "Unfortunately, not seen these movies. Can't say if these are relevant.\n",
        "\n",
        "``item_item_similarity`` method is available in all Collie models, not just ``MatrixFactorizationModel``! \n",
        "\n",
        "Next, we will incorporate item metadata into recommendations for even better results."
      ]
    },
    {
      "cell_type": "markdown",
      "metadata": {
        "id": "8hkoWyfVg9AK"
      },
      "source": [
        "## Partial Credit Loss\n",
        "Most of the time, we don't *only* have user-item interactions, but also side-data about our items that we are recommending. These next two notebooks will focus on incorporating this into the model training process. \n",
        "\n",
        "In this notebook, we're going to add a new component to our loss function - \"partial credit\". Specifically, we're going to use the genre information to give our model \"partial credit\" for predicting that a user would like a movie that they haven't interacted with, but is in the same genre as one that they liked. The goal is to help our model learn faster from these similarities. "
      ]
    },
    {
      "cell_type": "markdown",
      "metadata": {
        "id": "4iFhjr7eg9AK"
      },
      "source": [
        "### Read in Data"
      ]
    },
    {
      "cell_type": "markdown",
      "metadata": {
        "id": "bK4bGSUEWe9F"
      },
      "source": [
        "To do the partial credit calculation, we need this data in a slightly different form. Instead of the one-hot-encoded version above, we're going to make a ``1 x n_items`` tensor with a number representing the first genre associated with the film, for simplicity. Note that with Collie, we could instead make a metadata tensor for each genre"
      ]
    },
    {
      "cell_type": "code",
      "execution_count": null,
      "metadata": {
        "id": "mi7IZRHbWwsc"
      },
      "outputs": [
        {
          "data": {
            "text/plain": [
              "Index(['UNKNOWN', 'ACTION', 'ADVENTURE', 'ANIMATION', 'CHILDREN', 'COMEDY',\n",
              "       'CRIME', 'DOCUMENTARY', 'DRAMA', 'FANTASY', 'FILMNOIR', 'HORROR',\n",
              "       'MUSICAL', 'MYSTERY', 'ROMANCE', 'SCIFI', 'THRILLER', 'WAR', 'WESTERN'],\n",
              "      dtype='object')"
            ]
          },
          "execution_count": 76,
          "metadata": {
            "tags": []
          },
          "output_type": "execute_result"
        }
      ],
      "source": [
        "df_item.columns[5:]"
      ]
    },
    {
      "cell_type": "code",
      "execution_count": null,
      "metadata": {
        "id": "bWBxAUUXYvZ3"
      },
      "outputs": [],
      "source": [
        "metadata_df = df_item[df_item.columns[5:]]"
      ]
    },
    {
      "cell_type": "code",
      "execution_count": null,
      "metadata": {
        "id": "LSy_-Jsxg9AL"
      },
      "outputs": [
        {
          "data": {
            "text/plain": [
              "tensor([ 5,  1, 16,  ..., 14,  5,  8])"
            ]
          },
          "execution_count": 77,
          "metadata": {
            "tags": []
          },
          "output_type": "execute_result"
        }
      ],
      "source": [
        "genres = (\n",
        "    torch.tensor(metadata_df.values)\n",
        "    .topk(1)\n",
        "    .indices\n",
        "    .view(-1)\n",
        ")\n",
        "\n",
        "genres"
      ]
    },
    {
      "cell_type": "markdown",
      "metadata": {
        "id": "LhaQLQQig9AM"
      },
      "source": [
        "### Train a model with our new loss"
      ]
    },
    {
      "cell_type": "markdown",
      "metadata": {
        "id": "5NrYwTFVXCco"
      },
      "source": [
        "now, we will pass in ``metadata_for_loss`` and ``metadata_for_loss_weights`` into the model ``metadata_for_loss`` should have a tensor containing the integer representations for metadata we created above for every item ID in our dataset ``metadata_for_loss_weights`` should have the weights for each of the keys in ``metadata_for_loss``"
      ]
    },
    {
      "cell_type": "code",
      "execution_count": null,
      "metadata": {
        "id": "Sysr04kSg9AN"
      },
      "outputs": [],
      "source": [
        "model = MatrixFactorizationModel(\n",
        "    train=train_interactions,\n",
        "    val=val_interactions,\n",
        "    embedding_dim=10,\n",
        "    lr=1e-2,\n",
        "    metadata_for_loss={'genre': genres},\n",
        "    metadata_for_loss_weights={'genre': 0.4},\n",
        ")"
      ]
    },
    {
      "cell_type": "code",
      "execution_count": null,
      "metadata": {
        "id": "ZAk1C815g9AN"
      },
      "outputs": [
        {
          "name": "stderr",
          "output_type": "stream",
          "text": [
            "GPU available: True, used: True\n",
            "TPU available: False, using: 0 TPU cores\n",
            "LOCAL_RANK: 0 - CUDA_VISIBLE_DEVICES: [0]\n",
            "\n",
            "  | Name            | Type            | Params\n",
            "----------------------------------------------------\n",
            "0 | user_biases     | ZeroEmbedding   | 941   \n",
            "1 | item_biases     | ZeroEmbedding   | 1.4 K \n",
            "2 | user_embeddings | ScaledEmbedding | 9.4 K \n",
            "3 | item_embeddings | ScaledEmbedding | 14.5 K\n",
            "4 | dropout         | Dropout         | 0     \n",
            "----------------------------------------------------\n",
            "26.3 K    Trainable params\n",
            "0         Non-trainable params\n",
            "26.3 K    Total params\n",
            "0.105     Total estimated model params size (MB)\n"
          ]
        },
        {
          "name": "stdout",
          "output_type": "stream",
          "text": [
            "Detected GPU. Setting ``gpus`` to 1.\n"
          ]
        },
        {
          "data": {
            "application/vnd.jupyter.widget-view+json": {
              "model_id": "7f9d29d6c1f04d4b9adcda6292a698fb",
              "version_major": 2,
              "version_minor": 0
            },
            "text/plain": [
              "HBox(children=(FloatProgress(value=1.0, bar_style='info', description='Validation sanity check', layout=Layout…"
            ]
          },
          "metadata": {
            "tags": []
          },
          "output_type": "display_data"
        },
        {
          "name": "stderr",
          "output_type": "stream",
          "text": [
            "Global seed set to 22\n"
          ]
        },
        {
          "name": "stdout",
          "output_type": "stream",
          "text": [
            "\r"
          ]
        },
        {
          "data": {
            "application/vnd.jupyter.widget-view+json": {
              "model_id": "71fb17475171409ab7b30f0915d3c3f9",
              "version_major": 2,
              "version_minor": 0
            },
            "text/plain": [
              "HBox(children=(FloatProgress(value=1.0, bar_style='info', description='Training', layout=Layout(flex='2'), max…"
            ]
          },
          "metadata": {
            "tags": []
          },
          "output_type": "display_data"
        },
        {
          "data": {
            "application/vnd.jupyter.widget-view+json": {
              "model_id": "85b96bc221984d08815cf3c09fde7c9f",
              "version_major": 2,
              "version_minor": 0
            },
            "text/plain": [
              "HBox(children=(FloatProgress(value=1.0, bar_style='info', description='Validating', layout=Layout(flex='2'), m…"
            ]
          },
          "metadata": {
            "tags": []
          },
          "output_type": "display_data"
        },
        {
          "data": {
            "application/vnd.jupyter.widget-view+json": {
              "model_id": "b6f3004c83574b379bc3520a410b5df5",
              "version_major": 2,
              "version_minor": 0
            },
            "text/plain": [
              "HBox(children=(FloatProgress(value=1.0, bar_style='info', description='Validating', layout=Layout(flex='2'), m…"
            ]
          },
          "metadata": {
            "tags": []
          },
          "output_type": "display_data"
        },
        {
          "data": {
            "application/vnd.jupyter.widget-view+json": {
              "model_id": "127ad96af11c41519ded336bbc246c42",
              "version_major": 2,
              "version_minor": 0
            },
            "text/plain": [
              "HBox(children=(FloatProgress(value=1.0, bar_style='info', description='Validating', layout=Layout(flex='2'), m…"
            ]
          },
          "metadata": {
            "tags": []
          },
          "output_type": "display_data"
        },
        {
          "name": "stdout",
          "output_type": "stream",
          "text": [
            "Epoch     3: reducing learning rate of group 0 to 1.0000e-03.\n",
            "Epoch     3: reducing learning rate of group 0 to 1.0000e-03.\n"
          ]
        },
        {
          "data": {
            "application/vnd.jupyter.widget-view+json": {
              "model_id": "1997f9f7a4d04e5ebec4b8907e32b797",
              "version_major": 2,
              "version_minor": 0
            },
            "text/plain": [
              "HBox(children=(FloatProgress(value=1.0, bar_style='info', description='Validating', layout=Layout(flex='2'), m…"
            ]
          },
          "metadata": {
            "tags": []
          },
          "output_type": "display_data"
        },
        {
          "data": {
            "application/vnd.jupyter.widget-view+json": {
              "model_id": "2bb338780a1a40318d91fc689692c9ae",
              "version_major": 2,
              "version_minor": 0
            },
            "text/plain": [
              "HBox(children=(FloatProgress(value=1.0, bar_style='info', description='Validating', layout=Layout(flex='2'), m…"
            ]
          },
          "metadata": {
            "tags": []
          },
          "output_type": "display_data"
        },
        {
          "data": {
            "application/vnd.jupyter.widget-view+json": {
              "model_id": "b066cece2abe4a74b1aed6c238cd82b3",
              "version_major": 2,
              "version_minor": 0
            },
            "text/plain": [
              "HBox(children=(FloatProgress(value=1.0, bar_style='info', description='Validating', layout=Layout(flex='2'), m…"
            ]
          },
          "metadata": {
            "tags": []
          },
          "output_type": "display_data"
        },
        {
          "name": "stdout",
          "output_type": "stream",
          "text": [
            "Epoch     6: reducing learning rate of group 0 to 1.0000e-04.\n",
            "Epoch     6: reducing learning rate of group 0 to 1.0000e-04.\n"
          ]
        },
        {
          "data": {
            "application/vnd.jupyter.widget-view+json": {
              "model_id": "2da2765da24841709884a7cca16f1107",
              "version_major": 2,
              "version_minor": 0
            },
            "text/plain": [
              "HBox(children=(FloatProgress(value=1.0, bar_style='info', description='Validating', layout=Layout(flex='2'), m…"
            ]
          },
          "metadata": {
            "tags": []
          },
          "output_type": "display_data"
        },
        {
          "data": {
            "application/vnd.jupyter.widget-view+json": {
              "model_id": "2391e70d0de74d71ab5372f39a4fa49b",
              "version_major": 2,
              "version_minor": 0
            },
            "text/plain": [
              "HBox(children=(FloatProgress(value=1.0, bar_style='info', description='Validating', layout=Layout(flex='2'), m…"
            ]
          },
          "metadata": {
            "tags": []
          },
          "output_type": "display_data"
        },
        {
          "data": {
            "application/vnd.jupyter.widget-view+json": {
              "model_id": "13c2754aca2a42c2ac06d3640062b6d4",
              "version_major": 2,
              "version_minor": 0
            },
            "text/plain": [
              "HBox(children=(FloatProgress(value=1.0, bar_style='info', description='Validating', layout=Layout(flex='2'), m…"
            ]
          },
          "metadata": {
            "tags": []
          },
          "output_type": "display_data"
        },
        {
          "data": {
            "application/vnd.jupyter.widget-view+json": {
              "model_id": "9adf92080dd2458a942dbd76a285ce48",
              "version_major": 2,
              "version_minor": 0
            },
            "text/plain": [
              "HBox(children=(FloatProgress(value=1.0, bar_style='info', description='Validating', layout=Layout(flex='2'), m…"
            ]
          },
          "metadata": {
            "tags": []
          },
          "output_type": "display_data"
        },
        {
          "name": "stdout",
          "output_type": "stream",
          "text": [
            "\n"
          ]
        }
      ],
      "source": [
        "trainer = CollieTrainer(model=model, max_epochs=10, deterministic=True)\n",
        "\n",
        "trainer.fit(model)"
      ]
    },
    {
      "cell_type": "markdown",
      "metadata": {
        "id": "NQdGTCPvg9AN"
      },
      "source": [
        "### Evaluate the Model "
      ]
    },
    {
      "cell_type": "markdown",
      "metadata": {
        "id": "ISQzTUnVg9AO"
      },
      "source": [
        "Again, we'll evaluate the model and look at some particular users' recommendations to get a sense of what these recommendations look like using a partial credit loss function during model training. "
      ]
    },
    {
      "cell_type": "code",
      "execution_count": null,
      "metadata": {
        "id": "6STWH4Ozg9AO"
      },
      "outputs": [
        {
          "data": {
            "application/vnd.jupyter.widget-view+json": {
              "model_id": "b1c126acba99422c9aad4bc9b1b0293f",
              "version_major": 2,
              "version_minor": 0
            },
            "text/plain": [
              "HBox(children=(FloatProgress(value=0.0, max=28.0), HTML(value='')))"
            ]
          },
          "metadata": {
            "tags": []
          },
          "output_type": "display_data"
        },
        {
          "name": "stdout",
          "output_type": "stream",
          "text": [
            "\n",
            "MAP@10 Score: 0.02882727154889818\n",
            "MRR Score:    0.1829242957435939\n",
            "AUC Score:    0.8585049499223719\n"
          ]
        }
      ],
      "source": [
        "mapk_score, mrr_score, auc_score = evaluate_in_batches([mapk, mrr, auc], val_interactions, model)\n",
        "\n",
        "print(f'MAP@10 Score: {mapk_score}')\n",
        "print(f'MRR Score:    {mrr_score}')\n",
        "print(f'AUC Score:    {auc_score}')"
      ]
    },
    {
      "cell_type": "markdown",
      "metadata": {
        "id": "Bk75mVQWg9AP"
      },
      "source": [
        "Broken record alert: we're not seeing as much performance increase here compared to the standard model because MovieLens 100K has so few items. For a more dramatic difference, try training this model on a larger dataset, such as MovieLens 10M, adjusting the architecture-specific hyperparameters, or train longer. "
      ]
    },
    {
      "cell_type": "markdown",
      "metadata": {
        "id": "9X25yfucbbKx"
      },
      "source": [
        "### Inference"
      ]
    },
    {
      "cell_type": "code",
      "execution_count": null,
      "metadata": {
        "id": "dB6eeXWfg9AP"
      },
      "outputs": [
        {
          "data": {
            "text/html": [
              "<h3>User 895:</h3><table border=\"1\" class=\"dataframe\">\n",
              "  <thead>\n",
              "    <tr style=\"text-align: right;\">\n",
              "      <th></th>\n",
              "      <th>Willy Wonka and the Chocolate Factory (1971)</th>\n",
              "      <th>Mighty Aphrodite (1995)</th>\n",
              "      <th>Conspiracy Theory (1997)</th>\n",
              "      <th>Sense and Sensibility (1995)</th>\n",
              "      <th>Liar Liar (1997)</th>\n",
              "      <th>In & Out (1997)</th>\n",
              "      <th>Return of the Jedi (1983)</th>\n",
              "      <th>Ransom (1996)</th>\n",
              "      <th>Emma (1996)</th>\n",
              "      <th>Toy Story (1995)</th>\n",
              "    </tr>\n",
              "  </thead>\n",
              "  <tbody>\n",
              "    <tr>\n",
              "      <th>Some loved films:</th>\n",
              "      <td><img src=\"https://m.media-amazon.com/images/M/MV5BZTllNDU0ZTItYTYxMC00OTI4LThlNDAtZjNiNzdhMWZiYjNmXkEyXkFqcGdeQXVyNzY1NDgwNjQ@.jpg\" width=500></td>\n",
              "      <td><img src=\"https://m.media-amazon.com/images/M/MV5BMGM1NzM2ZjktNDM5ZS00YmExLTk5ZmYtNDdkNjdkNTdhZWZkXkEyXkFqcGdeQXVyNjE5MjUyOTM@.jpg\" width=500></td>\n",
              "      <td><img src=\"https://m.media-amazon.com/images/M/MV5BMjQ1MTYxMzA4OF5BMl5BanBnXkFtZTgwNjg2NTM1MTI@.jpg\" width=500></td>\n",
              "      <td><img src=\"https://m.media-amazon.com/images/M/MV5BNzk1MjU3MDQyMl5BMl5BanBnXkFtZTcwNjc1OTM2MQ@@.jpg\" width=500></td>\n",
              "      <td><img src=\"https://m.media-amazon.com/images/M/MV5BYjZlYmJjYWYtZDM0NS00YmZlLWIyMTAtMDY5ZTNjZTgwMDhjXkEyXkFqcGdeQXVyMTQxNzMzNDI@.jpg\" width=500></td>\n",
              "      <td><img src=\"https://m.media-amazon.com/images/M/MV5BNDZkMjVhZmItMmIyNC00OWYyLWFmZWQtMzIzZWZhY2QyMjZiXkEyXkFqcGdeQXVyMTQxNzMzNDI@.jpg\" width=500></td>\n",
              "      <td><img src=\"https://m.media-amazon.com/images/M/MV5BOWZlMjFiYzgtMTUzNC00Y2IzLTk1NTMtZmNhMTczNTk0ODk1XkEyXkFqcGdeQXVyNTAyODkwOQ@@.jpg\" width=500></td>\n",
              "      <td><img src=\"https://m.media-amazon.com/images/M/MV5BZTc0ZjNkYTktMmJmOS00OTJlLTg1NWUtMzQ5ZGMxM2NhY2M0L2ltYWdlL2ltYWdlXkEyXkFqcGdeQXVyNTAyODkwOQ@@.jpg\" width=500></td>\n",
              "      <td><img src=\"https://m.media-amazon.com/images/M/MV5BN2E1YTUzZDAtODQ2YS00MWNjLWEzMzAtZjgwY2M3ZTcwOTJhXkEyXkFqcGdeQXVyNjE5MjUyOTM@.jpg\" width=500></td>\n",
              "      <td><img src=\"https://m.media-amazon.com/images/M/MV5BMDU2ZWJlMjktMTRhMy00ZTA5LWEzNDgtYmNmZTEwZTViZWJkXkEyXkFqcGdeQXVyNDQ2OTk4MzI@.jpg\" width=500></td>\n",
              "    </tr>\n",
              "  </tbody>\n",
              "</table><table border=\"1\" class=\"dataframe\">\n",
              "  <thead>\n",
              "    <tr style=\"text-align: right;\">\n",
              "      <th></th>\n",
              "      <th>Cold Comfort Farm (1995)</th>\n",
              "      <th>Apartment, The (1960)</th>\n",
              "      <th>Blown Away (1994)</th>\n",
              "      <th>Star Wars (1977)</th>\n",
              "      <th>Star Trek: First Contact (1996)</th>\n",
              "      <th>Sex, Lies, and Videotape (1989)</th>\n",
              "      <th>Big Squeeze, The (1996)</th>\n",
              "      <th>Client, The (1994)</th>\n",
              "      <th>Jerry Maguire (1996)</th>\n",
              "      <th>Ghost and the Darkness, The (1996)</th>\n",
              "    </tr>\n",
              "  </thead>\n",
              "  <tbody>\n",
              "    <tr>\n",
              "      <th>Recommended films:</th>\n",
              "      <td><img src=\"https://m.media-amazon.com/images/M/MV5BZWI3MTA3NGEtYTg4ZC00MzgwLTliMGQtMjU2MWM5MmVmYThhXkEyXkFqcGdeQXVyNzc5MjA3OA@@.jpg\" width=500></td>\n",
              "      <td><img src=\"https://m.media-amazon.com/images/M/MV5BNDkwMTY4MDIwM15BMl5BanBnXkFtZTcwODc4MDk2Nw@@.jpg\" width=500></td>\n",
              "      <td><img src=\"https://m.media-amazon.com/images/M/MV5BMmYxYzA1YjYtYTNlNS00YzY4LWFlMDMtZjA2MzA2YWJlM2Q0XkEyXkFqcGdeQXVyNDk3NzU2MTQ@.jpg\" width=500></td>\n",
              "      <td><img src=\"https://m.media-amazon.com/images/M/MV5BNzVlY2MwMjktM2E4OS00Y2Y3LWE3ZjctYzhkZGM3YzA1ZWM2XkEyXkFqcGdeQXVyNzkwMjQ5NzM@.jpg\" width=500></td>\n",
              "      <td><img src=\"https://m.media-amazon.com/images/M/MV5BYTllZjRkY2QtYTJlMy00ZTMxLWE0YWQtMWMwYzY2YTM3YzRjXkEyXkFqcGdeQXVyNTAyODkwOQ@@.jpg\" width=500></td>\n",
              "      <td><img src=\"https://m.media-amazon.com/images/M/MV5BNDllYWVkOTQtZjRlMC00NWFjLWI0OGEtOWY4YzU4ZjMxYzg3XkEyXkFqcGdeQXVyMTQxNzMzNDI@.jpg\" width=500></td>\n",
              "      <td><img src=\"https://m.media-amazon.com/images/M/MV5BMjAxMDUwMjQ3OV5BMl5BanBnXkFtZTcwMTI0ODAyMQ@@.jpg\" width=500></td>\n",
              "      <td><img src=\"https://m.media-amazon.com/images/M/MV5BNGNjZWYwZGYtZWIxZC00OTYyLTllYTMtZWNiNmQ0YWUzMjkxXkEyXkFqcGdeQXVyMTQxNzMzNDI@.jpg\" width=500></td>\n",
              "      <td><img src=\"https://m.media-amazon.com/images/M/MV5BYTM0ZWNmZTUtOTVkZS00MTZiLTg3M2QtZjA0Y2RmOWM1NWEyXkEyXkFqcGdeQXVyNjU0OTQ0OTY@.jpg\" width=500></td>\n",
              "      <td><img src=\"https://m.media-amazon.com/images/M/MV5BNWQ4NDRiMWItNGI5Yi00N2U1LTlkMGQtM2VjMzdkZTU0YzYyXkEyXkFqcGdeQXVyNTc1NTQxODI@.jpg\" width=500></td>\n",
              "    </tr>\n",
              "  </tbody>\n",
              "</table>-----<p style=\"margin:0\">User 895 has rated <strong>12</strong> films with a 4 or 5</p><p style=\"margin:0\">User 895 has rated <strong>8</strong> films with a 1, 2, or 3</p><p style=\"margin:0\">% of these films rated 5 or 4 appearing in the first 10 recommendations:<strong style=\"color:green\">10.0%</strong></p><p style=\"margin:0\">% of these films rated 1, 2, or 3 appearing in the first 10 recommendations: <strong style=\"color:red\">10.0%</strong></p>"
            ],
            "text/plain": [
              "<IPython.core.display.HTML object>"
            ]
          },
          "metadata": {
            "tags": []
          },
          "output_type": "display_data"
        }
      ],
      "source": [
        "user_id = np.random.randint(10, train_interactions.num_users)\n",
        "\n",
        "display(\n",
        "    HTML(\n",
        "        get_recommendation_visualizations(\n",
        "            model=model,\n",
        "            user_id=user_id,\n",
        "            filter_films=True,\n",
        "            shuffle=True,\n",
        "            detailed=True,\n",
        "        )\n",
        "    )\n",
        ")"
      ]
    },
    {
      "cell_type": "markdown",
      "metadata": {
        "id": "ZoIh0oHfg9AQ"
      },
      "source": [
        "Partial credit loss is useful when we want an easy way to boost performance of any implicit model architecture, hybrid or not. When tuned properly, partial credit loss more fairly penalizes the model for more egregious mistakes and relaxes the loss applied when items are more similar. \n",
        "\n",
        "Of course, the loss function isn't the only place we can incorporate this metadata - we can also directly use this in the model (and even use a hybrid model combined with partial credit loss). Next, we will train a hybrid Collie model! "
      ]
    },
    {
      "cell_type": "markdown",
      "metadata": {
        "id": "DZpMvb3-bidk"
      },
      "source": [
        "## Hybrid Factorization Model"
      ]
    },
    {
      "cell_type": "markdown",
      "metadata": {
        "id": "Laxa0vh1hE3o"
      },
      "source": [
        "### Train a ``MatrixFactorizationModel`` "
      ]
    },
    {
      "cell_type": "markdown",
      "metadata": {
        "id": "Fj3tJg-1hE3o"
      },
      "source": [
        "The first step towards training a Collie Hybrid model is to train a regular ``MatrixFactorizationModel`` to generate rich user and item embeddings. We'll use these embeddings in a ``HybridPretrainedModel`` a bit later. "
      ]
    },
    {
      "cell_type": "code",
      "execution_count": null,
      "metadata": {
        "id": "m75xWkQLhE3o"
      },
      "outputs": [],
      "source": [
        "model = MatrixFactorizationModel(\n",
        "    train=train_interactions,\n",
        "    val=val_interactions,\n",
        "    embedding_dim=30,\n",
        "    lr=1e-2,\n",
        ")"
      ]
    },
    {
      "cell_type": "code",
      "execution_count": null,
      "metadata": {
        "id": "bjh0jE0yhE3p"
      },
      "outputs": [
        {
          "name": "stderr",
          "output_type": "stream",
          "text": [
            "GPU available: True, used: True\n",
            "TPU available: False, using: 0 TPU cores\n",
            "LOCAL_RANK: 0 - CUDA_VISIBLE_DEVICES: [0]\n",
            "\n",
            "  | Name            | Type            | Params\n",
            "----------------------------------------------------\n",
            "0 | user_biases     | ZeroEmbedding   | 941   \n",
            "1 | item_biases     | ZeroEmbedding   | 1.4 K \n",
            "2 | user_embeddings | ScaledEmbedding | 28.2 K\n",
            "3 | item_embeddings | ScaledEmbedding | 43.4 K\n",
            "4 | dropout         | Dropout         | 0     \n",
            "----------------------------------------------------\n",
            "74.0 K    Trainable params\n",
            "0         Non-trainable params\n",
            "74.0 K    Total params\n",
            "0.296     Total estimated model params size (MB)\n"
          ]
        },
        {
          "name": "stdout",
          "output_type": "stream",
          "text": [
            "Detected GPU. Setting ``gpus`` to 1.\n"
          ]
        },
        {
          "data": {
            "application/vnd.jupyter.widget-view+json": {
              "model_id": "62986af6e0394e969bb8942274ba6784",
              "version_major": 2,
              "version_minor": 0
            },
            "text/plain": [
              "HBox(children=(FloatProgress(value=1.0, bar_style='info', description='Validation sanity check', layout=Layout…"
            ]
          },
          "metadata": {
            "tags": []
          },
          "output_type": "display_data"
        },
        {
          "name": "stderr",
          "output_type": "stream",
          "text": [
            "Global seed set to 22\n"
          ]
        },
        {
          "name": "stdout",
          "output_type": "stream",
          "text": [
            "\r"
          ]
        },
        {
          "data": {
            "application/vnd.jupyter.widget-view+json": {
              "model_id": "b1ccac573c5c4c79b4357c14f99a08b6",
              "version_major": 2,
              "version_minor": 0
            },
            "text/plain": [
              "HBox(children=(FloatProgress(value=1.0, bar_style='info', description='Training', layout=Layout(flex='2'), max…"
            ]
          },
          "metadata": {
            "tags": []
          },
          "output_type": "display_data"
        },
        {
          "data": {
            "application/vnd.jupyter.widget-view+json": {
              "model_id": "952b7b171ddb4f4eb96cc91f1257ca9a",
              "version_major": 2,
              "version_minor": 0
            },
            "text/plain": [
              "HBox(children=(FloatProgress(value=1.0, bar_style='info', description='Validating', layout=Layout(flex='2'), m…"
            ]
          },
          "metadata": {
            "tags": []
          },
          "output_type": "display_data"
        },
        {
          "data": {
            "application/vnd.jupyter.widget-view+json": {
              "model_id": "c0632ad487cf400e906da9a52efa239a",
              "version_major": 2,
              "version_minor": 0
            },
            "text/plain": [
              "HBox(children=(FloatProgress(value=1.0, bar_style='info', description='Validating', layout=Layout(flex='2'), m…"
            ]
          },
          "metadata": {
            "tags": []
          },
          "output_type": "display_data"
        },
        {
          "data": {
            "application/vnd.jupyter.widget-view+json": {
              "model_id": "b06e9ed8cacb428ca888b8c7e0558e54",
              "version_major": 2,
              "version_minor": 0
            },
            "text/plain": [
              "HBox(children=(FloatProgress(value=1.0, bar_style='info', description='Validating', layout=Layout(flex='2'), m…"
            ]
          },
          "metadata": {
            "tags": []
          },
          "output_type": "display_data"
        },
        {
          "name": "stdout",
          "output_type": "stream",
          "text": [
            "Epoch     3: reducing learning rate of group 0 to 1.0000e-03.\n",
            "Epoch     3: reducing learning rate of group 0 to 1.0000e-03.\n"
          ]
        },
        {
          "data": {
            "application/vnd.jupyter.widget-view+json": {
              "model_id": "d227738e76a3420ba0a79a6684de0dcf",
              "version_major": 2,
              "version_minor": 0
            },
            "text/plain": [
              "HBox(children=(FloatProgress(value=1.0, bar_style='info', description='Validating', layout=Layout(flex='2'), m…"
            ]
          },
          "metadata": {
            "tags": []
          },
          "output_type": "display_data"
        },
        {
          "data": {
            "application/vnd.jupyter.widget-view+json": {
              "model_id": "b423c474bb5d4ba98c14502c6b02d95d",
              "version_major": 2,
              "version_minor": 0
            },
            "text/plain": [
              "HBox(children=(FloatProgress(value=1.0, bar_style='info', description='Validating', layout=Layout(flex='2'), m…"
            ]
          },
          "metadata": {
            "tags": []
          },
          "output_type": "display_data"
        },
        {
          "data": {
            "application/vnd.jupyter.widget-view+json": {
              "model_id": "71907183c5584961bfd232d68e685d3d",
              "version_major": 2,
              "version_minor": 0
            },
            "text/plain": [
              "HBox(children=(FloatProgress(value=1.0, bar_style='info', description='Validating', layout=Layout(flex='2'), m…"
            ]
          },
          "metadata": {
            "tags": []
          },
          "output_type": "display_data"
        },
        {
          "data": {
            "application/vnd.jupyter.widget-view+json": {
              "model_id": "2e2eb1edad7748ee92249d555840d612",
              "version_major": 2,
              "version_minor": 0
            },
            "text/plain": [
              "HBox(children=(FloatProgress(value=1.0, bar_style='info', description='Validating', layout=Layout(flex='2'), m…"
            ]
          },
          "metadata": {
            "tags": []
          },
          "output_type": "display_data"
        },
        {
          "data": {
            "application/vnd.jupyter.widget-view+json": {
              "model_id": "51757d5291844c6981c0258a245ad5be",
              "version_major": 2,
              "version_minor": 0
            },
            "text/plain": [
              "HBox(children=(FloatProgress(value=1.0, bar_style='info', description='Validating', layout=Layout(flex='2'), m…"
            ]
          },
          "metadata": {
            "tags": []
          },
          "output_type": "display_data"
        },
        {
          "data": {
            "application/vnd.jupyter.widget-view+json": {
              "model_id": "d1a11fbd7c3a4dadbdee14b744937c30",
              "version_major": 2,
              "version_minor": 0
            },
            "text/plain": [
              "HBox(children=(FloatProgress(value=1.0, bar_style='info', description='Validating', layout=Layout(flex='2'), m…"
            ]
          },
          "metadata": {
            "tags": []
          },
          "output_type": "display_data"
        },
        {
          "data": {
            "application/vnd.jupyter.widget-view+json": {
              "model_id": "c7fec0dc1e8648ca869c65caefa05751",
              "version_major": 2,
              "version_minor": 0
            },
            "text/plain": [
              "HBox(children=(FloatProgress(value=1.0, bar_style='info', description='Validating', layout=Layout(flex='2'), m…"
            ]
          },
          "metadata": {
            "tags": []
          },
          "output_type": "display_data"
        },
        {
          "name": "stdout",
          "output_type": "stream",
          "text": [
            "\n"
          ]
        }
      ],
      "source": [
        "trainer = CollieTrainer(model=model, max_epochs=10, deterministic=True)\n",
        "\n",
        "trainer.fit(model)"
      ]
    },
    {
      "cell_type": "code",
      "execution_count": null,
      "metadata": {
        "id": "6tvE66cfhE3p"
      },
      "outputs": [
        {
          "data": {
            "application/vnd.jupyter.widget-view+json": {
              "model_id": "9b69ca9af02e4dcead166064746dfcb2",
              "version_major": 2,
              "version_minor": 0
            },
            "text/plain": [
              "HBox(children=(FloatProgress(value=0.0, max=28.0), HTML(value='')))"
            ]
          },
          "metadata": {
            "tags": []
          },
          "output_type": "display_data"
        },
        {
          "name": "stdout",
          "output_type": "stream",
          "text": [
            "\n",
            "Standard MAP@10 Score: 0.024415062120220127\n",
            "Standard MRR Score:    0.1551878337645617\n",
            "Standard AUC Score:    0.8575152364604943\n"
          ]
        }
      ],
      "source": [
        "mapk_score, mrr_score, auc_score = evaluate_in_batches([mapk, mrr, auc], val_interactions, model)\n",
        "\n",
        "print(f'Standard MAP@10 Score: {mapk_score}')\n",
        "print(f'Standard MRR Score:    {mrr_score}')\n",
        "print(f'Standard AUC Score:    {auc_score}')"
      ]
    },
    {
      "cell_type": "markdown",
      "metadata": {
        "id": "CRq29RVfhE3q"
      },
      "source": [
        "### Train a ``HybridPretrainedModel`` "
      ]
    },
    {
      "cell_type": "markdown",
      "metadata": {
        "id": "lFh1LEcChE3q"
      },
      "source": [
        "With our trained ``model`` above, we can now use these embeddings and additional side data directly in a hybrid model. The architecture essentially takes our user embedding, item embedding, and item metadata for each user-item interaction, concatenates them, and sends it through a simple feedforward network to output a recommendation score. \n",
        "\n",
        "We can initially freeze the user and item embeddings from our previously-trained ``model``, train for a few epochs only optimizing our newly-added linear layers, and then train a model with everything unfrozen at a lower learning rate. We will show this process below. "
      ]
    },
    {
      "cell_type": "code",
      "execution_count": null,
      "metadata": {
        "id": "27SwhWuMYNkQ"
      },
      "outputs": [],
      "source": [
        "HybridPretrainedModel??"
      ]
    },
    {
      "cell_type": "code",
      "execution_count": null,
      "metadata": {
        "id": "RPgUTdR1hE3r"
      },
      "outputs": [],
      "source": [
        "# we will apply a linear layer to the metadata with ``metadata_layers_dims`` and\n",
        "# a linear layer to the combined embeddings and metadata data with ``combined_layers_dims``\n",
        "hybrid_model = HybridPretrainedModel(\n",
        "    train=train_interactions,\n",
        "    val=val_interactions,\n",
        "    item_metadata=metadata_df,\n",
        "    trained_model=model,\n",
        "    metadata_layers_dims=[8],\n",
        "    combined_layers_dims=[16],\n",
        "    lr=1e-2,\n",
        "    freeze_embeddings=True,\n",
        ")"
      ]
    },
    {
      "cell_type": "code",
      "execution_count": null,
      "metadata": {
        "id": "vyyUg5ilhE3r"
      },
      "outputs": [
        {
          "name": "stderr",
          "output_type": "stream",
          "text": [
            "GPU available: True, used: True\n",
            "TPU available: False, using: 0 TPU cores\n",
            "LOCAL_RANK: 0 - CUDA_VISIBLE_DEVICES: [0]\n",
            "\n",
            "  | Name             | Type                     | Params\n",
            "--------------------------------------------------------------\n",
            "0 | _trained_model   | MatrixFactorizationModel | 74.0 K\n",
            "1 | embeddings       | Sequential               | 71.6 K\n",
            "2 | dropout          | Dropout                  | 0     \n",
            "3 | metadata_layer_0 | Linear                   | 160   \n",
            "4 | combined_layer_0 | Linear                   | 1.1 K \n",
            "5 | combined_layer_1 | Linear                   | 17    \n",
            "--------------------------------------------------------------\n",
            "75.3 K    Trainable params\n",
            "71.6 K    Non-trainable params\n",
            "146 K     Total params\n",
            "0.588     Total estimated model params size (MB)\n"
          ]
        },
        {
          "name": "stdout",
          "output_type": "stream",
          "text": [
            "Detected GPU. Setting ``gpus`` to 1.\n"
          ]
        },
        {
          "data": {
            "application/vnd.jupyter.widget-view+json": {
              "model_id": "1b0f046d63ec46909920000d416a956b",
              "version_major": 2,
              "version_minor": 0
            },
            "text/plain": [
              "HBox(children=(FloatProgress(value=1.0, bar_style='info', description='Validation sanity check', layout=Layout…"
            ]
          },
          "metadata": {
            "tags": []
          },
          "output_type": "display_data"
        },
        {
          "name": "stderr",
          "output_type": "stream",
          "text": [
            "Global seed set to 22\n"
          ]
        },
        {
          "name": "stdout",
          "output_type": "stream",
          "text": [
            "\r"
          ]
        },
        {
          "data": {
            "application/vnd.jupyter.widget-view+json": {
              "model_id": "73d516b143a94e0a9ff2115a975dfe0b",
              "version_major": 2,
              "version_minor": 0
            },
            "text/plain": [
              "HBox(children=(FloatProgress(value=1.0, bar_style='info', description='Training', layout=Layout(flex='2'), max…"
            ]
          },
          "metadata": {
            "tags": []
          },
          "output_type": "display_data"
        },
        {
          "data": {
            "application/vnd.jupyter.widget-view+json": {
              "model_id": "ad5390af70b14da0aa0d3a0b5d20a90a",
              "version_major": 2,
              "version_minor": 0
            },
            "text/plain": [
              "HBox(children=(FloatProgress(value=1.0, bar_style='info', description='Validating', layout=Layout(flex='2'), m…"
            ]
          },
          "metadata": {
            "tags": []
          },
          "output_type": "display_data"
        },
        {
          "data": {
            "application/vnd.jupyter.widget-view+json": {
              "model_id": "32b3c6d930f94d56b9f6e652303cc1ca",
              "version_major": 2,
              "version_minor": 0
            },
            "text/plain": [
              "HBox(children=(FloatProgress(value=1.0, bar_style='info', description='Validating', layout=Layout(flex='2'), m…"
            ]
          },
          "metadata": {
            "tags": []
          },
          "output_type": "display_data"
        },
        {
          "data": {
            "application/vnd.jupyter.widget-view+json": {
              "model_id": "cf3dcff653a3443184d0942defe61230",
              "version_major": 2,
              "version_minor": 0
            },
            "text/plain": [
              "HBox(children=(FloatProgress(value=1.0, bar_style='info', description='Validating', layout=Layout(flex='2'), m…"
            ]
          },
          "metadata": {
            "tags": []
          },
          "output_type": "display_data"
        },
        {
          "data": {
            "application/vnd.jupyter.widget-view+json": {
              "model_id": "aa23f91202f7432ab937a60fd0cc69c2",
              "version_major": 2,
              "version_minor": 0
            },
            "text/plain": [
              "HBox(children=(FloatProgress(value=1.0, bar_style='info', description='Validating', layout=Layout(flex='2'), m…"
            ]
          },
          "metadata": {
            "tags": []
          },
          "output_type": "display_data"
        },
        {
          "data": {
            "application/vnd.jupyter.widget-view+json": {
              "model_id": "22fbff68d90c43d6960fea7ddd420810",
              "version_major": 2,
              "version_minor": 0
            },
            "text/plain": [
              "HBox(children=(FloatProgress(value=1.0, bar_style='info', description='Validating', layout=Layout(flex='2'), m…"
            ]
          },
          "metadata": {
            "tags": []
          },
          "output_type": "display_data"
        },
        {
          "data": {
            "application/vnd.jupyter.widget-view+json": {
              "model_id": "c4588fb79e384aeabc04a175fe8d6548",
              "version_major": 2,
              "version_minor": 0
            },
            "text/plain": [
              "HBox(children=(FloatProgress(value=1.0, bar_style='info', description='Validating', layout=Layout(flex='2'), m…"
            ]
          },
          "metadata": {
            "tags": []
          },
          "output_type": "display_data"
        },
        {
          "data": {
            "application/vnd.jupyter.widget-view+json": {
              "model_id": "c560a29789ca48129d338f88feddfeee",
              "version_major": 2,
              "version_minor": 0
            },
            "text/plain": [
              "HBox(children=(FloatProgress(value=1.0, bar_style='info', description='Validating', layout=Layout(flex='2'), m…"
            ]
          },
          "metadata": {
            "tags": []
          },
          "output_type": "display_data"
        },
        {
          "data": {
            "application/vnd.jupyter.widget-view+json": {
              "model_id": "c58dc7499eef43f39a406d873aa9bf2f",
              "version_major": 2,
              "version_minor": 0
            },
            "text/plain": [
              "HBox(children=(FloatProgress(value=1.0, bar_style='info', description='Validating', layout=Layout(flex='2'), m…"
            ]
          },
          "metadata": {
            "tags": []
          },
          "output_type": "display_data"
        },
        {
          "data": {
            "application/vnd.jupyter.widget-view+json": {
              "model_id": "109fb55f40334538966bbdb2961cfdf9",
              "version_major": 2,
              "version_minor": 0
            },
            "text/plain": [
              "HBox(children=(FloatProgress(value=1.0, bar_style='info', description='Validating', layout=Layout(flex='2'), m…"
            ]
          },
          "metadata": {
            "tags": []
          },
          "output_type": "display_data"
        },
        {
          "data": {
            "application/vnd.jupyter.widget-view+json": {
              "model_id": "fcbf9f9aecf54c1f97c3e2e3915c36c2",
              "version_major": 2,
              "version_minor": 0
            },
            "text/plain": [
              "HBox(children=(FloatProgress(value=1.0, bar_style='info', description='Validating', layout=Layout(flex='2'), m…"
            ]
          },
          "metadata": {
            "tags": []
          },
          "output_type": "display_data"
        },
        {
          "name": "stdout",
          "output_type": "stream",
          "text": [
            "Epoch    10: reducing learning rate of group 0 to 1.0000e-03.\n",
            "\n"
          ]
        }
      ],
      "source": [
        "hybrid_trainer = CollieTrainer(model=hybrid_model, max_epochs=10, deterministic=True)\n",
        "\n",
        "hybrid_trainer.fit(hybrid_model)"
      ]
    },
    {
      "cell_type": "code",
      "execution_count": null,
      "metadata": {
        "id": "I8eEYwcfhE3s"
      },
      "outputs": [
        {
          "data": {
            "application/vnd.jupyter.widget-view+json": {
              "model_id": "f3842767c3b9491ca0e39c7d83c3bba7",
              "version_major": 2,
              "version_minor": 0
            },
            "text/plain": [
              "HBox(children=(FloatProgress(value=0.0, max=28.0), HTML(value='')))"
            ]
          },
          "metadata": {
            "tags": []
          },
          "output_type": "display_data"
        },
        {
          "name": "stdout",
          "output_type": "stream",
          "text": [
            "\n",
            "Hybrid MAP@10 Score: 0.02650305521043056\n",
            "Hybrid MRR Score:    0.15837650977843062\n",
            "Hybrid AUC Score:    0.780685132170672\n"
          ]
        }
      ],
      "source": [
        "mapk_score, mrr_score, auc_score = evaluate_in_batches([mapk, mrr, auc], val_interactions, hybrid_model)\n",
        "\n",
        "print(f'Hybrid MAP@10 Score: {mapk_score}')\n",
        "print(f'Hybrid MRR Score:    {mrr_score}')\n",
        "print(f'Hybrid AUC Score:    {auc_score}')"
      ]
    },
    {
      "cell_type": "code",
      "execution_count": null,
      "metadata": {
        "id": "EEw83cTUhE3s"
      },
      "outputs": [],
      "source": [
        "hybrid_model_unfrozen = HybridPretrainedModel(\n",
        "    train=train_interactions,\n",
        "    val=val_interactions,\n",
        "    item_metadata=metadata_df,\n",
        "    trained_model=model,\n",
        "    metadata_layers_dims=[8],\n",
        "    combined_layers_dims=[16],\n",
        "    lr=1e-4,\n",
        "    freeze_embeddings=False,\n",
        ")\n",
        "\n",
        "hybrid_model.unfreeze_embeddings()\n",
        "hybrid_model_unfrozen.load_from_hybrid_model(hybrid_model)"
      ]
    },
    {
      "cell_type": "code",
      "execution_count": null,
      "metadata": {
        "id": "yiA-EylqhE3t"
      },
      "outputs": [
        {
          "name": "stderr",
          "output_type": "stream",
          "text": [
            "GPU available: True, used: True\n",
            "TPU available: False, using: 0 TPU cores\n",
            "LOCAL_RANK: 0 - CUDA_VISIBLE_DEVICES: [0]\n",
            "\n",
            "  | Name             | Type                     | Params\n",
            "--------------------------------------------------------------\n",
            "0 | _trained_model   | MatrixFactorizationModel | 74.0 K\n",
            "1 | embeddings       | Sequential               | 71.6 K\n",
            "2 | dropout          | Dropout                  | 0     \n",
            "3 | metadata_layer_0 | Linear                   | 160   \n",
            "4 | combined_layer_0 | Linear                   | 1.1 K \n",
            "5 | combined_layer_1 | Linear                   | 17    \n",
            "--------------------------------------------------------------\n",
            "75.3 K    Trainable params\n",
            "71.6 K    Non-trainable params\n",
            "146 K     Total params\n",
            "0.588     Total estimated model params size (MB)\n"
          ]
        },
        {
          "name": "stdout",
          "output_type": "stream",
          "text": [
            "Detected GPU. Setting ``gpus`` to 1.\n"
          ]
        },
        {
          "data": {
            "application/vnd.jupyter.widget-view+json": {
              "model_id": "b776627648254a919b1a18b4025fbcb3",
              "version_major": 2,
              "version_minor": 0
            },
            "text/plain": [
              "HBox(children=(FloatProgress(value=1.0, bar_style='info', description='Validation sanity check', layout=Layout…"
            ]
          },
          "metadata": {
            "tags": []
          },
          "output_type": "display_data"
        },
        {
          "name": "stderr",
          "output_type": "stream",
          "text": [
            "Global seed set to 22\n"
          ]
        },
        {
          "name": "stdout",
          "output_type": "stream",
          "text": [
            "\r"
          ]
        },
        {
          "data": {
            "application/vnd.jupyter.widget-view+json": {
              "model_id": "bede57139cc14b599167088250548b43",
              "version_major": 2,
              "version_minor": 0
            },
            "text/plain": [
              "HBox(children=(FloatProgress(value=1.0, bar_style='info', description='Training', layout=Layout(flex='2'), max…"
            ]
          },
          "metadata": {
            "tags": []
          },
          "output_type": "display_data"
        },
        {
          "data": {
            "application/vnd.jupyter.widget-view+json": {
              "model_id": "fe7f069fe1f94fe3a98c44c3cf5c3ed1",
              "version_major": 2,
              "version_minor": 0
            },
            "text/plain": [
              "HBox(children=(FloatProgress(value=1.0, bar_style='info', description='Validating', layout=Layout(flex='2'), m…"
            ]
          },
          "metadata": {
            "tags": []
          },
          "output_type": "display_data"
        },
        {
          "data": {
            "application/vnd.jupyter.widget-view+json": {
              "model_id": "3b0d7093adde4f64bfddffdb4444e1f2",
              "version_major": 2,
              "version_minor": 0
            },
            "text/plain": [
              "HBox(children=(FloatProgress(value=1.0, bar_style='info', description='Validating', layout=Layout(flex='2'), m…"
            ]
          },
          "metadata": {
            "tags": []
          },
          "output_type": "display_data"
        },
        {
          "data": {
            "application/vnd.jupyter.widget-view+json": {
              "model_id": "84cd0ec866694431a1bc3f6eb7686107",
              "version_major": 2,
              "version_minor": 0
            },
            "text/plain": [
              "HBox(children=(FloatProgress(value=1.0, bar_style='info', description='Validating', layout=Layout(flex='2'), m…"
            ]
          },
          "metadata": {
            "tags": []
          },
          "output_type": "display_data"
        },
        {
          "name": "stdout",
          "output_type": "stream",
          "text": [
            "Epoch     3: reducing learning rate of group 0 to 1.0000e-03.\n"
          ]
        },
        {
          "data": {
            "application/vnd.jupyter.widget-view+json": {
              "model_id": "73232374fc7f4880a87dec552959d3a4",
              "version_major": 2,
              "version_minor": 0
            },
            "text/plain": [
              "HBox(children=(FloatProgress(value=1.0, bar_style='info', description='Validating', layout=Layout(flex='2'), m…"
            ]
          },
          "metadata": {
            "tags": []
          },
          "output_type": "display_data"
        },
        {
          "data": {
            "application/vnd.jupyter.widget-view+json": {
              "model_id": "5ebee37d75004546b316d10399b69431",
              "version_major": 2,
              "version_minor": 0
            },
            "text/plain": [
              "HBox(children=(FloatProgress(value=1.0, bar_style='info', description='Validating', layout=Layout(flex='2'), m…"
            ]
          },
          "metadata": {
            "tags": []
          },
          "output_type": "display_data"
        },
        {
          "data": {
            "application/vnd.jupyter.widget-view+json": {
              "model_id": "43ff46cfff674d37a04bf926feca9048",
              "version_major": 2,
              "version_minor": 0
            },
            "text/plain": [
              "HBox(children=(FloatProgress(value=1.0, bar_style='info', description='Validating', layout=Layout(flex='2'), m…"
            ]
          },
          "metadata": {
            "tags": []
          },
          "output_type": "display_data"
        },
        {
          "data": {
            "application/vnd.jupyter.widget-view+json": {
              "model_id": "2ac6cf2e1f304f06bdc354d04507fecd",
              "version_major": 2,
              "version_minor": 0
            },
            "text/plain": [
              "HBox(children=(FloatProgress(value=1.0, bar_style='info', description='Validating', layout=Layout(flex='2'), m…"
            ]
          },
          "metadata": {
            "tags": []
          },
          "output_type": "display_data"
        },
        {
          "name": "stdout",
          "output_type": "stream",
          "text": [
            "Epoch     7: reducing learning rate of group 0 to 1.0000e-04.\n"
          ]
        },
        {
          "data": {
            "application/vnd.jupyter.widget-view+json": {
              "model_id": "5a147c6e4b59428ebd7e2e3412cc52fc",
              "version_major": 2,
              "version_minor": 0
            },
            "text/plain": [
              "HBox(children=(FloatProgress(value=1.0, bar_style='info', description='Validating', layout=Layout(flex='2'), m…"
            ]
          },
          "metadata": {
            "tags": []
          },
          "output_type": "display_data"
        },
        {
          "data": {
            "application/vnd.jupyter.widget-view+json": {
              "model_id": "afe817a0babe466cbbf8e4b802ef3360",
              "version_major": 2,
              "version_minor": 0
            },
            "text/plain": [
              "HBox(children=(FloatProgress(value=1.0, bar_style='info', description='Validating', layout=Layout(flex='2'), m…"
            ]
          },
          "metadata": {
            "tags": []
          },
          "output_type": "display_data"
        },
        {
          "name": "stdout",
          "output_type": "stream",
          "text": [
            "Epoch     9: reducing learning rate of group 0 to 1.0000e-05.\n"
          ]
        },
        {
          "data": {
            "application/vnd.jupyter.widget-view+json": {
              "model_id": "975f803a94994f91891c3fb7f187a135",
              "version_major": 2,
              "version_minor": 0
            },
            "text/plain": [
              "HBox(children=(FloatProgress(value=1.0, bar_style='info', description='Validating', layout=Layout(flex='2'), m…"
            ]
          },
          "metadata": {
            "tags": []
          },
          "output_type": "display_data"
        },
        {
          "name": "stdout",
          "output_type": "stream",
          "text": [
            "\n"
          ]
        }
      ],
      "source": [
        "hybrid_trainer_unfrozen = CollieTrainer(model=hybrid_model_unfrozen, max_epochs=10, deterministic=True)\n",
        "\n",
        "hybrid_trainer_unfrozen.fit(hybrid_model_unfrozen)"
      ]
    },
    {
      "cell_type": "markdown",
      "metadata": {
        "id": "2Txbqf3fbqvD"
      },
      "source": [
        "### Evaluate the Model"
      ]
    },
    {
      "cell_type": "code",
      "execution_count": null,
      "metadata": {
        "id": "sof4rqMbhE3u"
      },
      "outputs": [
        {
          "data": {
            "application/vnd.jupyter.widget-view+json": {
              "model_id": "0d9f2c4528634f63a26527a755b33773",
              "version_major": 2,
              "version_minor": 0
            },
            "text/plain": [
              "HBox(children=(FloatProgress(value=0.0, max=28.0), HTML(value='')))"
            ]
          },
          "metadata": {
            "tags": []
          },
          "output_type": "display_data"
        },
        {
          "name": "stdout",
          "output_type": "stream",
          "text": [
            "\n",
            "Hybrid Unfrozen MAP@10 Score: 0.02789580198163252\n",
            "Hybrid Unfrozen MRR Score:    0.17139103232628614\n",
            "Hybrid Unfrozen AUC Score:    0.8118089364191508\n"
          ]
        }
      ],
      "source": [
        "mapk_score, mrr_score, auc_score = evaluate_in_batches([mapk, mrr, auc],\n",
        "                                                       val_interactions,\n",
        "                                                       hybrid_model_unfrozen)\n",
        "\n",
        "print(f'Hybrid Unfrozen MAP@10 Score: {mapk_score}')\n",
        "print(f'Hybrid Unfrozen MRR Score:    {mrr_score}')\n",
        "print(f'Hybrid Unfrozen AUC Score:    {auc_score}')"
      ]
    },
    {
      "cell_type": "markdown",
      "metadata": {
        "id": "0FzTQc6WbtJA"
      },
      "source": [
        "### Inference"
      ]
    },
    {
      "cell_type": "code",
      "execution_count": null,
      "metadata": {
        "id": "EwM1pkf_hE3v"
      },
      "outputs": [
        {
          "data": {
            "text/html": [
              "<h3>User 895:</h3><table border=\"1\" class=\"dataframe\">\n",
              "  <thead>\n",
              "    <tr style=\"text-align: right;\">\n",
              "      <th></th>\n",
              "      <th>Willy Wonka and the Chocolate Factory (1971)</th>\n",
              "      <th>Mighty Aphrodite (1995)</th>\n",
              "      <th>Conspiracy Theory (1997)</th>\n",
              "      <th>Sense and Sensibility (1995)</th>\n",
              "      <th>Liar Liar (1997)</th>\n",
              "      <th>In & Out (1997)</th>\n",
              "      <th>Return of the Jedi (1983)</th>\n",
              "      <th>Ransom (1996)</th>\n",
              "      <th>Emma (1996)</th>\n",
              "      <th>Toy Story (1995)</th>\n",
              "    </tr>\n",
              "  </thead>\n",
              "  <tbody>\n",
              "    <tr>\n",
              "      <th>Some loved films:</th>\n",
              "      <td><img src=\"https://m.media-amazon.com/images/M/MV5BZTllNDU0ZTItYTYxMC00OTI4LThlNDAtZjNiNzdhMWZiYjNmXkEyXkFqcGdeQXVyNzY1NDgwNjQ@.jpg\" width=500></td>\n",
              "      <td><img src=\"https://m.media-amazon.com/images/M/MV5BMGM1NzM2ZjktNDM5ZS00YmExLTk5ZmYtNDdkNjdkNTdhZWZkXkEyXkFqcGdeQXVyNjE5MjUyOTM@.jpg\" width=500></td>\n",
              "      <td><img src=\"https://m.media-amazon.com/images/M/MV5BMjQ1MTYxMzA4OF5BMl5BanBnXkFtZTgwNjg2NTM1MTI@.jpg\" width=500></td>\n",
              "      <td><img src=\"https://m.media-amazon.com/images/M/MV5BNzk1MjU3MDQyMl5BMl5BanBnXkFtZTcwNjc1OTM2MQ@@.jpg\" width=500></td>\n",
              "      <td><img src=\"https://m.media-amazon.com/images/M/MV5BYjZlYmJjYWYtZDM0NS00YmZlLWIyMTAtMDY5ZTNjZTgwMDhjXkEyXkFqcGdeQXVyMTQxNzMzNDI@.jpg\" width=500></td>\n",
              "      <td><img src=\"https://m.media-amazon.com/images/M/MV5BNDZkMjVhZmItMmIyNC00OWYyLWFmZWQtMzIzZWZhY2QyMjZiXkEyXkFqcGdeQXVyMTQxNzMzNDI@.jpg\" width=500></td>\n",
              "      <td><img src=\"https://m.media-amazon.com/images/M/MV5BOWZlMjFiYzgtMTUzNC00Y2IzLTk1NTMtZmNhMTczNTk0ODk1XkEyXkFqcGdeQXVyNTAyODkwOQ@@.jpg\" width=500></td>\n",
              "      <td><img src=\"https://m.media-amazon.com/images/M/MV5BZTc0ZjNkYTktMmJmOS00OTJlLTg1NWUtMzQ5ZGMxM2NhY2M0L2ltYWdlL2ltYWdlXkEyXkFqcGdeQXVyNTAyODkwOQ@@.jpg\" width=500></td>\n",
              "      <td><img src=\"https://m.media-amazon.com/images/M/MV5BN2E1YTUzZDAtODQ2YS00MWNjLWEzMzAtZjgwY2M3ZTcwOTJhXkEyXkFqcGdeQXVyNjE5MjUyOTM@.jpg\" width=500></td>\n",
              "      <td><img src=\"https://m.media-amazon.com/images/M/MV5BMDU2ZWJlMjktMTRhMy00ZTA5LWEzNDgtYmNmZTEwZTViZWJkXkEyXkFqcGdeQXVyNDQ2OTk4MzI@.jpg\" width=500></td>\n",
              "    </tr>\n",
              "  </tbody>\n",
              "</table><table border=\"1\" class=\"dataframe\">\n",
              "  <thead>\n",
              "    <tr style=\"text-align: right;\">\n",
              "      <th></th>\n",
              "      <th>Jerry Maguire (1996)</th>\n",
              "      <th>Bad Boys (1995)</th>\n",
              "      <th>Blown Away (1994)</th>\n",
              "      <th>Santa Clause, The (1994)</th>\n",
              "      <th>Tin Cup (1996)</th>\n",
              "      <th>Graduate, The (1967)</th>\n",
              "      <th>Cold Comfort Farm (1995)</th>\n",
              "      <th>Princess Bride, The (1987)</th>\n",
              "      <th>Private Benjamin (1980)</th>\n",
              "      <th>True Romance (1993)</th>\n",
              "    </tr>\n",
              "  </thead>\n",
              "  <tbody>\n",
              "    <tr>\n",
              "      <th>Recommended films:</th>\n",
              "      <td><img src=\"https://m.media-amazon.com/images/M/MV5BYTM0ZWNmZTUtOTVkZS00MTZiLTg3M2QtZjA0Y2RmOWM1NWEyXkEyXkFqcGdeQXVyNjU0OTQ0OTY@.jpg\" width=500></td>\n",
              "      <td><img src=\"https://m.media-amazon.com/images/M/MV5BMGE1ZTQ0ZTEtZTEwZS00NWE0LTlmMDUtMTE1ZWJiZTYzZTQ2XkEyXkFqcGdeQXVyNTAyODkwOQ@@.jpg\" width=500></td>\n",
              "      <td><img src=\"https://m.media-amazon.com/images/M/MV5BMmYxYzA1YjYtYTNlNS00YzY4LWFlMDMtZjA2MzA2YWJlM2Q0XkEyXkFqcGdeQXVyNDk3NzU2MTQ@.jpg\" width=500></td>\n",
              "      <td><img src=\"https://m.media-amazon.com/images/M/MV5BMTZlNzk1MjItYjJlYy00MTAxLWJkNjEtZmNiNmVlNjQ4NDE5XkEyXkFqcGdeQXVyMzI0NDc4ODY@.jpg\" width=500></td>\n",
              "      <td><img src=\"https://m.media-amazon.com/images/M/MV5BNDQxNzY1MzItZmU1Mi00MWI3LTk4ZjYtOTBlM2RmYTk1MTJjXkEyXkFqcGdeQXVyNDk3NzU2MTQ@.jpg\" width=500></td>\n",
              "      <td><img src=\"https://m.media-amazon.com/images/M/MV5BNjQ4MzUzYjYtYzk1My00M2Y2LWExMDEtY2E1NTlhMmQ0NGQ3XkEyXkFqcGdeQXVyMTQxNzMzNDI@.jpg\" width=500></td>\n",
              "      <td><img src=\"https://m.media-amazon.com/images/M/MV5BZWI3MTA3NGEtYTg4ZC00MzgwLTliMGQtMjU2MWM5MmVmYThhXkEyXkFqcGdeQXVyNzc5MjA3OA@@.jpg\" width=500></td>\n",
              "      <td><img src=\"https://m.media-amazon.com/images/M/MV5BMGM4M2Q5N2MtNThkZS00NTc1LTk1NTItNWEyZjJjNDRmNDk5XkEyXkFqcGdeQXVyMjA0MDQ0Mjc@.jpg\" width=500></td>\n",
              "      <td><img src=\"https://m.media-amazon.com/images/M/MV5BMjIyNjkxMjUyMF5BMl5BanBnXkFtZTgwMzU0MjEyMDE@.jpg\" width=500></td>\n",
              "      <td><img src=\"https://m.media-amazon.com/images/M/MV5BOWJhMjJjMDItODQxYS00ODIyLWJhYzAtNTliMDhkZjM0YTA1XkEyXkFqcGdeQXVyNzkwMjQ5NzM@.jpg\" width=500></td>\n",
              "    </tr>\n",
              "  </tbody>\n",
              "</table>-----<p style=\"margin:0\">User 895 has rated <strong>12</strong> films with a 4 or 5</p><p style=\"margin:0\">User 895 has rated <strong>8</strong> films with a 1, 2, or 3</p><p style=\"margin:0\">% of these films rated 5 or 4 appearing in the first 10 recommendations:<strong style=\"color:green\">0.0%</strong></p><p style=\"margin:0\">% of these films rated 1, 2, or 3 appearing in the first 10 recommendations: <strong style=\"color:red\">10.0%</strong></p>"
            ],
            "text/plain": [
              "<IPython.core.display.HTML object>"
            ]
          },
          "metadata": {
            "tags": []
          },
          "output_type": "display_data"
        }
      ],
      "source": [
        "user_id = np.random.randint(10, train_interactions.num_users)\n",
        "\n",
        "display(\n",
        "    HTML(\n",
        "        get_recommendation_visualizations(\n",
        "            model=hybrid_model_unfrozen,\n",
        "            user_id=user_id,\n",
        "            filter_films=True,\n",
        "            shuffle=True,\n",
        "            detailed=True,\n",
        "        )\n",
        "    )\n",
        ")"
      ]
    },
    {
      "cell_type": "markdown",
      "metadata": {
        "id": "fNwj-u-AhE3w"
      },
      "source": [
        "The metrics and results look great, and we should only see a larger difference compared to a standard model as our data becomes more nuanced and complex (such as with MovieLens 10M data). \n",
        "\n",
        "If we're happy with this model, we can go ahead and save it for later! "
      ]
    },
    {
      "cell_type": "markdown",
      "metadata": {
        "id": "xYmFQZEhhE3w"
      },
      "source": [
        "### Save and Load a Hybrid Model "
      ]
    },
    {
      "cell_type": "code",
      "execution_count": null,
      "metadata": {
        "id": "2ZDlfmAVhE3w"
      },
      "outputs": [],
      "source": [
        "# we can save the model with...\n",
        "os.makedirs('models', exist_ok=True)\n",
        "hybrid_model_unfrozen.save_model('models/hybrid_model_unfrozen')"
      ]
    },
    {
      "cell_type": "code",
      "execution_count": null,
      "metadata": {
        "id": "qW3kPpenhE3x"
      },
      "outputs": [
        {
          "data": {
            "text/plain": [
              "HybridPretrainedModel(\n",
              "  (embeddings): Sequential(\n",
              "    (0): ScaledEmbedding(941, 30)\n",
              "    (1): ScaledEmbedding(1447, 30)\n",
              "  )\n",
              "  (dropout): Dropout(p=0.0, inplace=False)\n",
              "  (metadata_layer_0): Linear(in_features=19, out_features=8, bias=True)\n",
              "  (combined_layer_0): Linear(in_features=68, out_features=16, bias=True)\n",
              "  (combined_layer_1): Linear(in_features=16, out_features=1, bias=True)\n",
              ")"
            ]
          },
          "execution_count": 98,
          "metadata": {
            "tags": []
          },
          "output_type": "execute_result"
        }
      ],
      "source": [
        "# ... and if we wanted to load that model back in, we can do that easily...\n",
        "hybrid_model_loaded_in = HybridPretrainedModel(load_model_path='models/hybrid_model_unfrozen')\n",
        "\n",
        "\n",
        "hybrid_model_loaded_in"
      ]
    },
    {
      "cell_type": "markdown",
      "metadata": {
        "id": "1rDDCMkehE3x"
      },
      "source": [
        "Thus far, we keep our focus only on the implicit feedback based matrix factorization model on small movielens dataset. In future, we will be expanding this MVP in the following directions:\n",
        "1. Large scale industrial datasets - Yoochoose, Trivago\n",
        "2. Other available models in [this](https://github.com/ShopRunner/collie_recs/tree/main/collie_recs/model) repo\n",
        "3. Really liked the poster carousel. Put it in dash/streamlit app."
      ]
    }
  ],
  "metadata": {
    "accelerator": "GPU",
    "colab": {
      "collapsed_sections": [],
      "name": "T660394_Implicit_Hybrid_Movie_Recommender_using_Collie_Library.ipynb",
      "toc_visible": true
    },
    "kernelspec": {
      "display_name": "Python 3",
      "name": "python3"
    }
  },
  "nbformat": 4,
  "nbformat_minor": 0
}
